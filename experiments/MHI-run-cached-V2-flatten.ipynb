{
 "cells": [
  {
   "cell_type": "markdown",
   "metadata": {},
   "source": [
    "This notebook will run MHI with decay specified in config, with transforms on \n",
    "- MobileNet\n",
    "- Resnet50\n",
    "- EfficientNetB0\n",
    "\n",
    "Dataset is 100 samples.<br>\n",
    "DECAY = 0.09<br>\n",
    "FRAME_SIZE = 20<br>\n",
    "BINARY_THRESHOLD = 25"
   ]
  },
  {
   "cell_type": "code",
   "execution_count": 1,
   "metadata": {
    "_cell_guid": "b1076dfc-b9ad-4769-8c92-a6c4dae69d19",
    "_uuid": "8f2839f25d086af736a60e9eeb907d3b93b6e0e5"
   },
   "outputs": [
    {
     "name": "stdout",
     "output_type": "stream",
     "text": [
      "Requirement already satisfied: opencv-python in e:\\anaconda\\lib\\site-packages (4.9.0.80)\n",
      "Requirement already satisfied: numpy in e:\\anaconda\\lib\\site-packages (1.26.4)\n",
      "Requirement already satisfied: tensorflow in e:\\anaconda\\lib\\site-packages (2.16.1)\n",
      "Requirement already satisfied: scikit-learn in e:\\anaconda\\lib\\site-packages (1.4.2)\n",
      "Requirement already satisfied: matplotlib in e:\\anaconda\\lib\\site-packages (3.8.0)\n",
      "Requirement already satisfied: wandb in e:\\anaconda\\lib\\site-packages (0.16.6)\n",
      "Requirement already satisfied: tdqm in e:\\anaconda\\lib\\site-packages (0.0.1)\n",
      "Requirement already satisfied: wurlitzer in e:\\anaconda\\lib\\site-packages (3.0.3)\n",
      "Requirement already satisfied: albumentations in e:\\anaconda\\lib\\site-packages (1.4.3)\n",
      "Requirement already satisfied: tensorflow-intel==2.16.1 in e:\\anaconda\\lib\\site-packages (from tensorflow) (2.16.1)\n",
      "Requirement already satisfied: absl-py>=1.0.0 in e:\\anaconda\\lib\\site-packages (from tensorflow-intel==2.16.1->tensorflow) (2.1.0)\n",
      "Requirement already satisfied: astunparse>=1.6.0 in e:\\anaconda\\lib\\site-packages (from tensorflow-intel==2.16.1->tensorflow) (1.6.3)\n",
      "Requirement already satisfied: flatbuffers>=23.5.26 in e:\\anaconda\\lib\\site-packages (from tensorflow-intel==2.16.1->tensorflow) (24.3.25)\n",
      "Requirement already satisfied: gast!=0.5.0,!=0.5.1,!=0.5.2,>=0.2.1 in e:\\anaconda\\lib\\site-packages (from tensorflow-intel==2.16.1->tensorflow) (0.5.4)\n",
      "Requirement already satisfied: google-pasta>=0.1.1 in e:\\anaconda\\lib\\site-packages (from tensorflow-intel==2.16.1->tensorflow) (0.2.0)\n",
      "Requirement already satisfied: h5py>=3.10.0 in e:\\anaconda\\lib\\site-packages (from tensorflow-intel==2.16.1->tensorflow) (3.11.0)\n",
      "Requirement already satisfied: libclang>=13.0.0 in e:\\anaconda\\lib\\site-packages (from tensorflow-intel==2.16.1->tensorflow) (18.1.1)\n",
      "Requirement already satisfied: ml-dtypes~=0.3.1 in e:\\anaconda\\lib\\site-packages (from tensorflow-intel==2.16.1->tensorflow) (0.3.2)\n",
      "Requirement already satisfied: opt-einsum>=2.3.2 in e:\\anaconda\\lib\\site-packages (from tensorflow-intel==2.16.1->tensorflow) (3.3.0)\n",
      "Requirement already satisfied: packaging in e:\\anaconda\\lib\\site-packages (from tensorflow-intel==2.16.1->tensorflow) (23.1)\n",
      "Requirement already satisfied: protobuf!=4.21.0,!=4.21.1,!=4.21.2,!=4.21.3,!=4.21.4,!=4.21.5,<5.0.0dev,>=3.20.3 in e:\\anaconda\\lib\\site-packages (from tensorflow-intel==2.16.1->tensorflow) (3.20.3)\n",
      "Requirement already satisfied: requests<3,>=2.21.0 in e:\\anaconda\\lib\\site-packages (from tensorflow-intel==2.16.1->tensorflow) (2.31.0)\n",
      "Requirement already satisfied: setuptools in e:\\anaconda\\lib\\site-packages (from tensorflow-intel==2.16.1->tensorflow) (68.2.2)\n",
      "Requirement already satisfied: six>=1.12.0 in e:\\anaconda\\lib\\site-packages (from tensorflow-intel==2.16.1->tensorflow) (1.16.0)\n",
      "Requirement already satisfied: termcolor>=1.1.0 in e:\\anaconda\\lib\\site-packages (from tensorflow-intel==2.16.1->tensorflow) (2.4.0)\n",
      "Requirement already satisfied: typing-extensions>=3.6.6 in e:\\anaconda\\lib\\site-packages (from tensorflow-intel==2.16.1->tensorflow) (4.9.0)\n",
      "Requirement already satisfied: wrapt>=1.11.0 in e:\\anaconda\\lib\\site-packages (from tensorflow-intel==2.16.1->tensorflow) (1.14.1)\n",
      "Requirement already satisfied: grpcio<2.0,>=1.24.3 in e:\\anaconda\\lib\\site-packages (from tensorflow-intel==2.16.1->tensorflow) (1.62.1)\n",
      "Requirement already satisfied: tensorboard<2.17,>=2.16 in e:\\anaconda\\lib\\site-packages (from tensorflow-intel==2.16.1->tensorflow) (2.16.2)\n",
      "Requirement already satisfied: keras>=3.0.0 in e:\\anaconda\\lib\\site-packages (from tensorflow-intel==2.16.1->tensorflow) (3.2.1)\n",
      "Requirement already satisfied: tensorflow-io-gcs-filesystem>=0.23.1 in e:\\anaconda\\lib\\site-packages (from tensorflow-intel==2.16.1->tensorflow) (0.31.0)\n",
      "Requirement already satisfied: scipy>=1.6.0 in e:\\anaconda\\lib\\site-packages (from scikit-learn) (1.11.4)\n",
      "Requirement already satisfied: joblib>=1.2.0 in e:\\anaconda\\lib\\site-packages (from scikit-learn) (1.2.0)\n",
      "Requirement already satisfied: threadpoolctl>=2.0.0 in e:\\anaconda\\lib\\site-packages (from scikit-learn) (2.2.0)\n",
      "Requirement already satisfied: contourpy>=1.0.1 in e:\\anaconda\\lib\\site-packages (from matplotlib) (1.2.0)\n",
      "Requirement already satisfied: cycler>=0.10 in e:\\anaconda\\lib\\site-packages (from matplotlib) (0.11.0)\n",
      "Requirement already satisfied: fonttools>=4.22.0 in e:\\anaconda\\lib\\site-packages (from matplotlib) (4.25.0)\n",
      "Requirement already satisfied: kiwisolver>=1.0.1 in e:\\anaconda\\lib\\site-packages (from matplotlib) (1.4.4)\n",
      "Requirement already satisfied: pillow>=6.2.0 in e:\\anaconda\\lib\\site-packages (from matplotlib) (10.2.0)\n",
      "Requirement already satisfied: pyparsing>=2.3.1 in e:\\anaconda\\lib\\site-packages (from matplotlib) (3.0.9)\n",
      "Requirement already satisfied: python-dateutil>=2.7 in e:\\anaconda\\lib\\site-packages (from matplotlib) (2.8.2)\n",
      "Requirement already satisfied: Click!=8.0.0,>=7.1 in e:\\anaconda\\lib\\site-packages (from wandb) (8.1.7)\n",
      "Requirement already satisfied: GitPython!=3.1.29,>=1.0.0 in e:\\anaconda\\lib\\site-packages (from wandb) (3.1.37)\n",
      "Requirement already satisfied: psutil>=5.0.0 in e:\\anaconda\\lib\\site-packages (from wandb) (5.9.0)\n",
      "Requirement already satisfied: sentry-sdk>=1.0.0 in e:\\anaconda\\lib\\site-packages (from wandb) (1.45.0)\n",
      "Requirement already satisfied: docker-pycreds>=0.4.0 in e:\\anaconda\\lib\\site-packages (from wandb) (0.4.0)\n",
      "Requirement already satisfied: PyYAML in e:\\anaconda\\lib\\site-packages (from wandb) (6.0.1)\n",
      "Requirement already satisfied: setproctitle in e:\\anaconda\\lib\\site-packages (from wandb) (1.3.3)\n",
      "Requirement already satisfied: appdirs>=1.4.3 in e:\\anaconda\\lib\\site-packages (from wandb) (1.4.4)\n",
      "Requirement already satisfied: tqdm in e:\\anaconda\\lib\\site-packages (from tdqm) (4.65.0)\n",
      "Requirement already satisfied: scikit-image>=0.21.0 in e:\\anaconda\\lib\\site-packages (from albumentations) (0.22.0)\n",
      "Requirement already satisfied: opencv-python-headless>=4.9.0 in e:\\anaconda\\lib\\site-packages (from albumentations) (4.9.0.80)\n",
      "Requirement already satisfied: colorama in e:\\anaconda\\lib\\site-packages (from Click!=8.0.0,>=7.1->wandb) (0.4.6)\n",
      "Requirement already satisfied: gitdb<5,>=4.0.1 in e:\\anaconda\\lib\\site-packages (from GitPython!=3.1.29,>=1.0.0->wandb) (4.0.7)\n",
      "Requirement already satisfied: charset-normalizer<4,>=2 in e:\\anaconda\\lib\\site-packages (from requests<3,>=2.21.0->tensorflow-intel==2.16.1->tensorflow) (2.0.4)\n",
      "Requirement already satisfied: idna<4,>=2.5 in e:\\anaconda\\lib\\site-packages (from requests<3,>=2.21.0->tensorflow-intel==2.16.1->tensorflow) (3.4)\n",
      "Requirement already satisfied: urllib3<3,>=1.21.1 in e:\\anaconda\\lib\\site-packages (from requests<3,>=2.21.0->tensorflow-intel==2.16.1->tensorflow) (2.0.7)\n",
      "Requirement already satisfied: certifi>=2017.4.17 in e:\\anaconda\\lib\\site-packages (from requests<3,>=2.21.0->tensorflow-intel==2.16.1->tensorflow) (2024.2.2)\n",
      "Requirement already satisfied: networkx>=2.8 in e:\\anaconda\\lib\\site-packages (from scikit-image>=0.21.0->albumentations) (3.1)\n",
      "Requirement already satisfied: imageio>=2.27 in e:\\anaconda\\lib\\site-packages (from scikit-image>=0.21.0->albumentations) (2.33.1)\n",
      "Requirement already satisfied: tifffile>=2022.8.12 in e:\\anaconda\\lib\\site-packages (from scikit-image>=0.21.0->albumentations) (2023.4.12)\n",
      "Requirement already satisfied: lazy_loader>=0.3 in e:\\anaconda\\lib\\site-packages (from scikit-image>=0.21.0->albumentations) (0.3)\n",
      "Requirement already satisfied: wheel<1.0,>=0.23.0 in e:\\anaconda\\lib\\site-packages (from astunparse>=1.6.0->tensorflow-intel==2.16.1->tensorflow) (0.41.2)\n",
      "Requirement already satisfied: smmap<5,>=3.0.1 in e:\\anaconda\\lib\\site-packages (from gitdb<5,>=4.0.1->GitPython!=3.1.29,>=1.0.0->wandb) (4.0.0)\n",
      "Requirement already satisfied: rich in e:\\anaconda\\lib\\site-packages (from keras>=3.0.0->tensorflow-intel==2.16.1->tensorflow) (13.3.5)\n",
      "Requirement already satisfied: namex in e:\\anaconda\\lib\\site-packages (from keras>=3.0.0->tensorflow-intel==2.16.1->tensorflow) (0.0.8)\n",
      "Requirement already satisfied: optree in e:\\anaconda\\lib\\site-packages (from keras>=3.0.0->tensorflow-intel==2.16.1->tensorflow) (0.11.0)\n",
      "Requirement already satisfied: markdown>=2.6.8 in e:\\anaconda\\lib\\site-packages (from tensorboard<2.17,>=2.16->tensorflow-intel==2.16.1->tensorflow) (3.4.1)\n",
      "Requirement already satisfied: tensorboard-data-server<0.8.0,>=0.7.0 in e:\\anaconda\\lib\\site-packages (from tensorboard<2.17,>=2.16->tensorflow-intel==2.16.1->tensorflow) (0.7.2)\n",
      "Requirement already satisfied: werkzeug>=1.0.1 in e:\\anaconda\\lib\\site-packages (from tensorboard<2.17,>=2.16->tensorflow-intel==2.16.1->tensorflow) (2.2.3)\n",
      "Requirement already satisfied: MarkupSafe>=2.1.1 in e:\\anaconda\\lib\\site-packages (from werkzeug>=1.0.1->tensorboard<2.17,>=2.16->tensorflow-intel==2.16.1->tensorflow) (2.1.3)\n",
      "Requirement already satisfied: markdown-it-py<3.0.0,>=2.2.0 in e:\\anaconda\\lib\\site-packages (from rich->keras>=3.0.0->tensorflow-intel==2.16.1->tensorflow) (2.2.0)\n",
      "Requirement already satisfied: pygments<3.0.0,>=2.13.0 in e:\\anaconda\\lib\\site-packages (from rich->keras>=3.0.0->tensorflow-intel==2.16.1->tensorflow) (2.15.1)\n",
      "Requirement already satisfied: mdurl~=0.1 in e:\\anaconda\\lib\\site-packages (from markdown-it-py<3.0.0,>=2.2.0->rich->keras>=3.0.0->tensorflow-intel==2.16.1->tensorflow) (0.1.0)\n"
     ]
    }
   ],
   "source": [
    "!pip install opencv-python numpy tensorflow scikit-learn matplotlib wandb tdqm wurlitzer albumentations"
   ]
  },
  {
   "cell_type": "markdown",
   "metadata": {},
   "source": [
    "# Config"
   ]
  },
  {
   "cell_type": "code",
   "metadata": {
    "ExecuteTime": {
     "end_time": "2024-04-21T22:06:54.189623Z",
     "start_time": "2024-04-21T22:06:47.228400Z"
    }
   },
   "source": [
    "#all the required dependencies of the project\n",
    "import cv2\n",
    "import numpy as np\n",
    "import os\n",
    "from matplotlib import pyplot as plt\n",
    "import time\n",
    "import random\n",
    "import wandb\n",
    "import pandas as pd\n",
    "\n",
    "from typing import Tuple\n",
    "from collections import Counter\n",
    "import albumentations as A\n",
    "from tqdm import tqdm\n",
    "from typing import List\n",
    "import json\n",
    "import tensorflow.keras as keras \n",
    "import tensorflow as tf"
   ],
   "outputs": [],
   "execution_count": 1
  },
  {
   "cell_type": "code",
   "metadata": {
    "ExecuteTime": {
     "end_time": "2024-04-21T22:06:54.197111Z",
     "start_time": "2024-04-21T22:06:54.191632Z"
    }
   },
   "source": [
    "class CONFIG:\n",
    "    ROOT_DIRECTORY = os.path.join(\"..\",\"data\",\"WLASL\")\n",
    "    JSON_FILE = \"WLASL_v0.3.json\"\n",
    "    NSLT_FILE = \"nslt_100.json\"\n",
    "    VIDEO_FOLDER = \"videos\"\n",
    "\n",
    "    mean=[0, 0, 0]\n",
    "    std=[1, 1, 1]\n",
    "    DEBUG = True\n",
    "    \n",
    "    P_OF_TRANSFORM = 0.8\n",
    "    P_OF_TRANSFORM_COLOR = 0.2\n",
    "    \n",
    "    SHIFT_LIMIT=0.1\n",
    "    SCALE_LIMIT=0.05\n",
    "    ROTATE_LIMIT=10\n",
    "    \n",
    "    # set to small, when prototyping, or 0 when deploying to cloud or PC with loads of RAM\n",
    "    DATA_LIMIT = 100\n",
    "    FRAME_SIZE = 20\n",
    "    \n",
    "    BATCH_SIZE = 4\n",
    "    PORTION_OF_DATA_FOR_TRAINING = 0.8\n",
    "\n",
    "    ROUND_DIGIT = 3\n",
    "    #WANDB_RUN = \"mediapipe-asl-dataset\"\n",
    "    DECAY = 0.09\n",
    "    \n",
    "    USE_WANDB = True\n",
    "\n",
    "    WANDB_RUN = \"MHI-CNN\""
   ],
   "outputs": [],
   "execution_count": 2
  },
  {
   "cell_type": "markdown",
   "metadata": {},
   "source": [
    "## Utils"
   ]
  },
  {
   "cell_type": "code",
   "metadata": {
    "ExecuteTime": {
     "end_time": "2024-04-21T22:06:56.862573Z",
     "start_time": "2024-04-21T22:06:56.832028Z"
    }
   },
   "source": [
    "from tensorflow.keras.models import Sequential\n",
    "from tensorflow.keras.layers import LSTM, Dense, Dropout, LeakyReLU\n",
    "from tensorflow.keras.callbacks import TensorBoard\n",
    "from tensorflow.keras import backend as K\n",
    "from wandb.keras import WandbMetricsLogger\n",
    "from keras.callbacks import Callback\n",
    "from wandb.keras import WandbMetricsLogger\n",
    "import tensorflow as tf\n",
    "import wandb\n",
    "\n",
    "\n",
    "class CosineAnnealingLearningRateScheduler(Callback):\n",
    "    def __init__(self, max_lr, min_lr, T_max):\n",
    "        super(CosineAnnealingLearningRateScheduler, self).__init__()\n",
    "        self.max_lr = max_lr  # Maximum learning rate (i.e., start learning rate)\n",
    "        self.min_lr = min_lr  # Minimum learning rate\n",
    "        self.T_max = T_max    # Specifies the number of epochs per cycle\n",
    "        self.t = 0            # Current epoch\n",
    "\n",
    "    def on_epoch_begin(self, epoch, logs=None):\n",
    "        self.t += 1\n",
    "        cos = np.cos(np.pi * (self.t % self.T_max) / self.T_max)\n",
    "        lr = self.min_lr + 0.5 * (self.max_lr - self.min_lr) * (1 + cos)\n",
    "\n",
    "        keras.backend.set_value(self.model.optimizer.lr, lr)\n",
    "\n",
    "def keras_train(model, filepath : str, run_name : str,\n",
    "                train_ds, val_ds, dataset_name,\n",
    "                max_lr = 1e-4, min_lr = 5e-5,\n",
    "                T_max=50, epochs=100,\n",
    "                decay = 0.09,USE_WANDB=True): \n",
    "   \n",
    "    checkpoint = keras.callbacks.ModelCheckpoint(filepath,\n",
    "                                                 monitor=\"val_categorical_accuracy\",\n",
    "                                                 verbose=0,\n",
    "                                                 save_best_only=True,\n",
    "                                                 mode=\"max\",\n",
    "                                                 save_freq=\"epoch\")\n",
    "    \n",
    "    cosine_annealer = CosineAnnealingLearningRateScheduler(max_lr=max_lr,\n",
    "                                                           min_lr=min_lr,\n",
    "                                                           T_max=T_max)\n",
    "\n",
    "    callbacks = [checkpoint, cosine_annealer]\n",
    "\n",
    "    if USE_WANDB:\n",
    "        wandb.init(project=CONFIG.WANDB_RUN,\n",
    "                        name=run_name,\n",
    "                        notes=\"Model summary : \\n\" + str(model),\n",
    "                        config={\"max_lr\" : max_lr, \n",
    "                                \"min_lr\" : min_lr, \n",
    "                                \"scheduler\" : \"cosineAnnealer\", \n",
    "                                \"epochs\" : epochs, \n",
    "                                \"T_max\" : T_max, \n",
    "                                \"train_size\" : train_ds_len,\n",
    "                                \"val_size\" : val_ds_len,\n",
    "                                \"unique_classes\" : unique_labels_num, \n",
    "                                \"video_length\" : CONFIG.FRAME_SIZE,\n",
    "                                \"decay\" : decay,\n",
    "                                \"SHIFT_LIMIT\" : CONFIG.SHIFT_LIMIT,\n",
    "                                \"SCALE_LIMIT\" : CONFIG.SCALE_LIMIT,\n",
    "                                \"ROTATE_LIMIT\" : CONFIG.ROTATE_LIMIT,\n",
    "                                \"CACHEING\" : dataset_name\n",
    "                               })\n",
    "        callbacks.append(WandbMetricsLogger())\n",
    "    \n",
    "    #Adam Optimizer - fixed learning rate.\n",
    "    adam_optimizer = tf.keras.optimizers.Adam(learning_rate=max_lr, clipnorm=1.)\n",
    "    #lr_metric = get_lr_metric(adam_optimizer)\n",
    "\n",
    "    model.compile(optimizer=adam_optimizer, loss='categorical_crossentropy', metrics=['categorical_accuracy'])\n",
    "    \n",
    "    \n",
    "    #history = model.fit(train_dataset_parquet, epochs=epochs, validation_data = val_dataset_parquet, batch_size = 8, callbacks=[WandbMetricsLogger(), checkpoint, cosine_annealer])\n",
    "    history = model.fit(train_ds, epochs=epochs, validation_data = val_ds, batch_size = CONFIG.BATCH_SIZE, callbacks=callbacks)\n",
    "    #wandb.finish()\n",
    "    if USE_WANDB:      \n",
    "        wandb.finish()\n",
    "    \n",
    "    return history"
   ],
   "outputs": [],
   "execution_count": 3
  },
  {
   "cell_type": "markdown",
   "metadata": {},
   "source": [
    "# Cacheing Dataset definition"
   ]
  },
  {
   "cell_type": "markdown",
   "metadata": {},
   "source": [
    "## Dataset definitions"
   ]
  },
  {
   "cell_type": "code",
   "execution_count": 4,
   "metadata": {},
   "outputs": [
    {
     "name": "stderr",
     "output_type": "stream",
     "text": [
      "100%|██████████| 2038/2038 [00:00<00:00, 47976.87it/s]\n",
      "Cacheing: 80it [02:35,  1.94s/it]\n",
      "100%|██████████| 2038/2038 [00:00<00:00, 41448.63it/s]\n",
      "Cacheing: 20it [00:29,  1.46s/it]"
     ]
    },
    {
     "name": "stdout",
     "output_type": "stream",
     "text": [
      "size of train_ds = 4489, size of val_ds = 1118\n",
      "(224, 224, 3) (7,)\n"
     ]
    },
    {
     "name": "stderr",
     "output_type": "stream",
     "text": [
      "\n"
     ]
    }
   ],
   "source": [
    "from sklearn.model_selection import train_test_split\n",
    "from math import ceil\n",
    "\n",
    "class SignRecognitionDataset(keras.utils.Sequence):\n",
    "\n",
    "    def __init__(self, max_start : int, max_end) -> None:\n",
    "        # setup the paths\n",
    "        video_path = os.path.join(CONFIG.ROOT_DIRECTORY, CONFIG.VIDEO_FOLDER)\n",
    "        dataset_description = os.path.join(CONFIG.ROOT_DIRECTORY)\n",
    "\n",
    "        # load the filepaths for videos\n",
    "        self.video_paths = [os.path.join(video_path, file) for file in os.listdir(video_path)]\n",
    "\n",
    "        # load the dataset config json\n",
    "        self.config_json = None\n",
    "        with open(os.path.join(CONFIG.ROOT_DIRECTORY, CONFIG.JSON_FILE)) as f:\n",
    "            self.config_json = json.load(f)\n",
    "\n",
    "        # load the dataset json\n",
    "        self.dataset_json = None\n",
    "        with open(os.path.join(CONFIG.ROOT_DIRECTORY, CONFIG.NSLT_FILE)) as f:\n",
    "            self.dataset_json = json.load(f)\n",
    "        \n",
    "        self.videos_paths = []\n",
    "        self.paths_not_found = []\n",
    "        self.labels = []\n",
    "        self.start_frames = []\n",
    "        self.end_frames = []\n",
    "       \n",
    "        self.dataset_json = None\n",
    "        with open(os.path.join(CONFIG.ROOT_DIRECTORY, CONFIG.NSLT_FILE)) as f:\n",
    "            self.dataset_json = json.load(f) \n",
    "\n",
    "        for el in tqdm(self.dataset_json.items()):\n",
    "            video_id, properties = el[0], el[1]\n",
    "            path = os.path.join(video_path, video_id + \".mp4\")\n",
    "            \n",
    "            if not os.path.exists(path):\n",
    "                self.paths_not_found.append(path)\n",
    "                continue\n",
    "\n",
    "            subset = properties[\"subset\"]\n",
    "            label, start, end = properties[\"action\"]\n",
    "            \n",
    "            if start > max_start:\n",
    "                continue\n",
    "                \n",
    "            if end > max_end:\n",
    "                continue\n",
    "            \n",
    "            self.videos_paths.append(path)\n",
    "            self.labels.append(label)\n",
    "            self.start_frames.append(start)\n",
    "            self.end_frames.append(end)\n",
    "    \n",
    "        self.videos_paths = np.array(self.video_paths)\n",
    "        self.paths_not_found = np.array(self.paths_not_found)\n",
    "        self.labels = np.array(self.labels)\n",
    "        self.start_frames = np.array(self.start_frames)\n",
    "        self.end_frames = np.array(self.end_frames)\n",
    "\n",
    "        self.unique_labels = np.unique(self.labels)\n",
    "        \n",
    "    \n",
    "    def preprocess_trajectory(self, traj : List[np.ndarray]):\n",
    "        return traj\n",
    "    \n",
    "    def __len__(self):\n",
    "        return len(self.videos_paths)\n",
    "\n",
    "    def __getitem__(self, idx):\n",
    "        path, label = self.videos_paths[idx], self.labels[idx]\n",
    "        trajectory = SignRecognitionDataset.get_video(path)\n",
    "        \n",
    "        return self.preprocess_trajectory(trajectory), label\n",
    "\n",
    "    def permutate(self):\n",
    "        l = len(self.videos_paths)\n",
    "        mask = np.arange(l)\n",
    "        np.random.shuffle(mask)\n",
    "        \n",
    "        self.videos_paths = np.array(self.videos_paths)[mask]\n",
    "        self.labels = np.array(self.labels)[mask]\n",
    "        self.start_frames = np.array(self.start_frames)[mask]\n",
    "        self.end_frames = np.array(self.end_frames)[mask]\n",
    "        \n",
    "    def sort_by_size(self):\n",
    "        c = Counter(self.labels)\n",
    "        _mask = sorted([ (10000 * c[l] + l, i) for i, l in enumerate(self.labels)])[::-1]\n",
    "        mask_by_size = np.array([el[1] for el in _mask])\n",
    "\n",
    "        self.video_paths        = np.array(self.video_paths)[mask_by_size]\n",
    "        self.labels             = np.array(self.labels)[mask_by_size]\n",
    "        self.start_frames       = np.array(self.start_frames)[mask_by_size]\n",
    "        self.end_frames         = np.array(self.end_frames)[mask_by_size]\n",
    "\n",
    "    def crop_video(self, trajectory : np.array) -> np.array:\n",
    "        cropped = trajectory\n",
    "        \n",
    "        if self.FRAME_SIZE != 0:\n",
    "            frame_size = len(trajectory)\n",
    "            start = 0 \n",
    "            \n",
    "            if frame_size > self.FRAME_SIZE:\n",
    "                start = np.random.randint(0, frame_size - self.FRAME_SIZE)\n",
    "            cropped = trajectory[start: (start + self.FRAME_SIZE)]\n",
    "                    \n",
    "            if len(cropped) < self.FRAME_SIZE:\n",
    "                necessary = self.FRAME_SIZE - len(cropped)\n",
    "                t, h, w, c = trajectory.shape\n",
    "                cropped = np.concatenate([cropped, np.zeros((necessary, h, w, c))], axis= 0)\n",
    "                \n",
    "            return cropped\n",
    "                        \n",
    "        return trajectory\n",
    "                \n",
    "    @staticmethod\n",
    "    def get_video(video_path : str) -> List[np.ndarray]:\n",
    "\n",
    "        if not os.path.exists(video_path):\n",
    "            return None\n",
    "\n",
    "        cap = cv2.VideoCapture(video_path)\n",
    "        if not cap.isOpened():\n",
    "            return None\n",
    "\n",
    "        frames = []\n",
    "        while cap.isOpened():\n",
    "            ret, frame = cap.read()\n",
    "            if ret:\n",
    "                frame_array = np.array(frame)\n",
    "                frames.append(cv2.cvtColor(frame_array, cv2.COLOR_BGR2RGB))\n",
    "            else:\n",
    "                break\n",
    "\n",
    "        cap.release()\n",
    "        return np.array(frames)\n",
    "\n",
    "    @staticmethod\n",
    "    def rescale_video(frames : np.ndarray, desired_shape) -> np.ndarray:\n",
    "        refined = []\n",
    "        for img in frames: \n",
    "            y, x, c = img.shape\n",
    "            cropped = img[:, (x // 2 - y//2) : (x // 2 + y//2), :]\n",
    "            scaled = cv2.resize(cropped, desired_shape)\n",
    "            refined.append(scaled)\n",
    "    \n",
    "        return np.array(refined)\n",
    "        \n",
    "\n",
    "class SignRecognitionDatasetMHICachedV2(SignRecognitionDataset):\n",
    "\n",
    "    def __init__(self, max_start: int, max_end, \n",
    "                 per_image_transform=None,\n",
    "                 after_MHI_transform=None,\n",
    "                 scaled_resolution : Tuple[int]= (224, 224),\n",
    "                 frame_size:int=CONFIG.FRAME_SIZE,\n",
    "                 data_limit : int = CONFIG.DATA_LIMIT,\n",
    "                 decay : float = 0.7,\n",
    "                 threshold_method : str = \"regular\",\n",
    "                 threshold_val : float = 25/255.,\n",
    "                 by_size=True,\n",
    "                 train_val_split:float=CONFIG.PORTION_OF_DATA_FOR_TRAINING,\n",
    "                 split:str=\"train\") -> None:\n",
    "        super().__init__(max_start, max_end)\n",
    "        self.scaled_resolution = scaled_resolution\n",
    "        self.DATA_LIMIT = data_limit\n",
    "        self.by_size = by_size\n",
    "        self.per_image_transform = per_image_transform\n",
    "        self.after_MHI_transform = after_MHI_transform\n",
    "        self.FRAME_SIZE = frame_size\n",
    "        self.decay = decay\n",
    "        self.threshold_method = threshold_method\n",
    "        self.threshold_val = threshold_val\n",
    "        \n",
    "        self.keywords = [\"image\" ] + list(str(i) for i in range(frame_size-1))\n",
    "        \n",
    "        self.sort_by_size()\n",
    "        \n",
    "        if self.DATA_LIMIT > 0:\n",
    "            self.video_paths        = self.video_paths[:self.DATA_LIMIT]\n",
    "            self.labels             = self.labels[:self.DATA_LIMIT]\n",
    "            self.start_frames       = self.start_frames[:self.DATA_LIMIT]\n",
    "            self.end_frames         = self.end_frames[:self.DATA_LIMIT]\n",
    "        \n",
    "\n",
    "        self.dataset = np.concatenate([np.array(self.video_paths).reshape(-1, 1),\n",
    "                                       np.array(self.labels).reshape(-1, 1)], axis=1)   \n",
    "        \n",
    "        self.unique_labels = np.unique(self.dataset[:, 1])\n",
    "        self.label_2_id = { key : i for i, key in enumerate(self.unique_labels)}\n",
    "        train_ds, val_ds = train_test_split(self.dataset, train_size=train_val_split, \n",
    "                                            random_state=42, stratify=self.dataset[:, 1])\n",
    "                                                            \n",
    "        if split.lower() == \"train\":\n",
    "            self.dataset = train_ds\n",
    "            \n",
    "        elif split.lower() == \"val\":\n",
    "            self.dataset = val_ds\n",
    "        \n",
    "        else: \n",
    "            raise Exception(\"\")\n",
    "\n",
    "        self.cache_data()\n",
    "\n",
    "    \n",
    "    def cache_data(self):    \n",
    "        self.cached_X = []\n",
    "        self.cached_Y = []\n",
    "        \n",
    "        for i,(path, label) in tqdm(enumerate(self.dataset), desc=\"Cacheing\"):\n",
    "            trajectory = self.preprocess_trajectory(SignRecognitionDataset.get_video(path))  \n",
    "            \n",
    "            X_trajectory = []\n",
    "            \n",
    "            trajectory_length = trajectory.shape[0]\n",
    "            if trajectory_length < self.FRAME_SIZE:\n",
    "                X_trajectory.append(self.postprocess_trajectory(trajectory))\n",
    "\n",
    "            else:\n",
    "                for i in range(0, trajectory_length - self.FRAME_SIZE):\n",
    "                    X_trajectory.append(self.postprocess_trajectory(trajectory[i: (i + self.FRAME_SIZE)]))\n",
    "            \n",
    "            onehotencoded = np.zeros(len(self.unique_labels))\n",
    "            onehotencoded[self.label_2_id[label]] = 1.0\n",
    "            \n",
    "            for frame in X_trajectory:                    \n",
    "                self.cached_X.append(frame)\n",
    "                self.cached_Y.append(onehotencoded)\n",
    "        \n",
    "    def preprocess_trajectory(self, traj : List[np.ndarray]):\n",
    "        return SignRecognitionDataset.rescale_video(traj, self.scaled_resolution)\n",
    "        \n",
    "    def __len__(self):\n",
    "        return len(self.cached_X)\n",
    "\n",
    "    def postprocess_trajectory(self, traj : np.ndarray) -> np.ndarray:\n",
    "        # timeframe, Width, height, channels\n",
    "        ts, w, h, c = traj.shape\n",
    "        \n",
    "        mhi = np.zeros((w, h))\n",
    "                \n",
    "        for i in range(1, ts):\n",
    "            frame_diff = np.abs(traj[i] - traj[i-1])\n",
    "            gray_diff = np.mean(frame_diff, axis=2)\n",
    "            \n",
    "            _, binary_diff = cv2.threshold(gray_diff, self.threshold_val, 1.0, cv2.THRESH_BINARY)\n",
    "    \n",
    "    \n",
    "            mhi = mhi * (1.0 - self.decay) + binary_diff\n",
    "\n",
    "        mhi = mhi.reshape(mhi.shape[0], mhi.shape[1], 1)\n",
    "        return np.concatenate([mhi,mhi,mhi], axis=2)\n",
    "\n",
    "\n",
    "    def __getitem__(self, idx):\n",
    "        \n",
    "        trajectory, label = self.cached_X[idx], self.cached_Y[idx]\n",
    "        trajectory = self.per_image_transform(image=trajectory)[\"image\"]\n",
    "\n",
    "        return trajectory, label\n",
    "\n",
    "    \n",
    "    \n",
    "import matplotlib.pyplot as plt \n",
    "\n",
    "transform = A.Compose(\n",
    "    [\n",
    "        A.Normalize(mean=CONFIG.mean, std=CONFIG.std),\n",
    "        #A.HorizontalFlip(p=CONFIG.P_OF_TRANSFORM),\n",
    "        #A.ShiftScaleRotate(p=CONFIG.P_OF_TRANSFORM, shift_limit=CONFIG.SHIFT_LIMIT, \n",
    "        #                   scale_limit=CONFIG.SCALE_LIMIT, rotate_limit=CONFIG.ROTATE_LIMIT),\n",
    "        #A.RandomBrightnessContrast(p=CONFIG.P_OF_TRANSFORM_COLOR),\n",
    "        #A.RGBShift(p=CONFIG.P_OF_TRANSFORM_COLOR),\n",
    "    ]\n",
    ")\n",
    "\n",
    "train_ds = SignRecognitionDatasetMHICachedV2(1, 150, per_image_transform=transform, decay=CONFIG.DECAY, split=\"train\")\n",
    "val_ds = SignRecognitionDatasetMHICachedV2(1, 150, per_image_transform=transform, decay=CONFIG.DECAY, split=\"val\")\n",
    "\n",
    "\n",
    "train_ds_len = len(train_ds)\n",
    "val_ds_len = len(val_ds)\n",
    "unique_labels_num = len(train_ds.unique_labels)\n",
    "\n",
    "print(f\"size of train_ds = {len(train_ds)}, size of val_ds = {len(val_ds)}\")\n",
    "x, y = next(iter(train_ds))\n",
    "x_shape = x.shape\n",
    "y_shape = y.shape\n",
    "print(x_shape, y_shape)"
   ]
  },
  {
   "cell_type": "code",
   "execution_count": 7,
   "metadata": {},
   "outputs": [],
   "source": [
    "def dataset_train_generator():\n",
    "    # Instantiate your existing dataset loader\n",
    "\n",
    "    for i in range(len(train_ds)):\n",
    "        X_batch, Y_batch = train_ds[i]\n",
    "        yield X_batch, Y_batch\n",
    "        \n",
    "def dataset_val_generator():\n",
    "    # Instantiate your existing dataset loader\n",
    "\n",
    "    for i in range(len(val_ds)):\n",
    "        X_batch, Y_batch = val_ds[i]\n",
    "        yield X_batch, Y_batch        \n",
    "\n",
    "train_dataset = tf.data.Dataset.from_generator(\n",
    "    lambda: dataset_train_generator(),\n",
    "    output_types=(tf.float32, tf.float32),  # Adjust types based on your actual data\n",
    "    output_shapes=(x_shape, y_shape)\n",
    ").prefetch(tf.data.AUTOTUNE).batch(CONFIG.BATCH_SIZE)\n",
    "\n",
    "val_dataset = tf.data.Dataset.from_generator(\n",
    "    lambda: dataset_val_generator(),\n",
    "    output_types=(tf.float32, tf.float32),  # Adjust types based on your actual data\n",
    "    output_shapes=(x_shape, y_shape)\n",
    ").prefetch(tf.data.AUTOTUNE).batch(CONFIG.BATCH_SIZE)"
   ]
  },
  {
   "cell_type": "code",
   "execution_count": 19,
   "metadata": {},
   "outputs": [
    {
     "name": "stdout",
     "output_type": "stream",
     "text": [
      "nans = False\n",
      "nans = False\n"
     ]
    }
   ],
   "source": [
    "train_labels = []\n",
    "val_labels = []\n",
    "nans = False\n",
    "\n",
    "for x, y in train_dataset:\n",
    "    labels = np.argmax(y, axis=1)\n",
    "    for l in labels:\n",
    "        train_labels.append(l)\n",
    "\n",
    "    nans |= np.any(np.isnan(x))\n",
    "print(f\"nans = {nans}\")        \n",
    "\n",
    "for x, y in val_dataset:\n",
    "    labels = np.argmax(y, axis=1)\n",
    "    for l in labels:\n",
    "        val_labels.append(l)\n",
    "print(f\"nans = {nans}\")        "
   ]
  },
  {
   "cell_type": "code",
   "execution_count": 22,
   "metadata": {},
   "outputs": [
    {
     "name": "stderr",
     "output_type": "stream",
     "text": [
      "e:\\Anaconda\\Lib\\site-packages\\seaborn\\_oldcore.py:1119: FutureWarning: use_inf_as_na option is deprecated and will be removed in a future version. Convert inf values to NaN before operating instead.\n",
      "  with pd.option_context('mode.use_inf_as_na', True):\n",
      "e:\\Anaconda\\Lib\\site-packages\\seaborn\\_oldcore.py:1119: FutureWarning: use_inf_as_na option is deprecated and will be removed in a future version. Convert inf values to NaN before operating instead.\n",
      "  with pd.option_context('mode.use_inf_as_na', True):\n",
      "No artists with labels found to put in legend.  Note that artists whose label start with an underscore are ignored when legend() is called with no argument.\n"
     ]
    },
    {
     "data": {
      "image/png": "[encoded data removed]",
      "text/plain": [
       "<Figure size 640x480 with 1 Axes>"
      ]
     },
     "metadata": {},
     "output_type": "display_data"
    }
   ],
   "source": [
    "import seaborn as sns \n",
    "\n",
    "train_df_labels = pd.DataFrame(train_labels, columns=['Label'])\n",
    "val_df_labels = pd.DataFrame(val_labels, columns=['Label'])\n",
    "\n",
    "\n",
    "sns.histplot(train_df_labels, x=\"Label\", alpha=0.7, discrete=True, kde=False, color=\"blue\")\n",
    "sns.histplot(val_df_labels, x=\"Label\", alpha=0.7,discrete=True, kde=False, color=\"red\")\n",
    "plt.legend()\n",
    "plt.show()"
   ]
  },
  {
   "cell_type": "markdown",
   "metadata": {},
   "source": [
    "## run the experiments"
   ]
  },
  {
   "cell_type": "markdown",
   "metadata": {},
   "source": [
    "### MobileNetV3"
   ]
  },
  {
   "cell_type": "code",
   "execution_count": 41,
   "metadata": {
    "scrolled": true
   },
   "outputs": [
    {
     "data": {
      "text/html": [
       "Tracking run with wandb version 0.16.6"
      ],
      "text/plain": [
       "<IPython.core.display.HTML object>"
      ]
     },
     "metadata": {},
     "output_type": "display_data"
    },
    {
     "data": {
      "text/html": [
       "Run data is saved locally in <code>/workspace/wandb/run-20240415_190038-op8dblu2</code>"
      ],
      "text/plain": [
       "<IPython.core.display.HTML object>"
      ]
     },
     "metadata": {},
     "output_type": "display_data"
    },
    {
     "data": {
      "text/html": [
       "Syncing run <strong><a href='https://wandb.ai/mlewand7/MHI-CNN/runs/op8dblu2' target=\"_blank\">C2_MobileNetV3Small</a></strong> to <a href='https://wandb.ai/mlewand7/MHI-CNN' target=\"_blank\">Weights & Biases</a> (<a href='https://wandb.me/run' target=\"_blank\">docs</a>)<br/>"
      ],
      "text/plain": [
       "<IPython.core.display.HTML object>"
      ]
     },
     "metadata": {},
     "output_type": "display_data"
    },
    {
     "data": {
      "text/html": [
       " View project at <a href='https://wandb.ai/mlewand7/MHI-CNN' target=\"_blank\">https://wandb.ai/mlewand7/MHI-CNN</a>"
      ],
      "text/plain": [
       "<IPython.core.display.HTML object>"
      ]
     },
     "metadata": {},
     "output_type": "display_data"
    },
    {
     "data": {
      "text/html": [
       " View run at <a href='https://wandb.ai/mlewand7/MHI-CNN/runs/op8dblu2' target=\"_blank\">https://wandb.ai/mlewand7/MHI-CNN/runs/op8dblu2</a>"
      ],
      "text/plain": [
       "<IPython.core.display.HTML object>"
      ]
     },
     "metadata": {},
     "output_type": "display_data"
    },
    {
     "name": "stdout",
     "output_type": "stream",
     "text": [
      "Epoch 1/100\n",
      "     19/Unknown - 18s 37ms/step - loss: 11.1512 - categorical_accuracy: 0.1579"
     ]
    },
    {
     "name": "stderr",
     "output_type": "stream",
     "text": [
      "2024-04-15 19:00:57.922702: I tensorflow/core/framework/local_rendezvous.cc:421] Local rendezvous recv item cancelled. Key hash: 6307957430542464359\n",
      "2024-04-15 19:00:57.922794: I tensorflow/core/framework/local_rendezvous.cc:421] Local rendezvous recv item cancelled. Key hash: 9026497124938102457\n",
      "2024-04-15 19:00:57.922815: I tensorflow/core/framework/local_rendezvous.cc:421] Local rendezvous recv item cancelled. Key hash: 7670920061644508805\n"
     ]
    },
    {
     "name": "stdout",
     "output_type": "stream",
     "text": [
      "INFO:tensorflow:Assets written to: models/C2_MobileNetV3Small.tf/assets\n"
     ]
    },
    {
     "name": "stderr",
     "output_type": "stream",
     "text": [
      "INFO:tensorflow:Assets written to: models/C2_MobileNetV3Small.tf/assets\n"
     ]
    },
    {
     "name": "stdout",
     "output_type": "stream",
     "text": [
      "20/20 [==============================] - 33s 828ms/step - loss: 11.1968 - categorical_accuracy: 0.1500 - val_loss: 2.0834 - val_categorical_accuracy: 0.2000\n",
      "Epoch 2/100\n",
      "20/20 [==============================] - 1s 48ms/step - loss: 7.6474 - categorical_accuracy: 0.1250 - val_loss: 2.1278 - val_categorical_accuracy: 0.2000\n",
      "Epoch 3/100\n",
      "20/20 [==============================] - 1s 46ms/step - loss: 5.3387 - categorical_accuracy: 0.2500 - val_loss: 2.2293 - val_categorical_accuracy: 0.2000\n",
      "Epoch 4/100\n",
      "20/20 [==============================] - 1s 44ms/step - loss: 5.1190 - categorical_accuracy: 0.2125 - val_loss: 2.3188 - val_categorical_accuracy: 0.2000\n",
      "Epoch 5/100\n",
      "20/20 [==============================] - 1s 42ms/step - loss: 4.6056 - categorical_accuracy: 0.2250 - val_loss: 2.3283 - val_categorical_accuracy: 0.2000\n",
      "Epoch 6/100\n",
      "20/20 [==============================] - 1s 42ms/step - loss: 4.2142 - categorical_accuracy: 0.2375 - val_loss: 2.3995 - val_categorical_accuracy: 0.2000\n",
      "Epoch 7/100\n",
      "20/20 [==============================] - 1s 43ms/step - loss: 4.2696 - categorical_accuracy: 0.2375 - val_loss: 2.4812 - val_categorical_accuracy: 0.2000\n",
      "Epoch 8/100\n",
      "20/20 [==============================] - 1s 44ms/step - loss: 4.5407 - categorical_accuracy: 0.2625 - val_loss: 2.6190 - val_categorical_accuracy: 0.2000\n",
      "Epoch 9/100\n",
      "20/20 [==============================] - 1s 42ms/step - loss: 3.7530 - categorical_accuracy: 0.3500 - val_loss: 2.6480 - val_categorical_accuracy: 0.2000\n",
      "Epoch 10/100\n",
      "20/20 [==============================] - 1s 43ms/step - loss: 3.2388 - categorical_accuracy: 0.4000 - val_loss: 2.7497 - val_categorical_accuracy: 0.2000\n",
      "Epoch 11/100\n",
      "20/20 [==============================] - 1s 44ms/step - loss: 3.5971 - categorical_accuracy: 0.3000 - val_loss: 2.8690 - val_categorical_accuracy: 0.0000e+00\n",
      "Epoch 12/100\n",
      "20/20 [==============================] - 1s 45ms/step - loss: 3.1073 - categorical_accuracy: 0.3250 - val_loss: 3.1106 - val_categorical_accuracy: 0.0000e+00\n",
      "Epoch 13/100\n",
      "20/20 [==============================] - 1s 44ms/step - loss: 3.5463 - categorical_accuracy: 0.3250 - val_loss: 3.2077 - val_categorical_accuracy: 0.0000e+00\n",
      "Epoch 14/100\n",
      "20/20 [==============================] - 1s 46ms/step - loss: 3.6494 - categorical_accuracy: 0.2375 - val_loss: 3.4409 - val_categorical_accuracy: 0.0000e+00\n",
      "Epoch 15/100\n",
      "20/20 [==============================] - 1s 46ms/step - loss: 2.8370 - categorical_accuracy: 0.3750 - val_loss: 3.6064 - val_categorical_accuracy: 0.0000e+00\n",
      "Epoch 16/100\n",
      "20/20 [==============================] - 1s 45ms/step - loss: 3.0698 - categorical_accuracy: 0.3625 - val_loss: 3.5246 - val_categorical_accuracy: 0.0000e+00\n",
      "Epoch 17/100\n",
      "20/20 [==============================] - 1s 46ms/step - loss: 3.1374 - categorical_accuracy: 0.4000 - val_loss: 3.4670 - val_categorical_accuracy: 0.0000e+00\n",
      "Epoch 18/100\n",
      "20/20 [==============================] - 1s 44ms/step - loss: 3.2384 - categorical_accuracy: 0.3375 - val_loss: 3.2462 - val_categorical_accuracy: 0.0000e+00\n",
      "Epoch 19/100\n",
      "20/20 [==============================] - 1s 45ms/step - loss: 2.4412 - categorical_accuracy: 0.4000 - val_loss: 2.9933 - val_categorical_accuracy: 0.0000e+00\n",
      "Epoch 20/100\n",
      "20/20 [==============================] - 1s 48ms/step - loss: 2.4627 - categorical_accuracy: 0.4250 - val_loss: 2.9312 - val_categorical_accuracy: 0.2000\n",
      "Epoch 21/100\n",
      "20/20 [==============================] - 1s 42ms/step - loss: 2.2872 - categorical_accuracy: 0.4750 - val_loss: 2.8571 - val_categorical_accuracy: 0.2000\n",
      "Epoch 22/100\n",
      "20/20 [==============================] - 1s 41ms/step - loss: 2.5245 - categorical_accuracy: 0.4000 - val_loss: 2.9360 - val_categorical_accuracy: 0.2000\n",
      "Epoch 23/100\n",
      "20/20 [==============================] - 1s 42ms/step - loss: 2.4394 - categorical_accuracy: 0.3875 - val_loss: 2.9105 - val_categorical_accuracy: 0.2000\n",
      "Epoch 24/100\n",
      "20/20 [==============================] - 1s 44ms/step - loss: 2.0086 - categorical_accuracy: 0.4500 - val_loss: 2.9358 - val_categorical_accuracy: 0.2000\n",
      "Epoch 25/100\n",
      "20/20 [==============================] - 1s 42ms/step - loss: 1.7765 - categorical_accuracy: 0.5000 - val_loss: 2.7911 - val_categorical_accuracy: 0.2000\n",
      "Epoch 26/100\n",
      "20/20 [==============================] - 1s 41ms/step - loss: 2.7778 - categorical_accuracy: 0.3500 - val_loss: 2.6878 - val_categorical_accuracy: 0.2000\n",
      "Epoch 27/100\n",
      "20/20 [==============================] - 1s 42ms/step - loss: 2.0042 - categorical_accuracy: 0.5000 - val_loss: 2.6613 - val_categorical_accuracy: 0.2000\n",
      "Epoch 28/100\n",
      "20/20 [==============================] - 1s 40ms/step - loss: 2.2072 - categorical_accuracy: 0.4500 - val_loss: 2.8288 - val_categorical_accuracy: 0.2000\n",
      "Epoch 29/100\n",
      "20/20 [==============================] - 1s 44ms/step - loss: 2.6217 - categorical_accuracy: 0.4125 - val_loss: 3.0416 - val_categorical_accuracy: 0.2000\n",
      "Epoch 30/100\n",
      "20/20 [==============================] - 1s 40ms/step - loss: 1.8467 - categorical_accuracy: 0.5125 - val_loss: 3.6178 - val_categorical_accuracy: 0.0500\n",
      "Epoch 31/100\n",
      "20/20 [==============================] - 1s 46ms/step - loss: 1.9467 - categorical_accuracy: 0.4875 - val_loss: 4.2296 - val_categorical_accuracy: 0.0500\n",
      "Epoch 32/100\n",
      "20/20 [==============================] - 1s 45ms/step - loss: 1.6258 - categorical_accuracy: 0.5375 - val_loss: 4.2720 - val_categorical_accuracy: 0.0000e+00\n",
      "Epoch 33/100\n",
      "20/20 [==============================] - 1s 44ms/step - loss: 1.7242 - categorical_accuracy: 0.5750 - val_loss: 4.4379 - val_categorical_accuracy: 0.0000e+00\n",
      "Epoch 34/100\n",
      "20/20 [==============================] - 1s 43ms/step - loss: 2.1856 - categorical_accuracy: 0.5250 - val_loss: 4.8603 - val_categorical_accuracy: 0.0000e+00\n",
      "Epoch 35/100\n",
      "20/20 [==============================] - 1s 46ms/step - loss: 1.8065 - categorical_accuracy: 0.5375 - val_loss: 4.8070 - val_categorical_accuracy: 0.0000e+00\n",
      "Epoch 36/100\n",
      "20/20 [==============================] - 1s 49ms/step - loss: 1.6263 - categorical_accuracy: 0.4750 - val_loss: 4.6136 - val_categorical_accuracy: 0.0000e+00\n",
      "Epoch 37/100\n",
      "20/20 [==============================] - 1s 46ms/step - loss: 1.2761 - categorical_accuracy: 0.6125 - val_loss: 4.5062 - val_categorical_accuracy: 0.0500\n",
      "Epoch 38/100\n",
      "20/20 [==============================] - 1s 43ms/step - loss: 1.5122 - categorical_accuracy: 0.5750 - val_loss: 4.5208 - val_categorical_accuracy: 0.0500\n",
      "Epoch 39/100\n",
      "20/20 [==============================] - 1s 44ms/step - loss: 1.7192 - categorical_accuracy: 0.5375 - val_loss: 4.6710 - val_categorical_accuracy: 0.0000e+00\n",
      "Epoch 40/100\n",
      "20/20 [==============================] - 1s 41ms/step - loss: 1.4719 - categorical_accuracy: 0.6000 - val_loss: 4.4313 - val_categorical_accuracy: 0.0000e+00\n",
      "Epoch 41/100\n",
      "20/20 [==============================] - 1s 41ms/step - loss: 1.4814 - categorical_accuracy: 0.6375 - val_loss: 4.3942 - val_categorical_accuracy: 0.0000e+00\n",
      "Epoch 42/100\n",
      "20/20 [==============================] - 1s 41ms/step - loss: 1.7073 - categorical_accuracy: 0.5500 - val_loss: 4.4345 - val_categorical_accuracy: 0.2000\n",
      "Epoch 43/100\n",
      "20/20 [==============================] - 1s 41ms/step - loss: 1.8530 - categorical_accuracy: 0.5750 - val_loss: 4.5668 - val_categorical_accuracy: 0.2000\n",
      "Epoch 44/100\n",
      "20/20 [==============================] - 1s 42ms/step - loss: 1.2426 - categorical_accuracy: 0.6500 - val_loss: 4.4569 - val_categorical_accuracy: 0.2000\n",
      "Epoch 45/100\n",
      "20/20 [==============================] - 1s 42ms/step - loss: 1.4183 - categorical_accuracy: 0.6125 - val_loss: 4.4030 - val_categorical_accuracy: 0.2000\n",
      "Epoch 46/100\n",
      "20/20 [==============================] - 1s 45ms/step - loss: 0.9907 - categorical_accuracy: 0.7125 - val_loss: 4.6759 - val_categorical_accuracy: 0.2000\n",
      "Epoch 47/100\n",
      "20/20 [==============================] - 1s 45ms/step - loss: 1.2487 - categorical_accuracy: 0.6125 - val_loss: 4.9496 - val_categorical_accuracy: 0.2000\n",
      "Epoch 48/100\n",
      "20/20 [==============================] - 1s 43ms/step - loss: 1.2263 - categorical_accuracy: 0.6125 - val_loss: 5.3454 - val_categorical_accuracy: 0.2000\n",
      "Epoch 49/100\n",
      "20/20 [==============================] - 1s 44ms/step - loss: 1.2303 - categorical_accuracy: 0.6250 - val_loss: 5.4214 - val_categorical_accuracy: 0.2000\n",
      "Epoch 50/100\n",
      "20/20 [==============================] - 1s 45ms/step - loss: 1.2477 - categorical_accuracy: 0.6750 - val_loss: 5.4121 - val_categorical_accuracy: 0.2000\n",
      "Epoch 51/100\n",
      "20/20 [==============================] - 1s 44ms/step - loss: 1.4147 - categorical_accuracy: 0.6750 - val_loss: 5.2455 - val_categorical_accuracy: 0.2000\n",
      "Epoch 52/100\n",
      "20/20 [==============================] - 1s 41ms/step - loss: 1.2487 - categorical_accuracy: 0.6500 - val_loss: 5.1898 - val_categorical_accuracy: 0.2000\n",
      "Epoch 53/100\n",
      "20/20 [==============================] - 1s 45ms/step - loss: 1.2343 - categorical_accuracy: 0.5875 - val_loss: 5.4313 - val_categorical_accuracy: 0.2000\n",
      "Epoch 54/100\n",
      "20/20 [==============================] - 1s 44ms/step - loss: 1.2311 - categorical_accuracy: 0.6250 - val_loss: 5.8472 - val_categorical_accuracy: 0.2000\n",
      "Epoch 55/100\n",
      "20/20 [==============================] - 1s 43ms/step - loss: 1.1531 - categorical_accuracy: 0.6750 - val_loss: 5.6918 - val_categorical_accuracy: 0.2000\n",
      "Epoch 56/100\n",
      "20/20 [==============================] - 1s 43ms/step - loss: 0.9096 - categorical_accuracy: 0.6875 - val_loss: 5.0507 - val_categorical_accuracy: 0.2000\n",
      "Epoch 57/100\n",
      "20/20 [==============================] - 1s 40ms/step - loss: 1.1521 - categorical_accuracy: 0.6500 - val_loss: 5.4299 - val_categorical_accuracy: 0.2000\n",
      "Epoch 58/100\n",
      "20/20 [==============================] - 1s 40ms/step - loss: 1.0613 - categorical_accuracy: 0.6250 - val_loss: 5.1038 - val_categorical_accuracy: 0.2000\n",
      "Epoch 59/100\n",
      "20/20 [==============================] - 1s 41ms/step - loss: 0.9272 - categorical_accuracy: 0.7250 - val_loss: 4.9809 - val_categorical_accuracy: 0.2000\n",
      "Epoch 60/100\n",
      "20/20 [==============================] - 1s 41ms/step - loss: 1.2672 - categorical_accuracy: 0.6375 - val_loss: 5.4870 - val_categorical_accuracy: 0.2000\n",
      "Epoch 61/100\n",
      "20/20 [==============================] - 1s 40ms/step - loss: 0.8977 - categorical_accuracy: 0.7250 - val_loss: 5.3455 - val_categorical_accuracy: 0.2000\n",
      "Epoch 62/100\n",
      "20/20 [==============================] - 1s 43ms/step - loss: 0.9602 - categorical_accuracy: 0.7250 - val_loss: 5.3919 - val_categorical_accuracy: 0.2000\n",
      "Epoch 63/100\n",
      "20/20 [==============================] - 1s 45ms/step - loss: 0.8078 - categorical_accuracy: 0.8125 - val_loss: 5.2342 - val_categorical_accuracy: 0.2000\n",
      "Epoch 64/100\n",
      "20/20 [==============================] - 1s 45ms/step - loss: 0.8651 - categorical_accuracy: 0.7500 - val_loss: 5.3657 - val_categorical_accuracy: 0.2000\n",
      "Epoch 65/100\n",
      "20/20 [==============================] - 1s 45ms/step - loss: 1.1397 - categorical_accuracy: 0.6750 - val_loss: 5.7445 - val_categorical_accuracy: 0.2000\n",
      "Epoch 66/100\n",
      "20/20 [==============================] - 1s 43ms/step - loss: 0.7942 - categorical_accuracy: 0.7875 - val_loss: 5.8053 - val_categorical_accuracy: 0.2000\n",
      "Epoch 67/100\n",
      "20/20 [==============================] - 1s 44ms/step - loss: 0.9189 - categorical_accuracy: 0.6875 - val_loss: 5.5156 - val_categorical_accuracy: 0.2000\n",
      "Epoch 68/100\n",
      "20/20 [==============================] - 1s 48ms/step - loss: 0.8366 - categorical_accuracy: 0.7750 - val_loss: 5.4176 - val_categorical_accuracy: 0.2000\n",
      "Epoch 69/100\n",
      "20/20 [==============================] - 1s 45ms/step - loss: 0.6146 - categorical_accuracy: 0.8375 - val_loss: 5.4357 - val_categorical_accuracy: 0.2000\n",
      "Epoch 70/100\n",
      "20/20 [==============================] - 1s 42ms/step - loss: 0.7387 - categorical_accuracy: 0.7500 - val_loss: 5.5534 - val_categorical_accuracy: 0.2000\n",
      "Epoch 71/100\n",
      "20/20 [==============================] - 1s 44ms/step - loss: 0.9694 - categorical_accuracy: 0.7125 - val_loss: 4.9212 - val_categorical_accuracy: 0.2000\n",
      "Epoch 72/100\n",
      "20/20 [==============================] - 1s 45ms/step - loss: 0.4942 - categorical_accuracy: 0.8250 - val_loss: 4.3478 - val_categorical_accuracy: 0.2000\n",
      "Epoch 73/100\n",
      "20/20 [==============================] - 1s 42ms/step - loss: 0.8611 - categorical_accuracy: 0.7875 - val_loss: 4.4862 - val_categorical_accuracy: 0.2000\n",
      "Epoch 74/100\n",
      "20/20 [==============================] - 1s 42ms/step - loss: 1.0054 - categorical_accuracy: 0.7125 - val_loss: 4.7627 - val_categorical_accuracy: 0.2000\n",
      "Epoch 75/100\n",
      "20/20 [==============================] - 1s 43ms/step - loss: 0.8075 - categorical_accuracy: 0.7500 - val_loss: 4.6887 - val_categorical_accuracy: 0.2000\n",
      "Epoch 76/100\n",
      "20/20 [==============================] - 1s 42ms/step - loss: 0.5188 - categorical_accuracy: 0.7875 - val_loss: 5.1241 - val_categorical_accuracy: 0.2000\n",
      "Epoch 77/100\n",
      "20/20 [==============================] - 1s 45ms/step - loss: 0.9232 - categorical_accuracy: 0.7125 - val_loss: 5.3084 - val_categorical_accuracy: 0.2000\n",
      "Epoch 78/100\n",
      "20/20 [==============================] - 1s 45ms/step - loss: 0.7124 - categorical_accuracy: 0.8125 - val_loss: 5.3759 - val_categorical_accuracy: 0.2000\n",
      "Epoch 79/100\n",
      "20/20 [==============================] - 1s 42ms/step - loss: 0.7414 - categorical_accuracy: 0.7750 - val_loss: 5.6987 - val_categorical_accuracy: 0.2000\n",
      "Epoch 80/100\n",
      "20/20 [==============================] - 1s 45ms/step - loss: 0.7271 - categorical_accuracy: 0.8125 - val_loss: 6.0166 - val_categorical_accuracy: 0.2000\n",
      "Epoch 81/100\n",
      "20/20 [==============================] - 1s 45ms/step - loss: 0.5855 - categorical_accuracy: 0.8125 - val_loss: 6.2088 - val_categorical_accuracy: 0.2000\n",
      "Epoch 82/100\n",
      "20/20 [==============================] - 1s 46ms/step - loss: 0.5790 - categorical_accuracy: 0.8250 - val_loss: 6.1361 - val_categorical_accuracy: 0.2000\n",
      "Epoch 83/100\n",
      "20/20 [==============================] - 1s 45ms/step - loss: 0.7116 - categorical_accuracy: 0.8125 - val_loss: 5.9359 - val_categorical_accuracy: 0.2000\n",
      "Epoch 84/100\n",
      "20/20 [==============================] - 1s 42ms/step - loss: 0.5566 - categorical_accuracy: 0.8625 - val_loss: 6.2113 - val_categorical_accuracy: 0.2000\n",
      "Epoch 85/100\n",
      "20/20 [==============================] - 1s 44ms/step - loss: 0.3659 - categorical_accuracy: 0.8625 - val_loss: 5.9041 - val_categorical_accuracy: 0.2000\n",
      "Epoch 86/100\n",
      "20/20 [==============================] - 1s 41ms/step - loss: 0.5683 - categorical_accuracy: 0.8000 - val_loss: 5.3613 - val_categorical_accuracy: 0.2000\n",
      "Epoch 87/100\n",
      "20/20 [==============================] - 1s 43ms/step - loss: 0.5875 - categorical_accuracy: 0.8125 - val_loss: 5.0790 - val_categorical_accuracy: 0.2000\n",
      "Epoch 88/100\n",
      "20/20 [==============================] - 1s 43ms/step - loss: 0.5225 - categorical_accuracy: 0.8125 - val_loss: 4.5827 - val_categorical_accuracy: 0.2000\n",
      "Epoch 89/100\n",
      "20/20 [==============================] - 1s 44ms/step - loss: 0.6900 - categorical_accuracy: 0.8125 - val_loss: 4.3622 - val_categorical_accuracy: 0.2000\n",
      "Epoch 90/100\n",
      "20/20 [==============================] - 1s 44ms/step - loss: 0.5807 - categorical_accuracy: 0.8000 - val_loss: 4.1442 - val_categorical_accuracy: 0.2000\n",
      "Epoch 91/100\n",
      "20/20 [==============================] - 1s 42ms/step - loss: 0.2809 - categorical_accuracy: 0.8875 - val_loss: 4.3437 - val_categorical_accuracy: 0.2000\n",
      "Epoch 92/100\n",
      "20/20 [==============================] - 1s 42ms/step - loss: 0.5426 - categorical_accuracy: 0.8500 - val_loss: 4.1321 - val_categorical_accuracy: 0.2000\n",
      "Epoch 93/100\n",
      "20/20 [==============================] - 1s 44ms/step - loss: 0.5155 - categorical_accuracy: 0.8500 - val_loss: 4.2284 - val_categorical_accuracy: 0.2000\n",
      "Epoch 94/100\n",
      "20/20 [==============================] - 1s 42ms/step - loss: 0.4926 - categorical_accuracy: 0.8875 - val_loss: 4.2717 - val_categorical_accuracy: 0.2000\n",
      "Epoch 95/100\n",
      "20/20 [==============================] - 1s 42ms/step - loss: 0.5281 - categorical_accuracy: 0.8250 - val_loss: 4.1961 - val_categorical_accuracy: 0.2000\n",
      "Epoch 96/100\n",
      "20/20 [==============================] - 1s 42ms/step - loss: 0.5438 - categorical_accuracy: 0.8125 - val_loss: 4.2207 - val_categorical_accuracy: 0.2000\n",
      "Epoch 97/100\n",
      "20/20 [==============================] - 1s 45ms/step - loss: 0.4055 - categorical_accuracy: 0.8625 - val_loss: 4.4071 - val_categorical_accuracy: 0.2000\n",
      "Epoch 98/100\n",
      "20/20 [==============================] - 1s 45ms/step - loss: 0.2151 - categorical_accuracy: 0.9500 - val_loss: 4.4008 - val_categorical_accuracy: 0.2000\n",
      "Epoch 99/100\n",
      "20/20 [==============================] - 1s 44ms/step - loss: 0.4363 - categorical_accuracy: 0.8625 - val_loss: 4.6213 - val_categorical_accuracy: 0.2000\n",
      "Epoch 100/100\n",
      "20/20 [==============================] - 1s 44ms/step - loss: 0.3332 - categorical_accuracy: 0.8750 - val_loss: 4.3218 - val_categorical_accuracy: 0.2000\n"
     ]
    },
    {
     "data": {
      "application/vnd.jupyter.widget-view+json": {
       "model_id": "",
       "version_major": 2,
       "version_minor": 0
      },
      "text/plain": [
       "VBox(children=(Label(value='0.006 MB of 0.006 MB uploaded\\r'), FloatProgress(value=1.0, max=1.0)))"
      ]
     },
     "metadata": {},
     "output_type": "display_data"
    },
    {
     "data": {
      "text/html": [
       "<style>\n",
       "    table.wandb td:nth-child(1) { padding: 0 10px; text-align: left ; width: auto;} td:nth-child(2) {text-align: left ; width: 100%}\n",
       "    .wandb-row { display: flex; flex-direction: row; flex-wrap: wrap; justify-content: flex-start; width: 100% }\n",
       "    .wandb-col { display: flex; flex-direction: column; flex-basis: 100%; flex: 1; padding: 10px; }\n",
       "    </style>\n",
       "<div class=\"wandb-row\"><div class=\"wandb-col\"><h3>Run history:</h3><br/><table class=\"wandb\"><tr><td>epoch/categorical_accuracy</td><td>▁▂▂▂▂▃▃▃▄▃▃▄▄▅▄▅▆▆▆▆▆▆▆▆▆▇▆█▇▆▆▇▇█▇▇████</td></tr><tr><td>epoch/epoch</td><td>▁▁▁▁▂▂▂▂▂▃▃▃▃▃▃▄▄▄▄▄▅▅▅▅▅▅▆▆▆▆▆▇▇▇▇▇▇███</td></tr><tr><td>epoch/learning_rate</td><td>████▇▇▆▆▅▅▄▄▃▃▂▂▂▁▁▁███▇▇▇▆▆▅▅▄▄▃▃▂▂▁▁▁█</td></tr><tr><td>epoch/loss</td><td>█▄▄▄▃▃▃▃▂▂▃▂▂▂▂▂▂▂▁▂▂▂▁▁▁▁▁▁▁▁▁▁▁▁▁▁▁▁▁▁</td></tr><tr><td>epoch/val_categorical_accuracy</td><td>████▁▁▁▁████▃▁▁▁▁███████████████████████</td></tr><tr><td>epoch/val_loss</td><td>▁▁▂▂▂▃▃▃▂▂▂▂▅▆▅▅▅▅▅▇▆▇▆▆▇▇▇▇▅▆▆▇██▆▅▄▅▅▅</td></tr></table><br/></div><div class=\"wandb-col\"><h3>Run summary:</h3><br/><table class=\"wandb\"><tr><td>epoch/categorical_accuracy</td><td>0.875</td></tr><tr><td>epoch/epoch</td><td>99</td></tr><tr><td>epoch/learning_rate</td><td>0.0001</td></tr><tr><td>epoch/loss</td><td>0.33321</td></tr><tr><td>epoch/val_categorical_accuracy</td><td>0.2</td></tr><tr><td>epoch/val_loss</td><td>4.3218</td></tr></table><br/></div></div>"
      ],
      "text/plain": [
       "<IPython.core.display.HTML object>"
      ]
     },
     "metadata": {},
     "output_type": "display_data"
    },
    {
     "data": {
      "text/html": [
       " View run <strong style=\"color:#cdcd00\">C2_MobileNetV3Small</strong> at: <a href='https://wandb.ai/mlewand7/MHI-CNN/runs/op8dblu2' target=\"_blank\">https://wandb.ai/mlewand7/MHI-CNN/runs/op8dblu2</a><br/> View project at: <a href='https://wandb.ai/mlewand7/MHI-CNN' target=\"_blank\">https://wandb.ai/mlewand7/MHI-CNN</a><br/>Synced 5 W&B file(s), 0 media file(s), 0 artifact file(s) and 0 other file(s)"
      ],
      "text/plain": [
       "<IPython.core.display.HTML object>"
      ]
     },
     "metadata": {},
     "output_type": "display_data"
    },
    {
     "data": {
      "text/html": [
       "Find logs at: <code>./wandb/run-20240415_190038-op8dblu2/logs</code>"
      ],
      "text/plain": [
       "<IPython.core.display.HTML object>"
      ]
     },
     "metadata": {},
     "output_type": "display_data"
    },
    {
     "data": {
      "text/plain": [
       "<keras.src.callbacks.History at 0x7fe5bec96c90>"
      ]
     },
     "execution_count": 41,
     "metadata": {},
     "output_type": "execute_result"
    }
   ],
   "source": [
    "MHI_SHAPE = (224,224,3)\n",
    "# get the base model, exclude final dense layers - we will modify/output this\n",
    "base_model = tf.keras.applications.MobileNetV3Small(input_shape = MHI_SHAPE,\n",
    "                                               include_top = False,\n",
    "                                               weights = 'imagenet',\n",
    "                                               pooling='max')\n",
    "# Freeze the convolutional base\n",
    "base_model.trainable = True\n",
    "\n",
    "#len(train_ds.unique_labels) outputs the length of the labels.\n",
    "#MobileNetV3 without additional dense layer - add softmax classification layer\n",
    "model = Sequential()\n",
    "model.add(base_model)\n",
    "model.add(Dense(len(train_ds.unique_labels), activation='softmax'))\n",
    "\n",
    "keras_train(model, run_name=\"C2_MobileNetV3Small_augmentation_no_transforms\", \n",
    "            train_ds=train_dataset, \n",
    "            val_ds=val_dataset, \n",
    "            dataset_name=\"calcMHI-augmentMHI_no_transforms\", \n",
    "            max_lr = 1e-4, \n",
    "            min_lr = 5e-5,\n",
    "            T_max=251, \n",
    "            epochs=500,\n",
    "            filepath=os.path.join(\"models\", \"C2_MobileNetV3Small_no_transforms.tf\"), \n",
    "            USE_WANDB=CONFIG.USE_WANDB)"
   ]
  },
  {
   "cell_type": "markdown",
   "metadata": {},
   "source": [
    "### Resnet50"
   ]
  },
  {
   "cell_type": "code",
   "execution_count": null,
   "metadata": {
    "scrolled": true
   },
   "outputs": [
    {
     "data": {
      "text/html": [
       "Tracking run with wandb version 0.16.6"
      ],
      "text/plain": [
       "<IPython.core.display.HTML object>"
      ]
     },
     "metadata": {},
     "output_type": "display_data"
    },
    {
     "data": {
      "text/html": [
       "Run data is saved locally in <code>/workspace/wandb/run-20240415_190615-urqfxmog</code>"
      ],
      "text/plain": [
       "<IPython.core.display.HTML object>"
      ]
     },
     "metadata": {},
     "output_type": "display_data"
    },
    {
     "data": {
      "text/html": [
       "Syncing run <strong><a href='https://wandb.ai/mlewand7/MHI-CNN/runs/urqfxmog' target=\"_blank\">C2_Resnet50</a></strong> to <a href='https://wandb.ai/mlewand7/MHI-CNN' target=\"_blank\">Weights & Biases</a> (<a href='https://wandb.me/run' target=\"_blank\">docs</a>)<br/>"
      ],
      "text/plain": [
       "<IPython.core.display.HTML object>"
      ]
     },
     "metadata": {},
     "output_type": "display_data"
    },
    {
     "data": {
      "text/html": [
       " View project at <a href='https://wandb.ai/mlewand7/MHI-CNN' target=\"_blank\">https://wandb.ai/mlewand7/MHI-CNN</a>"
      ],
      "text/plain": [
       "<IPython.core.display.HTML object>"
      ]
     },
     "metadata": {},
     "output_type": "display_data"
    },
    {
     "data": {
      "text/html": [
       " View run at <a href='https://wandb.ai/mlewand7/MHI-CNN/runs/urqfxmog' target=\"_blank\">https://wandb.ai/mlewand7/MHI-CNN/runs/urqfxmog</a>"
      ],
      "text/plain": [
       "<IPython.core.display.HTML object>"
      ]
     },
     "metadata": {},
     "output_type": "display_data"
    },
    {
     "name": "stdout",
     "output_type": "stream",
     "text": [
      "Epoch 1/500\n",
      "     20/Unknown - 27s 59ms/step - loss: 2.5596 - categorical_accuracy: 0.1750"
     ]
    },
    {
     "name": "stderr",
     "output_type": "stream",
     "text": [
      "2024-04-15 19:06:44.268103: I tensorflow/core/framework/local_rendezvous.cc:421] Local rendezvous recv item cancelled. Key hash: 7827257057883545257\n",
      "2024-04-15 19:06:44.268228: I tensorflow/core/framework/local_rendezvous.cc:421] Local rendezvous recv item cancelled. Key hash: 8940206431827680969\n"
     ]
    },
    {
     "name": "stdout",
     "output_type": "stream",
     "text": [
      "INFO:tensorflow:Assets written to: models/MHI_Resnet50.tf/assets\n"
     ]
    },
    {
     "name": "stderr",
     "output_type": "stream",
     "text": [
      "INFO:tensorflow:Assets written to: models/MHI_Resnet50.tf/assets\n"
     ]
    },
    {
     "name": "stdout",
     "output_type": "stream",
     "text": [
      "20/20 [==============================] - 44s 931ms/step - loss: 2.5596 - categorical_accuracy: 0.1750 - val_loss: 2.8761 - val_categorical_accuracy: 0.2000\n",
      "Epoch 2/500\n",
      "20/20 [==============================] - 1s 58ms/step - loss: 2.1957 - categorical_accuracy: 0.2250 - val_loss: 2.9090 - val_categorical_accuracy: 0.2000\n",
      "Epoch 3/500\n",
      "20/20 [==============================] - 1s 58ms/step - loss: 2.0456 - categorical_accuracy: 0.2375 - val_loss: 2.3261 - val_categorical_accuracy: 0.2000\n",
      "Epoch 4/500\n",
      "20/20 [==============================] - 1s 64ms/step - loss: 2.0417 - categorical_accuracy: 0.2750 - val_loss: 2.3356 - val_categorical_accuracy: 0.2000\n",
      "Epoch 5/500\n",
      "20/20 [==============================] - 1s 64ms/step - loss: 1.7729 - categorical_accuracy: 0.3875 - val_loss: 4.5294 - val_categorical_accuracy: 0.2000\n",
      "Epoch 6/500\n",
      "20/20 [==============================] - 1s 63ms/step - loss: 1.8547 - categorical_accuracy: 0.3000 - val_loss: 4.1211 - val_categorical_accuracy: 0.2000\n",
      "Epoch 7/500\n",
      "20/20 [==============================] - 1s 60ms/step - loss: 1.6266 - categorical_accuracy: 0.3750 - val_loss: 4.4373 - val_categorical_accuracy: 0.2000\n",
      "Epoch 8/500\n",
      "20/20 [==============================] - 1s 61ms/step - loss: 1.7674 - categorical_accuracy: 0.4250 - val_loss: 3.2890 - val_categorical_accuracy: 0.2000\n",
      "Epoch 9/500\n",
      "20/20 [==============================] - 1s 56ms/step - loss: 1.5652 - categorical_accuracy: 0.4375 - val_loss: 3.2872 - val_categorical_accuracy: 0.2000\n",
      "Epoch 10/500\n",
      "20/20 [==============================] - 1s 60ms/step - loss: 1.3548 - categorical_accuracy: 0.4500 - val_loss: 3.2342 - val_categorical_accuracy: 0.2000\n",
      "Epoch 11/500\n",
      "20/20 [==============================] - 1s 60ms/step - loss: 1.2755 - categorical_accuracy: 0.5625 - val_loss: 3.8158 - val_categorical_accuracy: 0.2000\n",
      "Epoch 12/500\n",
      "20/20 [==============================] - 1s 58ms/step - loss: 1.4280 - categorical_accuracy: 0.4875 - val_loss: 4.1096 - val_categorical_accuracy: 0.2000\n",
      "Epoch 13/500\n",
      "20/20 [==============================] - 1s 59ms/step - loss: 1.1775 - categorical_accuracy: 0.5750 - val_loss: 3.0396 - val_categorical_accuracy: 0.2000\n",
      "Epoch 14/500\n",
      "20/20 [==============================] - 1s 58ms/step - loss: 1.1573 - categorical_accuracy: 0.5625 - val_loss: 2.6176 - val_categorical_accuracy: 0.0500\n",
      "Epoch 15/500\n",
      "20/20 [==============================] - 1s 61ms/step - loss: 1.1563 - categorical_accuracy: 0.5750 - val_loss: 2.9275 - val_categorical_accuracy: 0.0500\n",
      "Epoch 16/500\n",
      "20/20 [==============================] - 1s 61ms/step - loss: 1.1416 - categorical_accuracy: 0.6375 - val_loss: 2.4059 - val_categorical_accuracy: 0.2000\n",
      "Epoch 17/500\n",
      "20/20 [==============================] - 1s 67ms/step - loss: 1.0861 - categorical_accuracy: 0.6500 - val_loss: 2.8110 - val_categorical_accuracy: 0.2000\n",
      "Epoch 18/500\n",
      "20/20 [==============================] - 1s 62ms/step - loss: 1.0947 - categorical_accuracy: 0.6250 - val_loss: 3.0796 - val_categorical_accuracy: 0.1500\n",
      "Epoch 19/500\n",
      "20/20 [==============================] - 1s 60ms/step - loss: 0.9658 - categorical_accuracy: 0.6625 - val_loss: 2.6013 - val_categorical_accuracy: 0.2000\n",
      "Epoch 20/500\n",
      "20/20 [==============================] - 1s 59ms/step - loss: 0.9444 - categorical_accuracy: 0.7000 - val_loss: 3.6797 - val_categorical_accuracy: 0.0500\n",
      "Epoch 21/500\n",
      "20/20 [==============================] - 1s 61ms/step - loss: 0.9928 - categorical_accuracy: 0.6625 - val_loss: 3.6386 - val_categorical_accuracy: 0.0500\n",
      "Epoch 22/500\n",
      "20/20 [==============================] - 1s 60ms/step - loss: 0.8337 - categorical_accuracy: 0.7500 - val_loss: 4.2531 - val_categorical_accuracy: 0.0500\n",
      "Epoch 23/500\n",
      "20/20 [==============================] - 1s 61ms/step - loss: 0.9388 - categorical_accuracy: 0.7125 - val_loss: 6.3735 - val_categorical_accuracy: 0.2000\n",
      "Epoch 24/500\n",
      "20/20 [==============================] - 1s 60ms/step - loss: 0.7520 - categorical_accuracy: 0.8000 - val_loss: 12.1319 - val_categorical_accuracy: 0.0500\n",
      "Epoch 25/500\n",
      "20/20 [==============================] - 1s 63ms/step - loss: 0.6909 - categorical_accuracy: 0.7750 - val_loss: 8.1435 - val_categorical_accuracy: 0.2000\n",
      "Epoch 26/500\n",
      "20/20 [==============================] - 1s 61ms/step - loss: 0.6297 - categorical_accuracy: 0.8125 - val_loss: 9.4190 - val_categorical_accuracy: 0.2000\n",
      "Epoch 27/500\n",
      "20/20 [==============================] - 1s 61ms/step - loss: 0.8388 - categorical_accuracy: 0.7750 - val_loss: 9.4236 - val_categorical_accuracy: 0.2000\n",
      "Epoch 28/500\n",
      "20/20 [==============================] - 1s 65ms/step - loss: 0.7422 - categorical_accuracy: 0.7250 - val_loss: 8.1192 - val_categorical_accuracy: 0.2000\n",
      "Epoch 29/500\n",
      "20/20 [==============================] - 1s 59ms/step - loss: 0.6888 - categorical_accuracy: 0.7750 - val_loss: 12.3196 - val_categorical_accuracy: 0.2000\n",
      "Epoch 30/500\n",
      "20/20 [==============================] - 1s 61ms/step - loss: 0.6238 - categorical_accuracy: 0.8125 - val_loss: 14.6790 - val_categorical_accuracy: 0.2000\n",
      "Epoch 31/500\n",
      "20/20 [==============================] - 1s 59ms/step - loss: 0.6049 - categorical_accuracy: 0.8000 - val_loss: 18.2986 - val_categorical_accuracy: 0.0500\n",
      "Epoch 32/500\n",
      "20/20 [==============================] - 1s 59ms/step - loss: 0.5369 - categorical_accuracy: 0.8000 - val_loss: 15.7413 - val_categorical_accuracy: 0.2000\n",
      "Epoch 33/500\n",
      "20/20 [==============================] - 1s 60ms/step - loss: 0.5069 - categorical_accuracy: 0.8500 - val_loss: 28.6784 - val_categorical_accuracy: 0.2000\n",
      "Epoch 34/500\n",
      "20/20 [==============================] - 1s 57ms/step - loss: 0.5226 - categorical_accuracy: 0.8000 - val_loss: 48.4128 - val_categorical_accuracy: 0.2000\n",
      "Epoch 35/500\n",
      "20/20 [==============================] - 1s 58ms/step - loss: 0.5535 - categorical_accuracy: 0.8500 - val_loss: 58.6601 - val_categorical_accuracy: 0.2000\n",
      "Epoch 36/500\n",
      "20/20 [==============================] - 1s 58ms/step - loss: 0.4803 - categorical_accuracy: 0.8875 - val_loss: 40.3443 - val_categorical_accuracy: 0.2000\n",
      "Epoch 37/500\n",
      "20/20 [==============================] - 1s 60ms/step - loss: 0.4066 - categorical_accuracy: 0.8750 - val_loss: 33.9168 - val_categorical_accuracy: 0.2000\n",
      "Epoch 38/500\n",
      "20/20 [==============================] - 1s 58ms/step - loss: 0.3459 - categorical_accuracy: 0.9125 - val_loss: 19.4569 - val_categorical_accuracy: 0.2000\n",
      "Epoch 39/500\n",
      "20/20 [==============================] - 1s 59ms/step - loss: 0.3869 - categorical_accuracy: 0.9000 - val_loss: 14.2475 - val_categorical_accuracy: 0.2000\n",
      "Epoch 40/500\n",
      "20/20 [==============================] - 1s 61ms/step - loss: 0.3519 - categorical_accuracy: 0.8875 - val_loss: 18.3880 - val_categorical_accuracy: 0.2000\n",
      "Epoch 41/500\n",
      "20/20 [==============================] - 1s 63ms/step - loss: 0.3979 - categorical_accuracy: 0.8500 - val_loss: 17.9744 - val_categorical_accuracy: 0.2000\n",
      "Epoch 42/500\n",
      "20/20 [==============================] - 1s 61ms/step - loss: 0.2684 - categorical_accuracy: 0.9375 - val_loss: 11.8527 - val_categorical_accuracy: 0.2000\n",
      "Epoch 43/500\n",
      "20/20 [==============================] - 1s 61ms/step - loss: 0.4968 - categorical_accuracy: 0.8625 - val_loss: 11.7919 - val_categorical_accuracy: 0.1500\n",
      "Epoch 44/500\n",
      "20/20 [==============================] - 1s 61ms/step - loss: 0.3213 - categorical_accuracy: 0.9125 - val_loss: 14.9032 - val_categorical_accuracy: 0.1500\n",
      "Epoch 45/500\n",
      "20/20 [==============================] - 1s 59ms/step - loss: 0.2931 - categorical_accuracy: 0.9250 - val_loss: 14.9966 - val_categorical_accuracy: 0.2000\n",
      "Epoch 46/500\n",
      "20/20 [==============================] - 1s 60ms/step - loss: 0.2512 - categorical_accuracy: 0.9250 - val_loss: 17.4749 - val_categorical_accuracy: 0.2000\n",
      "Epoch 47/500\n",
      "20/20 [==============================] - 1s 57ms/step - loss: 0.2941 - categorical_accuracy: 0.9375 - val_loss: 12.6253 - val_categorical_accuracy: 0.2000\n",
      "Epoch 48/500\n",
      "20/20 [==============================] - 1s 56ms/step - loss: 0.2477 - categorical_accuracy: 0.9375 - val_loss: 15.5026 - val_categorical_accuracy: 0.2000\n",
      "Epoch 49/500\n",
      "20/20 [==============================] - 1s 59ms/step - loss: 0.2484 - categorical_accuracy: 0.8875 - val_loss: 19.4849 - val_categorical_accuracy: 0.2000\n",
      "Epoch 50/500\n",
      "20/20 [==============================] - 1s 57ms/step - loss: 0.2609 - categorical_accuracy: 0.9625 - val_loss: 20.5867 - val_categorical_accuracy: 0.2000\n",
      "Epoch 51/500\n",
      "20/20 [==============================] - 1s 60ms/step - loss: 0.2826 - categorical_accuracy: 0.9250 - val_loss: 20.1601 - val_categorical_accuracy: 0.2000\n",
      "Epoch 52/500\n",
      "20/20 [==============================] - 1s 63ms/step - loss: 0.2816 - categorical_accuracy: 0.9125 - val_loss: 13.1816 - val_categorical_accuracy: 0.2000\n",
      "Epoch 53/500\n",
      "20/20 [==============================] - 1s 65ms/step - loss: 0.2276 - categorical_accuracy: 0.9500 - val_loss: 13.4388 - val_categorical_accuracy: 0.2000\n",
      "Epoch 54/500\n",
      "20/20 [==============================] - 1s 65ms/step - loss: 0.1989 - categorical_accuracy: 0.9250 - val_loss: 14.3227 - val_categorical_accuracy: 0.2000\n",
      "Epoch 55/500\n",
      "20/20 [==============================] - 1s 60ms/step - loss: 0.1505 - categorical_accuracy: 0.9750 - val_loss: 16.7013 - val_categorical_accuracy: 0.0500\n",
      "Epoch 56/500\n",
      "20/20 [==============================] - 1s 58ms/step - loss: 0.1278 - categorical_accuracy: 0.9750 - val_loss: 16.5755 - val_categorical_accuracy: 0.1500\n",
      "Epoch 57/500\n",
      "20/20 [==============================] - 1s 58ms/step - loss: 0.1504 - categorical_accuracy: 0.9500 - val_loss: 17.3806 - val_categorical_accuracy: 0.1000\n",
      "Epoch 58/500\n",
      "20/20 [==============================] - 1s 57ms/step - loss: 0.2419 - categorical_accuracy: 0.9375 - val_loss: 18.4066 - val_categorical_accuracy: 0.1000\n",
      "Epoch 59/500\n",
      "20/20 [==============================] - 1s 57ms/step - loss: 0.0753 - categorical_accuracy: 0.9875 - val_loss: 20.4045 - val_categorical_accuracy: 0.2000\n",
      "Epoch 60/500\n",
      "20/20 [==============================] - 1s 54ms/step - loss: 0.1255 - categorical_accuracy: 0.9750 - val_loss: 14.5531 - val_categorical_accuracy: 0.2000\n",
      "Epoch 61/500\n",
      "20/20 [==============================] - ETA: 0s - loss: 0.1563 - categorical_accuracy: 0.9625INFO:tensorflow:Assets written to: models/MHI_Resnet50.tf/assets\n"
     ]
    },
    {
     "name": "stderr",
     "output_type": "stream",
     "text": [
      "INFO:tensorflow:Assets written to: models/MHI_Resnet50.tf/assets\n"
     ]
    },
    {
     "name": "stdout",
     "output_type": "stream",
     "text": [
      "20/20 [==============================] - 19s 1s/step - loss: 0.1563 - categorical_accuracy: 0.9625 - val_loss: 19.2733 - val_categorical_accuracy: 0.2500\n",
      "Epoch 62/500\n",
      "20/20 [==============================] - ETA: 0s - loss: 0.2343 - categorical_accuracy: 0.9500INFO:tensorflow:Assets written to: models/MHI_Resnet50.tf/assets\n"
     ]
    },
    {
     "name": "stderr",
     "output_type": "stream",
     "text": [
      "INFO:tensorflow:Assets written to: models/MHI_Resnet50.tf/assets\n"
     ]
    },
    {
     "name": "stdout",
     "output_type": "stream",
     "text": [
      "20/20 [==============================] - 19s 1s/step - loss: 0.2343 - categorical_accuracy: 0.9500 - val_loss: 20.3617 - val_categorical_accuracy: 0.3000\n",
      "Epoch 63/500\n",
      "20/20 [==============================] - 1s 59ms/step - loss: 0.2062 - categorical_accuracy: 0.9625 - val_loss: 18.3190 - val_categorical_accuracy: 0.2500\n",
      "Epoch 64/500\n",
      "20/20 [==============================] - 1s 59ms/step - loss: 0.0724 - categorical_accuracy: 0.9875 - val_loss: 21.3327 - val_categorical_accuracy: 0.2000\n",
      "Epoch 65/500\n",
      "20/20 [==============================] - 1s 59ms/step - loss: 0.0748 - categorical_accuracy: 0.9875 - val_loss: 27.8325 - val_categorical_accuracy: 0.2000\n",
      "Epoch 66/500\n",
      "20/20 [==============================] - 1s 60ms/step - loss: 0.1365 - categorical_accuracy: 0.9500 - val_loss: 25.7577 - val_categorical_accuracy: 0.2000\n",
      "Epoch 67/500\n",
      "20/20 [==============================] - 1s 63ms/step - loss: 0.1439 - categorical_accuracy: 0.9500 - val_loss: 21.3883 - val_categorical_accuracy: 0.1500\n",
      "Epoch 68/500\n",
      "20/20 [==============================] - 1s 63ms/step - loss: 0.0718 - categorical_accuracy: 0.9750 - val_loss: 24.6883 - val_categorical_accuracy: 0.1500\n",
      "Epoch 69/500\n",
      "20/20 [==============================] - 1s 64ms/step - loss: 0.0751 - categorical_accuracy: 1.0000 - val_loss: 22.0187 - val_categorical_accuracy: 0.1500\n",
      "Epoch 70/500\n",
      "20/20 [==============================] - 1s 64ms/step - loss: 0.0646 - categorical_accuracy: 0.9875 - val_loss: 10.2791 - val_categorical_accuracy: 0.1500\n",
      "Epoch 71/500\n",
      "20/20 [==============================] - 1s 63ms/step - loss: 0.1429 - categorical_accuracy: 0.9750 - val_loss: 10.2833 - val_categorical_accuracy: 0.1000\n",
      "Epoch 72/500\n",
      "20/20 [==============================] - 1s 60ms/step - loss: 0.0753 - categorical_accuracy: 0.9875 - val_loss: 10.0427 - val_categorical_accuracy: 0.3000\n",
      "Epoch 73/500\n",
      "20/20 [==============================] - 1s 57ms/step - loss: 0.0801 - categorical_accuracy: 0.9750 - val_loss: 6.5025 - val_categorical_accuracy: 0.2500\n",
      "Epoch 74/500\n",
      "20/20 [==============================] - 1s 59ms/step - loss: 0.0818 - categorical_accuracy: 0.9875 - val_loss: 6.9198 - val_categorical_accuracy: 0.2000\n",
      "Epoch 75/500\n",
      "20/20 [==============================] - 1s 60ms/step - loss: 0.0868 - categorical_accuracy: 0.9875 - val_loss: 7.3351 - val_categorical_accuracy: 0.3000\n",
      "Epoch 76/500\n",
      "20/20 [==============================] - 1s 59ms/step - loss: 0.0372 - categorical_accuracy: 1.0000 - val_loss: 9.5834 - val_categorical_accuracy: 0.2000\n",
      "Epoch 77/500\n",
      "20/20 [==============================] - 1s 58ms/step - loss: 0.0300 - categorical_accuracy: 1.0000 - val_loss: 8.1161 - val_categorical_accuracy: 0.2000\n",
      "Epoch 78/500\n",
      "20/20 [==============================] - 1s 59ms/step - loss: 0.0344 - categorical_accuracy: 1.0000 - val_loss: 8.9084 - val_categorical_accuracy: 0.1500\n",
      "Epoch 79/500\n",
      "20/20 [==============================] - 1s 58ms/step - loss: 0.0505 - categorical_accuracy: 0.9875 - val_loss: 6.4788 - val_categorical_accuracy: 0.2500\n",
      "Epoch 80/500\n",
      "20/20 [==============================] - 1s 56ms/step - loss: 0.0619 - categorical_accuracy: 1.0000 - val_loss: 5.7804 - val_categorical_accuracy: 0.0500\n",
      "Epoch 81/500\n",
      "20/20 [==============================] - 1s 61ms/step - loss: 0.0335 - categorical_accuracy: 1.0000 - val_loss: 5.6294 - val_categorical_accuracy: 0.2000\n",
      "Epoch 82/500\n",
      "20/20 [==============================] - 1s 62ms/step - loss: 0.0359 - categorical_accuracy: 1.0000 - val_loss: 6.0870 - val_categorical_accuracy: 0.1000\n",
      "Epoch 83/500\n",
      "20/20 [==============================] - 1s 61ms/step - loss: 0.0288 - categorical_accuracy: 1.0000 - val_loss: 6.6384 - val_categorical_accuracy: 0.1000\n",
      "Epoch 84/500\n",
      "20/20 [==============================] - 1s 60ms/step - loss: 0.0217 - categorical_accuracy: 1.0000 - val_loss: 6.8142 - val_categorical_accuracy: 0.2500\n",
      "Epoch 85/500\n",
      "20/20 [==============================] - 1s 59ms/step - loss: 0.0208 - categorical_accuracy: 1.0000 - val_loss: 6.6036 - val_categorical_accuracy: 0.1500\n",
      "Epoch 86/500\n",
      "20/20 [==============================] - 1s 62ms/step - loss: 0.0277 - categorical_accuracy: 1.0000 - val_loss: 7.0904 - val_categorical_accuracy: 0.0500\n",
      "Epoch 87/500\n",
      "20/20 [==============================] - 1s 61ms/step - loss: 0.0322 - categorical_accuracy: 1.0000 - val_loss: 10.0883 - val_categorical_accuracy: 0.0500\n",
      "Epoch 88/500\n",
      "20/20 [==============================] - 1s 64ms/step - loss: 0.0323 - categorical_accuracy: 1.0000 - val_loss: 5.5959 - val_categorical_accuracy: 0.2000\n",
      "Epoch 89/500\n",
      "20/20 [==============================] - 1s 61ms/step - loss: 0.0336 - categorical_accuracy: 0.9875 - val_loss: 5.2603 - val_categorical_accuracy: 0.2000\n",
      "Epoch 90/500\n",
      "20/20 [==============================] - 1s 60ms/step - loss: 0.0314 - categorical_accuracy: 1.0000 - val_loss: 6.4545 - val_categorical_accuracy: 0.0500\n",
      "Epoch 91/500\n",
      "20/20 [==============================] - 1s 60ms/step - loss: 0.0462 - categorical_accuracy: 0.9875 - val_loss: 4.5229 - val_categorical_accuracy: 0.2000\n",
      "Epoch 92/500\n",
      "20/20 [==============================] - 1s 58ms/step - loss: 0.0997 - categorical_accuracy: 0.9625 - val_loss: 7.3143 - val_categorical_accuracy: 0.0500\n",
      "Epoch 93/500\n",
      "20/20 [==============================] - 1s 63ms/step - loss: 0.0263 - categorical_accuracy: 1.0000 - val_loss: 5.7257 - val_categorical_accuracy: 0.0500\n",
      "Epoch 94/500\n",
      "20/20 [==============================] - 1s 64ms/step - loss: 0.0359 - categorical_accuracy: 1.0000 - val_loss: 5.2104 - val_categorical_accuracy: 0.1000\n",
      "Epoch 95/500\n",
      "20/20 [==============================] - 1s 64ms/step - loss: 0.0359 - categorical_accuracy: 1.0000 - val_loss: 6.7819 - val_categorical_accuracy: 0.1000\n",
      "Epoch 96/500\n",
      "20/20 [==============================] - 1s 63ms/step - loss: 0.0244 - categorical_accuracy: 1.0000 - val_loss: 5.5484 - val_categorical_accuracy: 0.1000\n",
      "Epoch 97/500\n",
      "20/20 [==============================] - 1s 59ms/step - loss: 0.0259 - categorical_accuracy: 1.0000 - val_loss: 6.8699 - val_categorical_accuracy: 0.1000\n",
      "Epoch 98/500\n",
      "20/20 [==============================] - 1s 65ms/step - loss: 0.0288 - categorical_accuracy: 1.0000 - val_loss: 5.5043 - val_categorical_accuracy: 0.0500\n",
      "Epoch 99/500\n",
      "20/20 [==============================] - 1s 66ms/step - loss: 0.0290 - categorical_accuracy: 1.0000 - val_loss: 6.6426 - val_categorical_accuracy: 0.1000\n",
      "Epoch 100/500\n",
      "20/20 [==============================] - 1s 66ms/step - loss: 0.0476 - categorical_accuracy: 0.9875 - val_loss: 5.0729 - val_categorical_accuracy: 0.1000\n",
      "Epoch 101/500\n",
      "20/20 [==============================] - 1s 64ms/step - loss: 0.0183 - categorical_accuracy: 1.0000 - val_loss: 9.4788 - val_categorical_accuracy: 0.0500\n",
      "Epoch 102/500\n",
      "20/20 [==============================] - 1s 63ms/step - loss: 0.0191 - categorical_accuracy: 1.0000 - val_loss: 7.3598 - val_categorical_accuracy: 0.1000\n",
      "Epoch 103/500\n",
      "20/20 [==============================] - 1s 61ms/step - loss: 0.0270 - categorical_accuracy: 1.0000 - val_loss: 6.6064 - val_categorical_accuracy: 0.1000\n",
      "Epoch 104/500\n",
      "20/20 [==============================] - 1s 64ms/step - loss: 0.0156 - categorical_accuracy: 1.0000 - val_loss: 4.0170 - val_categorical_accuracy: 0.1500\n",
      "Epoch 105/500\n",
      "20/20 [==============================] - 1s 57ms/step - loss: 0.1144 - categorical_accuracy: 0.9875 - val_loss: 6.3322 - val_categorical_accuracy: 0.2000\n",
      "Epoch 106/500\n",
      "20/20 [==============================] - 1s 64ms/step - loss: 0.0165 - categorical_accuracy: 1.0000 - val_loss: 5.6223 - val_categorical_accuracy: 0.2000\n",
      "Epoch 107/500\n",
      "20/20 [==============================] - 1s 63ms/step - loss: 0.0230 - categorical_accuracy: 1.0000 - val_loss: 5.3145 - val_categorical_accuracy: 0.1500\n",
      "Epoch 108/500\n",
      "20/20 [==============================] - 1s 64ms/step - loss: 0.0170 - categorical_accuracy: 1.0000 - val_loss: 5.8554 - val_categorical_accuracy: 0.0500\n",
      "Epoch 109/500\n",
      "20/20 [==============================] - 1s 63ms/step - loss: 0.0192 - categorical_accuracy: 1.0000 - val_loss: 7.4421 - val_categorical_accuracy: 0.0500\n",
      "Epoch 110/500\n",
      "20/20 [==============================] - 1s 64ms/step - loss: 0.0243 - categorical_accuracy: 1.0000 - val_loss: 5.8625 - val_categorical_accuracy: 0.2000\n",
      "Epoch 111/500\n",
      "20/20 [==============================] - 1s 61ms/step - loss: 0.1511 - categorical_accuracy: 0.9750 - val_loss: 6.6860 - val_categorical_accuracy: 0.1000\n",
      "Epoch 112/500\n",
      "20/20 [==============================] - 1s 58ms/step - loss: 0.0166 - categorical_accuracy: 1.0000 - val_loss: 6.5161 - val_categorical_accuracy: 0.1500\n",
      "Epoch 113/500\n",
      "20/20 [==============================] - 1s 62ms/step - loss: 0.0165 - categorical_accuracy: 1.0000 - val_loss: 5.7663 - val_categorical_accuracy: 0.1500\n",
      "Epoch 114/500\n",
      "20/20 [==============================] - 1s 64ms/step - loss: 0.0120 - categorical_accuracy: 1.0000 - val_loss: 5.7401 - val_categorical_accuracy: 0.1000\n",
      "Epoch 115/500\n",
      "20/20 [==============================] - 1s 65ms/step - loss: 0.0106 - categorical_accuracy: 1.0000 - val_loss: 5.1982 - val_categorical_accuracy: 0.0500\n",
      "Epoch 116/500\n",
      "20/20 [==============================] - 1s 65ms/step - loss: 0.0127 - categorical_accuracy: 1.0000 - val_loss: 6.2413 - val_categorical_accuracy: 0.1500\n",
      "Epoch 117/500\n",
      "20/20 [==============================] - 1s 62ms/step - loss: 0.0161 - categorical_accuracy: 1.0000 - val_loss: 5.4738 - val_categorical_accuracy: 0.0500\n",
      "Epoch 118/500\n",
      "20/20 [==============================] - 1s 61ms/step - loss: 0.0269 - categorical_accuracy: 1.0000 - val_loss: 6.4176 - val_categorical_accuracy: 0.1000\n",
      "Epoch 119/500\n",
      "20/20 [==============================] - 1s 64ms/step - loss: 0.0144 - categorical_accuracy: 1.0000 - val_loss: 5.6813 - val_categorical_accuracy: 0.0500\n",
      "Epoch 120/500\n",
      "20/20 [==============================] - 1s 60ms/step - loss: 0.0110 - categorical_accuracy: 1.0000 - val_loss: 6.5142 - val_categorical_accuracy: 0.1500\n",
      "Epoch 121/500\n",
      "20/20 [==============================] - 1s 60ms/step - loss: 0.0097 - categorical_accuracy: 1.0000 - val_loss: 10.3528 - val_categorical_accuracy: 0.0500\n",
      "Epoch 122/500\n",
      "20/20 [==============================] - 1s 68ms/step - loss: 0.0116 - categorical_accuracy: 1.0000 - val_loss: 8.5266 - val_categorical_accuracy: 0.1000\n",
      "Epoch 123/500\n",
      "20/20 [==============================] - 1s 62ms/step - loss: 0.0503 - categorical_accuracy: 0.9875 - val_loss: 8.7259 - val_categorical_accuracy: 0.0000e+00\n",
      "Epoch 124/500\n",
      "20/20 [==============================] - 1s 66ms/step - loss: 0.0363 - categorical_accuracy: 0.9875 - val_loss: 6.3344 - val_categorical_accuracy: 0.0500\n",
      "Epoch 125/500\n",
      "20/20 [==============================] - 1s 65ms/step - loss: 0.0115 - categorical_accuracy: 1.0000 - val_loss: 6.6105 - val_categorical_accuracy: 0.0500\n",
      "Epoch 126/500\n",
      "20/20 [==============================] - 1s 62ms/step - loss: 0.0094 - categorical_accuracy: 1.0000 - val_loss: 6.6218 - val_categorical_accuracy: 0.0500\n",
      "Epoch 127/500\n",
      "20/20 [==============================] - 1s 64ms/step - loss: 0.0092 - categorical_accuracy: 1.0000 - val_loss: 5.5520 - val_categorical_accuracy: 0.1000\n"
     ]
    }
   ],
   "source": [
    "MHI_SHAPE = (224,224,3)\n",
    "# get the base model, exclude final dense layers - we will modify/output this\n",
    "base_model = tf.keras.applications.ResNet50(input_shape = MHI_SHAPE,\n",
    "                                               include_top = False,\n",
    "                                               weights = 'imagenet',\n",
    "                                               pooling='max')\n",
    "# Freeze the convolutional base\n",
    "base_model.trainable = True\n",
    "\n",
    "#len(train_ds.unique_labels) outputs the length of the labels.\n",
    "#MobileNetV3 without additional dense layer - add softmax classification layer\n",
    "model = Sequential()\n",
    "model.add(base_model)\n",
    "model.add(keras.layers.Flatten())\n",
    "model.add(Dense(256, activation=\"relu\"))\n",
    "model.add(keras.layers.Dropout(0.2))\n",
    "model.add(keras.layers.BatchNormalization())\n",
    "model.add(Dense(len(train_ds.unique_labels), activation='softmax'))\n",
    "\n",
    "keras_train(model, \n",
    "            run_name=\"C2_Resnet50_no_transforms\", \n",
    "            train_ds=train_dataset, \n",
    "            val_ds=val_dataset, \n",
    "            T_max=251, \n",
    "            epochs=500,\n",
    "            max_lr = 0.75e-4, \n",
    "            min_lr = 2.5e-5,\n",
    "            dataset_name=\"calcMHI-augmentMHI_no_transforms\", \n",
    "            filepath=os.path.join(\"models\", \"MHI_Resnet50_no_transforms.tf\"), \n",
    "            USE_WANDB=CONFIG.USE_WANDB)"
   ]
  },
  {
   "cell_type": "markdown",
   "metadata": {},
   "source": [
    "### EfficientNetB0"
   ]
  },
  {
   "cell_type": "code",
   "execution_count": 44,
   "metadata": {
    "collapsed": true,
    "jupyter": {
     "outputs_hidden": true
    }
   },
   "outputs": [
    {
     "data": {
      "text/html": [
       "Finishing last run (ID:5xdn4tq7) before initializing another..."
      ],
      "text/plain": [
       "<IPython.core.display.HTML object>"
      ]
     },
     "metadata": {},
     "output_type": "display_data"
    },
    {
     "data": {
      "application/vnd.jupyter.widget-view+json": {
       "model_id": "",
       "version_major": 2,
       "version_minor": 0
      },
      "text/plain": [
       "VBox(children=(Label(value='0.006 MB of 0.006 MB uploaded\\r'), FloatProgress(value=1.0, max=1.0)))"
      ]
     },
     "metadata": {},
     "output_type": "display_data"
    },
    {
     "data": {
      "text/html": [
       "<style>\n",
       "    table.wandb td:nth-child(1) { padding: 0 10px; text-align: left ; width: auto;} td:nth-child(2) {text-align: left ; width: 100%}\n",
       "    .wandb-row { display: flex; flex-direction: row; flex-wrap: wrap; justify-content: flex-start; width: 100% }\n",
       "    .wandb-col { display: flex; flex-direction: column; flex-basis: 100%; flex: 1; padding: 10px; }\n",
       "    </style>\n",
       "<div class=\"wandb-row\"><div class=\"wandb-col\"><h3>Run history:</h3><br/><table class=\"wandb\"><tr><td>epoch/categorical_accuracy</td><td>▁▃▁▅▆▄▇▅▆█▅▅▄█▅▆▇█▃</td></tr><tr><td>epoch/epoch</td><td>▁▁▂▂▃▃▃▄▄▅▅▅▆▆▆▇▇██</td></tr><tr><td>epoch/learning_rate</td><td>█████▇▇▇▆▆▆▅▅▄▄▃▂▂▁</td></tr><tr><td>epoch/loss</td><td>█▇▅▅▅▅▃▄▃▃▃▃▄▁▄▁▂▂▄</td></tr><tr><td>epoch/val_categorical_accuracy</td><td>▂▄▂▅█▂▄▄▅▄▅▂▅▄█▇▄▁▄</td></tr><tr><td>epoch/val_loss</td><td>▂▃▄▄▅▂▆█▇▄▅▆▄▂▂▁▄▅█</td></tr></table><br/></div><div class=\"wandb-col\"><h3>Run summary:</h3><br/><table class=\"wandb\"><tr><td>epoch/categorical_accuracy</td><td>0.1875</td></tr><tr><td>epoch/epoch</td><td>18</td></tr><tr><td>epoch/learning_rate</td><td>0.0001</td></tr><tr><td>epoch/loss</td><td>1.92845</td></tr><tr><td>epoch/val_categorical_accuracy</td><td>0.15</td></tr><tr><td>epoch/val_loss</td><td>2.57362</td></tr></table><br/></div></div>"
      ],
      "text/plain": [
       "<IPython.core.display.HTML object>"
      ]
     },
     "metadata": {},
     "output_type": "display_data"
    },
    {
     "data": {
      "text/html": [
       " View run <strong style=\"color:#cdcd00\">C2_EfficientNetB0</strong> at: <a href='https://wandb.ai/mlewand7/MHI-CNN/runs/5xdn4tq7' target=\"_blank\">https://wandb.ai/mlewand7/MHI-CNN/runs/5xdn4tq7</a><br/> View project at: <a href='https://wandb.ai/mlewand7/MHI-CNN' target=\"_blank\">https://wandb.ai/mlewand7/MHI-CNN</a><br/>Synced 5 W&B file(s), 0 media file(s), 0 artifact file(s) and 0 other file(s)"
      ],
      "text/plain": [
       "<IPython.core.display.HTML object>"
      ]
     },
     "metadata": {},
     "output_type": "display_data"
    },
    {
     "data": {
      "text/html": [
       "Find logs at: <code>./wandb/run-20240415_202427-5xdn4tq7/logs</code>"
      ],
      "text/plain": [
       "<IPython.core.display.HTML object>"
      ]
     },
     "metadata": {},
     "output_type": "display_data"
    },
    {
     "data": {
      "text/html": [
       "Successfully finished last run (ID:5xdn4tq7). Initializing new run:<br/>"
      ],
      "text/plain": [
       "<IPython.core.display.HTML object>"
      ]
     },
     "metadata": {},
     "output_type": "display_data"
    },
    {
     "data": {
      "application/vnd.jupyter.widget-view+json": {
       "model_id": "135c3ecce02144ee917920df18a65323",
       "version_major": 2,
       "version_minor": 0
      },
      "text/plain": [
       "VBox(children=(Label(value='Waiting for wandb.init()...\\r'), FloatProgress(value=0.011114899276031388, max=1.0…"
      ]
     },
     "metadata": {},
     "output_type": "display_data"
    },
    {
     "data": {
      "text/html": [
       "Tracking run with wandb version 0.16.6"
      ],
      "text/plain": [
       "<IPython.core.display.HTML object>"
      ]
     },
     "metadata": {},
     "output_type": "display_data"
    },
    {
     "data": {
      "text/html": [
       "Run data is saved locally in <code>/workspace/wandb/run-20240415_202505-qeq7932w</code>"
      ],
      "text/plain": [
       "<IPython.core.display.HTML object>"
      ]
     },
     "metadata": {},
     "output_type": "display_data"
    },
    {
     "data": {
      "text/html": [
       "Syncing run <strong><a href='https://wandb.ai/mlewand7/MHI-CNN/runs/qeq7932w' target=\"_blank\">C2_EfficientNetB0</a></strong> to <a href='https://wandb.ai/mlewand7/MHI-CNN' target=\"_blank\">Weights & Biases</a> (<a href='https://wandb.me/run' target=\"_blank\">docs</a>)<br/>"
      ],
      "text/plain": [
       "<IPython.core.display.HTML object>"
      ]
     },
     "metadata": {},
     "output_type": "display_data"
    },
    {
     "data": {
      "text/html": [
       " View project at <a href='https://wandb.ai/mlewand7/MHI-CNN' target=\"_blank\">https://wandb.ai/mlewand7/MHI-CNN</a>"
      ],
      "text/plain": [
       "<IPython.core.display.HTML object>"
      ]
     },
     "metadata": {},
     "output_type": "display_data"
    },
    {
     "data": {
      "text/html": [
       " View run at <a href='https://wandb.ai/mlewand7/MHI-CNN/runs/qeq7932w' target=\"_blank\">https://wandb.ai/mlewand7/MHI-CNN/runs/qeq7932w</a>"
      ],
      "text/plain": [
       "<IPython.core.display.HTML object>"
      ]
     },
     "metadata": {},
     "output_type": "display_data"
    },
    {
     "name": "stdout",
     "output_type": "stream",
     "text": [
      "Epoch 1/1000\n",
      "     19/Unknown - 1s 12ms/step - loss: 2.5541 - categorical_accuracy: 0.1447"
     ]
    },
    {
     "name": "stderr",
     "output_type": "stream",
     "text": [
      "2024-04-15 20:25:12.610324: I tensorflow/core/framework/local_rendezvous.cc:421] Local rendezvous recv item cancelled. Key hash: 3349952044877754649\n",
      "2024-04-15 20:25:12.610375: I tensorflow/core/framework/local_rendezvous.cc:421] Local rendezvous recv item cancelled. Key hash: 14498149272523616542\n",
      "2024-04-15 20:25:12.610405: I tensorflow/core/framework/local_rendezvous.cc:421] Local rendezvous recv item cancelled. Key hash: 14133121464649995126\n"
     ]
    },
    {
     "name": "stdout",
     "output_type": "stream",
     "text": [
      "INFO:tensorflow:Unsupported signature for serialization: ((TensorSpec(shape=(150528, 256), dtype=tf.float32, name='gradient'), <tensorflow.python.framework.func_graph.UnknownArgument object at 0x7fe258581790>, 140610031114224), {}).\n"
     ]
    },
    {
     "name": "stderr",
     "output_type": "stream",
     "text": [
      "2024-04-15 20:25:12.840681: I tensorflow/core/framework/local_rendezvous.cc:421] Local rendezvous recv item cancelled. Key hash: 3349952044877754649\n",
      "2024-04-15 20:25:12.840769: I tensorflow/core/framework/local_rendezvous.cc:421] Local rendezvous recv item cancelled. Key hash: 6630784775236842777\n",
      "2024-04-15 20:25:12.840846: I tensorflow/core/framework/local_rendezvous.cc:421] Local rendezvous recv item cancelled. Key hash: 4556428208539362992\n",
      "INFO:tensorflow:Unsupported signature for serialization: ((TensorSpec(shape=(150528, 256), dtype=tf.float32, name='gradient'), <tensorflow.python.framework.func_graph.UnknownArgument object at 0x7fe258581790>, 140610031114224), {}).\n"
     ]
    },
    {
     "name": "stdout",
     "output_type": "stream",
     "text": [
      "INFO:tensorflow:Unsupported signature for serialization: ((TensorSpec(shape=(256,), dtype=tf.float32, name='gradient'), <tensorflow.python.framework.func_graph.UnknownArgument object at 0x7fe26c588790>, 140610031311072), {}).\n"
     ]
    },
    {
     "name": "stderr",
     "output_type": "stream",
     "text": [
      "INFO:tensorflow:Unsupported signature for serialization: ((TensorSpec(shape=(256,), dtype=tf.float32, name='gradient'), <tensorflow.python.framework.func_graph.UnknownArgument object at 0x7fe26c588790>, 140610031311072), {}).\n"
     ]
    },
    {
     "name": "stdout",
     "output_type": "stream",
     "text": [
      "INFO:tensorflow:Unsupported signature for serialization: ((TensorSpec(shape=(256,), dtype=tf.float32, name='gradient'), <tensorflow.python.framework.func_graph.UnknownArgument object at 0x7fe26c368ad0>, 140610035535184), {}).\n"
     ]
    },
    {
     "name": "stderr",
     "output_type": "stream",
     "text": [
      "INFO:tensorflow:Unsupported signature for serialization: ((TensorSpec(shape=(256,), dtype=tf.float32, name='gradient'), <tensorflow.python.framework.func_graph.UnknownArgument object at 0x7fe26c368ad0>, 140610035535184), {}).\n"
     ]
    },
    {
     "name": "stdout",
     "output_type": "stream",
     "text": [
      "INFO:tensorflow:Unsupported signature for serialization: ((TensorSpec(shape=(256,), dtype=tf.float32, name='gradient'), <tensorflow.python.framework.func_graph.UnknownArgument object at 0x7fe23c6c4390>, 140610035539696), {}).\n"
     ]
    },
    {
     "name": "stderr",
     "output_type": "stream",
     "text": [
      "INFO:tensorflow:Unsupported signature for serialization: ((TensorSpec(shape=(256,), dtype=tf.float32, name='gradient'), <tensorflow.python.framework.func_graph.UnknownArgument object at 0x7fe23c6c4390>, 140610035539696), {}).\n"
     ]
    },
    {
     "name": "stdout",
     "output_type": "stream",
     "text": [
      "INFO:tensorflow:Unsupported signature for serialization: ((TensorSpec(shape=(256, 7), dtype=tf.float32, name='gradient'), <tensorflow.python.framework.func_graph.UnknownArgument object at 0x7fe23c6e7450>, 140610031314672), {}).\n"
     ]
    },
    {
     "name": "stderr",
     "output_type": "stream",
     "text": [
      "INFO:tensorflow:Unsupported signature for serialization: ((TensorSpec(shape=(256, 7), dtype=tf.float32, name='gradient'), <tensorflow.python.framework.func_graph.UnknownArgument object at 0x7fe23c6e7450>, 140610031314672), {}).\n"
     ]
    },
    {
     "name": "stdout",
     "output_type": "stream",
     "text": [
      "INFO:tensorflow:Unsupported signature for serialization: ((TensorSpec(shape=(7,), dtype=tf.float32, name='gradient'), <tensorflow.python.framework.func_graph.UnknownArgument object at 0x7fe23c6b7ad0>, 140610030804768), {}).\n"
     ]
    },
    {
     "name": "stderr",
     "output_type": "stream",
     "text": [
      "INFO:tensorflow:Unsupported signature for serialization: ((TensorSpec(shape=(7,), dtype=tf.float32, name='gradient'), <tensorflow.python.framework.func_graph.UnknownArgument object at 0x7fe23c6b7ad0>, 140610030804768), {}).\n"
     ]
    },
    {
     "name": "stdout",
     "output_type": "stream",
     "text": [
      "INFO:tensorflow:Unsupported signature for serialization: ((TensorSpec(shape=(150528, 256), dtype=tf.float32, name='gradient'), <tensorflow.python.framework.func_graph.UnknownArgument object at 0x7fe258581790>, 140610031114224), {}).\n"
     ]
    },
    {
     "name": "stderr",
     "output_type": "stream",
     "text": [
      "INFO:tensorflow:Unsupported signature for serialization: ((TensorSpec(shape=(150528, 256), dtype=tf.float32, name='gradient'), <tensorflow.python.framework.func_graph.UnknownArgument object at 0x7fe258581790>, 140610031114224), {}).\n"
     ]
    },
    {
     "name": "stdout",
     "output_type": "stream",
     "text": [
      "INFO:tensorflow:Unsupported signature for serialization: ((TensorSpec(shape=(256,), dtype=tf.float32, name='gradient'), <tensorflow.python.framework.func_graph.UnknownArgument object at 0x7fe26c588790>, 140610031311072), {}).\n"
     ]
    },
    {
     "name": "stderr",
     "output_type": "stream",
     "text": [
      "INFO:tensorflow:Unsupported signature for serialization: ((TensorSpec(shape=(256,), dtype=tf.float32, name='gradient'), <tensorflow.python.framework.func_graph.UnknownArgument object at 0x7fe26c588790>, 140610031311072), {}).\n"
     ]
    },
    {
     "name": "stdout",
     "output_type": "stream",
     "text": [
      "INFO:tensorflow:Unsupported signature for serialization: ((TensorSpec(shape=(256,), dtype=tf.float32, name='gradient'), <tensorflow.python.framework.func_graph.UnknownArgument object at 0x7fe26c368ad0>, 140610035535184), {}).\n"
     ]
    },
    {
     "name": "stderr",
     "output_type": "stream",
     "text": [
      "INFO:tensorflow:Unsupported signature for serialization: ((TensorSpec(shape=(256,), dtype=tf.float32, name='gradient'), <tensorflow.python.framework.func_graph.UnknownArgument object at 0x7fe26c368ad0>, 140610035535184), {}).\n"
     ]
    },
    {
     "name": "stdout",
     "output_type": "stream",
     "text": [
      "INFO:tensorflow:Unsupported signature for serialization: ((TensorSpec(shape=(256,), dtype=tf.float32, name='gradient'), <tensorflow.python.framework.func_graph.UnknownArgument object at 0x7fe23c6c4390>, 140610035539696), {}).\n"
     ]
    },
    {
     "name": "stderr",
     "output_type": "stream",
     "text": [
      "INFO:tensorflow:Unsupported signature for serialization: ((TensorSpec(shape=(256,), dtype=tf.float32, name='gradient'), <tensorflow.python.framework.func_graph.UnknownArgument object at 0x7fe23c6c4390>, 140610035539696), {}).\n"
     ]
    },
    {
     "name": "stdout",
     "output_type": "stream",
     "text": [
      "INFO:tensorflow:Unsupported signature for serialization: ((TensorSpec(shape=(256, 7), dtype=tf.float32, name='gradient'), <tensorflow.python.framework.func_graph.UnknownArgument object at 0x7fe23c6e7450>, 140610031314672), {}).\n"
     ]
    },
    {
     "name": "stderr",
     "output_type": "stream",
     "text": [
      "INFO:tensorflow:Unsupported signature for serialization: ((TensorSpec(shape=(256, 7), dtype=tf.float32, name='gradient'), <tensorflow.python.framework.func_graph.UnknownArgument object at 0x7fe23c6e7450>, 140610031314672), {}).\n"
     ]
    },
    {
     "name": "stdout",
     "output_type": "stream",
     "text": [
      "INFO:tensorflow:Unsupported signature for serialization: ((TensorSpec(shape=(7,), dtype=tf.float32, name='gradient'), <tensorflow.python.framework.func_graph.UnknownArgument object at 0x7fe23c6b7ad0>, 140610030804768), {}).\n"
     ]
    },
    {
     "name": "stderr",
     "output_type": "stream",
     "text": [
      "INFO:tensorflow:Unsupported signature for serialization: ((TensorSpec(shape=(7,), dtype=tf.float32, name='gradient'), <tensorflow.python.framework.func_graph.UnknownArgument object at 0x7fe23c6b7ad0>, 140610030804768), {}).\n"
     ]
    },
    {
     "name": "stdout",
     "output_type": "stream",
     "text": [
      "INFO:tensorflow:Assets written to: models/C2_EfficientNetB0.tf/assets\n"
     ]
    },
    {
     "name": "stderr",
     "output_type": "stream",
     "text": [
      "INFO:tensorflow:Assets written to: models/C2_EfficientNetB0.tf/assets\n"
     ]
    },
    {
     "name": "stdout",
     "output_type": "stream",
     "text": [
      "20/20 [==============================] - 2s 76ms/step - loss: 2.5875 - categorical_accuracy: 0.1375 - val_loss: 2.3158 - val_categorical_accuracy: 0.0500\n",
      "Epoch 2/1000\n",
      "19/20 [===========================>..] - ETA: 0s - loss: 2.0391 - categorical_accuracy: 0.1579INFO:tensorflow:Unsupported signature for serialization: ((TensorSpec(shape=(150528, 256), dtype=tf.float32, name='gradient'), <tensorflow.python.framework.func_graph.UnknownArgument object at 0x7fe258581790>, 140610031114224), {}).\n"
     ]
    },
    {
     "name": "stderr",
     "output_type": "stream",
     "text": [
      "INFO:tensorflow:Unsupported signature for serialization: ((TensorSpec(shape=(150528, 256), dtype=tf.float32, name='gradient'), <tensorflow.python.framework.func_graph.UnknownArgument object at 0x7fe258581790>, 140610031114224), {}).\n"
     ]
    },
    {
     "name": "stdout",
     "output_type": "stream",
     "text": [
      "INFO:tensorflow:Unsupported signature for serialization: ((TensorSpec(shape=(256,), dtype=tf.float32, name='gradient'), <tensorflow.python.framework.func_graph.UnknownArgument object at 0x7fe26c588790>, 140610031311072), {}).\n"
     ]
    },
    {
     "name": "stderr",
     "output_type": "stream",
     "text": [
      "INFO:tensorflow:Unsupported signature for serialization: ((TensorSpec(shape=(256,), dtype=tf.float32, name='gradient'), <tensorflow.python.framework.func_graph.UnknownArgument object at 0x7fe26c588790>, 140610031311072), {}).\n"
     ]
    },
    {
     "name": "stdout",
     "output_type": "stream",
     "text": [
      "INFO:tensorflow:Unsupported signature for serialization: ((TensorSpec(shape=(256,), dtype=tf.float32, name='gradient'), <tensorflow.python.framework.func_graph.UnknownArgument object at 0x7fe26c368ad0>, 140610035535184), {}).\n"
     ]
    },
    {
     "name": "stderr",
     "output_type": "stream",
     "text": [
      "INFO:tensorflow:Unsupported signature for serialization: ((TensorSpec(shape=(256,), dtype=tf.float32, name='gradient'), <tensorflow.python.framework.func_graph.UnknownArgument object at 0x7fe26c368ad0>, 140610035535184), {}).\n"
     ]
    },
    {
     "name": "stdout",
     "output_type": "stream",
     "text": [
      "INFO:tensorflow:Unsupported signature for serialization: ((TensorSpec(shape=(256,), dtype=tf.float32, name='gradient'), <tensorflow.python.framework.func_graph.UnknownArgument object at 0x7fe23c6c4390>, 140610035539696), {}).\n"
     ]
    },
    {
     "name": "stderr",
     "output_type": "stream",
     "text": [
      "INFO:tensorflow:Unsupported signature for serialization: ((TensorSpec(shape=(256,), dtype=tf.float32, name='gradient'), <tensorflow.python.framework.func_graph.UnknownArgument object at 0x7fe23c6c4390>, 140610035539696), {}).\n"
     ]
    },
    {
     "name": "stdout",
     "output_type": "stream",
     "text": [
      "INFO:tensorflow:Unsupported signature for serialization: ((TensorSpec(shape=(256, 7), dtype=tf.float32, name='gradient'), <tensorflow.python.framework.func_graph.UnknownArgument object at 0x7fe23c6e7450>, 140610031314672), {}).\n"
     ]
    },
    {
     "name": "stderr",
     "output_type": "stream",
     "text": [
      "INFO:tensorflow:Unsupported signature for serialization: ((TensorSpec(shape=(256, 7), dtype=tf.float32, name='gradient'), <tensorflow.python.framework.func_graph.UnknownArgument object at 0x7fe23c6e7450>, 140610031314672), {}).\n"
     ]
    },
    {
     "name": "stdout",
     "output_type": "stream",
     "text": [
      "INFO:tensorflow:Unsupported signature for serialization: ((TensorSpec(shape=(7,), dtype=tf.float32, name='gradient'), <tensorflow.python.framework.func_graph.UnknownArgument object at 0x7fe23c6b7ad0>, 140610030804768), {}).\n"
     ]
    },
    {
     "name": "stderr",
     "output_type": "stream",
     "text": [
      "INFO:tensorflow:Unsupported signature for serialization: ((TensorSpec(shape=(7,), dtype=tf.float32, name='gradient'), <tensorflow.python.framework.func_graph.UnknownArgument object at 0x7fe23c6b7ad0>, 140610030804768), {}).\n"
     ]
    },
    {
     "name": "stdout",
     "output_type": "stream",
     "text": [
      "INFO:tensorflow:Unsupported signature for serialization: ((TensorSpec(shape=(150528, 256), dtype=tf.float32, name='gradient'), <tensorflow.python.framework.func_graph.UnknownArgument object at 0x7fe258581790>, 140610031114224), {}).\n"
     ]
    },
    {
     "name": "stderr",
     "output_type": "stream",
     "text": [
      "INFO:tensorflow:Unsupported signature for serialization: ((TensorSpec(shape=(150528, 256), dtype=tf.float32, name='gradient'), <tensorflow.python.framework.func_graph.UnknownArgument object at 0x7fe258581790>, 140610031114224), {}).\n"
     ]
    },
    {
     "name": "stdout",
     "output_type": "stream",
     "text": [
      "INFO:tensorflow:Unsupported signature for serialization: ((TensorSpec(shape=(256,), dtype=tf.float32, name='gradient'), <tensorflow.python.framework.func_graph.UnknownArgument object at 0x7fe26c588790>, 140610031311072), {}).\n"
     ]
    },
    {
     "name": "stderr",
     "output_type": "stream",
     "text": [
      "INFO:tensorflow:Unsupported signature for serialization: ((TensorSpec(shape=(256,), dtype=tf.float32, name='gradient'), <tensorflow.python.framework.func_graph.UnknownArgument object at 0x7fe26c588790>, 140610031311072), {}).\n"
     ]
    },
    {
     "name": "stdout",
     "output_type": "stream",
     "text": [
      "INFO:tensorflow:Unsupported signature for serialization: ((TensorSpec(shape=(256,), dtype=tf.float32, name='gradient'), <tensorflow.python.framework.func_graph.UnknownArgument object at 0x7fe26c368ad0>, 140610035535184), {}).\n"
     ]
    },
    {
     "name": "stderr",
     "output_type": "stream",
     "text": [
      "INFO:tensorflow:Unsupported signature for serialization: ((TensorSpec(shape=(256,), dtype=tf.float32, name='gradient'), <tensorflow.python.framework.func_graph.UnknownArgument object at 0x7fe26c368ad0>, 140610035535184), {}).\n"
     ]
    },
    {
     "name": "stdout",
     "output_type": "stream",
     "text": [
      "INFO:tensorflow:Unsupported signature for serialization: ((TensorSpec(shape=(256,), dtype=tf.float32, name='gradient'), <tensorflow.python.framework.func_graph.UnknownArgument object at 0x7fe23c6c4390>, 140610035539696), {}).\n"
     ]
    },
    {
     "name": "stderr",
     "output_type": "stream",
     "text": [
      "INFO:tensorflow:Unsupported signature for serialization: ((TensorSpec(shape=(256,), dtype=tf.float32, name='gradient'), <tensorflow.python.framework.func_graph.UnknownArgument object at 0x7fe23c6c4390>, 140610035539696), {}).\n"
     ]
    },
    {
     "name": "stdout",
     "output_type": "stream",
     "text": [
      "INFO:tensorflow:Unsupported signature for serialization: ((TensorSpec(shape=(256, 7), dtype=tf.float32, name='gradient'), <tensorflow.python.framework.func_graph.UnknownArgument object at 0x7fe23c6e7450>, 140610031314672), {}).\n"
     ]
    },
    {
     "name": "stderr",
     "output_type": "stream",
     "text": [
      "INFO:tensorflow:Unsupported signature for serialization: ((TensorSpec(shape=(256, 7), dtype=tf.float32, name='gradient'), <tensorflow.python.framework.func_graph.UnknownArgument object at 0x7fe23c6e7450>, 140610031314672), {}).\n"
     ]
    },
    {
     "name": "stdout",
     "output_type": "stream",
     "text": [
      "INFO:tensorflow:Unsupported signature for serialization: ((TensorSpec(shape=(7,), dtype=tf.float32, name='gradient'), <tensorflow.python.framework.func_graph.UnknownArgument object at 0x7fe23c6b7ad0>, 140610030804768), {}).\n"
     ]
    },
    {
     "name": "stderr",
     "output_type": "stream",
     "text": [
      "INFO:tensorflow:Unsupported signature for serialization: ((TensorSpec(shape=(7,), dtype=tf.float32, name='gradient'), <tensorflow.python.framework.func_graph.UnknownArgument object at 0x7fe23c6b7ad0>, 140610030804768), {}).\n"
     ]
    },
    {
     "name": "stdout",
     "output_type": "stream",
     "text": [
      "INFO:tensorflow:Assets written to: models/C2_EfficientNetB0.tf/assets\n"
     ]
    },
    {
     "name": "stderr",
     "output_type": "stream",
     "text": [
      "INFO:tensorflow:Assets written to: models/C2_EfficientNetB0.tf/assets\n"
     ]
    },
    {
     "name": "stdout",
     "output_type": "stream",
     "text": [
      "20/20 [==============================] - 1s 64ms/step - loss: 2.0335 - categorical_accuracy: 0.1500 - val_loss: 2.0524 - val_categorical_accuracy: 0.3000\n",
      "Epoch 3/1000\n",
      "20/20 [==============================] - 0s 15ms/step - loss: 2.0073 - categorical_accuracy: 0.2375 - val_loss: 2.0798 - val_categorical_accuracy: 0.1000\n",
      "Epoch 4/1000\n",
      "20/20 [==============================] - 0s 17ms/step - loss: 1.8469 - categorical_accuracy: 0.3000 - val_loss: 2.2172 - val_categorical_accuracy: 0.0500\n",
      "Epoch 5/1000\n",
      "20/20 [==============================] - 0s 16ms/step - loss: 1.8352 - categorical_accuracy: 0.3250 - val_loss: 2.0751 - val_categorical_accuracy: 0.2000\n",
      "Epoch 6/1000\n",
      "20/20 [==============================] - 0s 16ms/step - loss: 1.7232 - categorical_accuracy: 0.2500 - val_loss: 2.2522 - val_categorical_accuracy: 0.1000\n",
      "Epoch 7/1000\n",
      "20/20 [==============================] - 0s 16ms/step - loss: 1.7331 - categorical_accuracy: 0.3625 - val_loss: 2.3925 - val_categorical_accuracy: 0.1500\n",
      "Epoch 8/1000\n",
      "20/20 [==============================] - 0s 15ms/step - loss: 1.6562 - categorical_accuracy: 0.3875 - val_loss: 1.9868 - val_categorical_accuracy: 0.3000\n",
      "Epoch 9/1000\n",
      "20/20 [==============================] - 0s 15ms/step - loss: 1.5955 - categorical_accuracy: 0.4000 - val_loss: 2.4290 - val_categorical_accuracy: 0.2500\n",
      "Epoch 10/1000\n",
      "20/20 [==============================] - 0s 19ms/step - loss: 1.7477 - categorical_accuracy: 0.3625 - val_loss: 2.7094 - val_categorical_accuracy: 0.1000\n",
      "Epoch 11/1000\n",
      "20/20 [==============================] - 0s 15ms/step - loss: 1.6261 - categorical_accuracy: 0.4000 - val_loss: 3.0150 - val_categorical_accuracy: 0.1500\n",
      "Epoch 12/1000\n",
      "20/20 [==============================] - 0s 14ms/step - loss: 1.6520 - categorical_accuracy: 0.4125 - val_loss: 3.5452 - val_categorical_accuracy: 0.2000\n",
      "Epoch 13/1000\n",
      "20/20 [==============================] - 0s 16ms/step - loss: 1.6303 - categorical_accuracy: 0.4250 - val_loss: 3.1868 - val_categorical_accuracy: 0.0500\n",
      "Epoch 14/1000\n",
      "20/20 [==============================] - 0s 16ms/step - loss: 1.6466 - categorical_accuracy: 0.3875 - val_loss: 2.6969 - val_categorical_accuracy: 0.1000\n",
      "Epoch 15/1000\n",
      "20/20 [==============================] - 0s 15ms/step - loss: 1.6303 - categorical_accuracy: 0.3625 - val_loss: 2.9540 - val_categorical_accuracy: 0.1000\n",
      "Epoch 16/1000\n",
      "20/20 [==============================] - 0s 15ms/step - loss: 1.6910 - categorical_accuracy: 0.3500 - val_loss: 3.0008 - val_categorical_accuracy: 0.1000\n",
      "Epoch 17/1000\n",
      "20/20 [==============================] - 0s 15ms/step - loss: 1.6404 - categorical_accuracy: 0.3375 - val_loss: 2.7738 - val_categorical_accuracy: 0.1000\n",
      "Epoch 18/1000\n",
      "20/20 [==============================] - 0s 16ms/step - loss: 1.6702 - categorical_accuracy: 0.4000 - val_loss: 2.1081 - val_categorical_accuracy: 0.2000\n",
      "Epoch 19/1000\n",
      "20/20 [==============================] - 0s 15ms/step - loss: 1.5797 - categorical_accuracy: 0.4625 - val_loss: 1.9757 - val_categorical_accuracy: 0.2500\n",
      "Epoch 20/1000\n",
      "20/20 [==============================] - 0s 16ms/step - loss: 1.4900 - categorical_accuracy: 0.4375 - val_loss: 2.5085 - val_categorical_accuracy: 0.1000\n",
      "Epoch 21/1000\n",
      "20/20 [==============================] - 0s 15ms/step - loss: 1.6084 - categorical_accuracy: 0.3750 - val_loss: 2.5979 - val_categorical_accuracy: 0.0000e+00\n",
      "Epoch 22/1000\n",
      "20/20 [==============================] - 0s 16ms/step - loss: 1.4934 - categorical_accuracy: 0.3750 - val_loss: 2.4951 - val_categorical_accuracy: 0.1000\n",
      "Epoch 23/1000\n",
      "20/20 [==============================] - 0s 16ms/step - loss: 1.6220 - categorical_accuracy: 0.3375 - val_loss: 2.8696 - val_categorical_accuracy: 0.0500\n",
      "Epoch 24/1000\n",
      "20/20 [==============================] - 0s 16ms/step - loss: 1.6025 - categorical_accuracy: 0.3875 - val_loss: 2.2879 - val_categorical_accuracy: 0.2000\n",
      "Epoch 25/1000\n",
      "20/20 [==============================] - 0s 15ms/step - loss: 1.5309 - categorical_accuracy: 0.4625 - val_loss: 2.6556 - val_categorical_accuracy: 0.1000\n",
      "Epoch 26/1000\n",
      "20/20 [==============================] - 0s 20ms/step - loss: 1.5899 - categorical_accuracy: 0.4250 - val_loss: 2.1519 - val_categorical_accuracy: 0.1500\n",
      "Epoch 27/1000\n",
      "20/20 [==============================] - 0s 17ms/step - loss: 1.4353 - categorical_accuracy: 0.4625 - val_loss: 2.2006 - val_categorical_accuracy: 0.2500\n",
      "Epoch 28/1000\n",
      "20/20 [==============================] - 0s 16ms/step - loss: 1.4867 - categorical_accuracy: 0.4500 - val_loss: 2.3287 - val_categorical_accuracy: 0.2500\n",
      "Epoch 29/1000\n",
      "20/20 [==============================] - 0s 16ms/step - loss: 1.5093 - categorical_accuracy: 0.4750 - val_loss: 2.2671 - val_categorical_accuracy: 0.1500\n",
      "Epoch 30/1000\n",
      "20/20 [==============================] - 0s 18ms/step - loss: 1.4831 - categorical_accuracy: 0.4250 - val_loss: 2.5978 - val_categorical_accuracy: 0.1000\n",
      "Epoch 31/1000\n",
      "20/20 [==============================] - 0s 16ms/step - loss: 1.5577 - categorical_accuracy: 0.5125 - val_loss: 2.4565 - val_categorical_accuracy: 0.1000\n",
      "Epoch 32/1000\n",
      "20/20 [==============================] - 0s 16ms/step - loss: 1.5660 - categorical_accuracy: 0.3750 - val_loss: 2.4234 - val_categorical_accuracy: 0.1000\n",
      "Epoch 33/1000\n",
      "20/20 [==============================] - 0s 17ms/step - loss: 1.6950 - categorical_accuracy: 0.2625 - val_loss: 2.5136 - val_categorical_accuracy: 0.1000\n",
      "Epoch 34/1000\n",
      "20/20 [==============================] - 0s 18ms/step - loss: 1.5942 - categorical_accuracy: 0.4125 - val_loss: 2.5102 - val_categorical_accuracy: 0.1500\n",
      "Epoch 35/1000\n",
      "20/20 [==============================] - 0s 16ms/step - loss: 1.5445 - categorical_accuracy: 0.4500 - val_loss: 2.6122 - val_categorical_accuracy: 0.1500\n",
      "Epoch 36/1000\n",
      "20/20 [==============================] - 0s 17ms/step - loss: 1.5564 - categorical_accuracy: 0.3750 - val_loss: 2.5932 - val_categorical_accuracy: 0.1000\n",
      "Epoch 37/1000\n",
      "20/20 [==============================] - 0s 18ms/step - loss: 1.4479 - categorical_accuracy: 0.4500 - val_loss: 2.4070 - val_categorical_accuracy: 0.1500\n",
      "Epoch 38/1000\n",
      "20/20 [==============================] - 0s 17ms/step - loss: 1.3219 - categorical_accuracy: 0.5625 - val_loss: 2.3497 - val_categorical_accuracy: 0.2500\n",
      "Epoch 39/1000\n",
      "20/20 [==============================] - 0s 15ms/step - loss: 1.5896 - categorical_accuracy: 0.3625 - val_loss: 1.9963 - val_categorical_accuracy: 0.2500\n",
      "Epoch 40/1000\n",
      "20/20 [==============================] - 0s 16ms/step - loss: 1.5045 - categorical_accuracy: 0.5250 - val_loss: 2.0380 - val_categorical_accuracy: 0.1500\n",
      "Epoch 41/1000\n",
      "20/20 [==============================] - 0s 16ms/step - loss: 1.5160 - categorical_accuracy: 0.4000 - val_loss: 2.1948 - val_categorical_accuracy: 0.1500\n",
      "Epoch 42/1000\n",
      "20/20 [==============================] - 0s 17ms/step - loss: 1.3654 - categorical_accuracy: 0.5250 - val_loss: 2.5356 - val_categorical_accuracy: 0.1500\n",
      "Epoch 43/1000\n",
      "20/20 [==============================] - 0s 17ms/step - loss: 1.5802 - categorical_accuracy: 0.4125 - val_loss: 2.0439 - val_categorical_accuracy: 0.0500\n",
      "Epoch 44/1000\n",
      "20/20 [==============================] - 0s 17ms/step - loss: 1.3926 - categorical_accuracy: 0.5125 - val_loss: 2.2417 - val_categorical_accuracy: 0.2500\n",
      "Epoch 45/1000\n",
      "20/20 [==============================] - 0s 17ms/step - loss: 1.5310 - categorical_accuracy: 0.4625 - val_loss: 2.3913 - val_categorical_accuracy: 0.1000\n",
      "Epoch 46/1000\n",
      "20/20 [==============================] - 0s 17ms/step - loss: 1.4794 - categorical_accuracy: 0.4625 - val_loss: 2.4402 - val_categorical_accuracy: 0.1000\n",
      "Epoch 47/1000\n",
      "20/20 [==============================] - 0s 16ms/step - loss: 1.4227 - categorical_accuracy: 0.4875 - val_loss: 2.1504 - val_categorical_accuracy: 0.2500\n",
      "Epoch 48/1000\n",
      "20/20 [==============================] - 0s 15ms/step - loss: 1.4102 - categorical_accuracy: 0.5000 - val_loss: 2.0511 - val_categorical_accuracy: 0.2000\n",
      "Epoch 49/1000\n",
      "20/20 [==============================] - 0s 15ms/step - loss: 1.4548 - categorical_accuracy: 0.4750 - val_loss: 2.1814 - val_categorical_accuracy: 0.1000\n",
      "Epoch 50/1000\n",
      "20/20 [==============================] - 0s 17ms/step - loss: 1.5092 - categorical_accuracy: 0.4500 - val_loss: 2.3921 - val_categorical_accuracy: 0.0000e+00\n",
      "Epoch 51/1000\n",
      "20/20 [==============================] - 0s 15ms/step - loss: 1.5033 - categorical_accuracy: 0.4625 - val_loss: 2.3265 - val_categorical_accuracy: 0.0500\n",
      "Epoch 52/1000\n",
      "20/20 [==============================] - 0s 16ms/step - loss: 1.4771 - categorical_accuracy: 0.5000 - val_loss: 2.3965 - val_categorical_accuracy: 0.0000e+00\n",
      "Epoch 53/1000\n",
      "20/20 [==============================] - 0s 17ms/step - loss: 1.4435 - categorical_accuracy: 0.4875 - val_loss: 2.5386 - val_categorical_accuracy: 0.2500\n",
      "Epoch 54/1000\n",
      "20/20 [==============================] - 0s 16ms/step - loss: 1.5975 - categorical_accuracy: 0.4375 - val_loss: 2.5931 - val_categorical_accuracy: 0.1000\n",
      "Epoch 55/1000\n",
      "20/20 [==============================] - 0s 18ms/step - loss: 1.3650 - categorical_accuracy: 0.5250 - val_loss: 2.7791 - val_categorical_accuracy: 0.1000\n",
      "Epoch 56/1000\n",
      "20/20 [==============================] - 0s 17ms/step - loss: 1.3948 - categorical_accuracy: 0.4375 - val_loss: 2.3333 - val_categorical_accuracy: 0.1000\n",
      "Epoch 57/1000\n",
      "20/20 [==============================] - 0s 18ms/step - loss: 1.4705 - categorical_accuracy: 0.4750 - val_loss: 2.3320 - val_categorical_accuracy: 0.1000\n",
      "Epoch 58/1000\n",
      "20/20 [==============================] - 0s 17ms/step - loss: 1.4284 - categorical_accuracy: 0.4625 - val_loss: 2.3518 - val_categorical_accuracy: 0.1000\n",
      "Epoch 59/1000\n",
      "20/20 [==============================] - 0s 18ms/step - loss: 1.3756 - categorical_accuracy: 0.4875 - val_loss: 2.3822 - val_categorical_accuracy: 0.1000\n",
      "Epoch 60/1000\n",
      "20/20 [==============================] - 0s 16ms/step - loss: 1.5049 - categorical_accuracy: 0.4875 - val_loss: 2.3631 - val_categorical_accuracy: 0.2500\n",
      "Epoch 61/1000\n",
      "20/20 [==============================] - 0s 16ms/step - loss: 1.4343 - categorical_accuracy: 0.5375 - val_loss: 2.3264 - val_categorical_accuracy: 0.0500\n",
      "Epoch 62/1000\n",
      "20/20 [==============================] - 0s 17ms/step - loss: 1.4923 - categorical_accuracy: 0.4500 - val_loss: 2.1820 - val_categorical_accuracy: 0.1000\n",
      "Epoch 63/1000\n",
      "20/20 [==============================] - 0s 16ms/step - loss: 1.4984 - categorical_accuracy: 0.4875 - val_loss: 2.4311 - val_categorical_accuracy: 0.0500\n",
      "Epoch 64/1000\n",
      "20/20 [==============================] - ETA: 0s - loss: 1.4061 - categorical_accuracy: 0.5125INFO:tensorflow:Unsupported signature for serialization: ((TensorSpec(shape=(150528, 256), dtype=tf.float32, name='gradient'), <tensorflow.python.framework.func_graph.UnknownArgument object at 0x7fe258581790>, 140610031114224), {}).\n"
     ]
    },
    {
     "name": "stderr",
     "output_type": "stream",
     "text": [
      "INFO:tensorflow:Unsupported signature for serialization: ((TensorSpec(shape=(150528, 256), dtype=tf.float32, name='gradient'), <tensorflow.python.framework.func_graph.UnknownArgument object at 0x7fe258581790>, 140610031114224), {}).\n"
     ]
    },
    {
     "name": "stdout",
     "output_type": "stream",
     "text": [
      "INFO:tensorflow:Unsupported signature for serialization: ((TensorSpec(shape=(256,), dtype=tf.float32, name='gradient'), <tensorflow.python.framework.func_graph.UnknownArgument object at 0x7fe26c588790>, 140610031311072), {}).\n"
     ]
    },
    {
     "name": "stderr",
     "output_type": "stream",
     "text": [
      "INFO:tensorflow:Unsupported signature for serialization: ((TensorSpec(shape=(256,), dtype=tf.float32, name='gradient'), <tensorflow.python.framework.func_graph.UnknownArgument object at 0x7fe26c588790>, 140610031311072), {}).\n"
     ]
    },
    {
     "name": "stdout",
     "output_type": "stream",
     "text": [
      "INFO:tensorflow:Unsupported signature for serialization: ((TensorSpec(shape=(256,), dtype=tf.float32, name='gradient'), <tensorflow.python.framework.func_graph.UnknownArgument object at 0x7fe26c368ad0>, 140610035535184), {}).\n"
     ]
    },
    {
     "name": "stderr",
     "output_type": "stream",
     "text": [
      "INFO:tensorflow:Unsupported signature for serialization: ((TensorSpec(shape=(256,), dtype=tf.float32, name='gradient'), <tensorflow.python.framework.func_graph.UnknownArgument object at 0x7fe26c368ad0>, 140610035535184), {}).\n"
     ]
    },
    {
     "name": "stdout",
     "output_type": "stream",
     "text": [
      "INFO:tensorflow:Unsupported signature for serialization: ((TensorSpec(shape=(256,), dtype=tf.float32, name='gradient'), <tensorflow.python.framework.func_graph.UnknownArgument object at 0x7fe23c6c4390>, 140610035539696), {}).\n"
     ]
    },
    {
     "name": "stderr",
     "output_type": "stream",
     "text": [
      "INFO:tensorflow:Unsupported signature for serialization: ((TensorSpec(shape=(256,), dtype=tf.float32, name='gradient'), <tensorflow.python.framework.func_graph.UnknownArgument object at 0x7fe23c6c4390>, 140610035539696), {}).\n"
     ]
    },
    {
     "name": "stdout",
     "output_type": "stream",
     "text": [
      "INFO:tensorflow:Unsupported signature for serialization: ((TensorSpec(shape=(256, 7), dtype=tf.float32, name='gradient'), <tensorflow.python.framework.func_graph.UnknownArgument object at 0x7fe23c6e7450>, 140610031314672), {}).\n"
     ]
    },
    {
     "name": "stderr",
     "output_type": "stream",
     "text": [
      "INFO:tensorflow:Unsupported signature for serialization: ((TensorSpec(shape=(256, 7), dtype=tf.float32, name='gradient'), <tensorflow.python.framework.func_graph.UnknownArgument object at 0x7fe23c6e7450>, 140610031314672), {}).\n"
     ]
    },
    {
     "name": "stdout",
     "output_type": "stream",
     "text": [
      "INFO:tensorflow:Unsupported signature for serialization: ((TensorSpec(shape=(7,), dtype=tf.float32, name='gradient'), <tensorflow.python.framework.func_graph.UnknownArgument object at 0x7fe23c6b7ad0>, 140610030804768), {}).\n"
     ]
    },
    {
     "name": "stderr",
     "output_type": "stream",
     "text": [
      "INFO:tensorflow:Unsupported signature for serialization: ((TensorSpec(shape=(7,), dtype=tf.float32, name='gradient'), <tensorflow.python.framework.func_graph.UnknownArgument object at 0x7fe23c6b7ad0>, 140610030804768), {}).\n"
     ]
    },
    {
     "name": "stdout",
     "output_type": "stream",
     "text": [
      "INFO:tensorflow:Unsupported signature for serialization: ((TensorSpec(shape=(150528, 256), dtype=tf.float32, name='gradient'), <tensorflow.python.framework.func_graph.UnknownArgument object at 0x7fe258581790>, 140610031114224), {}).\n"
     ]
    },
    {
     "name": "stderr",
     "output_type": "stream",
     "text": [
      "INFO:tensorflow:Unsupported signature for serialization: ((TensorSpec(shape=(150528, 256), dtype=tf.float32, name='gradient'), <tensorflow.python.framework.func_graph.UnknownArgument object at 0x7fe258581790>, 140610031114224), {}).\n"
     ]
    },
    {
     "name": "stdout",
     "output_type": "stream",
     "text": [
      "INFO:tensorflow:Unsupported signature for serialization: ((TensorSpec(shape=(256,), dtype=tf.float32, name='gradient'), <tensorflow.python.framework.func_graph.UnknownArgument object at 0x7fe26c588790>, 140610031311072), {}).\n"
     ]
    },
    {
     "name": "stderr",
     "output_type": "stream",
     "text": [
      "INFO:tensorflow:Unsupported signature for serialization: ((TensorSpec(shape=(256,), dtype=tf.float32, name='gradient'), <tensorflow.python.framework.func_graph.UnknownArgument object at 0x7fe26c588790>, 140610031311072), {}).\n"
     ]
    },
    {
     "name": "stdout",
     "output_type": "stream",
     "text": [
      "INFO:tensorflow:Unsupported signature for serialization: ((TensorSpec(shape=(256,), dtype=tf.float32, name='gradient'), <tensorflow.python.framework.func_graph.UnknownArgument object at 0x7fe26c368ad0>, 140610035535184), {}).\n"
     ]
    },
    {
     "name": "stderr",
     "output_type": "stream",
     "text": [
      "INFO:tensorflow:Unsupported signature for serialization: ((TensorSpec(shape=(256,), dtype=tf.float32, name='gradient'), <tensorflow.python.framework.func_graph.UnknownArgument object at 0x7fe26c368ad0>, 140610035535184), {}).\n"
     ]
    },
    {
     "name": "stdout",
     "output_type": "stream",
     "text": [
      "INFO:tensorflow:Unsupported signature for serialization: ((TensorSpec(shape=(256,), dtype=tf.float32, name='gradient'), <tensorflow.python.framework.func_graph.UnknownArgument object at 0x7fe23c6c4390>, 140610035539696), {}).\n"
     ]
    },
    {
     "name": "stderr",
     "output_type": "stream",
     "text": [
      "INFO:tensorflow:Unsupported signature for serialization: ((TensorSpec(shape=(256,), dtype=tf.float32, name='gradient'), <tensorflow.python.framework.func_graph.UnknownArgument object at 0x7fe23c6c4390>, 140610035539696), {}).\n"
     ]
    },
    {
     "name": "stdout",
     "output_type": "stream",
     "text": [
      "INFO:tensorflow:Unsupported signature for serialization: ((TensorSpec(shape=(256, 7), dtype=tf.float32, name='gradient'), <tensorflow.python.framework.func_graph.UnknownArgument object at 0x7fe23c6e7450>, 140610031314672), {}).\n"
     ]
    },
    {
     "name": "stderr",
     "output_type": "stream",
     "text": [
      "INFO:tensorflow:Unsupported signature for serialization: ((TensorSpec(shape=(256, 7), dtype=tf.float32, name='gradient'), <tensorflow.python.framework.func_graph.UnknownArgument object at 0x7fe23c6e7450>, 140610031314672), {}).\n"
     ]
    },
    {
     "name": "stdout",
     "output_type": "stream",
     "text": [
      "INFO:tensorflow:Unsupported signature for serialization: ((TensorSpec(shape=(7,), dtype=tf.float32, name='gradient'), <tensorflow.python.framework.func_graph.UnknownArgument object at 0x7fe23c6b7ad0>, 140610030804768), {}).\n"
     ]
    },
    {
     "name": "stderr",
     "output_type": "stream",
     "text": [
      "INFO:tensorflow:Unsupported signature for serialization: ((TensorSpec(shape=(7,), dtype=tf.float32, name='gradient'), <tensorflow.python.framework.func_graph.UnknownArgument object at 0x7fe23c6b7ad0>, 140610030804768), {}).\n"
     ]
    },
    {
     "name": "stdout",
     "output_type": "stream",
     "text": [
      "INFO:tensorflow:Assets written to: models/C2_EfficientNetB0.tf/assets\n"
     ]
    },
    {
     "name": "stderr",
     "output_type": "stream",
     "text": [
      "INFO:tensorflow:Assets written to: models/C2_EfficientNetB0.tf/assets\n"
     ]
    },
    {
     "name": "stdout",
     "output_type": "stream",
     "text": [
      "20/20 [==============================] - 1s 66ms/step - loss: 1.4061 - categorical_accuracy: 0.5125 - val_loss: 1.9711 - val_categorical_accuracy: 0.3500\n",
      "Epoch 65/1000\n",
      "20/20 [==============================] - 0s 18ms/step - loss: 1.5720 - categorical_accuracy: 0.4500 - val_loss: 2.4768 - val_categorical_accuracy: 0.0500\n",
      "Epoch 66/1000\n",
      "20/20 [==============================] - 0s 17ms/step - loss: 1.3005 - categorical_accuracy: 0.5375 - val_loss: 2.0595 - val_categorical_accuracy: 0.0500\n",
      "Epoch 67/1000\n",
      "20/20 [==============================] - 0s 17ms/step - loss: 1.3653 - categorical_accuracy: 0.5250 - val_loss: 2.3544 - val_categorical_accuracy: 0.1000\n",
      "Epoch 68/1000\n",
      "20/20 [==============================] - 0s 17ms/step - loss: 1.4216 - categorical_accuracy: 0.5125 - val_loss: 2.3392 - val_categorical_accuracy: 0.1000\n",
      "Epoch 69/1000\n",
      "20/20 [==============================] - 0s 18ms/step - loss: 1.3836 - categorical_accuracy: 0.5250 - val_loss: 2.1411 - val_categorical_accuracy: 0.1500\n",
      "Epoch 70/1000\n",
      "20/20 [==============================] - 0s 18ms/step - loss: 1.5183 - categorical_accuracy: 0.5125 - val_loss: 2.2569 - val_categorical_accuracy: 0.1000\n",
      "Epoch 71/1000\n",
      "20/20 [==============================] - 0s 18ms/step - loss: 1.4801 - categorical_accuracy: 0.5625 - val_loss: 2.5297 - val_categorical_accuracy: 0.1500\n",
      "Epoch 72/1000\n",
      "20/20 [==============================] - 0s 17ms/step - loss: 1.5330 - categorical_accuracy: 0.4750 - val_loss: 2.5676 - val_categorical_accuracy: 0.2000\n",
      "Epoch 73/1000\n",
      "20/20 [==============================] - 0s 17ms/step - loss: 1.3938 - categorical_accuracy: 0.5125 - val_loss: 2.2728 - val_categorical_accuracy: 0.2000\n",
      "Epoch 74/1000\n",
      "20/20 [==============================] - 0s 17ms/step - loss: 1.3824 - categorical_accuracy: 0.5125 - val_loss: 2.2113 - val_categorical_accuracy: 0.0500\n",
      "Epoch 75/1000\n",
      "20/20 [==============================] - 0s 17ms/step - loss: 1.4842 - categorical_accuracy: 0.4125 - val_loss: 2.0611 - val_categorical_accuracy: 0.2000\n",
      "Epoch 76/1000\n",
      "20/20 [==============================] - 0s 17ms/step - loss: 1.3363 - categorical_accuracy: 0.4625 - val_loss: 2.3566 - val_categorical_accuracy: 0.0500\n",
      "Epoch 77/1000\n",
      "20/20 [==============================] - 0s 18ms/step - loss: 1.5032 - categorical_accuracy: 0.4375 - val_loss: 2.3647 - val_categorical_accuracy: 0.1500\n",
      "Epoch 78/1000\n",
      "20/20 [==============================] - 0s 18ms/step - loss: 1.4637 - categorical_accuracy: 0.4375 - val_loss: 2.4429 - val_categorical_accuracy: 0.1000\n",
      "Epoch 79/1000\n",
      "20/20 [==============================] - 0s 18ms/step - loss: 1.4878 - categorical_accuracy: 0.4375 - val_loss: 2.2254 - val_categorical_accuracy: 0.1500\n",
      "Epoch 80/1000\n",
      "20/20 [==============================] - 0s 17ms/step - loss: 1.3359 - categorical_accuracy: 0.4750 - val_loss: 2.8957 - val_categorical_accuracy: 0.0500\n",
      "Epoch 81/1000\n",
      "20/20 [==============================] - 0s 19ms/step - loss: 1.3790 - categorical_accuracy: 0.4875 - val_loss: 2.3335 - val_categorical_accuracy: 0.0500\n",
      "Epoch 82/1000\n",
      "20/20 [==============================] - 0s 16ms/step - loss: 1.4036 - categorical_accuracy: 0.5250 - val_loss: 2.4093 - val_categorical_accuracy: 0.2000\n",
      "Epoch 83/1000\n",
      "20/20 [==============================] - 0s 17ms/step - loss: 1.4489 - categorical_accuracy: 0.5250 - val_loss: 2.2492 - val_categorical_accuracy: 0.2000\n",
      "Epoch 84/1000\n",
      "20/20 [==============================] - 0s 19ms/step - loss: 1.4461 - categorical_accuracy: 0.5375 - val_loss: 2.2074 - val_categorical_accuracy: 0.0500\n",
      "Epoch 85/1000\n",
      "20/20 [==============================] - 0s 17ms/step - loss: 1.3630 - categorical_accuracy: 0.5000 - val_loss: 2.4649 - val_categorical_accuracy: 0.2000\n",
      "Epoch 86/1000\n",
      "20/20 [==============================] - 0s 18ms/step - loss: 1.4249 - categorical_accuracy: 0.4750 - val_loss: 2.2547 - val_categorical_accuracy: 0.2500\n",
      "Epoch 87/1000\n",
      "20/20 [==============================] - 0s 18ms/step - loss: 1.4854 - categorical_accuracy: 0.4500 - val_loss: 2.4749 - val_categorical_accuracy: 0.1500\n",
      "Epoch 88/1000\n",
      "20/20 [==============================] - 0s 18ms/step - loss: 1.4310 - categorical_accuracy: 0.5250 - val_loss: 2.3379 - val_categorical_accuracy: 0.1500\n",
      "Epoch 89/1000\n",
      "20/20 [==============================] - 0s 17ms/step - loss: 1.3852 - categorical_accuracy: 0.5625 - val_loss: 2.4607 - val_categorical_accuracy: 0.1000\n",
      "Epoch 90/1000\n",
      "20/20 [==============================] - 0s 17ms/step - loss: 1.4133 - categorical_accuracy: 0.4625 - val_loss: 2.6228 - val_categorical_accuracy: 0.0500\n",
      "Epoch 91/1000\n",
      "20/20 [==============================] - 0s 18ms/step - loss: 1.3396 - categorical_accuracy: 0.5375 - val_loss: 2.5806 - val_categorical_accuracy: 0.2000\n",
      "Epoch 92/1000\n",
      "20/20 [==============================] - 0s 18ms/step - loss: 1.3921 - categorical_accuracy: 0.5125 - val_loss: 2.5434 - val_categorical_accuracy: 0.1000\n",
      "Epoch 93/1000\n",
      "20/20 [==============================] - 0s 16ms/step - loss: 1.3889 - categorical_accuracy: 0.5000 - val_loss: 2.4133 - val_categorical_accuracy: 0.0500\n",
      "Epoch 94/1000\n",
      "20/20 [==============================] - 0s 17ms/step - loss: 1.2629 - categorical_accuracy: 0.5625 - val_loss: 2.6389 - val_categorical_accuracy: 0.0500\n",
      "Epoch 95/1000\n",
      "20/20 [==============================] - 0s 17ms/step - loss: 1.4357 - categorical_accuracy: 0.4750 - val_loss: 2.6641 - val_categorical_accuracy: 0.0500\n",
      "Epoch 96/1000\n",
      "20/20 [==============================] - 0s 16ms/step - loss: 1.4735 - categorical_accuracy: 0.4625 - val_loss: 2.7030 - val_categorical_accuracy: 0.1000\n",
      "Epoch 97/1000\n",
      "20/20 [==============================] - 0s 17ms/step - loss: 1.3019 - categorical_accuracy: 0.5875 - val_loss: 2.3871 - val_categorical_accuracy: 0.1500\n",
      "Epoch 98/1000\n",
      "20/20 [==============================] - 0s 16ms/step - loss: 1.4428 - categorical_accuracy: 0.4500 - val_loss: 2.2405 - val_categorical_accuracy: 0.1000\n",
      "Epoch 99/1000\n",
      "20/20 [==============================] - 0s 16ms/step - loss: 1.3659 - categorical_accuracy: 0.4750 - val_loss: 2.2616 - val_categorical_accuracy: 0.0500\n",
      "Epoch 100/1000\n",
      "20/20 [==============================] - 0s 17ms/step - loss: 1.3025 - categorical_accuracy: 0.5625 - val_loss: 2.3584 - val_categorical_accuracy: 0.2000\n",
      "Epoch 101/1000\n",
      "20/20 [==============================] - 0s 18ms/step - loss: 1.4312 - categorical_accuracy: 0.5625 - val_loss: 2.3845 - val_categorical_accuracy: 0.2000\n",
      "Epoch 102/1000\n",
      "20/20 [==============================] - 0s 18ms/step - loss: 1.3985 - categorical_accuracy: 0.5500 - val_loss: 2.4844 - val_categorical_accuracy: 0.1000\n",
      "Epoch 103/1000\n",
      "20/20 [==============================] - 0s 16ms/step - loss: 1.4125 - categorical_accuracy: 0.5125 - val_loss: 2.5504 - val_categorical_accuracy: 0.1000\n",
      "Epoch 104/1000\n",
      "20/20 [==============================] - 0s 16ms/step - loss: 1.4095 - categorical_accuracy: 0.4750 - val_loss: 2.4444 - val_categorical_accuracy: 0.1000\n",
      "Epoch 105/1000\n",
      "20/20 [==============================] - 0s 18ms/step - loss: 1.4013 - categorical_accuracy: 0.4750 - val_loss: 2.5579 - val_categorical_accuracy: 0.2000\n",
      "Epoch 106/1000\n",
      "20/20 [==============================] - 0s 18ms/step - loss: 1.2569 - categorical_accuracy: 0.5375 - val_loss: 2.5764 - val_categorical_accuracy: 0.2000\n",
      "Epoch 107/1000\n",
      "20/20 [==============================] - 0s 18ms/step - loss: 1.4502 - categorical_accuracy: 0.4625 - val_loss: 2.5147 - val_categorical_accuracy: 0.1500\n",
      "Epoch 108/1000\n",
      "20/20 [==============================] - 0s 18ms/step - loss: 1.2699 - categorical_accuracy: 0.5500 - val_loss: 2.1270 - val_categorical_accuracy: 0.1500\n",
      "Epoch 109/1000\n",
      "20/20 [==============================] - 0s 17ms/step - loss: 1.4769 - categorical_accuracy: 0.4375 - val_loss: 2.2569 - val_categorical_accuracy: 0.1000\n",
      "Epoch 110/1000\n",
      "20/20 [==============================] - 0s 16ms/step - loss: 1.3371 - categorical_accuracy: 0.5875 - val_loss: 2.1343 - val_categorical_accuracy: 0.1000\n",
      "Epoch 111/1000\n",
      "20/20 [==============================] - 0s 17ms/step - loss: 1.4054 - categorical_accuracy: 0.5125 - val_loss: 2.2314 - val_categorical_accuracy: 0.2000\n",
      "Epoch 112/1000\n",
      "20/20 [==============================] - 0s 17ms/step - loss: 1.4400 - categorical_accuracy: 0.4500 - val_loss: 1.9640 - val_categorical_accuracy: 0.2000\n",
      "Epoch 113/1000\n",
      "20/20 [==============================] - 0s 17ms/step - loss: 1.3637 - categorical_accuracy: 0.5375 - val_loss: 1.8775 - val_categorical_accuracy: 0.3500\n",
      "Epoch 114/1000\n",
      "20/20 [==============================] - 0s 16ms/step - loss: 1.5750 - categorical_accuracy: 0.4500 - val_loss: 2.3711 - val_categorical_accuracy: 0.0500\n",
      "Epoch 115/1000\n",
      "20/20 [==============================] - 0s 17ms/step - loss: 1.3212 - categorical_accuracy: 0.5125 - val_loss: 2.3377 - val_categorical_accuracy: 0.0500\n",
      "Epoch 116/1000\n",
      "20/20 [==============================] - 0s 17ms/step - loss: 1.2830 - categorical_accuracy: 0.5500 - val_loss: 2.2361 - val_categorical_accuracy: 0.3500\n",
      "Epoch 117/1000\n",
      "20/20 [==============================] - 0s 16ms/step - loss: 1.3823 - categorical_accuracy: 0.5625 - val_loss: 2.3195 - val_categorical_accuracy: 0.2000\n",
      "Epoch 118/1000\n",
      "20/20 [==============================] - 0s 16ms/step - loss: 1.3207 - categorical_accuracy: 0.5875 - val_loss: 1.9678 - val_categorical_accuracy: 0.3000\n",
      "Epoch 119/1000\n",
      "20/20 [==============================] - 0s 17ms/step - loss: 1.3897 - categorical_accuracy: 0.4875 - val_loss: 2.3423 - val_categorical_accuracy: 0.2500\n",
      "Epoch 120/1000\n",
      "20/20 [==============================] - 0s 18ms/step - loss: 1.3606 - categorical_accuracy: 0.5250 - val_loss: 2.5160 - val_categorical_accuracy: 0.1500\n",
      "Epoch 121/1000\n",
      "20/20 [==============================] - 0s 17ms/step - loss: 1.4403 - categorical_accuracy: 0.4625 - val_loss: 2.5722 - val_categorical_accuracy: 0.1000\n",
      "Epoch 122/1000\n",
      "20/20 [==============================] - 0s 17ms/step - loss: 1.2905 - categorical_accuracy: 0.5625 - val_loss: 2.5782 - val_categorical_accuracy: 0.1000\n",
      "Epoch 123/1000\n",
      "20/20 [==============================] - 0s 16ms/step - loss: 1.4145 - categorical_accuracy: 0.5000 - val_loss: 2.2910 - val_categorical_accuracy: 0.1500\n",
      "Epoch 124/1000\n",
      "20/20 [==============================] - 0s 17ms/step - loss: 1.3388 - categorical_accuracy: 0.5625 - val_loss: 2.5620 - val_categorical_accuracy: 0.1000\n",
      "Epoch 125/1000\n",
      "20/20 [==============================] - 0s 18ms/step - loss: 1.4802 - categorical_accuracy: 0.4625 - val_loss: 2.1089 - val_categorical_accuracy: 0.1500\n",
      "Epoch 126/1000\n",
      "20/20 [==============================] - 0s 17ms/step - loss: 1.1595 - categorical_accuracy: 0.5750 - val_loss: 2.0470 - val_categorical_accuracy: 0.1000\n",
      "Epoch 127/1000\n",
      "20/20 [==============================] - 0s 17ms/step - loss: 1.3121 - categorical_accuracy: 0.5375 - val_loss: 2.1349 - val_categorical_accuracy: 0.2500\n",
      "Epoch 128/1000\n",
      "20/20 [==============================] - 0s 16ms/step - loss: 1.2981 - categorical_accuracy: 0.5875 - val_loss: 1.7496 - val_categorical_accuracy: 0.2000\n",
      "Epoch 129/1000\n",
      "20/20 [==============================] - 0s 17ms/step - loss: 1.4380 - categorical_accuracy: 0.4750 - val_loss: 2.3220 - val_categorical_accuracy: 0.1500\n",
      "Epoch 130/1000\n",
      "20/20 [==============================] - 0s 17ms/step - loss: 1.4262 - categorical_accuracy: 0.5125 - val_loss: 2.2664 - val_categorical_accuracy: 0.1500\n",
      "Epoch 131/1000\n",
      "20/20 [==============================] - 0s 15ms/step - loss: 1.3336 - categorical_accuracy: 0.5875 - val_loss: 1.8643 - val_categorical_accuracy: 0.1500\n",
      "Epoch 132/1000\n",
      "20/20 [==============================] - 0s 14ms/step - loss: 1.3368 - categorical_accuracy: 0.5625 - val_loss: 2.4847 - val_categorical_accuracy: 0.1000\n",
      "Epoch 133/1000\n",
      "20/20 [==============================] - 0s 16ms/step - loss: 1.3905 - categorical_accuracy: 0.4875 - val_loss: 2.2154 - val_categorical_accuracy: 0.2000\n",
      "Epoch 134/1000\n",
      "20/20 [==============================] - 0s 16ms/step - loss: 1.4227 - categorical_accuracy: 0.5250 - val_loss: 2.4606 - val_categorical_accuracy: 0.1500\n",
      "Epoch 135/1000\n",
      "20/20 [==============================] - 0s 16ms/step - loss: 1.2428 - categorical_accuracy: 0.5875 - val_loss: 2.3305 - val_categorical_accuracy: 0.0500\n",
      "Epoch 136/1000\n",
      "20/20 [==============================] - 0s 17ms/step - loss: 1.3901 - categorical_accuracy: 0.4750 - val_loss: 2.2485 - val_categorical_accuracy: 0.1000\n",
      "Epoch 137/1000\n",
      "20/20 [==============================] - 0s 16ms/step - loss: 1.4755 - categorical_accuracy: 0.5125 - val_loss: 2.0954 - val_categorical_accuracy: 0.1500\n",
      "Epoch 138/1000\n",
      "20/20 [==============================] - 0s 18ms/step - loss: 1.3317 - categorical_accuracy: 0.5500 - val_loss: 2.3217 - val_categorical_accuracy: 0.1500\n",
      "Epoch 139/1000\n",
      "20/20 [==============================] - 0s 17ms/step - loss: 1.3920 - categorical_accuracy: 0.4625 - val_loss: 2.2492 - val_categorical_accuracy: 0.2000\n",
      "Epoch 140/1000\n",
      "20/20 [==============================] - 0s 16ms/step - loss: 1.4382 - categorical_accuracy: 0.5375 - val_loss: 2.3151 - val_categorical_accuracy: 0.2000\n",
      "Epoch 141/1000\n",
      "20/20 [==============================] - 0s 15ms/step - loss: 1.4452 - categorical_accuracy: 0.4875 - val_loss: 2.5362 - val_categorical_accuracy: 0.0500\n",
      "Epoch 142/1000\n",
      "20/20 [==============================] - 0s 15ms/step - loss: 1.3445 - categorical_accuracy: 0.5250 - val_loss: 2.5063 - val_categorical_accuracy: 0.2000\n",
      "Epoch 143/1000\n",
      "20/20 [==============================] - 0s 16ms/step - loss: 1.3367 - categorical_accuracy: 0.5375 - val_loss: 2.4531 - val_categorical_accuracy: 0.1500\n",
      "Epoch 144/1000\n",
      "20/20 [==============================] - 0s 20ms/step - loss: 1.3618 - categorical_accuracy: 0.5625 - val_loss: 2.6449 - val_categorical_accuracy: 0.1000\n",
      "Epoch 145/1000\n",
      "20/20 [==============================] - 0s 17ms/step - loss: 1.3797 - categorical_accuracy: 0.5125 - val_loss: 2.4214 - val_categorical_accuracy: 0.1500\n",
      "Epoch 146/1000\n",
      "20/20 [==============================] - 0s 15ms/step - loss: 1.3932 - categorical_accuracy: 0.4625 - val_loss: 2.6529 - val_categorical_accuracy: 0.0500\n",
      "Epoch 147/1000\n",
      "20/20 [==============================] - 0s 15ms/step - loss: 1.3241 - categorical_accuracy: 0.4750 - val_loss: 2.1421 - val_categorical_accuracy: 0.1500\n",
      "Epoch 148/1000\n",
      "20/20 [==============================] - 0s 15ms/step - loss: 1.3227 - categorical_accuracy: 0.4875 - val_loss: 2.0779 - val_categorical_accuracy: 0.1500\n",
      "Epoch 149/1000\n",
      "20/20 [==============================] - 0s 15ms/step - loss: 1.3822 - categorical_accuracy: 0.4875 - val_loss: 2.3736 - val_categorical_accuracy: 0.1000\n",
      "Epoch 150/1000\n",
      "20/20 [==============================] - 0s 15ms/step - loss: 1.2715 - categorical_accuracy: 0.6125 - val_loss: 2.1935 - val_categorical_accuracy: 0.2500\n",
      "Epoch 151/1000\n",
      "20/20 [==============================] - 0s 15ms/step - loss: 1.3455 - categorical_accuracy: 0.5250 - val_loss: 2.2967 - val_categorical_accuracy: 0.0500\n",
      "Epoch 152/1000\n",
      "20/20 [==============================] - 0s 15ms/step - loss: 1.4762 - categorical_accuracy: 0.4750 - val_loss: 1.9781 - val_categorical_accuracy: 0.2500\n",
      "Epoch 153/1000\n",
      "20/20 [==============================] - 0s 15ms/step - loss: 1.2369 - categorical_accuracy: 0.5875 - val_loss: 2.3826 - val_categorical_accuracy: 0.0500\n",
      "Epoch 154/1000\n",
      "20/20 [==============================] - 0s 16ms/step - loss: 1.2355 - categorical_accuracy: 0.6000 - val_loss: 2.4143 - val_categorical_accuracy: 0.1500\n",
      "Epoch 155/1000\n",
      "20/20 [==============================] - 0s 14ms/step - loss: 1.3651 - categorical_accuracy: 0.5750 - val_loss: 2.5040 - val_categorical_accuracy: 0.1500\n",
      "Epoch 156/1000\n",
      "20/20 [==============================] - 0s 19ms/step - loss: 1.3108 - categorical_accuracy: 0.5750 - val_loss: 1.8693 - val_categorical_accuracy: 0.2000\n",
      "Epoch 157/1000\n",
      "20/20 [==============================] - 0s 16ms/step - loss: 1.2682 - categorical_accuracy: 0.5750 - val_loss: 2.3158 - val_categorical_accuracy: 0.2000\n",
      "Epoch 158/1000\n",
      "20/20 [==============================] - 0s 17ms/step - loss: 1.2608 - categorical_accuracy: 0.5875 - val_loss: 2.5526 - val_categorical_accuracy: 0.1500\n",
      "Epoch 159/1000\n",
      "20/20 [==============================] - 0s 16ms/step - loss: 1.3608 - categorical_accuracy: 0.5625 - val_loss: 1.9865 - val_categorical_accuracy: 0.1000\n",
      "Epoch 160/1000\n",
      "20/20 [==============================] - 0s 16ms/step - loss: 1.3853 - categorical_accuracy: 0.5625 - val_loss: 2.2114 - val_categorical_accuracy: 0.1500\n",
      "Epoch 161/1000\n",
      "20/20 [==============================] - 0s 17ms/step - loss: 1.3188 - categorical_accuracy: 0.6125 - val_loss: 2.1038 - val_categorical_accuracy: 0.2000\n",
      "Epoch 162/1000\n",
      "20/20 [==============================] - 0s 15ms/step - loss: 1.4185 - categorical_accuracy: 0.4750 - val_loss: 2.5222 - val_categorical_accuracy: 0.1500\n",
      "Epoch 163/1000\n",
      "20/20 [==============================] - 0s 16ms/step - loss: 1.2037 - categorical_accuracy: 0.5625 - val_loss: 2.9079 - val_categorical_accuracy: 0.1000\n",
      "Epoch 164/1000\n",
      "20/20 [==============================] - 0s 16ms/step - loss: 1.2137 - categorical_accuracy: 0.5625 - val_loss: 2.1717 - val_categorical_accuracy: 0.2000\n",
      "Epoch 165/1000\n",
      "20/20 [==============================] - 0s 16ms/step - loss: 1.3687 - categorical_accuracy: 0.5000 - val_loss: 2.4492 - val_categorical_accuracy: 0.2500\n",
      "Epoch 166/1000\n",
      "20/20 [==============================] - 0s 15ms/step - loss: 1.2759 - categorical_accuracy: 0.6000 - val_loss: 2.3387 - val_categorical_accuracy: 0.1500\n",
      "Epoch 167/1000\n",
      "20/20 [==============================] - 0s 15ms/step - loss: 1.4640 - categorical_accuracy: 0.4625 - val_loss: 2.2808 - val_categorical_accuracy: 0.2500\n",
      "Epoch 168/1000\n",
      "20/20 [==============================] - 0s 15ms/step - loss: 1.2291 - categorical_accuracy: 0.6000 - val_loss: 2.2904 - val_categorical_accuracy: 0.1000\n",
      "Epoch 169/1000\n",
      "20/20 [==============================] - 0s 15ms/step - loss: 1.2686 - categorical_accuracy: 0.5625 - val_loss: 2.0790 - val_categorical_accuracy: 0.2500\n",
      "Epoch 170/1000\n",
      "20/20 [==============================] - 0s 15ms/step - loss: 1.2426 - categorical_accuracy: 0.6000 - val_loss: 1.8254 - val_categorical_accuracy: 0.1500\n",
      "Epoch 171/1000\n",
      "20/20 [==============================] - 0s 14ms/step - loss: 1.3922 - categorical_accuracy: 0.5250 - val_loss: 2.3136 - val_categorical_accuracy: 0.1500\n",
      "Epoch 172/1000\n",
      "20/20 [==============================] - 0s 15ms/step - loss: 1.2750 - categorical_accuracy: 0.5000 - val_loss: 2.3390 - val_categorical_accuracy: 0.2000\n",
      "Epoch 173/1000\n",
      "20/20 [==============================] - 0s 15ms/step - loss: 1.2813 - categorical_accuracy: 0.5500 - val_loss: 2.2981 - val_categorical_accuracy: 0.2000\n",
      "Epoch 174/1000\n",
      "20/20 [==============================] - 0s 16ms/step - loss: 1.3710 - categorical_accuracy: 0.5375 - val_loss: 2.5802 - val_categorical_accuracy: 0.2500\n",
      "Epoch 175/1000\n",
      "20/20 [==============================] - 0s 17ms/step - loss: 1.2594 - categorical_accuracy: 0.5625 - val_loss: 2.5649 - val_categorical_accuracy: 0.3000\n",
      "Epoch 176/1000\n",
      "20/20 [==============================] - 0s 18ms/step - loss: 1.3848 - categorical_accuracy: 0.5125 - val_loss: 2.2618 - val_categorical_accuracy: 0.1500\n",
      "Epoch 177/1000\n",
      "20/20 [==============================] - 0s 15ms/step - loss: 1.2000 - categorical_accuracy: 0.5375 - val_loss: 2.5693 - val_categorical_accuracy: 0.1500\n",
      "Epoch 178/1000\n",
      "20/20 [==============================] - 0s 15ms/step - loss: 1.2198 - categorical_accuracy: 0.6000 - val_loss: 2.4336 - val_categorical_accuracy: 0.1000\n",
      "Epoch 179/1000\n",
      "20/20 [==============================] - 0s 18ms/step - loss: 1.1716 - categorical_accuracy: 0.6625 - val_loss: 2.9996 - val_categorical_accuracy: 0.1500\n",
      "Epoch 180/1000\n",
      "20/20 [==============================] - 0s 17ms/step - loss: 1.2529 - categorical_accuracy: 0.6125 - val_loss: 2.3470 - val_categorical_accuracy: 0.1000\n",
      "Epoch 181/1000\n",
      "20/20 [==============================] - 0s 16ms/step - loss: 1.2700 - categorical_accuracy: 0.6000 - val_loss: 2.2945 - val_categorical_accuracy: 0.1500\n",
      "Epoch 182/1000\n",
      "20/20 [==============================] - 0s 17ms/step - loss: 1.4428 - categorical_accuracy: 0.4750 - val_loss: 2.2904 - val_categorical_accuracy: 0.2000\n",
      "Epoch 183/1000\n",
      "20/20 [==============================] - 0s 17ms/step - loss: 1.3575 - categorical_accuracy: 0.5625 - val_loss: 2.3356 - val_categorical_accuracy: 0.1000\n",
      "Epoch 184/1000\n",
      "20/20 [==============================] - 0s 16ms/step - loss: 1.3366 - categorical_accuracy: 0.4875 - val_loss: 2.5730 - val_categorical_accuracy: 0.1000\n",
      "Epoch 185/1000\n",
      "20/20 [==============================] - 0s 17ms/step - loss: 1.3060 - categorical_accuracy: 0.5500 - val_loss: 2.6010 - val_categorical_accuracy: 0.0500\n",
      "Epoch 186/1000\n",
      "20/20 [==============================] - 0s 17ms/step - loss: 1.3304 - categorical_accuracy: 0.5125 - val_loss: 2.4844 - val_categorical_accuracy: 0.1000\n",
      "Epoch 187/1000\n",
      "20/20 [==============================] - 0s 18ms/step - loss: 1.3277 - categorical_accuracy: 0.5625 - val_loss: 2.3359 - val_categorical_accuracy: 0.1500\n",
      "Epoch 188/1000\n",
      "20/20 [==============================] - 0s 16ms/step - loss: 1.2699 - categorical_accuracy: 0.5625 - val_loss: 2.0381 - val_categorical_accuracy: 0.1500\n",
      "Epoch 189/1000\n",
      "20/20 [==============================] - 0s 17ms/step - loss: 1.2572 - categorical_accuracy: 0.5625 - val_loss: 2.1131 - val_categorical_accuracy: 0.2000\n",
      "Epoch 190/1000\n",
      "20/20 [==============================] - 0s 16ms/step - loss: 1.3400 - categorical_accuracy: 0.5625 - val_loss: 2.4624 - val_categorical_accuracy: 0.3000\n",
      "Epoch 191/1000\n",
      "20/20 [==============================] - 0s 16ms/step - loss: 1.3069 - categorical_accuracy: 0.5250 - val_loss: 2.3822 - val_categorical_accuracy: 0.0500\n",
      "Epoch 192/1000\n",
      "20/20 [==============================] - 0s 16ms/step - loss: 1.3431 - categorical_accuracy: 0.5250 - val_loss: 2.4382 - val_categorical_accuracy: 0.1500\n",
      "Epoch 193/1000\n",
      "20/20 [==============================] - 0s 17ms/step - loss: 1.2626 - categorical_accuracy: 0.6000 - val_loss: 2.4444 - val_categorical_accuracy: 0.1000\n",
      "Epoch 194/1000\n",
      "20/20 [==============================] - 0s 16ms/step - loss: 1.2849 - categorical_accuracy: 0.5500 - val_loss: 2.3548 - val_categorical_accuracy: 0.0500\n",
      "Epoch 195/1000\n",
      "20/20 [==============================] - 0s 17ms/step - loss: 1.4156 - categorical_accuracy: 0.5125 - val_loss: 2.1159 - val_categorical_accuracy: 0.2500\n",
      "Epoch 196/1000\n",
      "20/20 [==============================] - 0s 17ms/step - loss: 1.3364 - categorical_accuracy: 0.6250 - val_loss: 2.5102 - val_categorical_accuracy: 0.2000\n",
      "Epoch 197/1000\n",
      "20/20 [==============================] - 0s 18ms/step - loss: 1.1812 - categorical_accuracy: 0.6250 - val_loss: 2.2309 - val_categorical_accuracy: 0.2000\n",
      "Epoch 198/1000\n",
      "20/20 [==============================] - 0s 16ms/step - loss: 1.3864 - categorical_accuracy: 0.5750 - val_loss: 2.0226 - val_categorical_accuracy: 0.3000\n",
      "Epoch 199/1000\n",
      "20/20 [==============================] - 0s 17ms/step - loss: 1.2959 - categorical_accuracy: 0.5750 - val_loss: 2.6674 - val_categorical_accuracy: 0.1500\n",
      "Epoch 200/1000\n",
      "20/20 [==============================] - 0s 18ms/step - loss: 1.2799 - categorical_accuracy: 0.5375 - val_loss: 2.7121 - val_categorical_accuracy: 0.1000\n",
      "Epoch 201/1000\n",
      "20/20 [==============================] - 0s 16ms/step - loss: 1.3822 - categorical_accuracy: 0.5125 - val_loss: 2.2429 - val_categorical_accuracy: 0.0000e+00\n",
      "Epoch 202/1000\n",
      "20/20 [==============================] - 0s 16ms/step - loss: 1.3028 - categorical_accuracy: 0.5000 - val_loss: 2.2525 - val_categorical_accuracy: 0.1000\n",
      "Epoch 203/1000\n",
      "20/20 [==============================] - 0s 17ms/step - loss: 1.3675 - categorical_accuracy: 0.5125 - val_loss: 2.6869 - val_categorical_accuracy: 0.1000\n",
      "Epoch 204/1000\n",
      "20/20 [==============================] - 0s 17ms/step - loss: 1.2038 - categorical_accuracy: 0.5750 - val_loss: 2.3530 - val_categorical_accuracy: 0.1000\n",
      "Epoch 205/1000\n",
      "20/20 [==============================] - 0s 16ms/step - loss: 1.4527 - categorical_accuracy: 0.4750 - val_loss: 2.4240 - val_categorical_accuracy: 0.1500\n",
      "Epoch 206/1000\n",
      "20/20 [==============================] - 0s 17ms/step - loss: 1.2232 - categorical_accuracy: 0.6500 - val_loss: 2.1887 - val_categorical_accuracy: 0.1000\n",
      "Epoch 207/1000\n",
      "20/20 [==============================] - 0s 16ms/step - loss: 1.4048 - categorical_accuracy: 0.4750 - val_loss: 2.1064 - val_categorical_accuracy: 0.3000\n",
      "Epoch 208/1000\n",
      "20/20 [==============================] - 0s 17ms/step - loss: 1.3126 - categorical_accuracy: 0.5125 - val_loss: 2.1731 - val_categorical_accuracy: 0.1500\n",
      "Epoch 209/1000\n",
      "20/20 [==============================] - 0s 16ms/step - loss: 1.2740 - categorical_accuracy: 0.6125 - val_loss: 2.1609 - val_categorical_accuracy: 0.0500\n",
      "Epoch 210/1000\n",
      "20/20 [==============================] - 0s 17ms/step - loss: 1.3427 - categorical_accuracy: 0.5375 - val_loss: 2.2020 - val_categorical_accuracy: 0.1500\n",
      "Epoch 211/1000\n",
      "20/20 [==============================] - 0s 17ms/step - loss: 1.3573 - categorical_accuracy: 0.4875 - val_loss: 2.1224 - val_categorical_accuracy: 0.1500\n",
      "Epoch 212/1000\n",
      "20/20 [==============================] - 0s 18ms/step - loss: 1.2628 - categorical_accuracy: 0.5750 - val_loss: 2.3256 - val_categorical_accuracy: 0.1500\n",
      "Epoch 213/1000\n",
      "20/20 [==============================] - 0s 16ms/step - loss: 1.2803 - categorical_accuracy: 0.5500 - val_loss: 2.0490 - val_categorical_accuracy: 0.1500\n",
      "Epoch 214/1000\n",
      "20/20 [==============================] - 0s 16ms/step - loss: 1.2788 - categorical_accuracy: 0.5375 - val_loss: 2.0996 - val_categorical_accuracy: 0.2500\n",
      "Epoch 215/1000\n",
      "20/20 [==============================] - 0s 16ms/step - loss: 1.3976 - categorical_accuracy: 0.4875 - val_loss: 2.4167 - val_categorical_accuracy: 0.1000\n",
      "Epoch 216/1000\n",
      "20/20 [==============================] - 0s 16ms/step - loss: 1.3560 - categorical_accuracy: 0.5000 - val_loss: 2.2800 - val_categorical_accuracy: 0.2500\n",
      "Epoch 217/1000\n",
      "20/20 [==============================] - 0s 16ms/step - loss: 1.2307 - categorical_accuracy: 0.5625 - val_loss: 2.4425 - val_categorical_accuracy: 0.1500\n",
      "Epoch 218/1000\n",
      "20/20 [==============================] - 0s 18ms/step - loss: 1.0571 - categorical_accuracy: 0.6625 - val_loss: 2.2395 - val_categorical_accuracy: 0.1500\n",
      "Epoch 219/1000\n",
      "20/20 [==============================] - 0s 17ms/step - loss: 1.3725 - categorical_accuracy: 0.5125 - val_loss: 2.3412 - val_categorical_accuracy: 0.2500\n",
      "Epoch 220/1000\n",
      "20/20 [==============================] - 0s 17ms/step - loss: 1.2753 - categorical_accuracy: 0.5000 - val_loss: 2.2598 - val_categorical_accuracy: 0.1000\n",
      "Epoch 221/1000\n",
      "20/20 [==============================] - 0s 15ms/step - loss: 1.3304 - categorical_accuracy: 0.4750 - val_loss: 2.1887 - val_categorical_accuracy: 0.1500\n",
      "Epoch 222/1000\n",
      "20/20 [==============================] - 0s 15ms/step - loss: 1.3938 - categorical_accuracy: 0.5625 - val_loss: 2.1157 - val_categorical_accuracy: 0.2000\n",
      "Epoch 223/1000\n",
      "16/20 [=======================>......] - ETA: 0s - loss: 1.3471 - categorical_accuracy: 0.5156INFO:tensorflow:Unsupported signature for serialization: ((TensorSpec(shape=(150528, 256), dtype=tf.float32, name='gradient'), <tensorflow.python.framework.func_graph.UnknownArgument object at 0x7fe258581790>, 140610031114224), {}).\n"
     ]
    },
    {
     "name": "stderr",
     "output_type": "stream",
     "text": [
      "INFO:tensorflow:Unsupported signature for serialization: ((TensorSpec(shape=(150528, 256), dtype=tf.float32, name='gradient'), <tensorflow.python.framework.func_graph.UnknownArgument object at 0x7fe258581790>, 140610031114224), {}).\n"
     ]
    },
    {
     "name": "stdout",
     "output_type": "stream",
     "text": [
      "INFO:tensorflow:Unsupported signature for serialization: ((TensorSpec(shape=(256,), dtype=tf.float32, name='gradient'), <tensorflow.python.framework.func_graph.UnknownArgument object at 0x7fe26c588790>, 140610031311072), {}).\n"
     ]
    },
    {
     "name": "stderr",
     "output_type": "stream",
     "text": [
      "INFO:tensorflow:Unsupported signature for serialization: ((TensorSpec(shape=(256,), dtype=tf.float32, name='gradient'), <tensorflow.python.framework.func_graph.UnknownArgument object at 0x7fe26c588790>, 140610031311072), {}).\n"
     ]
    },
    {
     "name": "stdout",
     "output_type": "stream",
     "text": [
      "INFO:tensorflow:Unsupported signature for serialization: ((TensorSpec(shape=(256,), dtype=tf.float32, name='gradient'), <tensorflow.python.framework.func_graph.UnknownArgument object at 0x7fe26c368ad0>, 140610035535184), {}).\n"
     ]
    },
    {
     "name": "stderr",
     "output_type": "stream",
     "text": [
      "INFO:tensorflow:Unsupported signature for serialization: ((TensorSpec(shape=(256,), dtype=tf.float32, name='gradient'), <tensorflow.python.framework.func_graph.UnknownArgument object at 0x7fe26c368ad0>, 140610035535184), {}).\n"
     ]
    },
    {
     "name": "stdout",
     "output_type": "stream",
     "text": [
      "INFO:tensorflow:Unsupported signature for serialization: ((TensorSpec(shape=(256,), dtype=tf.float32, name='gradient'), <tensorflow.python.framework.func_graph.UnknownArgument object at 0x7fe23c6c4390>, 140610035539696), {}).\n"
     ]
    },
    {
     "name": "stderr",
     "output_type": "stream",
     "text": [
      "INFO:tensorflow:Unsupported signature for serialization: ((TensorSpec(shape=(256,), dtype=tf.float32, name='gradient'), <tensorflow.python.framework.func_graph.UnknownArgument object at 0x7fe23c6c4390>, 140610035539696), {}).\n"
     ]
    },
    {
     "name": "stdout",
     "output_type": "stream",
     "text": [
      "INFO:tensorflow:Unsupported signature for serialization: ((TensorSpec(shape=(256, 7), dtype=tf.float32, name='gradient'), <tensorflow.python.framework.func_graph.UnknownArgument object at 0x7fe23c6e7450>, 140610031314672), {}).\n"
     ]
    },
    {
     "name": "stderr",
     "output_type": "stream",
     "text": [
      "INFO:tensorflow:Unsupported signature for serialization: ((TensorSpec(shape=(256, 7), dtype=tf.float32, name='gradient'), <tensorflow.python.framework.func_graph.UnknownArgument object at 0x7fe23c6e7450>, 140610031314672), {}).\n"
     ]
    },
    {
     "name": "stdout",
     "output_type": "stream",
     "text": [
      "INFO:tensorflow:Unsupported signature for serialization: ((TensorSpec(shape=(7,), dtype=tf.float32, name='gradient'), <tensorflow.python.framework.func_graph.UnknownArgument object at 0x7fe23c6b7ad0>, 140610030804768), {}).\n"
     ]
    },
    {
     "name": "stderr",
     "output_type": "stream",
     "text": [
      "INFO:tensorflow:Unsupported signature for serialization: ((TensorSpec(shape=(7,), dtype=tf.float32, name='gradient'), <tensorflow.python.framework.func_graph.UnknownArgument object at 0x7fe23c6b7ad0>, 140610030804768), {}).\n"
     ]
    },
    {
     "name": "stdout",
     "output_type": "stream",
     "text": [
      "INFO:tensorflow:Unsupported signature for serialization: ((TensorSpec(shape=(150528, 256), dtype=tf.float32, name='gradient'), <tensorflow.python.framework.func_graph.UnknownArgument object at 0x7fe258581790>, 140610031114224), {}).\n"
     ]
    },
    {
     "name": "stderr",
     "output_type": "stream",
     "text": [
      "INFO:tensorflow:Unsupported signature for serialization: ((TensorSpec(shape=(150528, 256), dtype=tf.float32, name='gradient'), <tensorflow.python.framework.func_graph.UnknownArgument object at 0x7fe258581790>, 140610031114224), {}).\n"
     ]
    },
    {
     "name": "stdout",
     "output_type": "stream",
     "text": [
      "INFO:tensorflow:Unsupported signature for serialization: ((TensorSpec(shape=(256,), dtype=tf.float32, name='gradient'), <tensorflow.python.framework.func_graph.UnknownArgument object at 0x7fe26c588790>, 140610031311072), {}).\n"
     ]
    },
    {
     "name": "stderr",
     "output_type": "stream",
     "text": [
      "INFO:tensorflow:Unsupported signature for serialization: ((TensorSpec(shape=(256,), dtype=tf.float32, name='gradient'), <tensorflow.python.framework.func_graph.UnknownArgument object at 0x7fe26c588790>, 140610031311072), {}).\n"
     ]
    },
    {
     "name": "stdout",
     "output_type": "stream",
     "text": [
      "INFO:tensorflow:Unsupported signature for serialization: ((TensorSpec(shape=(256,), dtype=tf.float32, name='gradient'), <tensorflow.python.framework.func_graph.UnknownArgument object at 0x7fe26c368ad0>, 140610035535184), {}).\n"
     ]
    },
    {
     "name": "stderr",
     "output_type": "stream",
     "text": [
      "INFO:tensorflow:Unsupported signature for serialization: ((TensorSpec(shape=(256,), dtype=tf.float32, name='gradient'), <tensorflow.python.framework.func_graph.UnknownArgument object at 0x7fe26c368ad0>, 140610035535184), {}).\n"
     ]
    },
    {
     "name": "stdout",
     "output_type": "stream",
     "text": [
      "INFO:tensorflow:Unsupported signature for serialization: ((TensorSpec(shape=(256,), dtype=tf.float32, name='gradient'), <tensorflow.python.framework.func_graph.UnknownArgument object at 0x7fe23c6c4390>, 140610035539696), {}).\n"
     ]
    },
    {
     "name": "stderr",
     "output_type": "stream",
     "text": [
      "INFO:tensorflow:Unsupported signature for serialization: ((TensorSpec(shape=(256,), dtype=tf.float32, name='gradient'), <tensorflow.python.framework.func_graph.UnknownArgument object at 0x7fe23c6c4390>, 140610035539696), {}).\n"
     ]
    },
    {
     "name": "stdout",
     "output_type": "stream",
     "text": [
      "INFO:tensorflow:Unsupported signature for serialization: ((TensorSpec(shape=(256, 7), dtype=tf.float32, name='gradient'), <tensorflow.python.framework.func_graph.UnknownArgument object at 0x7fe23c6e7450>, 140610031314672), {}).\n"
     ]
    },
    {
     "name": "stderr",
     "output_type": "stream",
     "text": [
      "INFO:tensorflow:Unsupported signature for serialization: ((TensorSpec(shape=(256, 7), dtype=tf.float32, name='gradient'), <tensorflow.python.framework.func_graph.UnknownArgument object at 0x7fe23c6e7450>, 140610031314672), {}).\n"
     ]
    },
    {
     "name": "stdout",
     "output_type": "stream",
     "text": [
      "INFO:tensorflow:Unsupported signature for serialization: ((TensorSpec(shape=(7,), dtype=tf.float32, name='gradient'), <tensorflow.python.framework.func_graph.UnknownArgument object at 0x7fe23c6b7ad0>, 140610030804768), {}).\n"
     ]
    },
    {
     "name": "stderr",
     "output_type": "stream",
     "text": [
      "INFO:tensorflow:Unsupported signature for serialization: ((TensorSpec(shape=(7,), dtype=tf.float32, name='gradient'), <tensorflow.python.framework.func_graph.UnknownArgument object at 0x7fe23c6b7ad0>, 140610030804768), {}).\n"
     ]
    },
    {
     "name": "stdout",
     "output_type": "stream",
     "text": [
      "INFO:tensorflow:Assets written to: models/C2_EfficientNetB0.tf/assets\n"
     ]
    },
    {
     "name": "stderr",
     "output_type": "stream",
     "text": [
      "INFO:tensorflow:Assets written to: models/C2_EfficientNetB0.tf/assets\n"
     ]
    },
    {
     "name": "stdout",
     "output_type": "stream",
     "text": [
      "20/20 [==============================] - 1s 65ms/step - loss: 1.2883 - categorical_accuracy: 0.5500 - val_loss: 1.8682 - val_categorical_accuracy: 0.4000\n",
      "Epoch 224/1000\n",
      "20/20 [==============================] - 0s 17ms/step - loss: 1.3855 - categorical_accuracy: 0.5375 - val_loss: 2.6614 - val_categorical_accuracy: 0.1500\n",
      "Epoch 225/1000\n",
      "20/20 [==============================] - 0s 18ms/step - loss: 1.2329 - categorical_accuracy: 0.6375 - val_loss: 2.2735 - val_categorical_accuracy: 0.2000\n",
      "Epoch 226/1000\n",
      "20/20 [==============================] - 0s 18ms/step - loss: 1.2806 - categorical_accuracy: 0.5750 - val_loss: 2.0813 - val_categorical_accuracy: 0.2500\n",
      "Epoch 227/1000\n",
      "20/20 [==============================] - 0s 18ms/step - loss: 1.3486 - categorical_accuracy: 0.5375 - val_loss: 2.1293 - val_categorical_accuracy: 0.1500\n",
      "Epoch 228/1000\n",
      "20/20 [==============================] - 0s 17ms/step - loss: 1.2421 - categorical_accuracy: 0.6250 - val_loss: 2.1897 - val_categorical_accuracy: 0.1500\n",
      "Epoch 229/1000\n",
      "20/20 [==============================] - 0s 17ms/step - loss: 1.2119 - categorical_accuracy: 0.5125 - val_loss: 2.1759 - val_categorical_accuracy: 0.1000\n",
      "Epoch 230/1000\n",
      "20/20 [==============================] - 0s 17ms/step - loss: 1.2304 - categorical_accuracy: 0.6500 - val_loss: 2.3530 - val_categorical_accuracy: 0.2000\n",
      "Epoch 231/1000\n",
      "20/20 [==============================] - 0s 16ms/step - loss: 1.2413 - categorical_accuracy: 0.5875 - val_loss: 2.6538 - val_categorical_accuracy: 0.2500\n",
      "Epoch 232/1000\n",
      "20/20 [==============================] - 0s 17ms/step - loss: 1.3219 - categorical_accuracy: 0.5000 - val_loss: 2.1240 - val_categorical_accuracy: 0.1000\n",
      "Epoch 233/1000\n",
      "20/20 [==============================] - 0s 16ms/step - loss: 1.3803 - categorical_accuracy: 0.5375 - val_loss: 2.2575 - val_categorical_accuracy: 0.1000\n",
      "Epoch 234/1000\n",
      "20/20 [==============================] - 0s 17ms/step - loss: 1.4275 - categorical_accuracy: 0.5250 - val_loss: 2.1168 - val_categorical_accuracy: 0.2000\n",
      "Epoch 235/1000\n",
      "20/20 [==============================] - 0s 17ms/step - loss: 1.3989 - categorical_accuracy: 0.4500 - val_loss: 2.6029 - val_categorical_accuracy: 0.1000\n",
      "Epoch 236/1000\n",
      "20/20 [==============================] - 0s 18ms/step - loss: 1.2620 - categorical_accuracy: 0.6500 - val_loss: 2.7974 - val_categorical_accuracy: 0.1000\n",
      "Epoch 237/1000\n",
      "20/20 [==============================] - 0s 17ms/step - loss: 1.2583 - categorical_accuracy: 0.6000 - val_loss: 2.6887 - val_categorical_accuracy: 0.1500\n",
      "Epoch 238/1000\n",
      "20/20 [==============================] - 0s 16ms/step - loss: 1.4502 - categorical_accuracy: 0.4625 - val_loss: 2.6149 - val_categorical_accuracy: 0.1500\n",
      "Epoch 239/1000\n",
      "20/20 [==============================] - 0s 18ms/step - loss: 1.2905 - categorical_accuracy: 0.5625 - val_loss: 2.7062 - val_categorical_accuracy: 0.1000\n",
      "Epoch 240/1000\n",
      "20/20 [==============================] - 0s 17ms/step - loss: 1.2666 - categorical_accuracy: 0.5875 - val_loss: 3.0346 - val_categorical_accuracy: 0.0500\n",
      "Epoch 241/1000\n",
      "20/20 [==============================] - 0s 19ms/step - loss: 1.2908 - categorical_accuracy: 0.5375 - val_loss: 2.1001 - val_categorical_accuracy: 0.2500\n",
      "Epoch 242/1000\n",
      "20/20 [==============================] - 0s 17ms/step - loss: 1.2560 - categorical_accuracy: 0.5375 - val_loss: 2.3840 - val_categorical_accuracy: 0.1000\n",
      "Epoch 243/1000\n",
      "20/20 [==============================] - 0s 16ms/step - loss: 1.3390 - categorical_accuracy: 0.5000 - val_loss: 2.2498 - val_categorical_accuracy: 0.1500\n",
      "Epoch 244/1000\n",
      "20/20 [==============================] - 0s 16ms/step - loss: 1.3228 - categorical_accuracy: 0.5125 - val_loss: 2.4598 - val_categorical_accuracy: 0.1500\n",
      "Epoch 245/1000\n",
      "20/20 [==============================] - 0s 15ms/step - loss: 1.2533 - categorical_accuracy: 0.5625 - val_loss: 2.4717 - val_categorical_accuracy: 0.2000\n",
      "Epoch 246/1000\n",
      "20/20 [==============================] - 0s 17ms/step - loss: 1.2701 - categorical_accuracy: 0.5875 - val_loss: 1.9710 - val_categorical_accuracy: 0.2000\n",
      "Epoch 247/1000\n",
      "20/20 [==============================] - 0s 17ms/step - loss: 1.2005 - categorical_accuracy: 0.6000 - val_loss: 2.5636 - val_categorical_accuracy: 0.1000\n",
      "Epoch 248/1000\n",
      "20/20 [==============================] - 0s 15ms/step - loss: 1.3418 - categorical_accuracy: 0.4875 - val_loss: 2.3505 - val_categorical_accuracy: 0.0500\n",
      "Epoch 249/1000\n",
      "20/20 [==============================] - 0s 16ms/step - loss: 1.3165 - categorical_accuracy: 0.5875 - val_loss: 2.3427 - val_categorical_accuracy: 0.1500\n",
      "Epoch 250/1000\n",
      "20/20 [==============================] - 0s 15ms/step - loss: 1.2282 - categorical_accuracy: 0.6125 - val_loss: 2.4469 - val_categorical_accuracy: 0.0000e+00\n",
      "Epoch 251/1000\n",
      "20/20 [==============================] - 0s 15ms/step - loss: 1.4276 - categorical_accuracy: 0.4500 - val_loss: 2.4135 - val_categorical_accuracy: 0.0500\n",
      "Epoch 252/1000\n",
      "20/20 [==============================] - 0s 16ms/step - loss: 1.2569 - categorical_accuracy: 0.5875 - val_loss: 2.7653 - val_categorical_accuracy: 0.1500\n",
      "Epoch 253/1000\n",
      "20/20 [==============================] - 0s 15ms/step - loss: 1.3093 - categorical_accuracy: 0.6125 - val_loss: 2.6510 - val_categorical_accuracy: 0.1500\n",
      "Epoch 254/1000\n",
      "20/20 [==============================] - 0s 16ms/step - loss: 1.1833 - categorical_accuracy: 0.5875 - val_loss: 2.3320 - val_categorical_accuracy: 0.1000\n",
      "Epoch 255/1000\n",
      "20/20 [==============================] - 0s 15ms/step - loss: 1.1885 - categorical_accuracy: 0.6250 - val_loss: 2.4807 - val_categorical_accuracy: 0.1000\n",
      "Epoch 256/1000\n",
      "20/20 [==============================] - 0s 16ms/step - loss: 1.1570 - categorical_accuracy: 0.6125 - val_loss: 2.5194 - val_categorical_accuracy: 0.0500\n",
      "Epoch 257/1000\n",
      "20/20 [==============================] - 0s 14ms/step - loss: 1.1945 - categorical_accuracy: 0.6125 - val_loss: 2.4676 - val_categorical_accuracy: 0.2500\n",
      "Epoch 258/1000\n",
      "20/20 [==============================] - 0s 15ms/step - loss: 1.3055 - categorical_accuracy: 0.4875 - val_loss: 2.5974 - val_categorical_accuracy: 0.2500\n",
      "Epoch 259/1000\n",
      "20/20 [==============================] - 0s 15ms/step - loss: 1.1776 - categorical_accuracy: 0.6250 - val_loss: 2.4229 - val_categorical_accuracy: 0.1000\n",
      "Epoch 260/1000\n",
      "20/20 [==============================] - 0s 15ms/step - loss: 1.3764 - categorical_accuracy: 0.5625 - val_loss: 2.8178 - val_categorical_accuracy: 0.1500\n",
      "Epoch 261/1000\n",
      "20/20 [==============================] - 0s 14ms/step - loss: 1.2557 - categorical_accuracy: 0.5875 - val_loss: 2.4062 - val_categorical_accuracy: 0.1000\n",
      "Epoch 262/1000\n",
      "20/20 [==============================] - 0s 14ms/step - loss: 1.4420 - categorical_accuracy: 0.5125 - val_loss: 2.0633 - val_categorical_accuracy: 0.2500\n",
      "Epoch 263/1000\n",
      "20/20 [==============================] - 0s 16ms/step - loss: 1.3100 - categorical_accuracy: 0.5375 - val_loss: 2.2739 - val_categorical_accuracy: 0.0500\n",
      "Epoch 264/1000\n",
      "20/20 [==============================] - 0s 14ms/step - loss: 1.2450 - categorical_accuracy: 0.5625 - val_loss: 2.4080 - val_categorical_accuracy: 0.0500\n",
      "Epoch 265/1000\n",
      "20/20 [==============================] - 0s 14ms/step - loss: 1.4140 - categorical_accuracy: 0.4750 - val_loss: 2.3172 - val_categorical_accuracy: 0.2500\n",
      "Epoch 266/1000\n",
      "20/20 [==============================] - 0s 15ms/step - loss: 1.3073 - categorical_accuracy: 0.5375 - val_loss: 2.9017 - val_categorical_accuracy: 0.1500\n",
      "Epoch 267/1000\n",
      "20/20 [==============================] - 0s 15ms/step - loss: 1.3382 - categorical_accuracy: 0.5250 - val_loss: 2.2383 - val_categorical_accuracy: 0.1000\n",
      "Epoch 268/1000\n",
      "20/20 [==============================] - 0s 14ms/step - loss: 1.2632 - categorical_accuracy: 0.5250 - val_loss: 2.3704 - val_categorical_accuracy: 0.1500\n",
      "Epoch 269/1000\n",
      "20/20 [==============================] - 0s 15ms/step - loss: 1.2840 - categorical_accuracy: 0.4875 - val_loss: 2.2643 - val_categorical_accuracy: 0.1000\n",
      "Epoch 270/1000\n",
      "20/20 [==============================] - 0s 16ms/step - loss: 1.1248 - categorical_accuracy: 0.6000 - val_loss: 2.8423 - val_categorical_accuracy: 0.0500\n",
      "Epoch 271/1000\n",
      "20/20 [==============================] - 0s 16ms/step - loss: 1.0487 - categorical_accuracy: 0.7625 - val_loss: 2.4632 - val_categorical_accuracy: 0.1000\n",
      "Epoch 272/1000\n",
      "20/20 [==============================] - 0s 15ms/step - loss: 1.1555 - categorical_accuracy: 0.6250 - val_loss: 2.3764 - val_categorical_accuracy: 0.2000\n",
      "Epoch 273/1000\n",
      "20/20 [==============================] - 0s 14ms/step - loss: 1.1244 - categorical_accuracy: 0.6375 - val_loss: 2.5422 - val_categorical_accuracy: 0.2000\n",
      "Epoch 274/1000\n",
      "20/20 [==============================] - 0s 16ms/step - loss: 1.0978 - categorical_accuracy: 0.5875 - val_loss: 2.5453 - val_categorical_accuracy: 0.1000\n",
      "Epoch 275/1000\n",
      "20/20 [==============================] - 0s 14ms/step - loss: 1.2229 - categorical_accuracy: 0.6375 - val_loss: 2.4591 - val_categorical_accuracy: 0.0500\n",
      "Epoch 276/1000\n",
      "20/20 [==============================] - 0s 15ms/step - loss: 1.3142 - categorical_accuracy: 0.5125 - val_loss: 2.7114 - val_categorical_accuracy: 0.0500\n",
      "Epoch 277/1000\n",
      "20/20 [==============================] - 0s 14ms/step - loss: 1.2933 - categorical_accuracy: 0.5250 - val_loss: 2.5836 - val_categorical_accuracy: 0.1000\n",
      "Epoch 278/1000\n",
      "20/20 [==============================] - 0s 16ms/step - loss: 1.1972 - categorical_accuracy: 0.5375 - val_loss: 2.3719 - val_categorical_accuracy: 0.1500\n",
      "Epoch 279/1000\n",
      "20/20 [==============================] - 0s 15ms/step - loss: 1.2616 - categorical_accuracy: 0.5750 - val_loss: 2.3929 - val_categorical_accuracy: 0.1500\n",
      "Epoch 280/1000\n",
      "20/20 [==============================] - 0s 17ms/step - loss: 1.2555 - categorical_accuracy: 0.5750 - val_loss: 1.9975 - val_categorical_accuracy: 0.1500\n",
      "Epoch 281/1000\n",
      "20/20 [==============================] - 0s 16ms/step - loss: 1.2635 - categorical_accuracy: 0.5875 - val_loss: 2.4508 - val_categorical_accuracy: 0.1500\n",
      "Epoch 282/1000\n",
      "20/20 [==============================] - 0s 17ms/step - loss: 1.2257 - categorical_accuracy: 0.6125 - val_loss: 2.2899 - val_categorical_accuracy: 0.0500\n",
      "Epoch 283/1000\n",
      "20/20 [==============================] - 0s 16ms/step - loss: 1.2607 - categorical_accuracy: 0.6375 - val_loss: 2.2005 - val_categorical_accuracy: 0.1500\n",
      "Epoch 284/1000\n",
      "20/20 [==============================] - 0s 16ms/step - loss: 1.1124 - categorical_accuracy: 0.6125 - val_loss: 2.2053 - val_categorical_accuracy: 0.1500\n",
      "Epoch 285/1000\n",
      "20/20 [==============================] - 0s 17ms/step - loss: 1.1730 - categorical_accuracy: 0.6625 - val_loss: 2.4193 - val_categorical_accuracy: 0.2500\n",
      "Epoch 286/1000\n",
      "20/20 [==============================] - 0s 16ms/step - loss: 1.3429 - categorical_accuracy: 0.5375 - val_loss: 2.2323 - val_categorical_accuracy: 0.1500\n",
      "Epoch 287/1000\n",
      "20/20 [==============================] - 0s 17ms/step - loss: 1.3412 - categorical_accuracy: 0.5250 - val_loss: 2.5099 - val_categorical_accuracy: 0.2000\n",
      "Epoch 288/1000\n",
      "20/20 [==============================] - 0s 16ms/step - loss: 1.2347 - categorical_accuracy: 0.6000 - val_loss: 2.6478 - val_categorical_accuracy: 0.1000\n",
      "Epoch 289/1000\n",
      "20/20 [==============================] - 0s 17ms/step - loss: 1.1407 - categorical_accuracy: 0.6375 - val_loss: 2.3291 - val_categorical_accuracy: 0.0500\n",
      "Epoch 290/1000\n",
      "20/20 [==============================] - 0s 16ms/step - loss: 1.2123 - categorical_accuracy: 0.5625 - val_loss: 2.7103 - val_categorical_accuracy: 0.1000\n",
      "Epoch 291/1000\n",
      "20/20 [==============================] - 0s 17ms/step - loss: 1.1798 - categorical_accuracy: 0.5875 - val_loss: 2.5291 - val_categorical_accuracy: 0.1000\n",
      "Epoch 292/1000\n",
      "20/20 [==============================] - 0s 16ms/step - loss: 1.2786 - categorical_accuracy: 0.5625 - val_loss: 2.7514 - val_categorical_accuracy: 0.0500\n",
      "Epoch 293/1000\n",
      "20/20 [==============================] - 0s 17ms/step - loss: 1.2191 - categorical_accuracy: 0.5750 - val_loss: 2.6211 - val_categorical_accuracy: 0.0500\n",
      "Epoch 294/1000\n",
      "20/20 [==============================] - 0s 15ms/step - loss: 1.1926 - categorical_accuracy: 0.5750 - val_loss: 2.3444 - val_categorical_accuracy: 0.1000\n",
      "Epoch 295/1000\n",
      "20/20 [==============================] - 0s 15ms/step - loss: 1.2664 - categorical_accuracy: 0.5625 - val_loss: 2.1188 - val_categorical_accuracy: 0.1000\n",
      "Epoch 296/1000\n",
      "20/20 [==============================] - 0s 15ms/step - loss: 1.2312 - categorical_accuracy: 0.6250 - val_loss: 2.2776 - val_categorical_accuracy: 0.2500\n",
      "Epoch 297/1000\n",
      "20/20 [==============================] - 0s 15ms/step - loss: 1.1211 - categorical_accuracy: 0.5500 - val_loss: 2.6131 - val_categorical_accuracy: 0.2000\n",
      "Epoch 298/1000\n",
      "20/20 [==============================] - 0s 14ms/step - loss: 1.2472 - categorical_accuracy: 0.5375 - val_loss: 2.6705 - val_categorical_accuracy: 0.0000e+00\n",
      "Epoch 299/1000\n",
      "20/20 [==============================] - 0s 14ms/step - loss: 1.3272 - categorical_accuracy: 0.5375 - val_loss: 2.2695 - val_categorical_accuracy: 0.1000\n",
      "Epoch 300/1000\n",
      "20/20 [==============================] - 0s 15ms/step - loss: 1.2916 - categorical_accuracy: 0.5500 - val_loss: 2.2504 - val_categorical_accuracy: 0.1000\n",
      "Epoch 301/1000\n",
      "20/20 [==============================] - 0s 14ms/step - loss: 1.1142 - categorical_accuracy: 0.6250 - val_loss: 3.1447 - val_categorical_accuracy: 0.1000\n",
      "Epoch 302/1000\n",
      "20/20 [==============================] - 0s 15ms/step - loss: 1.3085 - categorical_accuracy: 0.5500 - val_loss: 3.0666 - val_categorical_accuracy: 0.1500\n",
      "Epoch 303/1000\n",
      "20/20 [==============================] - 0s 15ms/step - loss: 1.3798 - categorical_accuracy: 0.4875 - val_loss: 2.7603 - val_categorical_accuracy: 0.1000\n",
      "Epoch 304/1000\n",
      "20/20 [==============================] - 0s 15ms/step - loss: 1.2463 - categorical_accuracy: 0.5750 - val_loss: 2.7173 - val_categorical_accuracy: 0.1500\n",
      "Epoch 305/1000\n",
      "20/20 [==============================] - 0s 19ms/step - loss: 1.3261 - categorical_accuracy: 0.4750 - val_loss: 2.5438 - val_categorical_accuracy: 0.0500\n",
      "Epoch 306/1000\n",
      "20/20 [==============================] - 0s 15ms/step - loss: 1.2158 - categorical_accuracy: 0.6000 - val_loss: 2.3168 - val_categorical_accuracy: 0.1000\n",
      "Epoch 307/1000\n",
      "20/20 [==============================] - 0s 16ms/step - loss: 1.1902 - categorical_accuracy: 0.6500 - val_loss: 2.6348 - val_categorical_accuracy: 0.1500\n",
      "Epoch 308/1000\n",
      "20/20 [==============================] - 0s 16ms/step - loss: 1.3146 - categorical_accuracy: 0.5500 - val_loss: 2.0604 - val_categorical_accuracy: 0.1000\n",
      "Epoch 309/1000\n",
      "20/20 [==============================] - 0s 16ms/step - loss: 1.2296 - categorical_accuracy: 0.6250 - val_loss: 2.6006 - val_categorical_accuracy: 0.0500\n",
      "Epoch 310/1000\n",
      "20/20 [==============================] - 0s 15ms/step - loss: 1.1477 - categorical_accuracy: 0.5750 - val_loss: 2.1687 - val_categorical_accuracy: 0.1000\n",
      "Epoch 311/1000\n",
      "20/20 [==============================] - 0s 15ms/step - loss: 1.1902 - categorical_accuracy: 0.6625 - val_loss: 2.3006 - val_categorical_accuracy: 0.2000\n",
      "Epoch 312/1000\n",
      "20/20 [==============================] - 0s 14ms/step - loss: 1.2311 - categorical_accuracy: 0.6000 - val_loss: 2.2963 - val_categorical_accuracy: 0.0500\n",
      "Epoch 313/1000\n",
      "20/20 [==============================] - 0s 15ms/step - loss: 1.1634 - categorical_accuracy: 0.6250 - val_loss: 2.0754 - val_categorical_accuracy: 0.2500\n",
      "Epoch 314/1000\n",
      "20/20 [==============================] - 0s 14ms/step - loss: 1.2490 - categorical_accuracy: 0.5000 - val_loss: 2.6911 - val_categorical_accuracy: 0.0500\n",
      "Epoch 315/1000\n",
      "20/20 [==============================] - 0s 16ms/step - loss: 1.1942 - categorical_accuracy: 0.6375 - val_loss: 2.0345 - val_categorical_accuracy: 0.2000\n",
      "Epoch 316/1000\n",
      "20/20 [==============================] - 0s 15ms/step - loss: 1.2822 - categorical_accuracy: 0.5750 - val_loss: 2.4297 - val_categorical_accuracy: 0.1000\n",
      "Epoch 317/1000\n",
      "20/20 [==============================] - 0s 15ms/step - loss: 1.1719 - categorical_accuracy: 0.5750 - val_loss: 2.0785 - val_categorical_accuracy: 0.2500\n",
      "Epoch 318/1000\n",
      "20/20 [==============================] - 0s 16ms/step - loss: 1.1441 - categorical_accuracy: 0.6375 - val_loss: 2.1770 - val_categorical_accuracy: 0.1500\n",
      "Epoch 319/1000\n",
      "20/20 [==============================] - 0s 14ms/step - loss: 1.2600 - categorical_accuracy: 0.6125 - val_loss: 2.3790 - val_categorical_accuracy: 0.1000\n",
      "Epoch 320/1000\n",
      "20/20 [==============================] - 0s 14ms/step - loss: 1.3202 - categorical_accuracy: 0.5375 - val_loss: 2.4425 - val_categorical_accuracy: 0.1000\n",
      "Epoch 321/1000\n",
      "20/20 [==============================] - 0s 15ms/step - loss: 1.4138 - categorical_accuracy: 0.5500 - val_loss: 2.1535 - val_categorical_accuracy: 0.2000\n",
      "Epoch 322/1000\n",
      "20/20 [==============================] - 0s 15ms/step - loss: 1.2694 - categorical_accuracy: 0.5875 - val_loss: 2.1286 - val_categorical_accuracy: 0.1500\n",
      "Epoch 323/1000\n",
      "20/20 [==============================] - 0s 15ms/step - loss: 1.2115 - categorical_accuracy: 0.6375 - val_loss: 2.2241 - val_categorical_accuracy: 0.1000\n",
      "Epoch 324/1000\n",
      "20/20 [==============================] - 0s 13ms/step - loss: 1.2750 - categorical_accuracy: 0.6000 - val_loss: 2.7041 - val_categorical_accuracy: 0.1000\n",
      "Epoch 325/1000\n",
      "20/20 [==============================] - 0s 14ms/step - loss: 1.2556 - categorical_accuracy: 0.5625 - val_loss: 2.5854 - val_categorical_accuracy: 0.1500\n",
      "Epoch 326/1000\n",
      "20/20 [==============================] - 0s 14ms/step - loss: 1.1560 - categorical_accuracy: 0.6250 - val_loss: 2.5943 - val_categorical_accuracy: 0.0500\n",
      "Epoch 327/1000\n",
      "20/20 [==============================] - 0s 15ms/step - loss: 1.0922 - categorical_accuracy: 0.6500 - val_loss: 2.4472 - val_categorical_accuracy: 0.1000\n",
      "Epoch 328/1000\n",
      "20/20 [==============================] - 0s 14ms/step - loss: 1.2108 - categorical_accuracy: 0.5875 - val_loss: 2.4347 - val_categorical_accuracy: 0.1500\n",
      "Epoch 329/1000\n",
      "20/20 [==============================] - 0s 15ms/step - loss: 1.1865 - categorical_accuracy: 0.6125 - val_loss: 2.4472 - val_categorical_accuracy: 0.1500\n",
      "Epoch 330/1000\n",
      "20/20 [==============================] - 0s 17ms/step - loss: 1.2464 - categorical_accuracy: 0.5875 - val_loss: 2.6650 - val_categorical_accuracy: 0.1000\n",
      "Epoch 331/1000\n",
      "20/20 [==============================] - 0s 17ms/step - loss: 1.2917 - categorical_accuracy: 0.5625 - val_loss: 2.6525 - val_categorical_accuracy: 0.0500\n",
      "Epoch 332/1000\n",
      "20/20 [==============================] - 0s 17ms/step - loss: 1.0354 - categorical_accuracy: 0.6625 - val_loss: 2.3402 - val_categorical_accuracy: 0.1500\n",
      "Epoch 333/1000\n",
      "20/20 [==============================] - 0s 17ms/step - loss: 1.1980 - categorical_accuracy: 0.5875 - val_loss: 2.2170 - val_categorical_accuracy: 0.1000\n",
      "Epoch 334/1000\n",
      "20/20 [==============================] - 0s 17ms/step - loss: 1.2350 - categorical_accuracy: 0.5875 - val_loss: 2.5875 - val_categorical_accuracy: 0.1500\n",
      "Epoch 335/1000\n",
      "20/20 [==============================] - 0s 17ms/step - loss: 1.1675 - categorical_accuracy: 0.6250 - val_loss: 2.0600 - val_categorical_accuracy: 0.1500\n",
      "Epoch 336/1000\n",
      "20/20 [==============================] - 0s 17ms/step - loss: 1.0428 - categorical_accuracy: 0.7125 - val_loss: 2.4009 - val_categorical_accuracy: 0.1000\n",
      "Epoch 337/1000\n",
      "20/20 [==============================] - 0s 15ms/step - loss: 1.2106 - categorical_accuracy: 0.6250 - val_loss: 2.3142 - val_categorical_accuracy: 0.2000\n",
      "Epoch 338/1000\n",
      "20/20 [==============================] - 0s 15ms/step - loss: 1.2742 - categorical_accuracy: 0.5000 - val_loss: 2.3737 - val_categorical_accuracy: 0.1500\n",
      "Epoch 339/1000\n",
      "20/20 [==============================] - 0s 18ms/step - loss: 1.1794 - categorical_accuracy: 0.6000 - val_loss: 2.5653 - val_categorical_accuracy: 0.1000\n",
      "Epoch 340/1000\n",
      "20/20 [==============================] - 0s 18ms/step - loss: 1.0835 - categorical_accuracy: 0.7625 - val_loss: 2.2497 - val_categorical_accuracy: 0.0500\n",
      "Epoch 341/1000\n",
      "20/20 [==============================] - 0s 16ms/step - loss: 1.1934 - categorical_accuracy: 0.6000 - val_loss: 2.4293 - val_categorical_accuracy: 0.1000\n",
      "Epoch 342/1000\n",
      "20/20 [==============================] - 0s 14ms/step - loss: 1.1296 - categorical_accuracy: 0.6250 - val_loss: 2.3344 - val_categorical_accuracy: 0.1500\n",
      "Epoch 343/1000\n",
      "20/20 [==============================] - 0s 15ms/step - loss: 1.2201 - categorical_accuracy: 0.6125 - val_loss: 2.3052 - val_categorical_accuracy: 0.2000\n",
      "Epoch 344/1000\n",
      "20/20 [==============================] - 0s 14ms/step - loss: 1.2572 - categorical_accuracy: 0.5625 - val_loss: 2.2537 - val_categorical_accuracy: 0.2500\n",
      "Epoch 345/1000\n",
      "20/20 [==============================] - 0s 15ms/step - loss: 1.3335 - categorical_accuracy: 0.5375 - val_loss: 2.3582 - val_categorical_accuracy: 0.1000\n",
      "Epoch 346/1000\n",
      "20/20 [==============================] - 0s 15ms/step - loss: 1.2335 - categorical_accuracy: 0.5625 - val_loss: 2.5605 - val_categorical_accuracy: 0.0500\n",
      "Epoch 347/1000\n",
      "20/20 [==============================] - 0s 15ms/step - loss: 1.3010 - categorical_accuracy: 0.5250 - val_loss: 2.3033 - val_categorical_accuracy: 0.2000\n",
      "Epoch 348/1000\n",
      "20/20 [==============================] - 0s 16ms/step - loss: 1.0536 - categorical_accuracy: 0.6750 - val_loss: 2.2647 - val_categorical_accuracy: 0.0500\n",
      "Epoch 349/1000\n",
      "20/20 [==============================] - 0s 15ms/step - loss: 1.0305 - categorical_accuracy: 0.7250 - val_loss: 1.9722 - val_categorical_accuracy: 0.2500\n",
      "Epoch 350/1000\n",
      "20/20 [==============================] - 0s 14ms/step - loss: 1.2943 - categorical_accuracy: 0.5125 - val_loss: 2.6012 - val_categorical_accuracy: 0.1000\n",
      "Epoch 351/1000\n",
      "20/20 [==============================] - 0s 16ms/step - loss: 1.2664 - categorical_accuracy: 0.5500 - val_loss: 2.5363 - val_categorical_accuracy: 0.1500\n",
      "Epoch 352/1000\n",
      "20/20 [==============================] - 0s 15ms/step - loss: 1.1038 - categorical_accuracy: 0.6375 - val_loss: 2.2965 - val_categorical_accuracy: 0.1000\n",
      "Epoch 353/1000\n",
      "20/20 [==============================] - 0s 14ms/step - loss: 1.2738 - categorical_accuracy: 0.6125 - val_loss: 2.3912 - val_categorical_accuracy: 0.0500\n",
      "Epoch 354/1000\n",
      "20/20 [==============================] - 0s 15ms/step - loss: 1.1087 - categorical_accuracy: 0.7000 - val_loss: 2.5469 - val_categorical_accuracy: 0.0500\n",
      "Epoch 355/1000\n",
      "20/20 [==============================] - 0s 14ms/step - loss: 1.0761 - categorical_accuracy: 0.6500 - val_loss: 2.3265 - val_categorical_accuracy: 0.1500\n",
      "Epoch 356/1000\n",
      "20/20 [==============================] - 0s 14ms/step - loss: 1.1694 - categorical_accuracy: 0.6375 - val_loss: 2.6766 - val_categorical_accuracy: 0.1500\n",
      "Epoch 357/1000\n",
      "20/20 [==============================] - 0s 16ms/step - loss: 1.1889 - categorical_accuracy: 0.5875 - val_loss: 2.6930 - val_categorical_accuracy: 0.0500\n",
      "Epoch 358/1000\n",
      "20/20 [==============================] - 0s 14ms/step - loss: 1.1808 - categorical_accuracy: 0.6125 - val_loss: 2.4880 - val_categorical_accuracy: 0.0500\n",
      "Epoch 359/1000\n",
      "20/20 [==============================] - 0s 15ms/step - loss: 1.1851 - categorical_accuracy: 0.6000 - val_loss: 2.3222 - val_categorical_accuracy: 0.1500\n",
      "Epoch 360/1000\n",
      "20/20 [==============================] - 0s 16ms/step - loss: 1.1611 - categorical_accuracy: 0.6375 - val_loss: 2.4695 - val_categorical_accuracy: 0.1000\n",
      "Epoch 361/1000\n",
      "20/20 [==============================] - 0s 16ms/step - loss: 1.2860 - categorical_accuracy: 0.5750 - val_loss: 2.4599 - val_categorical_accuracy: 0.1500\n",
      "Epoch 362/1000\n",
      "20/20 [==============================] - 0s 16ms/step - loss: 1.1279 - categorical_accuracy: 0.6625 - val_loss: 2.3610 - val_categorical_accuracy: 0.1500\n",
      "Epoch 363/1000\n",
      "20/20 [==============================] - 0s 15ms/step - loss: 1.2512 - categorical_accuracy: 0.5875 - val_loss: 2.4475 - val_categorical_accuracy: 0.2000\n",
      "Epoch 364/1000\n",
      "20/20 [==============================] - 0s 17ms/step - loss: 1.1775 - categorical_accuracy: 0.6250 - val_loss: 2.2371 - val_categorical_accuracy: 0.1500\n",
      "Epoch 365/1000\n",
      "20/20 [==============================] - 0s 17ms/step - loss: 1.1452 - categorical_accuracy: 0.6625 - val_loss: 2.6527 - val_categorical_accuracy: 0.2000\n",
      "Epoch 366/1000\n",
      "20/20 [==============================] - 0s 14ms/step - loss: 1.2368 - categorical_accuracy: 0.6500 - val_loss: 2.5052 - val_categorical_accuracy: 0.1500\n",
      "Epoch 367/1000\n",
      "20/20 [==============================] - 0s 15ms/step - loss: 1.3427 - categorical_accuracy: 0.4875 - val_loss: 2.3179 - val_categorical_accuracy: 0.1500\n",
      "Epoch 368/1000\n",
      "20/20 [==============================] - 0s 15ms/step - loss: 1.0744 - categorical_accuracy: 0.6750 - val_loss: 1.8540 - val_categorical_accuracy: 0.3000\n",
      "Epoch 369/1000\n",
      "20/20 [==============================] - 0s 17ms/step - loss: 1.0822 - categorical_accuracy: 0.6625 - val_loss: 2.3918 - val_categorical_accuracy: 0.1500\n",
      "Epoch 370/1000\n",
      "20/20 [==============================] - 0s 15ms/step - loss: 1.1756 - categorical_accuracy: 0.6125 - val_loss: 2.3559 - val_categorical_accuracy: 0.2000\n",
      "Epoch 371/1000\n",
      "20/20 [==============================] - 0s 15ms/step - loss: 1.0937 - categorical_accuracy: 0.6125 - val_loss: 2.1373 - val_categorical_accuracy: 0.2000\n",
      "Epoch 372/1000\n",
      "20/20 [==============================] - 0s 14ms/step - loss: 1.1530 - categorical_accuracy: 0.6250 - val_loss: 2.3385 - val_categorical_accuracy: 0.1500\n",
      "Epoch 373/1000\n",
      "20/20 [==============================] - 0s 15ms/step - loss: 1.2793 - categorical_accuracy: 0.5250 - val_loss: 1.8974 - val_categorical_accuracy: 0.2000\n",
      "Epoch 374/1000\n",
      "20/20 [==============================] - 0s 15ms/step - loss: 1.1380 - categorical_accuracy: 0.6000 - val_loss: 2.3362 - val_categorical_accuracy: 0.1500\n",
      "Epoch 375/1000\n",
      "20/20 [==============================] - 0s 15ms/step - loss: 1.0910 - categorical_accuracy: 0.6250 - val_loss: 2.2319 - val_categorical_accuracy: 0.2000\n",
      "Epoch 376/1000\n",
      "20/20 [==============================] - 0s 14ms/step - loss: 1.1769 - categorical_accuracy: 0.6000 - val_loss: 2.3263 - val_categorical_accuracy: 0.2000\n",
      "Epoch 377/1000\n",
      "20/20 [==============================] - 0s 14ms/step - loss: 1.3284 - categorical_accuracy: 0.4750 - val_loss: 2.3171 - val_categorical_accuracy: 0.1000\n",
      "Epoch 378/1000\n",
      "20/20 [==============================] - 0s 15ms/step - loss: 1.2545 - categorical_accuracy: 0.6500 - val_loss: 2.3683 - val_categorical_accuracy: 0.2000\n",
      "Epoch 379/1000\n",
      "20/20 [==============================] - 0s 15ms/step - loss: 1.1985 - categorical_accuracy: 0.6875 - val_loss: 2.4330 - val_categorical_accuracy: 0.1500\n",
      "Epoch 380/1000\n",
      "20/20 [==============================] - 0s 16ms/step - loss: 1.2353 - categorical_accuracy: 0.6000 - val_loss: 2.5372 - val_categorical_accuracy: 0.1000\n",
      "Epoch 381/1000\n",
      "20/20 [==============================] - 0s 15ms/step - loss: 1.1095 - categorical_accuracy: 0.6500 - val_loss: 2.5364 - val_categorical_accuracy: 0.1000\n",
      "Epoch 382/1000\n",
      "20/20 [==============================] - 0s 15ms/step - loss: 1.1274 - categorical_accuracy: 0.6500 - val_loss: 2.2462 - val_categorical_accuracy: 0.1000\n",
      "Epoch 383/1000\n",
      "20/20 [==============================] - 0s 15ms/step - loss: 1.1434 - categorical_accuracy: 0.6000 - val_loss: 2.2663 - val_categorical_accuracy: 0.1000\n",
      "Epoch 384/1000\n",
      "20/20 [==============================] - 0s 14ms/step - loss: 1.0359 - categorical_accuracy: 0.7000 - val_loss: 2.3791 - val_categorical_accuracy: 0.2000\n",
      "Epoch 385/1000\n",
      "20/20 [==============================] - 0s 15ms/step - loss: 1.0772 - categorical_accuracy: 0.6375 - val_loss: 2.3065 - val_categorical_accuracy: 0.2000\n",
      "Epoch 386/1000\n",
      "20/20 [==============================] - 0s 16ms/step - loss: 1.2880 - categorical_accuracy: 0.5625 - val_loss: 2.3529 - val_categorical_accuracy: 0.1000\n",
      "Epoch 387/1000\n",
      "20/20 [==============================] - 0s 15ms/step - loss: 1.2002 - categorical_accuracy: 0.6250 - val_loss: 2.4588 - val_categorical_accuracy: 0.0500\n",
      "Epoch 388/1000\n",
      "20/20 [==============================] - 0s 15ms/step - loss: 1.1032 - categorical_accuracy: 0.6875 - val_loss: 2.1664 - val_categorical_accuracy: 0.1000\n",
      "Epoch 389/1000\n",
      "20/20 [==============================] - 0s 15ms/step - loss: 1.2931 - categorical_accuracy: 0.6000 - val_loss: 2.0326 - val_categorical_accuracy: 0.2500\n",
      "Epoch 390/1000\n",
      "20/20 [==============================] - 0s 15ms/step - loss: 1.1231 - categorical_accuracy: 0.6375 - val_loss: 2.4824 - val_categorical_accuracy: 0.1000\n",
      "Epoch 391/1000\n",
      "20/20 [==============================] - 0s 15ms/step - loss: 1.2235 - categorical_accuracy: 0.5750 - val_loss: 1.8454 - val_categorical_accuracy: 0.2000\n",
      "Epoch 392/1000\n",
      "20/20 [==============================] - 0s 15ms/step - loss: 1.2123 - categorical_accuracy: 0.5500 - val_loss: 2.2484 - val_categorical_accuracy: 0.1500\n",
      "Epoch 393/1000\n",
      "20/20 [==============================] - 0s 14ms/step - loss: 1.1232 - categorical_accuracy: 0.6125 - val_loss: 2.1863 - val_categorical_accuracy: 0.1000\n",
      "Epoch 394/1000\n",
      "20/20 [==============================] - 0s 16ms/step - loss: 1.2292 - categorical_accuracy: 0.5875 - val_loss: 2.5793 - val_categorical_accuracy: 0.1000\n",
      "Epoch 395/1000\n",
      "20/20 [==============================] - 0s 16ms/step - loss: 1.1972 - categorical_accuracy: 0.6125 - val_loss: 2.1569 - val_categorical_accuracy: 0.3000\n",
      "Epoch 396/1000\n",
      "20/20 [==============================] - 0s 14ms/step - loss: 1.0527 - categorical_accuracy: 0.7000 - val_loss: 2.4487 - val_categorical_accuracy: 0.0500\n",
      "Epoch 397/1000\n",
      "17/20 [========================>.....] - ETA: 0s - loss: 1.0954 - categorical_accuracy: 0.5882INFO:tensorflow:Unsupported signature for serialization: ((TensorSpec(shape=(150528, 256), dtype=tf.float32, name='gradient'), <tensorflow.python.framework.func_graph.UnknownArgument object at 0x7fe258581790>, 140610031114224), {}).\n"
     ]
    },
    {
     "name": "stderr",
     "output_type": "stream",
     "text": [
      "INFO:tensorflow:Unsupported signature for serialization: ((TensorSpec(shape=(150528, 256), dtype=tf.float32, name='gradient'), <tensorflow.python.framework.func_graph.UnknownArgument object at 0x7fe258581790>, 140610031114224), {}).\n"
     ]
    },
    {
     "name": "stdout",
     "output_type": "stream",
     "text": [
      "INFO:tensorflow:Unsupported signature for serialization: ((TensorSpec(shape=(256,), dtype=tf.float32, name='gradient'), <tensorflow.python.framework.func_graph.UnknownArgument object at 0x7fe26c588790>, 140610031311072), {}).\n"
     ]
    },
    {
     "name": "stderr",
     "output_type": "stream",
     "text": [
      "INFO:tensorflow:Unsupported signature for serialization: ((TensorSpec(shape=(256,), dtype=tf.float32, name='gradient'), <tensorflow.python.framework.func_graph.UnknownArgument object at 0x7fe26c588790>, 140610031311072), {}).\n"
     ]
    },
    {
     "name": "stdout",
     "output_type": "stream",
     "text": [
      "INFO:tensorflow:Unsupported signature for serialization: ((TensorSpec(shape=(256,), dtype=tf.float32, name='gradient'), <tensorflow.python.framework.func_graph.UnknownArgument object at 0x7fe26c368ad0>, 140610035535184), {}).\n"
     ]
    },
    {
     "name": "stderr",
     "output_type": "stream",
     "text": [
      "INFO:tensorflow:Unsupported signature for serialization: ((TensorSpec(shape=(256,), dtype=tf.float32, name='gradient'), <tensorflow.python.framework.func_graph.UnknownArgument object at 0x7fe26c368ad0>, 140610035535184), {}).\n"
     ]
    },
    {
     "name": "stdout",
     "output_type": "stream",
     "text": [
      "INFO:tensorflow:Unsupported signature for serialization: ((TensorSpec(shape=(256,), dtype=tf.float32, name='gradient'), <tensorflow.python.framework.func_graph.UnknownArgument object at 0x7fe23c6c4390>, 140610035539696), {}).\n"
     ]
    },
    {
     "name": "stderr",
     "output_type": "stream",
     "text": [
      "INFO:tensorflow:Unsupported signature for serialization: ((TensorSpec(shape=(256,), dtype=tf.float32, name='gradient'), <tensorflow.python.framework.func_graph.UnknownArgument object at 0x7fe23c6c4390>, 140610035539696), {}).\n"
     ]
    },
    {
     "name": "stdout",
     "output_type": "stream",
     "text": [
      "INFO:tensorflow:Unsupported signature for serialization: ((TensorSpec(shape=(256, 7), dtype=tf.float32, name='gradient'), <tensorflow.python.framework.func_graph.UnknownArgument object at 0x7fe23c6e7450>, 140610031314672), {}).\n"
     ]
    },
    {
     "name": "stderr",
     "output_type": "stream",
     "text": [
      "INFO:tensorflow:Unsupported signature for serialization: ((TensorSpec(shape=(256, 7), dtype=tf.float32, name='gradient'), <tensorflow.python.framework.func_graph.UnknownArgument object at 0x7fe23c6e7450>, 140610031314672), {}).\n"
     ]
    },
    {
     "name": "stdout",
     "output_type": "stream",
     "text": [
      "INFO:tensorflow:Unsupported signature for serialization: ((TensorSpec(shape=(7,), dtype=tf.float32, name='gradient'), <tensorflow.python.framework.func_graph.UnknownArgument object at 0x7fe23c6b7ad0>, 140610030804768), {}).\n"
     ]
    },
    {
     "name": "stderr",
     "output_type": "stream",
     "text": [
      "INFO:tensorflow:Unsupported signature for serialization: ((TensorSpec(shape=(7,), dtype=tf.float32, name='gradient'), <tensorflow.python.framework.func_graph.UnknownArgument object at 0x7fe23c6b7ad0>, 140610030804768), {}).\n"
     ]
    },
    {
     "name": "stdout",
     "output_type": "stream",
     "text": [
      "INFO:tensorflow:Unsupported signature for serialization: ((TensorSpec(shape=(150528, 256), dtype=tf.float32, name='gradient'), <tensorflow.python.framework.func_graph.UnknownArgument object at 0x7fe258581790>, 140610031114224), {}).\n"
     ]
    },
    {
     "name": "stderr",
     "output_type": "stream",
     "text": [
      "INFO:tensorflow:Unsupported signature for serialization: ((TensorSpec(shape=(150528, 256), dtype=tf.float32, name='gradient'), <tensorflow.python.framework.func_graph.UnknownArgument object at 0x7fe258581790>, 140610031114224), {}).\n"
     ]
    },
    {
     "name": "stdout",
     "output_type": "stream",
     "text": [
      "INFO:tensorflow:Unsupported signature for serialization: ((TensorSpec(shape=(256,), dtype=tf.float32, name='gradient'), <tensorflow.python.framework.func_graph.UnknownArgument object at 0x7fe26c588790>, 140610031311072), {}).\n"
     ]
    },
    {
     "name": "stderr",
     "output_type": "stream",
     "text": [
      "INFO:tensorflow:Unsupported signature for serialization: ((TensorSpec(shape=(256,), dtype=tf.float32, name='gradient'), <tensorflow.python.framework.func_graph.UnknownArgument object at 0x7fe26c588790>, 140610031311072), {}).\n"
     ]
    },
    {
     "name": "stdout",
     "output_type": "stream",
     "text": [
      "INFO:tensorflow:Unsupported signature for serialization: ((TensorSpec(shape=(256,), dtype=tf.float32, name='gradient'), <tensorflow.python.framework.func_graph.UnknownArgument object at 0x7fe26c368ad0>, 140610035535184), {}).\n"
     ]
    },
    {
     "name": "stderr",
     "output_type": "stream",
     "text": [
      "INFO:tensorflow:Unsupported signature for serialization: ((TensorSpec(shape=(256,), dtype=tf.float32, name='gradient'), <tensorflow.python.framework.func_graph.UnknownArgument object at 0x7fe26c368ad0>, 140610035535184), {}).\n"
     ]
    },
    {
     "name": "stdout",
     "output_type": "stream",
     "text": [
      "INFO:tensorflow:Unsupported signature for serialization: ((TensorSpec(shape=(256,), dtype=tf.float32, name='gradient'), <tensorflow.python.framework.func_graph.UnknownArgument object at 0x7fe23c6c4390>, 140610035539696), {}).\n"
     ]
    },
    {
     "name": "stderr",
     "output_type": "stream",
     "text": [
      "INFO:tensorflow:Unsupported signature for serialization: ((TensorSpec(shape=(256,), dtype=tf.float32, name='gradient'), <tensorflow.python.framework.func_graph.UnknownArgument object at 0x7fe23c6c4390>, 140610035539696), {}).\n"
     ]
    },
    {
     "name": "stdout",
     "output_type": "stream",
     "text": [
      "INFO:tensorflow:Unsupported signature for serialization: ((TensorSpec(shape=(256, 7), dtype=tf.float32, name='gradient'), <tensorflow.python.framework.func_graph.UnknownArgument object at 0x7fe23c6e7450>, 140610031314672), {}).\n"
     ]
    },
    {
     "name": "stderr",
     "output_type": "stream",
     "text": [
      "INFO:tensorflow:Unsupported signature for serialization: ((TensorSpec(shape=(256, 7), dtype=tf.float32, name='gradient'), <tensorflow.python.framework.func_graph.UnknownArgument object at 0x7fe23c6e7450>, 140610031314672), {}).\n"
     ]
    },
    {
     "name": "stdout",
     "output_type": "stream",
     "text": [
      "INFO:tensorflow:Unsupported signature for serialization: ((TensorSpec(shape=(7,), dtype=tf.float32, name='gradient'), <tensorflow.python.framework.func_graph.UnknownArgument object at 0x7fe23c6b7ad0>, 140610030804768), {}).\n"
     ]
    },
    {
     "name": "stderr",
     "output_type": "stream",
     "text": [
      "INFO:tensorflow:Unsupported signature for serialization: ((TensorSpec(shape=(7,), dtype=tf.float32, name='gradient'), <tensorflow.python.framework.func_graph.UnknownArgument object at 0x7fe23c6b7ad0>, 140610030804768), {}).\n"
     ]
    },
    {
     "name": "stdout",
     "output_type": "stream",
     "text": [
      "INFO:tensorflow:Assets written to: models/C2_EfficientNetB0.tf/assets\n"
     ]
    },
    {
     "name": "stderr",
     "output_type": "stream",
     "text": [
      "INFO:tensorflow:Assets written to: models/C2_EfficientNetB0.tf/assets\n"
     ]
    },
    {
     "name": "stdout",
     "output_type": "stream",
     "text": [
      "20/20 [==============================] - 1s 62ms/step - loss: 1.1632 - categorical_accuracy: 0.5750 - val_loss: 1.9265 - val_categorical_accuracy: 0.4500\n",
      "Epoch 398/1000\n",
      "20/20 [==============================] - 0s 18ms/step - loss: 1.2471 - categorical_accuracy: 0.6250 - val_loss: 2.1876 - val_categorical_accuracy: 0.2000\n",
      "Epoch 399/1000\n",
      "20/20 [==============================] - 0s 19ms/step - loss: 1.0265 - categorical_accuracy: 0.6500 - val_loss: 2.2331 - val_categorical_accuracy: 0.0000e+00\n",
      "Epoch 400/1000\n",
      "20/20 [==============================] - 0s 17ms/step - loss: 1.2082 - categorical_accuracy: 0.6125 - val_loss: 2.5326 - val_categorical_accuracy: 0.2000\n",
      "Epoch 401/1000\n",
      "20/20 [==============================] - 0s 17ms/step - loss: 1.1866 - categorical_accuracy: 0.6000 - val_loss: 2.3005 - val_categorical_accuracy: 0.2000\n",
      "Epoch 402/1000\n",
      "20/20 [==============================] - 0s 17ms/step - loss: 1.2886 - categorical_accuracy: 0.5750 - val_loss: 2.5169 - val_categorical_accuracy: 0.1000\n",
      "Epoch 403/1000\n",
      "20/20 [==============================] - 0s 18ms/step - loss: 1.0768 - categorical_accuracy: 0.6875 - val_loss: 2.3831 - val_categorical_accuracy: 0.1000\n",
      "Epoch 404/1000\n",
      "20/20 [==============================] - 0s 16ms/step - loss: 1.1312 - categorical_accuracy: 0.6000 - val_loss: 2.6818 - val_categorical_accuracy: 0.2000\n",
      "Epoch 405/1000\n",
      "20/20 [==============================] - 0s 17ms/step - loss: 1.2099 - categorical_accuracy: 0.5875 - val_loss: 2.9587 - val_categorical_accuracy: 0.2000\n",
      "Epoch 406/1000\n",
      "20/20 [==============================] - 0s 18ms/step - loss: 1.1418 - categorical_accuracy: 0.6375 - val_loss: 2.4326 - val_categorical_accuracy: 0.1500\n",
      "Epoch 407/1000\n",
      "20/20 [==============================] - 0s 17ms/step - loss: 1.2287 - categorical_accuracy: 0.5875 - val_loss: 2.2887 - val_categorical_accuracy: 0.2500\n",
      "Epoch 408/1000\n",
      "20/20 [==============================] - 0s 17ms/step - loss: 1.1598 - categorical_accuracy: 0.6750 - val_loss: 2.5447 - val_categorical_accuracy: 0.0500\n",
      "Epoch 409/1000\n",
      "20/20 [==============================] - 0s 17ms/step - loss: 1.2326 - categorical_accuracy: 0.5500 - val_loss: 2.4857 - val_categorical_accuracy: 0.1000\n",
      "Epoch 410/1000\n",
      "20/20 [==============================] - 0s 18ms/step - loss: 1.2583 - categorical_accuracy: 0.5625 - val_loss: 2.0860 - val_categorical_accuracy: 0.1000\n",
      "Epoch 411/1000\n",
      "20/20 [==============================] - 0s 16ms/step - loss: 1.0919 - categorical_accuracy: 0.7250 - val_loss: 2.4062 - val_categorical_accuracy: 0.1000\n",
      "Epoch 412/1000\n",
      "20/20 [==============================] - 0s 16ms/step - loss: 1.0971 - categorical_accuracy: 0.6875 - val_loss: 2.3384 - val_categorical_accuracy: 0.1500\n",
      "Epoch 413/1000\n",
      "20/20 [==============================] - 0s 15ms/step - loss: 1.1098 - categorical_accuracy: 0.6500 - val_loss: 2.5439 - val_categorical_accuracy: 0.2000\n",
      "Epoch 414/1000\n",
      "20/20 [==============================] - 0s 16ms/step - loss: 1.1866 - categorical_accuracy: 0.5875 - val_loss: 2.1415 - val_categorical_accuracy: 0.1500\n",
      "Epoch 415/1000\n",
      "20/20 [==============================] - 0s 16ms/step - loss: 1.1881 - categorical_accuracy: 0.6625 - val_loss: 2.1406 - val_categorical_accuracy: 0.2000\n",
      "Epoch 416/1000\n",
      "20/20 [==============================] - 0s 14ms/step - loss: 1.1847 - categorical_accuracy: 0.6375 - val_loss: 2.4722 - val_categorical_accuracy: 0.1500\n",
      "Epoch 417/1000\n",
      "20/20 [==============================] - 0s 16ms/step - loss: 1.0803 - categorical_accuracy: 0.6875 - val_loss: 2.1875 - val_categorical_accuracy: 0.2500\n",
      "Epoch 418/1000\n",
      "20/20 [==============================] - 0s 15ms/step - loss: 1.1908 - categorical_accuracy: 0.6125 - val_loss: 1.9066 - val_categorical_accuracy: 0.3000\n",
      "Epoch 419/1000\n",
      "20/20 [==============================] - 0s 14ms/step - loss: 1.0892 - categorical_accuracy: 0.6750 - val_loss: 2.7258 - val_categorical_accuracy: 0.1500\n",
      "Epoch 420/1000\n",
      "20/20 [==============================] - 0s 16ms/step - loss: 1.2277 - categorical_accuracy: 0.6000 - val_loss: 2.3466 - val_categorical_accuracy: 0.1000\n",
      "Epoch 421/1000\n",
      "20/20 [==============================] - 0s 15ms/step - loss: 1.2114 - categorical_accuracy: 0.6000 - val_loss: 2.6968 - val_categorical_accuracy: 0.1000\n",
      "Epoch 422/1000\n",
      "20/20 [==============================] - 0s 15ms/step - loss: 1.0785 - categorical_accuracy: 0.6625 - val_loss: 2.2127 - val_categorical_accuracy: 0.1000\n",
      "Epoch 423/1000\n",
      "20/20 [==============================] - 0s 14ms/step - loss: 0.9261 - categorical_accuracy: 0.7500 - val_loss: 2.2674 - val_categorical_accuracy: 0.3000\n",
      "Epoch 424/1000\n",
      "20/20 [==============================] - 0s 15ms/step - loss: 1.1463 - categorical_accuracy: 0.6250 - val_loss: 2.2508 - val_categorical_accuracy: 0.1500\n",
      "Epoch 425/1000\n",
      "20/20 [==============================] - 0s 15ms/step - loss: 1.1201 - categorical_accuracy: 0.5750 - val_loss: 2.0517 - val_categorical_accuracy: 0.2000\n",
      "Epoch 426/1000\n",
      "20/20 [==============================] - 0s 16ms/step - loss: 1.1997 - categorical_accuracy: 0.6250 - val_loss: 2.3874 - val_categorical_accuracy: 0.2000\n",
      "Epoch 427/1000\n",
      "20/20 [==============================] - 0s 15ms/step - loss: 1.2574 - categorical_accuracy: 0.5250 - val_loss: 2.2650 - val_categorical_accuracy: 0.1500\n",
      "Epoch 428/1000\n",
      "20/20 [==============================] - 0s 14ms/step - loss: 1.2769 - categorical_accuracy: 0.5000 - val_loss: 2.3651 - val_categorical_accuracy: 0.0500\n",
      "Epoch 429/1000\n",
      "20/20 [==============================] - 0s 15ms/step - loss: 1.1873 - categorical_accuracy: 0.6250 - val_loss: 2.3258 - val_categorical_accuracy: 0.1000\n",
      "Epoch 430/1000\n",
      "20/20 [==============================] - 0s 14ms/step - loss: 1.1209 - categorical_accuracy: 0.6000 - val_loss: 2.3686 - val_categorical_accuracy: 0.2000\n",
      "Epoch 431/1000\n",
      "20/20 [==============================] - 0s 16ms/step - loss: 1.3548 - categorical_accuracy: 0.5875 - val_loss: 2.1191 - val_categorical_accuracy: 0.2000\n",
      "Epoch 432/1000\n",
      "20/20 [==============================] - 0s 15ms/step - loss: 1.1275 - categorical_accuracy: 0.6000 - val_loss: 2.6345 - val_categorical_accuracy: 0.1500\n",
      "Epoch 433/1000\n",
      "20/20 [==============================] - 0s 14ms/step - loss: 0.9451 - categorical_accuracy: 0.6875 - val_loss: 2.5737 - val_categorical_accuracy: 0.1000\n",
      "Epoch 434/1000\n",
      "20/20 [==============================] - 0s 15ms/step - loss: 1.3673 - categorical_accuracy: 0.5375 - val_loss: 2.4382 - val_categorical_accuracy: 0.1500\n",
      "Epoch 435/1000\n",
      "20/20 [==============================] - 0s 15ms/step - loss: 1.2612 - categorical_accuracy: 0.5625 - val_loss: 2.5740 - val_categorical_accuracy: 0.1500\n",
      "Epoch 436/1000\n",
      "20/20 [==============================] - 0s 14ms/step - loss: 0.9907 - categorical_accuracy: 0.7000 - val_loss: 2.6879 - val_categorical_accuracy: 0.2000\n",
      "Epoch 437/1000\n",
      "20/20 [==============================] - 0s 14ms/step - loss: 1.1763 - categorical_accuracy: 0.6000 - val_loss: 2.4813 - val_categorical_accuracy: 0.2500\n",
      "Epoch 438/1000\n",
      "20/20 [==============================] - 0s 16ms/step - loss: 1.0814 - categorical_accuracy: 0.6375 - val_loss: 2.3947 - val_categorical_accuracy: 0.2500\n",
      "Epoch 439/1000\n",
      "20/20 [==============================] - 0s 15ms/step - loss: 1.0475 - categorical_accuracy: 0.6500 - val_loss: 2.4478 - val_categorical_accuracy: 0.1500\n",
      "Epoch 440/1000\n",
      "20/20 [==============================] - 0s 14ms/step - loss: 1.0594 - categorical_accuracy: 0.6500 - val_loss: 2.3031 - val_categorical_accuracy: 0.2000\n",
      "Epoch 441/1000\n",
      "20/20 [==============================] - 0s 14ms/step - loss: 1.0382 - categorical_accuracy: 0.6625 - val_loss: 2.1308 - val_categorical_accuracy: 0.3000\n",
      "Epoch 442/1000\n",
      "20/20 [==============================] - 0s 15ms/step - loss: 1.1936 - categorical_accuracy: 0.6000 - val_loss: 2.3857 - val_categorical_accuracy: 0.1500\n",
      "Epoch 443/1000\n",
      "20/20 [==============================] - 0s 14ms/step - loss: 1.1395 - categorical_accuracy: 0.6500 - val_loss: 2.5402 - val_categorical_accuracy: 0.0500\n",
      "Epoch 444/1000\n",
      "20/20 [==============================] - 0s 14ms/step - loss: 1.0882 - categorical_accuracy: 0.7000 - val_loss: 2.1699 - val_categorical_accuracy: 0.2000\n",
      "Epoch 445/1000\n",
      "20/20 [==============================] - 0s 16ms/step - loss: 1.2754 - categorical_accuracy: 0.6000 - val_loss: 2.2927 - val_categorical_accuracy: 0.0500\n",
      "Epoch 446/1000\n",
      "20/20 [==============================] - 0s 16ms/step - loss: 1.2209 - categorical_accuracy: 0.5625 - val_loss: 2.1489 - val_categorical_accuracy: 0.2500\n",
      "Epoch 447/1000\n",
      "20/20 [==============================] - 0s 16ms/step - loss: 1.1068 - categorical_accuracy: 0.6125 - val_loss: 2.1682 - val_categorical_accuracy: 0.2000\n",
      "Epoch 448/1000\n",
      "20/20 [==============================] - 0s 15ms/step - loss: 1.2487 - categorical_accuracy: 0.5750 - val_loss: 2.7527 - val_categorical_accuracy: 0.1500\n",
      "Epoch 449/1000\n",
      "20/20 [==============================] - 0s 16ms/step - loss: 0.9906 - categorical_accuracy: 0.7250 - val_loss: 2.0292 - val_categorical_accuracy: 0.3000\n",
      "Epoch 450/1000\n",
      "20/20 [==============================] - 0s 17ms/step - loss: 1.1877 - categorical_accuracy: 0.5875 - val_loss: 2.3208 - val_categorical_accuracy: 0.2000\n",
      "Epoch 451/1000\n",
      "20/20 [==============================] - 0s 16ms/step - loss: 1.2028 - categorical_accuracy: 0.6125 - val_loss: 2.5446 - val_categorical_accuracy: 0.2000\n",
      "Epoch 452/1000\n",
      "20/20 [==============================] - 0s 17ms/step - loss: 0.9987 - categorical_accuracy: 0.7000 - val_loss: 2.4473 - val_categorical_accuracy: 0.0500\n",
      "Epoch 453/1000\n",
      "20/20 [==============================] - 0s 17ms/step - loss: 1.3542 - categorical_accuracy: 0.5500 - val_loss: 2.2620 - val_categorical_accuracy: 0.1500\n",
      "Epoch 454/1000\n",
      "20/20 [==============================] - 0s 16ms/step - loss: 1.2543 - categorical_accuracy: 0.5625 - val_loss: 2.6653 - val_categorical_accuracy: 0.1000\n",
      "Epoch 455/1000\n",
      "20/20 [==============================] - 0s 15ms/step - loss: 1.1059 - categorical_accuracy: 0.6500 - val_loss: 2.7642 - val_categorical_accuracy: 0.1000\n",
      "Epoch 456/1000\n",
      "20/20 [==============================] - 0s 20ms/step - loss: 0.9462 - categorical_accuracy: 0.7375 - val_loss: 2.3864 - val_categorical_accuracy: 0.0500\n",
      "Epoch 457/1000\n",
      "20/20 [==============================] - 0s 17ms/step - loss: 1.2439 - categorical_accuracy: 0.5750 - val_loss: 2.4765 - val_categorical_accuracy: 0.1000\n",
      "Epoch 458/1000\n",
      "20/20 [==============================] - 0s 17ms/step - loss: 1.1272 - categorical_accuracy: 0.6000 - val_loss: 2.2886 - val_categorical_accuracy: 0.1000\n",
      "Epoch 459/1000\n",
      "20/20 [==============================] - 0s 16ms/step - loss: 1.0468 - categorical_accuracy: 0.6000 - val_loss: 2.2826 - val_categorical_accuracy: 0.0500\n",
      "Epoch 460/1000\n",
      "20/20 [==============================] - 0s 15ms/step - loss: 1.1428 - categorical_accuracy: 0.6250 - val_loss: 2.3872 - val_categorical_accuracy: 0.2500\n",
      "Epoch 461/1000\n",
      "20/20 [==============================] - 0s 14ms/step - loss: 1.1323 - categorical_accuracy: 0.6375 - val_loss: 2.4051 - val_categorical_accuracy: 0.1500\n",
      "Epoch 462/1000\n",
      "20/20 [==============================] - 0s 15ms/step - loss: 1.2150 - categorical_accuracy: 0.5875 - val_loss: 2.3914 - val_categorical_accuracy: 0.2000\n",
      "Epoch 463/1000\n",
      "20/20 [==============================] - 0s 15ms/step - loss: 1.1381 - categorical_accuracy: 0.6375 - val_loss: 2.1728 - val_categorical_accuracy: 0.2000\n",
      "Epoch 464/1000\n",
      "20/20 [==============================] - 0s 17ms/step - loss: 1.0861 - categorical_accuracy: 0.6750 - val_loss: 2.4705 - val_categorical_accuracy: 0.1000\n",
      "Epoch 465/1000\n",
      "20/20 [==============================] - 0s 15ms/step - loss: 1.0860 - categorical_accuracy: 0.6250 - val_loss: 2.3948 - val_categorical_accuracy: 0.2000\n",
      "Epoch 466/1000\n",
      "20/20 [==============================] - 0s 16ms/step - loss: 1.1198 - categorical_accuracy: 0.5750 - val_loss: 2.3262 - val_categorical_accuracy: 0.0500\n",
      "Epoch 467/1000\n",
      "20/20 [==============================] - 0s 15ms/step - loss: 1.1913 - categorical_accuracy: 0.6125 - val_loss: 2.6143 - val_categorical_accuracy: 0.1500\n",
      "Epoch 468/1000\n",
      "20/20 [==============================] - 0s 14ms/step - loss: 1.1904 - categorical_accuracy: 0.6875 - val_loss: 2.2845 - val_categorical_accuracy: 0.2500\n",
      "Epoch 469/1000\n",
      "20/20 [==============================] - 0s 14ms/step - loss: 1.0567 - categorical_accuracy: 0.6750 - val_loss: 2.5078 - val_categorical_accuracy: 0.1000\n",
      "Epoch 470/1000\n",
      "20/20 [==============================] - 0s 16ms/step - loss: 1.3341 - categorical_accuracy: 0.5625 - val_loss: 2.2606 - val_categorical_accuracy: 0.3000\n",
      "Epoch 471/1000\n",
      "20/20 [==============================] - 0s 15ms/step - loss: 1.1066 - categorical_accuracy: 0.6250 - val_loss: 2.2838 - val_categorical_accuracy: 0.1000\n",
      "Epoch 472/1000\n",
      "20/20 [==============================] - 0s 14ms/step - loss: 1.0372 - categorical_accuracy: 0.6125 - val_loss: 2.1764 - val_categorical_accuracy: 0.1500\n",
      "Epoch 473/1000\n",
      "20/20 [==============================] - 0s 16ms/step - loss: 1.1960 - categorical_accuracy: 0.5875 - val_loss: 2.6183 - val_categorical_accuracy: 0.1000\n",
      "Epoch 474/1000\n",
      "20/20 [==============================] - 0s 16ms/step - loss: 1.0754 - categorical_accuracy: 0.6375 - val_loss: 1.9202 - val_categorical_accuracy: 0.2000\n",
      "Epoch 475/1000\n",
      "20/20 [==============================] - 0s 16ms/step - loss: 0.9522 - categorical_accuracy: 0.6625 - val_loss: 2.8623 - val_categorical_accuracy: 0.1000\n",
      "Epoch 476/1000\n",
      "20/20 [==============================] - 0s 14ms/step - loss: 1.2255 - categorical_accuracy: 0.6250 - val_loss: 2.1177 - val_categorical_accuracy: 0.2000\n",
      "Epoch 477/1000\n",
      "20/20 [==============================] - 0s 16ms/step - loss: 1.0551 - categorical_accuracy: 0.6000 - val_loss: 2.3765 - val_categorical_accuracy: 0.1500\n",
      "Epoch 478/1000\n",
      "20/20 [==============================] - 0s 14ms/step - loss: 1.1090 - categorical_accuracy: 0.6125 - val_loss: 2.1759 - val_categorical_accuracy: 0.2500\n",
      "Epoch 479/1000\n",
      "20/20 [==============================] - 0s 16ms/step - loss: 1.0779 - categorical_accuracy: 0.6750 - val_loss: 1.9263 - val_categorical_accuracy: 0.2500\n",
      "Epoch 480/1000\n",
      "20/20 [==============================] - 0s 14ms/step - loss: 1.1962 - categorical_accuracy: 0.6375 - val_loss: 2.3640 - val_categorical_accuracy: 0.3000\n",
      "Epoch 481/1000\n",
      "20/20 [==============================] - 0s 15ms/step - loss: 1.1779 - categorical_accuracy: 0.6875 - val_loss: 2.6273 - val_categorical_accuracy: 0.1500\n",
      "Epoch 482/1000\n",
      "20/20 [==============================] - 0s 15ms/step - loss: 1.0174 - categorical_accuracy: 0.6750 - val_loss: 1.8854 - val_categorical_accuracy: 0.2500\n",
      "Epoch 483/1000\n",
      "20/20 [==============================] - 0s 17ms/step - loss: 1.1033 - categorical_accuracy: 0.6875 - val_loss: 2.3635 - val_categorical_accuracy: 0.2000\n",
      "Epoch 484/1000\n",
      "20/20 [==============================] - 0s 19ms/step - loss: 1.0813 - categorical_accuracy: 0.6500 - val_loss: 2.4282 - val_categorical_accuracy: 0.1500\n",
      "Epoch 485/1000\n",
      "20/20 [==============================] - 0s 17ms/step - loss: 1.1611 - categorical_accuracy: 0.6375 - val_loss: 2.2301 - val_categorical_accuracy: 0.1500\n",
      "Epoch 486/1000\n",
      "20/20 [==============================] - 0s 18ms/step - loss: 1.0968 - categorical_accuracy: 0.6625 - val_loss: 2.5806 - val_categorical_accuracy: 0.2000\n",
      "Epoch 487/1000\n",
      "20/20 [==============================] - 0s 17ms/step - loss: 0.9688 - categorical_accuracy: 0.7375 - val_loss: 2.5536 - val_categorical_accuracy: 0.2000\n",
      "Epoch 488/1000\n",
      "20/20 [==============================] - 0s 18ms/step - loss: 1.1394 - categorical_accuracy: 0.6750 - val_loss: 2.5000 - val_categorical_accuracy: 0.1500\n",
      "Epoch 489/1000\n",
      "20/20 [==============================] - 0s 17ms/step - loss: 1.2851 - categorical_accuracy: 0.5875 - val_loss: 2.3351 - val_categorical_accuracy: 0.2500\n",
      "Epoch 490/1000\n",
      "20/20 [==============================] - 0s 15ms/step - loss: 1.1217 - categorical_accuracy: 0.6125 - val_loss: 2.0074 - val_categorical_accuracy: 0.2000\n",
      "Epoch 491/1000\n",
      "20/20 [==============================] - 0s 16ms/step - loss: 1.1844 - categorical_accuracy: 0.6250 - val_loss: 2.5398 - val_categorical_accuracy: 0.1000\n",
      "Epoch 492/1000\n",
      "20/20 [==============================] - 0s 17ms/step - loss: 1.1865 - categorical_accuracy: 0.6000 - val_loss: 2.0409 - val_categorical_accuracy: 0.3000\n",
      "Epoch 493/1000\n",
      "20/20 [==============================] - 0s 18ms/step - loss: 1.1224 - categorical_accuracy: 0.5875 - val_loss: 2.0302 - val_categorical_accuracy: 0.2500\n",
      "Epoch 494/1000\n",
      "20/20 [==============================] - 0s 16ms/step - loss: 1.1107 - categorical_accuracy: 0.6500 - val_loss: 2.1232 - val_categorical_accuracy: 0.2500\n",
      "Epoch 495/1000\n",
      "20/20 [==============================] - 0s 16ms/step - loss: 1.1402 - categorical_accuracy: 0.6125 - val_loss: 2.2954 - val_categorical_accuracy: 0.1500\n",
      "Epoch 496/1000\n",
      "20/20 [==============================] - 0s 18ms/step - loss: 1.1382 - categorical_accuracy: 0.6250 - val_loss: 2.1909 - val_categorical_accuracy: 0.0500\n",
      "Epoch 497/1000\n",
      "20/20 [==============================] - 0s 16ms/step - loss: 1.1243 - categorical_accuracy: 0.5750 - val_loss: 2.5719 - val_categorical_accuracy: 0.1500\n",
      "Epoch 498/1000\n",
      "20/20 [==============================] - 0s 16ms/step - loss: 1.0345 - categorical_accuracy: 0.6875 - val_loss: 2.3801 - val_categorical_accuracy: 0.2000\n",
      "Epoch 499/1000\n",
      "20/20 [==============================] - 0s 17ms/step - loss: 1.1915 - categorical_accuracy: 0.6125 - val_loss: 2.2630 - val_categorical_accuracy: 0.1500\n",
      "Epoch 500/1000\n",
      "20/20 [==============================] - 0s 17ms/step - loss: 1.1095 - categorical_accuracy: 0.6625 - val_loss: 2.7398 - val_categorical_accuracy: 0.2000\n",
      "Epoch 501/1000\n",
      "20/20 [==============================] - 0s 16ms/step - loss: 1.1926 - categorical_accuracy: 0.5500 - val_loss: 2.5161 - val_categorical_accuracy: 0.0500\n",
      "Epoch 502/1000\n",
      "20/20 [==============================] - 0s 16ms/step - loss: 1.3188 - categorical_accuracy: 0.4500 - val_loss: 2.3632 - val_categorical_accuracy: 0.2000\n",
      "Epoch 503/1000\n",
      "20/20 [==============================] - 0s 16ms/step - loss: 1.2098 - categorical_accuracy: 0.6250 - val_loss: 2.2087 - val_categorical_accuracy: 0.2000\n",
      "Epoch 504/1000\n",
      "20/20 [==============================] - 0s 15ms/step - loss: 1.2648 - categorical_accuracy: 0.5500 - val_loss: 2.6130 - val_categorical_accuracy: 0.1500\n",
      "Epoch 505/1000\n",
      "20/20 [==============================] - 0s 15ms/step - loss: 1.1429 - categorical_accuracy: 0.6625 - val_loss: 2.2026 - val_categorical_accuracy: 0.1500\n",
      "Epoch 506/1000\n",
      "20/20 [==============================] - 0s 16ms/step - loss: 1.1533 - categorical_accuracy: 0.5625 - val_loss: 2.9962 - val_categorical_accuracy: 0.1500\n",
      "Epoch 507/1000\n",
      "20/20 [==============================] - 0s 15ms/step - loss: 1.2340 - categorical_accuracy: 0.5500 - val_loss: 2.7496 - val_categorical_accuracy: 0.3500\n",
      "Epoch 508/1000\n",
      "20/20 [==============================] - 0s 15ms/step - loss: 1.1006 - categorical_accuracy: 0.6875 - val_loss: 2.3215 - val_categorical_accuracy: 0.2500\n",
      "Epoch 509/1000\n",
      "20/20 [==============================] - 0s 15ms/step - loss: 1.2426 - categorical_accuracy: 0.5125 - val_loss: 2.4014 - val_categorical_accuracy: 0.1500\n",
      "Epoch 510/1000\n",
      "20/20 [==============================] - 0s 16ms/step - loss: 1.2139 - categorical_accuracy: 0.6000 - val_loss: 2.3289 - val_categorical_accuracy: 0.1500\n",
      "Epoch 511/1000\n",
      "20/20 [==============================] - 0s 15ms/step - loss: 1.1986 - categorical_accuracy: 0.6375 - val_loss: 2.7688 - val_categorical_accuracy: 0.1000\n",
      "Epoch 512/1000\n",
      "20/20 [==============================] - 0s 16ms/step - loss: 1.1514 - categorical_accuracy: 0.6250 - val_loss: 2.5592 - val_categorical_accuracy: 0.1500\n",
      "Epoch 513/1000\n",
      "20/20 [==============================] - 0s 16ms/step - loss: 1.1925 - categorical_accuracy: 0.5875 - val_loss: 2.6667 - val_categorical_accuracy: 0.1500\n",
      "Epoch 514/1000\n",
      "20/20 [==============================] - 0s 15ms/step - loss: 1.0771 - categorical_accuracy: 0.6750 - val_loss: 2.5679 - val_categorical_accuracy: 0.1000\n",
      "Epoch 515/1000\n",
      "20/20 [==============================] - 0s 15ms/step - loss: 1.1760 - categorical_accuracy: 0.6125 - val_loss: 2.9788 - val_categorical_accuracy: 0.2000\n",
      "Epoch 516/1000\n",
      "20/20 [==============================] - 0s 16ms/step - loss: 1.1773 - categorical_accuracy: 0.5750 - val_loss: 2.6762 - val_categorical_accuracy: 0.0500\n",
      "Epoch 517/1000\n",
      "20/20 [==============================] - 0s 15ms/step - loss: 1.3392 - categorical_accuracy: 0.5750 - val_loss: 2.5979 - val_categorical_accuracy: 0.1000\n",
      "Epoch 518/1000\n",
      "20/20 [==============================] - 0s 17ms/step - loss: 1.1603 - categorical_accuracy: 0.6375 - val_loss: 2.4967 - val_categorical_accuracy: 0.1500\n",
      "Epoch 519/1000\n",
      "20/20 [==============================] - 0s 15ms/step - loss: 1.2716 - categorical_accuracy: 0.4875 - val_loss: 2.4497 - val_categorical_accuracy: 0.2500\n",
      "Epoch 520/1000\n",
      "20/20 [==============================] - 0s 15ms/step - loss: 1.2425 - categorical_accuracy: 0.6250 - val_loss: 2.7036 - val_categorical_accuracy: 0.0000e+00\n",
      "Epoch 521/1000\n",
      "20/20 [==============================] - 0s 14ms/step - loss: 1.1717 - categorical_accuracy: 0.6375 - val_loss: 2.6892 - val_categorical_accuracy: 0.1500\n",
      "Epoch 522/1000\n",
      "20/20 [==============================] - 0s 14ms/step - loss: 1.4368 - categorical_accuracy: 0.5250 - val_loss: 2.8831 - val_categorical_accuracy: 0.0500\n",
      "Epoch 523/1000\n",
      "20/20 [==============================] - 0s 16ms/step - loss: 1.3324 - categorical_accuracy: 0.5000 - val_loss: 2.0790 - val_categorical_accuracy: 0.2000\n",
      "Epoch 524/1000\n",
      "20/20 [==============================] - 0s 16ms/step - loss: 1.3043 - categorical_accuracy: 0.5875 - val_loss: 2.1520 - val_categorical_accuracy: 0.2500\n",
      "Epoch 525/1000\n",
      "20/20 [==============================] - 0s 15ms/step - loss: 1.4584 - categorical_accuracy: 0.4875 - val_loss: 2.4209 - val_categorical_accuracy: 0.2000\n",
      "Epoch 526/1000\n",
      "20/20 [==============================] - 0s 14ms/step - loss: 1.1453 - categorical_accuracy: 0.6375 - val_loss: 2.2386 - val_categorical_accuracy: 0.2500\n",
      "Epoch 527/1000\n",
      "20/20 [==============================] - 0s 15ms/step - loss: 1.1946 - categorical_accuracy: 0.5875 - val_loss: 2.5199 - val_categorical_accuracy: 0.0500\n",
      "Epoch 528/1000\n",
      "20/20 [==============================] - 0s 16ms/step - loss: 1.1715 - categorical_accuracy: 0.6125 - val_loss: 2.9379 - val_categorical_accuracy: 0.1500\n",
      "Epoch 529/1000\n",
      "20/20 [==============================] - 0s 15ms/step - loss: 1.2476 - categorical_accuracy: 0.6125 - val_loss: 2.5923 - val_categorical_accuracy: 0.1000\n",
      "Epoch 530/1000\n",
      "20/20 [==============================] - 0s 15ms/step - loss: 1.3488 - categorical_accuracy: 0.5125 - val_loss: 2.7398 - val_categorical_accuracy: 0.1000\n",
      "Epoch 531/1000\n",
      "20/20 [==============================] - 0s 15ms/step - loss: 1.2235 - categorical_accuracy: 0.6250 - val_loss: 2.6616 - val_categorical_accuracy: 0.1000\n",
      "Epoch 532/1000\n",
      "20/20 [==============================] - 0s 15ms/step - loss: 1.2106 - categorical_accuracy: 0.5875 - val_loss: 2.5357 - val_categorical_accuracy: 0.1000\n",
      "Epoch 533/1000\n",
      "20/20 [==============================] - 0s 15ms/step - loss: 1.1649 - categorical_accuracy: 0.6125 - val_loss: 2.3013 - val_categorical_accuracy: 0.2000\n",
      "Epoch 534/1000\n",
      "20/20 [==============================] - 0s 13ms/step - loss: 1.1622 - categorical_accuracy: 0.5875 - val_loss: 2.7212 - val_categorical_accuracy: 0.1500\n",
      "Epoch 535/1000\n",
      "20/20 [==============================] - 0s 14ms/step - loss: 1.2730 - categorical_accuracy: 0.6000 - val_loss: 2.4675 - val_categorical_accuracy: 0.0500\n",
      "Epoch 536/1000\n",
      "20/20 [==============================] - 0s 14ms/step - loss: 1.3420 - categorical_accuracy: 0.5750 - val_loss: 2.8349 - val_categorical_accuracy: 0.1000\n",
      "Epoch 537/1000\n",
      "20/20 [==============================] - 0s 16ms/step - loss: 1.1981 - categorical_accuracy: 0.5500 - val_loss: 2.3143 - val_categorical_accuracy: 0.1000\n",
      "Epoch 538/1000\n",
      "20/20 [==============================] - 0s 15ms/step - loss: 1.0457 - categorical_accuracy: 0.6375 - val_loss: 2.2453 - val_categorical_accuracy: 0.2000\n",
      "Epoch 539/1000\n",
      "20/20 [==============================] - 0s 17ms/step - loss: 1.1649 - categorical_accuracy: 0.6250 - val_loss: 2.5611 - val_categorical_accuracy: 0.2000\n",
      "Epoch 540/1000\n",
      "20/20 [==============================] - 0s 16ms/step - loss: 1.1442 - categorical_accuracy: 0.5875 - val_loss: 2.6861 - val_categorical_accuracy: 0.0500\n",
      "Epoch 541/1000\n",
      "20/20 [==============================] - 0s 16ms/step - loss: 1.1762 - categorical_accuracy: 0.5750 - val_loss: 2.8965 - val_categorical_accuracy: 0.1500\n",
      "Epoch 542/1000\n",
      "20/20 [==============================] - 0s 18ms/step - loss: 1.2512 - categorical_accuracy: 0.5500 - val_loss: 2.9811 - val_categorical_accuracy: 0.3000\n",
      "Epoch 543/1000\n",
      "20/20 [==============================] - 0s 19ms/step - loss: 1.2236 - categorical_accuracy: 0.6375 - val_loss: 2.3357 - val_categorical_accuracy: 0.2500\n",
      "Epoch 544/1000\n",
      "20/20 [==============================] - 0s 20ms/step - loss: 1.2027 - categorical_accuracy: 0.5250 - val_loss: 2.3612 - val_categorical_accuracy: 0.1500\n",
      "Epoch 545/1000\n",
      "20/20 [==============================] - 0s 17ms/step - loss: 1.1747 - categorical_accuracy: 0.6000 - val_loss: 2.6346 - val_categorical_accuracy: 0.1500\n",
      "Epoch 546/1000\n",
      "20/20 [==============================] - 0s 15ms/step - loss: 1.2654 - categorical_accuracy: 0.5250 - val_loss: 2.1309 - val_categorical_accuracy: 0.2000\n",
      "Epoch 547/1000\n",
      "20/20 [==============================] - 0s 16ms/step - loss: 1.3125 - categorical_accuracy: 0.5125 - val_loss: 2.4273 - val_categorical_accuracy: 0.1500\n",
      "Epoch 548/1000\n",
      "20/20 [==============================] - 0s 17ms/step - loss: 1.3194 - categorical_accuracy: 0.5750 - val_loss: 2.3603 - val_categorical_accuracy: 0.2000\n",
      "Epoch 549/1000\n",
      "20/20 [==============================] - 0s 17ms/step - loss: 1.2146 - categorical_accuracy: 0.5625 - val_loss: 2.5346 - val_categorical_accuracy: 0.1000\n",
      "Epoch 550/1000\n",
      "20/20 [==============================] - 0s 15ms/step - loss: 1.2238 - categorical_accuracy: 0.5875 - val_loss: 1.9769 - val_categorical_accuracy: 0.1500\n",
      "Epoch 551/1000\n",
      "20/20 [==============================] - 0s 15ms/step - loss: 1.1863 - categorical_accuracy: 0.6375 - val_loss: 2.2713 - val_categorical_accuracy: 0.1000\n",
      "Epoch 552/1000\n",
      "20/20 [==============================] - 0s 15ms/step - loss: 1.2728 - categorical_accuracy: 0.6000 - val_loss: 2.1631 - val_categorical_accuracy: 0.1500\n",
      "Epoch 553/1000\n",
      "20/20 [==============================] - 0s 16ms/step - loss: 1.3693 - categorical_accuracy: 0.5250 - val_loss: 2.1892 - val_categorical_accuracy: 0.1500\n",
      "Epoch 554/1000\n",
      "20/20 [==============================] - 0s 15ms/step - loss: 1.3863 - categorical_accuracy: 0.5500 - val_loss: 2.1860 - val_categorical_accuracy: 0.0500\n",
      "Epoch 555/1000\n",
      "20/20 [==============================] - 0s 15ms/step - loss: 1.2385 - categorical_accuracy: 0.5750 - val_loss: 2.5095 - val_categorical_accuracy: 0.1500\n",
      "Epoch 556/1000\n",
      "20/20 [==============================] - 0s 15ms/step - loss: 1.2823 - categorical_accuracy: 0.5500 - val_loss: 2.7232 - val_categorical_accuracy: 0.0500\n",
      "Epoch 557/1000\n",
      "20/20 [==============================] - 0s 15ms/step - loss: 1.1938 - categorical_accuracy: 0.6125 - val_loss: 2.9036 - val_categorical_accuracy: 0.0000e+00\n",
      "Epoch 558/1000\n",
      "20/20 [==============================] - 0s 15ms/step - loss: 1.1256 - categorical_accuracy: 0.7125 - val_loss: 2.7950 - val_categorical_accuracy: 0.1000\n",
      "Epoch 559/1000\n",
      "20/20 [==============================] - 0s 14ms/step - loss: 1.3543 - categorical_accuracy: 0.5250 - val_loss: 2.6798 - val_categorical_accuracy: 0.2000\n",
      "Epoch 560/1000\n",
      "20/20 [==============================] - 0s 14ms/step - loss: 1.3465 - categorical_accuracy: 0.5125 - val_loss: 2.7096 - val_categorical_accuracy: 0.0500\n",
      "Epoch 561/1000\n",
      "20/20 [==============================] - 0s 15ms/step - loss: 1.3698 - categorical_accuracy: 0.4875 - val_loss: 2.7744 - val_categorical_accuracy: 0.2500\n",
      "Epoch 562/1000\n",
      "20/20 [==============================] - 0s 15ms/step - loss: 1.2499 - categorical_accuracy: 0.5250 - val_loss: 2.4048 - val_categorical_accuracy: 0.1500\n",
      "Epoch 563/1000\n",
      "20/20 [==============================] - 0s 15ms/step - loss: 1.3962 - categorical_accuracy: 0.5250 - val_loss: 2.5348 - val_categorical_accuracy: 0.0500\n",
      "Epoch 564/1000\n",
      "20/20 [==============================] - 0s 15ms/step - loss: 1.3768 - categorical_accuracy: 0.4500 - val_loss: 2.4325 - val_categorical_accuracy: 0.1500\n",
      "Epoch 565/1000\n",
      "20/20 [==============================] - 0s 14ms/step - loss: 1.2250 - categorical_accuracy: 0.5875 - val_loss: 2.4539 - val_categorical_accuracy: 0.2000\n",
      "Epoch 566/1000\n",
      "20/20 [==============================] - 0s 15ms/step - loss: 1.2173 - categorical_accuracy: 0.6625 - val_loss: 2.7919 - val_categorical_accuracy: 0.0500\n",
      "Epoch 567/1000\n",
      "20/20 [==============================] - 0s 16ms/step - loss: 1.2586 - categorical_accuracy: 0.6500 - val_loss: 2.3078 - val_categorical_accuracy: 0.0500\n",
      "Epoch 568/1000\n",
      "20/20 [==============================] - 0s 16ms/step - loss: 1.3189 - categorical_accuracy: 0.5500 - val_loss: 2.5864 - val_categorical_accuracy: 0.1000\n",
      "Epoch 569/1000\n",
      "20/20 [==============================] - 0s 14ms/step - loss: 1.2115 - categorical_accuracy: 0.6250 - val_loss: 2.6424 - val_categorical_accuracy: 0.2000\n",
      "Epoch 570/1000\n",
      "20/20 [==============================] - 0s 16ms/step - loss: 1.1567 - categorical_accuracy: 0.6125 - val_loss: 2.3928 - val_categorical_accuracy: 0.1500\n",
      "Epoch 571/1000\n",
      "20/20 [==============================] - 0s 14ms/step - loss: 1.1458 - categorical_accuracy: 0.6000 - val_loss: 2.3028 - val_categorical_accuracy: 0.1500\n",
      "Epoch 572/1000\n",
      "20/20 [==============================] - 0s 15ms/step - loss: 1.1952 - categorical_accuracy: 0.6000 - val_loss: 2.4599 - val_categorical_accuracy: 0.1000\n",
      "Epoch 573/1000\n",
      "20/20 [==============================] - 0s 16ms/step - loss: 1.1241 - categorical_accuracy: 0.6000 - val_loss: 2.3429 - val_categorical_accuracy: 0.0500\n",
      "Epoch 574/1000\n",
      "20/20 [==============================] - 0s 16ms/step - loss: 1.1653 - categorical_accuracy: 0.6250 - val_loss: 2.8023 - val_categorical_accuracy: 0.1000\n",
      "Epoch 575/1000\n",
      "20/20 [==============================] - 0s 15ms/step - loss: 1.2667 - categorical_accuracy: 0.5375 - val_loss: 2.2252 - val_categorical_accuracy: 0.2000\n",
      "Epoch 576/1000\n",
      "20/20 [==============================] - 0s 14ms/step - loss: 1.2918 - categorical_accuracy: 0.5750 - val_loss: 2.4590 - val_categorical_accuracy: 0.1500\n",
      "Epoch 577/1000\n",
      "20/20 [==============================] - 0s 15ms/step - loss: 1.0693 - categorical_accuracy: 0.6375 - val_loss: 2.6192 - val_categorical_accuracy: 0.1500\n",
      "Epoch 578/1000\n",
      "20/20 [==============================] - 0s 14ms/step - loss: 1.3069 - categorical_accuracy: 0.5125 - val_loss: 2.4643 - val_categorical_accuracy: 0.2000\n",
      "Epoch 579/1000\n",
      "20/20 [==============================] - 0s 16ms/step - loss: 1.2564 - categorical_accuracy: 0.5375 - val_loss: 2.5928 - val_categorical_accuracy: 0.1500\n",
      "Epoch 580/1000\n",
      "20/20 [==============================] - 0s 16ms/step - loss: 1.3671 - categorical_accuracy: 0.5500 - val_loss: 2.3349 - val_categorical_accuracy: 0.0500\n",
      "Epoch 581/1000\n",
      "20/20 [==============================] - 0s 17ms/step - loss: 1.1750 - categorical_accuracy: 0.5625 - val_loss: 2.7598 - val_categorical_accuracy: 0.1500\n",
      "Epoch 582/1000\n",
      "20/20 [==============================] - 0s 17ms/step - loss: 1.1727 - categorical_accuracy: 0.6000 - val_loss: 2.8060 - val_categorical_accuracy: 0.0000e+00\n",
      "Epoch 583/1000\n",
      "20/20 [==============================] - 0s 16ms/step - loss: 1.1958 - categorical_accuracy: 0.5500 - val_loss: 2.2602 - val_categorical_accuracy: 0.2000\n",
      "Epoch 584/1000\n",
      "20/20 [==============================] - 0s 17ms/step - loss: 1.4172 - categorical_accuracy: 0.4875 - val_loss: 2.7117 - val_categorical_accuracy: 0.0500\n",
      "Epoch 585/1000\n",
      "20/20 [==============================] - 0s 16ms/step - loss: 1.2951 - categorical_accuracy: 0.5625 - val_loss: 4.2661 - val_categorical_accuracy: 0.2500\n",
      "Epoch 586/1000\n",
      "20/20 [==============================] - 0s 17ms/step - loss: 1.0579 - categorical_accuracy: 0.6625 - val_loss: 2.3543 - val_categorical_accuracy: 0.2000\n",
      "Epoch 587/1000\n",
      "20/20 [==============================] - 0s 17ms/step - loss: 1.3339 - categorical_accuracy: 0.4625 - val_loss: 2.9120 - val_categorical_accuracy: 0.1000\n",
      "Epoch 588/1000\n",
      "20/20 [==============================] - 0s 16ms/step - loss: 1.2456 - categorical_accuracy: 0.5125 - val_loss: 2.9195 - val_categorical_accuracy: 0.0000e+00\n",
      "Epoch 589/1000\n",
      "20/20 [==============================] - 0s 16ms/step - loss: 1.2573 - categorical_accuracy: 0.5375 - val_loss: 3.2540 - val_categorical_accuracy: 0.1000\n",
      "Epoch 590/1000\n",
      "20/20 [==============================] - 0s 16ms/step - loss: 1.1606 - categorical_accuracy: 0.6625 - val_loss: 3.1053 - val_categorical_accuracy: 0.1000\n",
      "Epoch 591/1000\n",
      "20/20 [==============================] - 0s 16ms/step - loss: 1.2286 - categorical_accuracy: 0.5625 - val_loss: 2.5897 - val_categorical_accuracy: 0.0500\n",
      "Epoch 592/1000\n",
      "20/20 [==============================] - 0s 17ms/step - loss: 1.0235 - categorical_accuracy: 0.7000 - val_loss: 2.6592 - val_categorical_accuracy: 0.0000e+00\n",
      "Epoch 593/1000\n",
      "20/20 [==============================] - 0s 17ms/step - loss: 1.1596 - categorical_accuracy: 0.6375 - val_loss: 2.6210 - val_categorical_accuracy: 0.1500\n",
      "Epoch 594/1000\n",
      "20/20 [==============================] - 0s 17ms/step - loss: 1.0875 - categorical_accuracy: 0.6375 - val_loss: 2.5120 - val_categorical_accuracy: 0.0500\n",
      "Epoch 595/1000\n",
      "20/20 [==============================] - 0s 17ms/step - loss: 1.1416 - categorical_accuracy: 0.6500 - val_loss: 2.2483 - val_categorical_accuracy: 0.2000\n",
      "Epoch 596/1000\n",
      "20/20 [==============================] - 0s 16ms/step - loss: 1.1785 - categorical_accuracy: 0.5750 - val_loss: 2.1326 - val_categorical_accuracy: 0.2000\n",
      "Epoch 597/1000\n",
      "20/20 [==============================] - 0s 14ms/step - loss: 1.1648 - categorical_accuracy: 0.6375 - val_loss: 2.5793 - val_categorical_accuracy: 0.1500\n",
      "Epoch 598/1000\n",
      "20/20 [==============================] - 0s 16ms/step - loss: 1.2498 - categorical_accuracy: 0.5625 - val_loss: 2.3458 - val_categorical_accuracy: 0.2000\n",
      "Epoch 599/1000\n",
      "20/20 [==============================] - 0s 18ms/step - loss: 1.2869 - categorical_accuracy: 0.5750 - val_loss: 2.3819 - val_categorical_accuracy: 0.2000\n",
      "Epoch 600/1000\n",
      "20/20 [==============================] - 0s 16ms/step - loss: 1.3187 - categorical_accuracy: 0.5250 - val_loss: 2.2310 - val_categorical_accuracy: 0.1500\n",
      "Epoch 601/1000\n",
      "20/20 [==============================] - 0s 17ms/step - loss: 1.1112 - categorical_accuracy: 0.6625 - val_loss: 1.9632 - val_categorical_accuracy: 0.3500\n",
      "Epoch 602/1000\n",
      "20/20 [==============================] - 0s 16ms/step - loss: 1.2392 - categorical_accuracy: 0.6000 - val_loss: 2.2844 - val_categorical_accuracy: 0.2000\n",
      "Epoch 603/1000\n",
      "20/20 [==============================] - 0s 17ms/step - loss: 1.2109 - categorical_accuracy: 0.6125 - val_loss: 2.5802 - val_categorical_accuracy: 0.1000\n",
      "Epoch 604/1000\n",
      "20/20 [==============================] - 0s 16ms/step - loss: 1.1746 - categorical_accuracy: 0.6375 - val_loss: 2.3746 - val_categorical_accuracy: 0.2000\n",
      "Epoch 605/1000\n",
      "20/20 [==============================] - 0s 15ms/step - loss: 1.3128 - categorical_accuracy: 0.5500 - val_loss: 2.2762 - val_categorical_accuracy: 0.0500\n",
      "Epoch 606/1000\n",
      "20/20 [==============================] - 0s 15ms/step - loss: 1.2816 - categorical_accuracy: 0.5250 - val_loss: 2.5837 - val_categorical_accuracy: 0.1500\n",
      "Epoch 607/1000\n",
      "20/20 [==============================] - 0s 14ms/step - loss: 1.2328 - categorical_accuracy: 0.6250 - val_loss: 2.1625 - val_categorical_accuracy: 0.2000\n",
      "Epoch 608/1000\n",
      "20/20 [==============================] - 0s 15ms/step - loss: 1.2097 - categorical_accuracy: 0.5500 - val_loss: 2.9364 - val_categorical_accuracy: 0.0500\n",
      "Epoch 609/1000\n",
      "20/20 [==============================] - 0s 16ms/step - loss: 1.1209 - categorical_accuracy: 0.7000 - val_loss: 2.7514 - val_categorical_accuracy: 0.1000\n",
      "Epoch 610/1000\n",
      "20/20 [==============================] - 0s 15ms/step - loss: 1.2236 - categorical_accuracy: 0.6000 - val_loss: 2.6042 - val_categorical_accuracy: 0.1500\n",
      "Epoch 611/1000\n",
      "20/20 [==============================] - 0s 14ms/step - loss: 1.3483 - categorical_accuracy: 0.4625 - val_loss: 2.8071 - val_categorical_accuracy: 0.1000\n",
      "Epoch 612/1000\n",
      "20/20 [==============================] - 0s 15ms/step - loss: 1.1355 - categorical_accuracy: 0.6625 - val_loss: 3.0649 - val_categorical_accuracy: 0.0500\n",
      "Epoch 613/1000\n",
      "20/20 [==============================] - 0s 14ms/step - loss: 1.1901 - categorical_accuracy: 0.6250 - val_loss: 2.2619 - val_categorical_accuracy: 0.0500\n",
      "Epoch 614/1000\n",
      "20/20 [==============================] - 0s 16ms/step - loss: 1.1737 - categorical_accuracy: 0.6125 - val_loss: 2.1778 - val_categorical_accuracy: 0.1500\n",
      "Epoch 615/1000\n",
      "20/20 [==============================] - 0s 15ms/step - loss: 1.1084 - categorical_accuracy: 0.6000 - val_loss: 2.2594 - val_categorical_accuracy: 0.2500\n",
      "Epoch 616/1000\n",
      "20/20 [==============================] - 0s 14ms/step - loss: 1.2035 - categorical_accuracy: 0.5750 - val_loss: 2.2819 - val_categorical_accuracy: 0.0500\n",
      "Epoch 617/1000\n",
      "20/20 [==============================] - 0s 15ms/step - loss: 1.0753 - categorical_accuracy: 0.6875 - val_loss: 2.2413 - val_categorical_accuracy: 0.2000\n",
      "Epoch 618/1000\n",
      "20/20 [==============================] - 0s 15ms/step - loss: 1.2617 - categorical_accuracy: 0.5500 - val_loss: 2.5784 - val_categorical_accuracy: 0.3000\n",
      "Epoch 619/1000\n",
      "20/20 [==============================] - 0s 15ms/step - loss: 1.2316 - categorical_accuracy: 0.5000 - val_loss: 2.2072 - val_categorical_accuracy: 0.1500\n",
      "Epoch 620/1000\n",
      "20/20 [==============================] - 0s 17ms/step - loss: 1.1915 - categorical_accuracy: 0.6000 - val_loss: 1.9601 - val_categorical_accuracy: 0.3500\n",
      "Epoch 621/1000\n",
      "20/20 [==============================] - 0s 14ms/step - loss: 1.2470 - categorical_accuracy: 0.6125 - val_loss: 2.6676 - val_categorical_accuracy: 0.1500\n",
      "Epoch 622/1000\n",
      "20/20 [==============================] - 0s 15ms/step - loss: 1.1568 - categorical_accuracy: 0.5875 - val_loss: 2.2766 - val_categorical_accuracy: 0.2000\n",
      "Epoch 623/1000\n",
      "20/20 [==============================] - 0s 16ms/step - loss: 1.2524 - categorical_accuracy: 0.5875 - val_loss: 2.6315 - val_categorical_accuracy: 0.1500\n",
      "Epoch 624/1000\n",
      "20/20 [==============================] - 0s 16ms/step - loss: 1.1274 - categorical_accuracy: 0.6750 - val_loss: 2.5721 - val_categorical_accuracy: 0.2000\n",
      "Epoch 625/1000\n",
      "20/20 [==============================] - 0s 14ms/step - loss: 1.1543 - categorical_accuracy: 0.5875 - val_loss: 2.0261 - val_categorical_accuracy: 0.2500\n",
      "Epoch 626/1000\n",
      "20/20 [==============================] - 0s 16ms/step - loss: 1.3311 - categorical_accuracy: 0.4875 - val_loss: 2.3282 - val_categorical_accuracy: 0.1000\n",
      "Epoch 627/1000\n",
      "20/20 [==============================] - 0s 15ms/step - loss: 1.2781 - categorical_accuracy: 0.4875 - val_loss: 2.3682 - val_categorical_accuracy: 0.1500\n",
      "Epoch 628/1000\n",
      "20/20 [==============================] - 0s 16ms/step - loss: 1.0864 - categorical_accuracy: 0.6625 - val_loss: 2.2670 - val_categorical_accuracy: 0.1500\n",
      "Epoch 629/1000\n",
      "20/20 [==============================] - 0s 15ms/step - loss: 1.1808 - categorical_accuracy: 0.5875 - val_loss: 2.1621 - val_categorical_accuracy: 0.3000\n",
      "Epoch 630/1000\n",
      "20/20 [==============================] - 0s 15ms/step - loss: 1.1490 - categorical_accuracy: 0.6625 - val_loss: 2.5246 - val_categorical_accuracy: 0.1500\n",
      "Epoch 631/1000\n",
      "20/20 [==============================] - 0s 18ms/step - loss: 1.2459 - categorical_accuracy: 0.5750 - val_loss: 2.4367 - val_categorical_accuracy: 0.1500\n",
      "Epoch 632/1000\n",
      "20/20 [==============================] - 0s 14ms/step - loss: 1.2283 - categorical_accuracy: 0.5250 - val_loss: 2.5361 - val_categorical_accuracy: 0.0500\n",
      "Epoch 633/1000\n",
      "20/20 [==============================] - 0s 15ms/step - loss: 1.1165 - categorical_accuracy: 0.5875 - val_loss: 2.3103 - val_categorical_accuracy: 0.1500\n",
      "Epoch 634/1000\n",
      "20/20 [==============================] - 0s 16ms/step - loss: 1.1266 - categorical_accuracy: 0.6500 - val_loss: 2.1603 - val_categorical_accuracy: 0.2000\n",
      "Epoch 635/1000\n",
      "20/20 [==============================] - 0s 15ms/step - loss: 1.1764 - categorical_accuracy: 0.6375 - val_loss: 2.1418 - val_categorical_accuracy: 0.2000\n",
      "Epoch 636/1000\n",
      "20/20 [==============================] - 0s 16ms/step - loss: 1.1973 - categorical_accuracy: 0.5625 - val_loss: 2.4316 - val_categorical_accuracy: 0.1500\n",
      "Epoch 637/1000\n",
      "20/20 [==============================] - 0s 14ms/step - loss: 1.1563 - categorical_accuracy: 0.6625 - val_loss: 2.2414 - val_categorical_accuracy: 0.0500\n",
      "Epoch 638/1000\n",
      "20/20 [==============================] - 0s 15ms/step - loss: 1.1849 - categorical_accuracy: 0.5875 - val_loss: 2.6924 - val_categorical_accuracy: 0.1000\n",
      "Epoch 639/1000\n",
      "20/20 [==============================] - 0s 18ms/step - loss: 1.1401 - categorical_accuracy: 0.6375 - val_loss: 2.3327 - val_categorical_accuracy: 0.2000\n",
      "Epoch 640/1000\n",
      "20/20 [==============================] - 0s 13ms/step - loss: 1.0850 - categorical_accuracy: 0.6000 - val_loss: 2.5042 - val_categorical_accuracy: 0.1500\n",
      "Epoch 641/1000\n",
      "20/20 [==============================] - 0s 15ms/step - loss: 1.2502 - categorical_accuracy: 0.6000 - val_loss: 2.4677 - val_categorical_accuracy: 0.1000\n",
      "Epoch 642/1000\n",
      "20/20 [==============================] - 0s 16ms/step - loss: 1.0284 - categorical_accuracy: 0.7000 - val_loss: 2.5248 - val_categorical_accuracy: 0.2000\n",
      "Epoch 643/1000\n",
      "20/20 [==============================] - 0s 17ms/step - loss: 1.2036 - categorical_accuracy: 0.6000 - val_loss: 2.4721 - val_categorical_accuracy: 0.1000\n",
      "Epoch 644/1000\n",
      "20/20 [==============================] - 0s 17ms/step - loss: 1.2891 - categorical_accuracy: 0.6250 - val_loss: 2.3255 - val_categorical_accuracy: 0.1500\n",
      "Epoch 645/1000\n",
      "20/20 [==============================] - 0s 15ms/step - loss: 1.2267 - categorical_accuracy: 0.6000 - val_loss: 2.3541 - val_categorical_accuracy: 0.1000\n",
      "Epoch 646/1000\n",
      "20/20 [==============================] - 0s 15ms/step - loss: 1.4831 - categorical_accuracy: 0.3875 - val_loss: 2.2547 - val_categorical_accuracy: 0.1000\n",
      "Epoch 647/1000\n",
      "20/20 [==============================] - 0s 19ms/step - loss: 1.1792 - categorical_accuracy: 0.5875 - val_loss: 2.8439 - val_categorical_accuracy: 0.1000\n",
      "Epoch 648/1000\n",
      "20/20 [==============================] - 0s 16ms/step - loss: 1.0105 - categorical_accuracy: 0.7500 - val_loss: 2.1669 - val_categorical_accuracy: 0.2000\n",
      "Epoch 649/1000\n",
      "20/20 [==============================] - 0s 17ms/step - loss: 1.1512 - categorical_accuracy: 0.6250 - val_loss: 2.4219 - val_categorical_accuracy: 0.0500\n",
      "Epoch 650/1000\n",
      "20/20 [==============================] - 0s 16ms/step - loss: 1.1568 - categorical_accuracy: 0.6000 - val_loss: 2.1324 - val_categorical_accuracy: 0.3000\n",
      "Epoch 651/1000\n",
      "20/20 [==============================] - 0s 15ms/step - loss: 1.2103 - categorical_accuracy: 0.6000 - val_loss: 2.4899 - val_categorical_accuracy: 0.1500\n",
      "Epoch 652/1000\n",
      "20/20 [==============================] - 0s 15ms/step - loss: 1.2874 - categorical_accuracy: 0.5250 - val_loss: 2.2685 - val_categorical_accuracy: 0.1000\n",
      "Epoch 653/1000\n",
      "20/20 [==============================] - 0s 16ms/step - loss: 1.1510 - categorical_accuracy: 0.6375 - val_loss: 2.4035 - val_categorical_accuracy: 0.2000\n",
      "Epoch 654/1000\n",
      "20/20 [==============================] - 0s 15ms/step - loss: 1.1639 - categorical_accuracy: 0.5750 - val_loss: 2.3845 - val_categorical_accuracy: 0.2000\n",
      "Epoch 655/1000\n",
      "20/20 [==============================] - 0s 15ms/step - loss: 1.1744 - categorical_accuracy: 0.6125 - val_loss: 1.9494 - val_categorical_accuracy: 0.2000\n",
      "Epoch 656/1000\n",
      "20/20 [==============================] - 0s 15ms/step - loss: 1.3067 - categorical_accuracy: 0.5625 - val_loss: 2.4374 - val_categorical_accuracy: 0.1500\n",
      "Epoch 657/1000\n",
      "20/20 [==============================] - 0s 15ms/step - loss: 1.2645 - categorical_accuracy: 0.6500 - val_loss: 2.5434 - val_categorical_accuracy: 0.1500\n",
      "Epoch 658/1000\n",
      "20/20 [==============================] - 0s 15ms/step - loss: 1.2130 - categorical_accuracy: 0.5250 - val_loss: 2.6599 - val_categorical_accuracy: 0.1500\n",
      "Epoch 659/1000\n",
      "20/20 [==============================] - 0s 14ms/step - loss: 1.1595 - categorical_accuracy: 0.6250 - val_loss: 2.1506 - val_categorical_accuracy: 0.1500\n",
      "Epoch 660/1000\n",
      "20/20 [==============================] - 0s 16ms/step - loss: 1.1245 - categorical_accuracy: 0.6375 - val_loss: 2.4409 - val_categorical_accuracy: 0.1000\n",
      "Epoch 661/1000\n",
      "20/20 [==============================] - 0s 13ms/step - loss: 1.0365 - categorical_accuracy: 0.6875 - val_loss: 2.3163 - val_categorical_accuracy: 0.1500\n",
      "Epoch 662/1000\n",
      "20/20 [==============================] - 0s 15ms/step - loss: 0.9997 - categorical_accuracy: 0.7000 - val_loss: 2.4356 - val_categorical_accuracy: 0.2000\n",
      "Epoch 663/1000\n",
      "20/20 [==============================] - 0s 15ms/step - loss: 1.2051 - categorical_accuracy: 0.5875 - val_loss: 2.0464 - val_categorical_accuracy: 0.2000\n",
      "Epoch 664/1000\n",
      "20/20 [==============================] - 0s 15ms/step - loss: 1.1957 - categorical_accuracy: 0.6250 - val_loss: 2.1279 - val_categorical_accuracy: 0.2000\n",
      "Epoch 665/1000\n",
      "20/20 [==============================] - 0s 15ms/step - loss: 1.3159 - categorical_accuracy: 0.5625 - val_loss: 2.3145 - val_categorical_accuracy: 0.0500\n",
      "Epoch 666/1000\n",
      "20/20 [==============================] - 0s 15ms/step - loss: 1.1785 - categorical_accuracy: 0.5625 - val_loss: 1.8853 - val_categorical_accuracy: 0.2000\n",
      "Epoch 667/1000\n",
      "20/20 [==============================] - 0s 15ms/step - loss: 1.2497 - categorical_accuracy: 0.5750 - val_loss: 2.3498 - val_categorical_accuracy: 0.1500\n",
      "Epoch 668/1000\n",
      "20/20 [==============================] - 0s 15ms/step - loss: 1.1112 - categorical_accuracy: 0.6250 - val_loss: 2.4746 - val_categorical_accuracy: 0.1500\n",
      "Epoch 669/1000\n",
      "20/20 [==============================] - 0s 15ms/step - loss: 1.2023 - categorical_accuracy: 0.5625 - val_loss: 2.6382 - val_categorical_accuracy: 0.1000\n",
      "Epoch 670/1000\n",
      "20/20 [==============================] - 0s 14ms/step - loss: 1.1711 - categorical_accuracy: 0.5625 - val_loss: 2.4035 - val_categorical_accuracy: 0.2500\n",
      "Epoch 671/1000\n",
      "20/20 [==============================] - 0s 15ms/step - loss: 1.1089 - categorical_accuracy: 0.6500 - val_loss: 2.6629 - val_categorical_accuracy: 0.1500\n",
      "Epoch 672/1000\n",
      "20/20 [==============================] - 0s 14ms/step - loss: 0.9695 - categorical_accuracy: 0.7500 - val_loss: 2.2081 - val_categorical_accuracy: 0.2000\n",
      "Epoch 673/1000\n",
      "20/20 [==============================] - 0s 16ms/step - loss: 1.2890 - categorical_accuracy: 0.5250 - val_loss: 2.9397 - val_categorical_accuracy: 0.2000\n",
      "Epoch 674/1000\n",
      "20/20 [==============================] - 0s 16ms/step - loss: 1.2477 - categorical_accuracy: 0.6000 - val_loss: 2.3756 - val_categorical_accuracy: 0.1500\n",
      "Epoch 675/1000\n",
      "20/20 [==============================] - 0s 15ms/step - loss: 1.2660 - categorical_accuracy: 0.5250 - val_loss: 2.5559 - val_categorical_accuracy: 0.0500\n",
      "Epoch 676/1000\n",
      "20/20 [==============================] - 0s 14ms/step - loss: 1.2776 - categorical_accuracy: 0.5000 - val_loss: 2.7342 - val_categorical_accuracy: 0.1500\n",
      "Epoch 677/1000\n",
      "20/20 [==============================] - 0s 16ms/step - loss: 1.0851 - categorical_accuracy: 0.6250 - val_loss: 2.2486 - val_categorical_accuracy: 0.2000\n",
      "Epoch 678/1000\n",
      "20/20 [==============================] - 0s 15ms/step - loss: 1.1517 - categorical_accuracy: 0.6250 - val_loss: 2.2311 - val_categorical_accuracy: 0.2000\n",
      "Epoch 679/1000\n",
      "20/20 [==============================] - 0s 14ms/step - loss: 1.3193 - categorical_accuracy: 0.5125 - val_loss: 2.4269 - val_categorical_accuracy: 0.2000\n",
      "Epoch 680/1000\n",
      "20/20 [==============================] - 0s 15ms/step - loss: 1.1648 - categorical_accuracy: 0.6125 - val_loss: 2.4052 - val_categorical_accuracy: 0.2500\n",
      "Epoch 681/1000\n",
      "20/20 [==============================] - 0s 15ms/step - loss: 1.0770 - categorical_accuracy: 0.6125 - val_loss: 2.1242 - val_categorical_accuracy: 0.3500\n",
      "Epoch 682/1000\n",
      "20/20 [==============================] - 0s 14ms/step - loss: 1.2178 - categorical_accuracy: 0.6000 - val_loss: 2.4303 - val_categorical_accuracy: 0.3000\n",
      "Epoch 683/1000\n",
      "20/20 [==============================] - 0s 15ms/step - loss: 1.1375 - categorical_accuracy: 0.6625 - val_loss: 2.2046 - val_categorical_accuracy: 0.1500\n",
      "Epoch 684/1000\n",
      "20/20 [==============================] - 0s 14ms/step - loss: 1.1979 - categorical_accuracy: 0.6125 - val_loss: 2.9002 - val_categorical_accuracy: 0.1000\n",
      "Epoch 685/1000\n",
      "20/20 [==============================] - 0s 15ms/step - loss: 0.9900 - categorical_accuracy: 0.7500 - val_loss: 2.6477 - val_categorical_accuracy: 0.2000\n",
      "Epoch 686/1000\n",
      "20/20 [==============================] - 0s 17ms/step - loss: 1.0967 - categorical_accuracy: 0.5875 - val_loss: 2.9424 - val_categorical_accuracy: 0.1000\n",
      "Epoch 687/1000\n",
      "20/20 [==============================] - 0s 14ms/step - loss: 1.1107 - categorical_accuracy: 0.6375 - val_loss: 2.5392 - val_categorical_accuracy: 0.1500\n",
      "Epoch 688/1000\n",
      "20/20 [==============================] - 0s 14ms/step - loss: 1.0327 - categorical_accuracy: 0.6750 - val_loss: 2.2230 - val_categorical_accuracy: 0.4000\n",
      "Epoch 689/1000\n",
      "20/20 [==============================] - 0s 15ms/step - loss: 1.1656 - categorical_accuracy: 0.6375 - val_loss: 2.5663 - val_categorical_accuracy: 0.2000\n",
      "Epoch 690/1000\n",
      "20/20 [==============================] - 0s 15ms/step - loss: 1.1508 - categorical_accuracy: 0.5750 - val_loss: 2.3845 - val_categorical_accuracy: 0.2000\n",
      "Epoch 691/1000\n",
      "20/20 [==============================] - 0s 16ms/step - loss: 1.0914 - categorical_accuracy: 0.6625 - val_loss: 2.2538 - val_categorical_accuracy: 0.1500\n",
      "Epoch 692/1000\n",
      "20/20 [==============================] - 0s 16ms/step - loss: 1.1204 - categorical_accuracy: 0.6125 - val_loss: 2.6022 - val_categorical_accuracy: 0.1500\n",
      "Epoch 693/1000\n",
      "20/20 [==============================] - 0s 16ms/step - loss: 1.1910 - categorical_accuracy: 0.6375 - val_loss: 2.5163 - val_categorical_accuracy: 0.2000\n",
      "Epoch 694/1000\n",
      "20/20 [==============================] - 0s 15ms/step - loss: 1.1223 - categorical_accuracy: 0.6750 - val_loss: 2.2876 - val_categorical_accuracy: 0.2000\n",
      "Epoch 695/1000\n",
      "20/20 [==============================] - 0s 16ms/step - loss: 0.9423 - categorical_accuracy: 0.7625 - val_loss: 2.3604 - val_categorical_accuracy: 0.2000\n",
      "Epoch 696/1000\n",
      "20/20 [==============================] - 0s 16ms/step - loss: 1.1648 - categorical_accuracy: 0.5625 - val_loss: 2.1120 - val_categorical_accuracy: 0.3000\n",
      "Epoch 697/1000\n",
      "20/20 [==============================] - 0s 15ms/step - loss: 1.1345 - categorical_accuracy: 0.6000 - val_loss: 2.0660 - val_categorical_accuracy: 0.2500\n",
      "Epoch 698/1000\n",
      "20/20 [==============================] - 0s 16ms/step - loss: 1.0071 - categorical_accuracy: 0.6750 - val_loss: 2.1682 - val_categorical_accuracy: 0.2500\n",
      "Epoch 699/1000\n",
      "20/20 [==============================] - 0s 17ms/step - loss: 1.0840 - categorical_accuracy: 0.6625 - val_loss: 2.5697 - val_categorical_accuracy: 0.1000\n",
      "Epoch 700/1000\n",
      "20/20 [==============================] - 0s 16ms/step - loss: 1.0684 - categorical_accuracy: 0.6125 - val_loss: 2.5154 - val_categorical_accuracy: 0.2500\n",
      "Epoch 701/1000\n",
      "20/20 [==============================] - 0s 16ms/step - loss: 1.1379 - categorical_accuracy: 0.6500 - val_loss: 2.1724 - val_categorical_accuracy: 0.2000\n",
      "Epoch 702/1000\n",
      "20/20 [==============================] - 0s 17ms/step - loss: 1.1156 - categorical_accuracy: 0.6125 - val_loss: 2.3405 - val_categorical_accuracy: 0.2500\n",
      "Epoch 703/1000\n",
      "20/20 [==============================] - 0s 17ms/step - loss: 1.1491 - categorical_accuracy: 0.6000 - val_loss: 2.0253 - val_categorical_accuracy: 0.3000\n",
      "Epoch 704/1000\n",
      "20/20 [==============================] - 0s 15ms/step - loss: 1.3970 - categorical_accuracy: 0.5125 - val_loss: 2.5568 - val_categorical_accuracy: 0.1500\n",
      "Epoch 705/1000\n",
      "20/20 [==============================] - 0s 17ms/step - loss: 1.0422 - categorical_accuracy: 0.6750 - val_loss: 2.1456 - val_categorical_accuracy: 0.2500\n",
      "Epoch 706/1000\n",
      "20/20 [==============================] - 0s 16ms/step - loss: 1.1714 - categorical_accuracy: 0.6000 - val_loss: 2.4038 - val_categorical_accuracy: 0.1000\n",
      "Epoch 707/1000\n",
      "20/20 [==============================] - 0s 17ms/step - loss: 1.1056 - categorical_accuracy: 0.5750 - val_loss: 2.1930 - val_categorical_accuracy: 0.2000\n",
      "Epoch 708/1000\n",
      "20/20 [==============================] - 0s 17ms/step - loss: 1.0766 - categorical_accuracy: 0.6875 - val_loss: 2.4142 - val_categorical_accuracy: 0.2000\n",
      "Epoch 709/1000\n",
      "20/20 [==============================] - 0s 15ms/step - loss: 1.2550 - categorical_accuracy: 0.5500 - val_loss: 2.5215 - val_categorical_accuracy: 0.1000\n",
      "Epoch 710/1000\n",
      "20/20 [==============================] - 0s 16ms/step - loss: 1.2612 - categorical_accuracy: 0.5000 - val_loss: 2.2457 - val_categorical_accuracy: 0.2000\n",
      "Epoch 711/1000\n",
      "20/20 [==============================] - 0s 17ms/step - loss: 1.2871 - categorical_accuracy: 0.5500 - val_loss: 2.2182 - val_categorical_accuracy: 0.1500\n",
      "Epoch 712/1000\n",
      "20/20 [==============================] - 0s 18ms/step - loss: 1.1009 - categorical_accuracy: 0.6750 - val_loss: 2.2735 - val_categorical_accuracy: 0.1000\n",
      "Epoch 713/1000\n",
      "20/20 [==============================] - 0s 16ms/step - loss: 1.1080 - categorical_accuracy: 0.6250 - val_loss: 2.4992 - val_categorical_accuracy: 0.2000\n",
      "Epoch 714/1000\n",
      "20/20 [==============================] - 0s 15ms/step - loss: 1.1041 - categorical_accuracy: 0.6375 - val_loss: 2.2223 - val_categorical_accuracy: 0.2500\n",
      "Epoch 715/1000\n",
      "20/20 [==============================] - 0s 15ms/step - loss: 1.1516 - categorical_accuracy: 0.5625 - val_loss: 2.1628 - val_categorical_accuracy: 0.1500\n",
      "Epoch 716/1000\n",
      "20/20 [==============================] - 0s 15ms/step - loss: 1.1198 - categorical_accuracy: 0.5500 - val_loss: 2.5545 - val_categorical_accuracy: 0.1500\n",
      "Epoch 717/1000\n",
      "20/20 [==============================] - 0s 16ms/step - loss: 0.9900 - categorical_accuracy: 0.6625 - val_loss: 2.5596 - val_categorical_accuracy: 0.2000\n",
      "Epoch 718/1000\n",
      "20/20 [==============================] - 0s 16ms/step - loss: 1.1097 - categorical_accuracy: 0.6250 - val_loss: 2.6064 - val_categorical_accuracy: 0.1500\n",
      "Epoch 719/1000\n",
      "20/20 [==============================] - 0s 19ms/step - loss: 0.9864 - categorical_accuracy: 0.6750 - val_loss: 1.9539 - val_categorical_accuracy: 0.2000\n",
      "Epoch 720/1000\n",
      "20/20 [==============================] - 0s 16ms/step - loss: 1.1382 - categorical_accuracy: 0.6250 - val_loss: 2.0407 - val_categorical_accuracy: 0.3500\n",
      "Epoch 721/1000\n",
      "20/20 [==============================] - 0s 15ms/step - loss: 1.0496 - categorical_accuracy: 0.6375 - val_loss: 2.5150 - val_categorical_accuracy: 0.2000\n",
      "Epoch 722/1000\n",
      "20/20 [==============================] - 0s 15ms/step - loss: 1.1836 - categorical_accuracy: 0.6125 - val_loss: 1.9619 - val_categorical_accuracy: 0.3000\n",
      "Epoch 723/1000\n",
      "20/20 [==============================] - 0s 16ms/step - loss: 1.0187 - categorical_accuracy: 0.6500 - val_loss: 2.0998 - val_categorical_accuracy: 0.2000\n",
      "Epoch 724/1000\n",
      "20/20 [==============================] - 0s 17ms/step - loss: 0.9807 - categorical_accuracy: 0.6625 - val_loss: 2.1232 - val_categorical_accuracy: 0.2500\n",
      "Epoch 725/1000\n",
      "20/20 [==============================] - 0s 15ms/step - loss: 1.1227 - categorical_accuracy: 0.6250 - val_loss: 2.4104 - val_categorical_accuracy: 0.1500\n",
      "Epoch 726/1000\n",
      "20/20 [==============================] - 0s 16ms/step - loss: 1.1100 - categorical_accuracy: 0.6500 - val_loss: 2.1191 - val_categorical_accuracy: 0.2500\n",
      "Epoch 727/1000\n",
      "20/20 [==============================] - 0s 15ms/step - loss: 1.0711 - categorical_accuracy: 0.6875 - val_loss: 2.5587 - val_categorical_accuracy: 0.1500\n",
      "Epoch 728/1000\n",
      "20/20 [==============================] - 0s 15ms/step - loss: 1.0771 - categorical_accuracy: 0.6250 - val_loss: 2.5115 - val_categorical_accuracy: 0.0500\n",
      "Epoch 729/1000\n",
      "20/20 [==============================] - 0s 15ms/step - loss: 1.1087 - categorical_accuracy: 0.6500 - val_loss: 2.4838 - val_categorical_accuracy: 0.1000\n",
      "Epoch 730/1000\n",
      "20/20 [==============================] - 0s 14ms/step - loss: 1.1034 - categorical_accuracy: 0.5750 - val_loss: 2.0635 - val_categorical_accuracy: 0.2500\n",
      "Epoch 731/1000\n",
      "20/20 [==============================] - 0s 15ms/step - loss: 0.8893 - categorical_accuracy: 0.7000 - val_loss: 2.2804 - val_categorical_accuracy: 0.2500\n",
      "Epoch 732/1000\n",
      "20/20 [==============================] - 0s 14ms/step - loss: 1.1202 - categorical_accuracy: 0.6000 - val_loss: 2.5949 - val_categorical_accuracy: 0.1000\n",
      "Epoch 733/1000\n",
      "20/20 [==============================] - 0s 17ms/step - loss: 1.2854 - categorical_accuracy: 0.5000 - val_loss: 2.6532 - val_categorical_accuracy: 0.1500\n",
      "Epoch 734/1000\n",
      "20/20 [==============================] - 0s 15ms/step - loss: 1.0343 - categorical_accuracy: 0.6500 - val_loss: 2.7941 - val_categorical_accuracy: 0.1500\n",
      "Epoch 735/1000\n",
      "20/20 [==============================] - 0s 15ms/step - loss: 1.3081 - categorical_accuracy: 0.5125 - val_loss: 2.6814 - val_categorical_accuracy: 0.0500\n",
      "Epoch 736/1000\n",
      "20/20 [==============================] - 0s 16ms/step - loss: 1.0874 - categorical_accuracy: 0.6750 - val_loss: 2.6815 - val_categorical_accuracy: 0.1000\n",
      "Epoch 737/1000\n",
      "20/20 [==============================] - 0s 15ms/step - loss: 1.0686 - categorical_accuracy: 0.6375 - val_loss: 2.7985 - val_categorical_accuracy: 0.0500\n",
      "Epoch 738/1000\n",
      "20/20 [==============================] - 0s 15ms/step - loss: 1.1347 - categorical_accuracy: 0.6250 - val_loss: 2.3203 - val_categorical_accuracy: 0.1500\n",
      "Epoch 739/1000\n",
      "20/20 [==============================] - 0s 15ms/step - loss: 1.2619 - categorical_accuracy: 0.6000 - val_loss: 2.2793 - val_categorical_accuracy: 0.1500\n",
      "Epoch 740/1000\n",
      "20/20 [==============================] - 0s 14ms/step - loss: 1.2529 - categorical_accuracy: 0.5875 - val_loss: 2.5206 - val_categorical_accuracy: 0.2000\n",
      "Epoch 741/1000\n",
      "20/20 [==============================] - 0s 15ms/step - loss: 1.0838 - categorical_accuracy: 0.6375 - val_loss: 2.1521 - val_categorical_accuracy: 0.1000\n",
      "Epoch 742/1000\n",
      "20/20 [==============================] - 0s 15ms/step - loss: 1.2528 - categorical_accuracy: 0.5500 - val_loss: 2.5640 - val_categorical_accuracy: 0.2000\n",
      "Epoch 743/1000\n",
      "20/20 [==============================] - 0s 14ms/step - loss: 1.1174 - categorical_accuracy: 0.5625 - val_loss: 2.3985 - val_categorical_accuracy: 0.2000\n",
      "Epoch 744/1000\n",
      "20/20 [==============================] - 0s 14ms/step - loss: 1.0469 - categorical_accuracy: 0.6875 - val_loss: 2.6586 - val_categorical_accuracy: 0.0500\n",
      "Epoch 745/1000\n",
      "20/20 [==============================] - 0s 13ms/step - loss: 1.1057 - categorical_accuracy: 0.6625 - val_loss: 2.0701 - val_categorical_accuracy: 0.1500\n",
      "Epoch 746/1000\n",
      "20/20 [==============================] - 0s 15ms/step - loss: 1.1603 - categorical_accuracy: 0.6125 - val_loss: 2.6437 - val_categorical_accuracy: 0.2000\n",
      "Epoch 747/1000\n",
      "20/20 [==============================] - 0s 15ms/step - loss: 1.0772 - categorical_accuracy: 0.5750 - val_loss: 2.5651 - val_categorical_accuracy: 0.2000\n",
      "Epoch 748/1000\n",
      "20/20 [==============================] - 0s 15ms/step - loss: 0.9902 - categorical_accuracy: 0.6000 - val_loss: 2.8781 - val_categorical_accuracy: 0.0500\n",
      "Epoch 749/1000\n",
      "20/20 [==============================] - 0s 15ms/step - loss: 1.1131 - categorical_accuracy: 0.6500 - val_loss: 2.6359 - val_categorical_accuracy: 0.1500\n",
      "Epoch 750/1000\n",
      "20/20 [==============================] - 0s 14ms/step - loss: 1.3048 - categorical_accuracy: 0.5125 - val_loss: 2.4710 - val_categorical_accuracy: 0.1000\n",
      "Epoch 751/1000\n",
      "20/20 [==============================] - 0s 17ms/step - loss: 1.1380 - categorical_accuracy: 0.5875 - val_loss: 2.1947 - val_categorical_accuracy: 0.2000\n",
      "Epoch 752/1000\n",
      "20/20 [==============================] - 0s 15ms/step - loss: 1.2183 - categorical_accuracy: 0.6125 - val_loss: 2.4457 - val_categorical_accuracy: 0.2000\n",
      "Epoch 753/1000\n",
      "20/20 [==============================] - 0s 17ms/step - loss: 1.0930 - categorical_accuracy: 0.6250 - val_loss: 2.3585 - val_categorical_accuracy: 0.0500\n",
      "Epoch 754/1000\n",
      "20/20 [==============================] - 0s 18ms/step - loss: 1.1969 - categorical_accuracy: 0.5625 - val_loss: 2.3022 - val_categorical_accuracy: 0.1000\n",
      "Epoch 755/1000\n",
      "20/20 [==============================] - 0s 17ms/step - loss: 1.0237 - categorical_accuracy: 0.6375 - val_loss: 2.4910 - val_categorical_accuracy: 0.1000\n",
      "Epoch 756/1000\n",
      "20/20 [==============================] - 0s 16ms/step - loss: 1.1487 - categorical_accuracy: 0.6500 - val_loss: 2.5953 - val_categorical_accuracy: 0.1500\n",
      "Epoch 757/1000\n",
      "20/20 [==============================] - 0s 17ms/step - loss: 0.9569 - categorical_accuracy: 0.7000 - val_loss: 2.0469 - val_categorical_accuracy: 0.2000\n",
      "Epoch 758/1000\n",
      "20/20 [==============================] - 0s 16ms/step - loss: 1.1363 - categorical_accuracy: 0.6250 - val_loss: 2.2177 - val_categorical_accuracy: 0.2000\n",
      "Epoch 759/1000\n",
      "20/20 [==============================] - 0s 15ms/step - loss: 1.1129 - categorical_accuracy: 0.5750 - val_loss: 2.3991 - val_categorical_accuracy: 0.1000\n",
      "Epoch 760/1000\n",
      "20/20 [==============================] - 0s 16ms/step - loss: 1.0263 - categorical_accuracy: 0.6125 - val_loss: 2.1389 - val_categorical_accuracy: 0.2500\n",
      "Epoch 761/1000\n",
      "20/20 [==============================] - 0s 16ms/step - loss: 0.9279 - categorical_accuracy: 0.7000 - val_loss: 2.6040 - val_categorical_accuracy: 0.1000\n",
      "Epoch 762/1000\n",
      "20/20 [==============================] - 0s 15ms/step - loss: 1.2232 - categorical_accuracy: 0.5500 - val_loss: 2.1687 - val_categorical_accuracy: 0.1000\n",
      "Epoch 763/1000\n",
      "20/20 [==============================] - 0s 15ms/step - loss: 1.0918 - categorical_accuracy: 0.6375 - val_loss: 2.1508 - val_categorical_accuracy: 0.0500\n",
      "Epoch 764/1000\n",
      "20/20 [==============================] - 0s 14ms/step - loss: 1.1466 - categorical_accuracy: 0.6125 - val_loss: 2.1861 - val_categorical_accuracy: 0.2000\n",
      "Epoch 765/1000\n",
      "20/20 [==============================] - 0s 15ms/step - loss: 0.9147 - categorical_accuracy: 0.7625 - val_loss: 2.5773 - val_categorical_accuracy: 0.2000\n",
      "Epoch 766/1000\n",
      "20/20 [==============================] - 0s 15ms/step - loss: 1.2642 - categorical_accuracy: 0.6000 - val_loss: 2.7931 - val_categorical_accuracy: 0.1000\n",
      "Epoch 767/1000\n",
      "20/20 [==============================] - 0s 16ms/step - loss: 1.1239 - categorical_accuracy: 0.6750 - val_loss: 2.7413 - val_categorical_accuracy: 0.1000\n",
      "Epoch 768/1000\n",
      "20/20 [==============================] - 0s 14ms/step - loss: 1.0453 - categorical_accuracy: 0.7625 - val_loss: 2.6300 - val_categorical_accuracy: 0.1000\n",
      "Epoch 769/1000\n",
      "20/20 [==============================] - 0s 15ms/step - loss: 1.2065 - categorical_accuracy: 0.5625 - val_loss: 2.4914 - val_categorical_accuracy: 0.1000\n",
      "Epoch 770/1000\n",
      "20/20 [==============================] - 0s 15ms/step - loss: 1.0097 - categorical_accuracy: 0.7000 - val_loss: 2.2470 - val_categorical_accuracy: 0.1000\n",
      "Epoch 771/1000\n",
      "20/20 [==============================] - 0s 16ms/step - loss: 1.1275 - categorical_accuracy: 0.6125 - val_loss: 2.3107 - val_categorical_accuracy: 0.1500\n",
      "Epoch 772/1000\n",
      "20/20 [==============================] - 0s 16ms/step - loss: 1.2185 - categorical_accuracy: 0.5875 - val_loss: 2.4062 - val_categorical_accuracy: 0.0500\n",
      "Epoch 773/1000\n",
      "20/20 [==============================] - 0s 15ms/step - loss: 1.1556 - categorical_accuracy: 0.6625 - val_loss: 2.5738 - val_categorical_accuracy: 0.1000\n",
      "Epoch 774/1000\n",
      "20/20 [==============================] - 0s 15ms/step - loss: 1.0864 - categorical_accuracy: 0.6625 - val_loss: 2.4985 - val_categorical_accuracy: 0.1000\n",
      "Epoch 775/1000\n",
      "20/20 [==============================] - 0s 17ms/step - loss: 1.1113 - categorical_accuracy: 0.6125 - val_loss: 2.6567 - val_categorical_accuracy: 0.0500\n",
      "Epoch 776/1000\n",
      "20/20 [==============================] - 0s 17ms/step - loss: 1.0819 - categorical_accuracy: 0.7000 - val_loss: 2.9671 - val_categorical_accuracy: 0.0500\n",
      "Epoch 777/1000\n",
      "20/20 [==============================] - 0s 15ms/step - loss: 1.1408 - categorical_accuracy: 0.5750 - val_loss: 2.4476 - val_categorical_accuracy: 0.1500\n",
      "Epoch 778/1000\n",
      "20/20 [==============================] - 0s 19ms/step - loss: 1.0082 - categorical_accuracy: 0.6375 - val_loss: 2.6191 - val_categorical_accuracy: 0.1000\n",
      "Epoch 779/1000\n",
      "20/20 [==============================] - 0s 17ms/step - loss: 1.2025 - categorical_accuracy: 0.6250 - val_loss: 2.1900 - val_categorical_accuracy: 0.3000\n",
      "Epoch 780/1000\n",
      "20/20 [==============================] - 0s 16ms/step - loss: 1.1617 - categorical_accuracy: 0.6500 - val_loss: 2.6541 - val_categorical_accuracy: 0.1000\n",
      "Epoch 781/1000\n",
      "20/20 [==============================] - 0s 15ms/step - loss: 1.1230 - categorical_accuracy: 0.6500 - val_loss: 2.3833 - val_categorical_accuracy: 0.2500\n",
      "Epoch 782/1000\n",
      "20/20 [==============================] - 0s 14ms/step - loss: 0.9626 - categorical_accuracy: 0.6750 - val_loss: 2.3975 - val_categorical_accuracy: 0.0500\n",
      "Epoch 783/1000\n",
      "20/20 [==============================] - 0s 15ms/step - loss: 1.2954 - categorical_accuracy: 0.6125 - val_loss: 2.1172 - val_categorical_accuracy: 0.2000\n",
      "Epoch 784/1000\n",
      "20/20 [==============================] - 0s 15ms/step - loss: 1.0161 - categorical_accuracy: 0.6250 - val_loss: 2.2974 - val_categorical_accuracy: 0.1000\n",
      "Epoch 785/1000\n",
      "20/20 [==============================] - 0s 16ms/step - loss: 1.0881 - categorical_accuracy: 0.6500 - val_loss: 2.4565 - val_categorical_accuracy: 0.1000\n",
      "Epoch 786/1000\n",
      "20/20 [==============================] - 0s 16ms/step - loss: 1.0302 - categorical_accuracy: 0.6625 - val_loss: 2.8742 - val_categorical_accuracy: 0.1000\n",
      "Epoch 787/1000\n",
      "20/20 [==============================] - 0s 17ms/step - loss: 1.1174 - categorical_accuracy: 0.6500 - val_loss: 2.7505 - val_categorical_accuracy: 0.1500\n",
      "Epoch 788/1000\n",
      "20/20 [==============================] - 0s 17ms/step - loss: 1.0260 - categorical_accuracy: 0.6750 - val_loss: 2.7822 - val_categorical_accuracy: 0.1000\n",
      "Epoch 789/1000\n",
      "20/20 [==============================] - 0s 15ms/step - loss: 1.0035 - categorical_accuracy: 0.7000 - val_loss: 2.2775 - val_categorical_accuracy: 0.2500\n",
      "Epoch 790/1000\n",
      "20/20 [==============================] - 0s 14ms/step - loss: 1.0769 - categorical_accuracy: 0.6250 - val_loss: 2.5362 - val_categorical_accuracy: 0.0500\n",
      "Epoch 791/1000\n",
      "20/20 [==============================] - 0s 15ms/step - loss: 1.0987 - categorical_accuracy: 0.5875 - val_loss: 2.6217 - val_categorical_accuracy: 0.0500\n",
      "Epoch 792/1000\n",
      "20/20 [==============================] - 0s 14ms/step - loss: 1.0902 - categorical_accuracy: 0.6500 - val_loss: 2.2965 - val_categorical_accuracy: 0.2000\n",
      "Epoch 793/1000\n",
      "20/20 [==============================] - 0s 15ms/step - loss: 0.9789 - categorical_accuracy: 0.6750 - val_loss: 2.6640 - val_categorical_accuracy: 0.1000\n",
      "Epoch 794/1000\n",
      "20/20 [==============================] - 0s 16ms/step - loss: 1.2015 - categorical_accuracy: 0.5625 - val_loss: 2.1859 - val_categorical_accuracy: 0.2000\n",
      "Epoch 795/1000\n",
      "20/20 [==============================] - 0s 16ms/step - loss: 1.1408 - categorical_accuracy: 0.6125 - val_loss: 2.3772 - val_categorical_accuracy: 0.2000\n",
      "Epoch 796/1000\n",
      "20/20 [==============================] - 0s 15ms/step - loss: 0.9652 - categorical_accuracy: 0.6625 - val_loss: 2.4752 - val_categorical_accuracy: 0.1000\n",
      "Epoch 797/1000\n",
      "20/20 [==============================] - 0s 14ms/step - loss: 1.1604 - categorical_accuracy: 0.6375 - val_loss: 2.6403 - val_categorical_accuracy: 0.0000e+00\n",
      "Epoch 798/1000\n",
      "20/20 [==============================] - 0s 15ms/step - loss: 1.0002 - categorical_accuracy: 0.7125 - val_loss: 2.2655 - val_categorical_accuracy: 0.1000\n",
      "Epoch 799/1000\n",
      "20/20 [==============================] - 0s 14ms/step - loss: 1.0878 - categorical_accuracy: 0.6875 - val_loss: 2.3468 - val_categorical_accuracy: 0.1500\n",
      "Epoch 800/1000\n",
      "20/20 [==============================] - 0s 15ms/step - loss: 1.0511 - categorical_accuracy: 0.7125 - val_loss: 3.0343 - val_categorical_accuracy: 0.0500\n",
      "Epoch 801/1000\n",
      "20/20 [==============================] - 0s 15ms/step - loss: 1.0409 - categorical_accuracy: 0.7000 - val_loss: 2.3087 - val_categorical_accuracy: 0.1500\n",
      "Epoch 802/1000\n",
      "20/20 [==============================] - 0s 14ms/step - loss: 1.1253 - categorical_accuracy: 0.6125 - val_loss: 2.3567 - val_categorical_accuracy: 0.1000\n",
      "Epoch 803/1000\n",
      "20/20 [==============================] - 0s 14ms/step - loss: 1.1606 - categorical_accuracy: 0.6000 - val_loss: 2.3646 - val_categorical_accuracy: 0.1000\n",
      "Epoch 804/1000\n",
      "20/20 [==============================] - 0s 15ms/step - loss: 1.2038 - categorical_accuracy: 0.6000 - val_loss: 2.8744 - val_categorical_accuracy: 0.0000e+00\n",
      "Epoch 805/1000\n",
      "20/20 [==============================] - 0s 14ms/step - loss: 0.9880 - categorical_accuracy: 0.7000 - val_loss: 2.1876 - val_categorical_accuracy: 0.0500\n",
      "Epoch 806/1000\n",
      "20/20 [==============================] - 0s 18ms/step - loss: 1.0787 - categorical_accuracy: 0.6000 - val_loss: 2.6354 - val_categorical_accuracy: 0.1000\n",
      "Epoch 807/1000\n",
      "20/20 [==============================] - 0s 14ms/step - loss: 1.0479 - categorical_accuracy: 0.6625 - val_loss: 2.5904 - val_categorical_accuracy: 0.1500\n",
      "Epoch 808/1000\n",
      "20/20 [==============================] - 0s 15ms/step - loss: 1.3499 - categorical_accuracy: 0.4625 - val_loss: 2.7163 - val_categorical_accuracy: 0.1000\n",
      "Epoch 809/1000\n",
      "20/20 [==============================] - 0s 15ms/step - loss: 1.0749 - categorical_accuracy: 0.6625 - val_loss: 3.2376 - val_categorical_accuracy: 0.1000\n",
      "Epoch 810/1000\n",
      "20/20 [==============================] - 0s 14ms/step - loss: 0.9649 - categorical_accuracy: 0.7375 - val_loss: 2.6373 - val_categorical_accuracy: 0.1500\n",
      "Epoch 811/1000\n",
      "20/20 [==============================] - 0s 16ms/step - loss: 1.0900 - categorical_accuracy: 0.6250 - val_loss: 2.6970 - val_categorical_accuracy: 0.1500\n",
      "Epoch 812/1000\n",
      "20/20 [==============================] - 0s 16ms/step - loss: 1.1081 - categorical_accuracy: 0.6375 - val_loss: 2.6408 - val_categorical_accuracy: 0.1500\n",
      "Epoch 813/1000\n",
      "20/20 [==============================] - 0s 16ms/step - loss: 1.0719 - categorical_accuracy: 0.6625 - val_loss: 2.4152 - val_categorical_accuracy: 0.1500\n",
      "Epoch 814/1000\n",
      "20/20 [==============================] - 0s 15ms/step - loss: 1.2009 - categorical_accuracy: 0.5500 - val_loss: 2.4215 - val_categorical_accuracy: 0.0500\n",
      "Epoch 815/1000\n",
      "20/20 [==============================] - 0s 15ms/step - loss: 1.0454 - categorical_accuracy: 0.6000 - val_loss: 2.4094 - val_categorical_accuracy: 0.2500\n",
      "Epoch 816/1000\n",
      "20/20 [==============================] - 0s 15ms/step - loss: 0.9715 - categorical_accuracy: 0.6500 - val_loss: 2.5138 - val_categorical_accuracy: 0.1500\n",
      "Epoch 817/1000\n",
      "20/20 [==============================] - 0s 15ms/step - loss: 1.0744 - categorical_accuracy: 0.6375 - val_loss: 2.4535 - val_categorical_accuracy: 0.0500\n",
      "Epoch 818/1000\n",
      "20/20 [==============================] - 0s 16ms/step - loss: 1.1115 - categorical_accuracy: 0.6000 - val_loss: 2.1230 - val_categorical_accuracy: 0.1500\n",
      "Epoch 819/1000\n",
      "20/20 [==============================] - 0s 16ms/step - loss: 0.9138 - categorical_accuracy: 0.7875 - val_loss: 2.6220 - val_categorical_accuracy: 0.1000\n",
      "Epoch 820/1000\n",
      "20/20 [==============================] - 0s 17ms/step - loss: 0.9342 - categorical_accuracy: 0.6875 - val_loss: 2.4475 - val_categorical_accuracy: 0.1000\n",
      "Epoch 821/1000\n",
      "20/20 [==============================] - 0s 15ms/step - loss: 0.8972 - categorical_accuracy: 0.7375 - val_loss: 2.6413 - val_categorical_accuracy: 0.2000\n",
      "Epoch 822/1000\n",
      "20/20 [==============================] - 0s 15ms/step - loss: 0.9539 - categorical_accuracy: 0.7125 - val_loss: 2.5215 - val_categorical_accuracy: 0.2000\n",
      "Epoch 823/1000\n",
      "20/20 [==============================] - 0s 19ms/step - loss: 1.0946 - categorical_accuracy: 0.6125 - val_loss: 2.5355 - val_categorical_accuracy: 0.1500\n",
      "Epoch 824/1000\n",
      "20/20 [==============================] - 0s 17ms/step - loss: 1.0967 - categorical_accuracy: 0.6375 - val_loss: 2.4884 - val_categorical_accuracy: 0.1500\n",
      "Epoch 825/1000\n",
      "20/20 [==============================] - 0s 17ms/step - loss: 1.2899 - categorical_accuracy: 0.5375 - val_loss: 2.4296 - val_categorical_accuracy: 0.1500\n",
      "Epoch 826/1000\n",
      "20/20 [==============================] - 0s 17ms/step - loss: 1.0162 - categorical_accuracy: 0.6625 - val_loss: 2.4948 - val_categorical_accuracy: 0.2000\n",
      "Epoch 827/1000\n",
      "20/20 [==============================] - 0s 16ms/step - loss: 1.1447 - categorical_accuracy: 0.5875 - val_loss: 2.3782 - val_categorical_accuracy: 0.2500\n",
      "Epoch 828/1000\n",
      "20/20 [==============================] - 0s 18ms/step - loss: 1.0007 - categorical_accuracy: 0.6750 - val_loss: 3.1129 - val_categorical_accuracy: 0.0500\n",
      "Epoch 829/1000\n",
      "20/20 [==============================] - 0s 16ms/step - loss: 1.1570 - categorical_accuracy: 0.6500 - val_loss: 2.4477 - val_categorical_accuracy: 0.1500\n",
      "Epoch 830/1000\n",
      "20/20 [==============================] - 0s 17ms/step - loss: 0.9040 - categorical_accuracy: 0.7250 - val_loss: 2.4615 - val_categorical_accuracy: 0.2000\n",
      "Epoch 831/1000\n",
      "20/20 [==============================] - 0s 17ms/step - loss: 1.1606 - categorical_accuracy: 0.6125 - val_loss: 2.5070 - val_categorical_accuracy: 0.1000\n",
      "Epoch 832/1000\n",
      "20/20 [==============================] - 0s 18ms/step - loss: 1.1115 - categorical_accuracy: 0.6500 - val_loss: 2.5825 - val_categorical_accuracy: 0.0500\n",
      "Epoch 833/1000\n",
      "20/20 [==============================] - 0s 16ms/step - loss: 1.0278 - categorical_accuracy: 0.6625 - val_loss: 2.6201 - val_categorical_accuracy: 0.1500\n",
      "Epoch 834/1000\n",
      "20/20 [==============================] - 0s 16ms/step - loss: 1.2126 - categorical_accuracy: 0.5625 - val_loss: 2.8248 - val_categorical_accuracy: 0.0500\n",
      "Epoch 835/1000\n",
      "20/20 [==============================] - 0s 17ms/step - loss: 1.0144 - categorical_accuracy: 0.6500 - val_loss: 2.4938 - val_categorical_accuracy: 0.1500\n",
      "Epoch 836/1000\n",
      "20/20 [==============================] - 0s 17ms/step - loss: 0.9852 - categorical_accuracy: 0.7125 - val_loss: 2.6500 - val_categorical_accuracy: 0.1500\n",
      "Epoch 837/1000\n",
      "20/20 [==============================] - 0s 17ms/step - loss: 1.0439 - categorical_accuracy: 0.6000 - val_loss: 2.7607 - val_categorical_accuracy: 0.1000\n",
      "Epoch 838/1000\n",
      "20/20 [==============================] - 0s 14ms/step - loss: 0.9207 - categorical_accuracy: 0.6875 - val_loss: 2.4415 - val_categorical_accuracy: 0.1500\n",
      "Epoch 839/1000\n",
      "20/20 [==============================] - 0s 14ms/step - loss: 1.0052 - categorical_accuracy: 0.6750 - val_loss: 2.6374 - val_categorical_accuracy: 0.1000\n",
      "Epoch 840/1000\n",
      "20/20 [==============================] - 0s 16ms/step - loss: 0.9693 - categorical_accuracy: 0.7250 - val_loss: 2.9973 - val_categorical_accuracy: 0.1000\n",
      "Epoch 841/1000\n",
      "20/20 [==============================] - 0s 15ms/step - loss: 1.1008 - categorical_accuracy: 0.6625 - val_loss: 2.4144 - val_categorical_accuracy: 0.1000\n",
      "Epoch 842/1000\n",
      "20/20 [==============================] - 0s 15ms/step - loss: 1.0434 - categorical_accuracy: 0.6625 - val_loss: 2.5940 - val_categorical_accuracy: 0.2000\n",
      "Epoch 843/1000\n",
      "20/20 [==============================] - 0s 14ms/step - loss: 1.0336 - categorical_accuracy: 0.7000 - val_loss: 2.5367 - val_categorical_accuracy: 0.1000\n",
      "Epoch 844/1000\n",
      "20/20 [==============================] - 0s 15ms/step - loss: 1.2446 - categorical_accuracy: 0.6000 - val_loss: 2.4647 - val_categorical_accuracy: 0.2000\n",
      "Epoch 845/1000\n",
      "20/20 [==============================] - 0s 16ms/step - loss: 1.0042 - categorical_accuracy: 0.7000 - val_loss: 2.8504 - val_categorical_accuracy: 0.0500\n",
      "Epoch 846/1000\n",
      "20/20 [==============================] - 0s 15ms/step - loss: 1.0621 - categorical_accuracy: 0.6750 - val_loss: 2.9430 - val_categorical_accuracy: 0.0500\n",
      "Epoch 847/1000\n",
      "20/20 [==============================] - 0s 14ms/step - loss: 1.0230 - categorical_accuracy: 0.6625 - val_loss: 2.4075 - val_categorical_accuracy: 0.2500\n",
      "Epoch 848/1000\n",
      "20/20 [==============================] - 0s 16ms/step - loss: 1.2220 - categorical_accuracy: 0.5125 - val_loss: 2.9347 - val_categorical_accuracy: 0.0500\n",
      "Epoch 849/1000\n",
      "20/20 [==============================] - 0s 14ms/step - loss: 1.0164 - categorical_accuracy: 0.6750 - val_loss: 2.5184 - val_categorical_accuracy: 0.1500\n",
      "Epoch 850/1000\n",
      "20/20 [==============================] - 0s 15ms/step - loss: 1.0952 - categorical_accuracy: 0.6875 - val_loss: 2.3846 - val_categorical_accuracy: 0.1500\n",
      "Epoch 851/1000\n",
      "20/20 [==============================] - 0s 15ms/step - loss: 1.2626 - categorical_accuracy: 0.5625 - val_loss: 2.1274 - val_categorical_accuracy: 0.2500\n",
      "Epoch 852/1000\n",
      "20/20 [==============================] - 0s 15ms/step - loss: 1.0082 - categorical_accuracy: 0.7000 - val_loss: 2.5251 - val_categorical_accuracy: 0.1000\n",
      "Epoch 853/1000\n",
      "20/20 [==============================] - 0s 15ms/step - loss: 0.9634 - categorical_accuracy: 0.6875 - val_loss: 2.4355 - val_categorical_accuracy: 0.1500\n",
      "Epoch 854/1000\n",
      "20/20 [==============================] - 0s 15ms/step - loss: 1.0839 - categorical_accuracy: 0.5875 - val_loss: 2.4389 - val_categorical_accuracy: 0.2500\n",
      "Epoch 855/1000\n",
      "20/20 [==============================] - 0s 14ms/step - loss: 1.0130 - categorical_accuracy: 0.6625 - val_loss: 2.3331 - val_categorical_accuracy: 0.2500\n",
      "Epoch 856/1000\n",
      "20/20 [==============================] - 0s 15ms/step - loss: 1.1070 - categorical_accuracy: 0.6500 - val_loss: 2.1534 - val_categorical_accuracy: 0.1000\n",
      "Epoch 857/1000\n",
      "20/20 [==============================] - 0s 15ms/step - loss: 1.1809 - categorical_accuracy: 0.5875 - val_loss: 2.6446 - val_categorical_accuracy: 0.1500\n",
      "Epoch 858/1000\n",
      "20/20 [==============================] - 0s 15ms/step - loss: 1.0387 - categorical_accuracy: 0.7250 - val_loss: 2.3283 - val_categorical_accuracy: 0.1500\n",
      "Epoch 859/1000\n",
      "20/20 [==============================] - 0s 16ms/step - loss: 1.0881 - categorical_accuracy: 0.6375 - val_loss: 2.0921 - val_categorical_accuracy: 0.3500\n",
      "Epoch 860/1000\n",
      "20/20 [==============================] - 0s 15ms/step - loss: 1.0106 - categorical_accuracy: 0.6125 - val_loss: 2.4350 - val_categorical_accuracy: 0.1500\n",
      "Epoch 861/1000\n",
      "20/20 [==============================] - 0s 16ms/step - loss: 1.0416 - categorical_accuracy: 0.7000 - val_loss: 2.6144 - val_categorical_accuracy: 0.0500\n",
      "Epoch 862/1000\n",
      "20/20 [==============================] - 0s 16ms/step - loss: 0.9841 - categorical_accuracy: 0.6875 - val_loss: 2.7359 - val_categorical_accuracy: 0.0500\n",
      "Epoch 863/1000\n",
      "20/20 [==============================] - 0s 16ms/step - loss: 1.0326 - categorical_accuracy: 0.6875 - val_loss: 2.4955 - val_categorical_accuracy: 0.1000\n",
      "Epoch 864/1000\n",
      "20/20 [==============================] - 0s 15ms/step - loss: 1.0477 - categorical_accuracy: 0.7125 - val_loss: 2.6798 - val_categorical_accuracy: 0.1500\n",
      "Epoch 865/1000\n",
      "20/20 [==============================] - 0s 15ms/step - loss: 0.8934 - categorical_accuracy: 0.7750 - val_loss: 2.4108 - val_categorical_accuracy: 0.2000\n",
      "Epoch 866/1000\n",
      "20/20 [==============================] - 0s 15ms/step - loss: 0.9584 - categorical_accuracy: 0.7250 - val_loss: 2.6754 - val_categorical_accuracy: 0.0500\n",
      "Epoch 867/1000\n",
      "20/20 [==============================] - 0s 16ms/step - loss: 1.1006 - categorical_accuracy: 0.6250 - val_loss: 2.4701 - val_categorical_accuracy: 0.1500\n",
      "Epoch 868/1000\n",
      "20/20 [==============================] - 0s 15ms/step - loss: 1.1055 - categorical_accuracy: 0.6250 - val_loss: 2.6705 - val_categorical_accuracy: 0.0500\n",
      "Epoch 869/1000\n",
      "20/20 [==============================] - 0s 16ms/step - loss: 0.9356 - categorical_accuracy: 0.7375 - val_loss: 2.8715 - val_categorical_accuracy: 0.0500\n",
      "Epoch 870/1000\n",
      "20/20 [==============================] - 0s 13ms/step - loss: 1.2027 - categorical_accuracy: 0.6250 - val_loss: 2.6559 - val_categorical_accuracy: 0.1000\n",
      "Epoch 871/1000\n",
      "20/20 [==============================] - 0s 14ms/step - loss: 1.1460 - categorical_accuracy: 0.6125 - val_loss: 2.8865 - val_categorical_accuracy: 0.1000\n",
      "Epoch 872/1000\n",
      "20/20 [==============================] - 0s 14ms/step - loss: 0.9525 - categorical_accuracy: 0.7625 - val_loss: 2.5311 - val_categorical_accuracy: 0.2000\n",
      "Epoch 873/1000\n",
      "20/20 [==============================] - 0s 15ms/step - loss: 0.9958 - categorical_accuracy: 0.6750 - val_loss: 2.2112 - val_categorical_accuracy: 0.2000\n",
      "Epoch 874/1000\n",
      "20/20 [==============================] - 0s 17ms/step - loss: 1.0713 - categorical_accuracy: 0.6750 - val_loss: 2.7096 - val_categorical_accuracy: 0.1500\n",
      "Epoch 875/1000\n",
      "20/20 [==============================] - 0s 17ms/step - loss: 1.0321 - categorical_accuracy: 0.7500 - val_loss: 2.7796 - val_categorical_accuracy: 0.0500\n",
      "Epoch 876/1000\n",
      "20/20 [==============================] - 0s 19ms/step - loss: 1.2377 - categorical_accuracy: 0.6125 - val_loss: 2.3913 - val_categorical_accuracy: 0.2500\n",
      "Epoch 877/1000\n",
      "20/20 [==============================] - 0s 15ms/step - loss: 1.0422 - categorical_accuracy: 0.6875 - val_loss: 2.7341 - val_categorical_accuracy: 0.0500\n",
      "Epoch 878/1000\n",
      "20/20 [==============================] - 0s 17ms/step - loss: 1.0596 - categorical_accuracy: 0.6500 - val_loss: 2.9560 - val_categorical_accuracy: 0.1000\n",
      "Epoch 879/1000\n",
      "20/20 [==============================] - 0s 15ms/step - loss: 1.2086 - categorical_accuracy: 0.5875 - val_loss: 2.6504 - val_categorical_accuracy: 0.1500\n",
      "Epoch 880/1000\n",
      "20/20 [==============================] - 0s 17ms/step - loss: 1.1045 - categorical_accuracy: 0.6375 - val_loss: 2.7469 - val_categorical_accuracy: 0.1000\n",
      "Epoch 881/1000\n",
      "20/20 [==============================] - 0s 16ms/step - loss: 1.0862 - categorical_accuracy: 0.6000 - val_loss: 2.5480 - val_categorical_accuracy: 0.1500\n",
      "Epoch 882/1000\n",
      "20/20 [==============================] - 0s 15ms/step - loss: 1.1297 - categorical_accuracy: 0.6500 - val_loss: 2.5834 - val_categorical_accuracy: 0.0500\n",
      "Epoch 883/1000\n",
      "20/20 [==============================] - 0s 16ms/step - loss: 1.0402 - categorical_accuracy: 0.6375 - val_loss: 2.5865 - val_categorical_accuracy: 0.1000\n",
      "Epoch 884/1000\n",
      "20/20 [==============================] - 0s 15ms/step - loss: 1.0862 - categorical_accuracy: 0.6125 - val_loss: 2.3280 - val_categorical_accuracy: 0.0500\n",
      "Epoch 885/1000\n",
      "20/20 [==============================] - 0s 15ms/step - loss: 1.0897 - categorical_accuracy: 0.6250 - val_loss: 2.4575 - val_categorical_accuracy: 0.2000\n",
      "Epoch 886/1000\n",
      "20/20 [==============================] - 0s 15ms/step - loss: 0.9882 - categorical_accuracy: 0.6625 - val_loss: 2.3859 - val_categorical_accuracy: 0.1500\n",
      "Epoch 887/1000\n",
      "20/20 [==============================] - 0s 15ms/step - loss: 0.9926 - categorical_accuracy: 0.6875 - val_loss: 2.0972 - val_categorical_accuracy: 0.2500\n",
      "Epoch 888/1000\n",
      "20/20 [==============================] - 0s 15ms/step - loss: 1.0732 - categorical_accuracy: 0.6500 - val_loss: 2.3943 - val_categorical_accuracy: 0.1500\n",
      "Epoch 889/1000\n",
      "20/20 [==============================] - 0s 15ms/step - loss: 1.2063 - categorical_accuracy: 0.6125 - val_loss: 2.6145 - val_categorical_accuracy: 0.2000\n",
      "Epoch 890/1000\n",
      "20/20 [==============================] - 0s 15ms/step - loss: 1.1159 - categorical_accuracy: 0.6750 - val_loss: 2.2981 - val_categorical_accuracy: 0.0500\n",
      "Epoch 891/1000\n",
      "20/20 [==============================] - 0s 15ms/step - loss: 0.9677 - categorical_accuracy: 0.6875 - val_loss: 2.4686 - val_categorical_accuracy: 0.1500\n",
      "Epoch 892/1000\n",
      "20/20 [==============================] - 0s 15ms/step - loss: 1.0707 - categorical_accuracy: 0.6750 - val_loss: 2.5832 - val_categorical_accuracy: 0.1500\n",
      "Epoch 893/1000\n",
      "20/20 [==============================] - 0s 15ms/step - loss: 0.9269 - categorical_accuracy: 0.6875 - val_loss: 2.3357 - val_categorical_accuracy: 0.1500\n",
      "Epoch 894/1000\n",
      "20/20 [==============================] - 0s 15ms/step - loss: 0.8919 - categorical_accuracy: 0.7375 - val_loss: 2.0852 - val_categorical_accuracy: 0.2000\n",
      "Epoch 895/1000\n",
      "20/20 [==============================] - 0s 17ms/step - loss: 0.9267 - categorical_accuracy: 0.7000 - val_loss: 2.3924 - val_categorical_accuracy: 0.2000\n",
      "Epoch 896/1000\n",
      "20/20 [==============================] - 0s 16ms/step - loss: 1.0229 - categorical_accuracy: 0.7125 - val_loss: 2.5668 - val_categorical_accuracy: 0.1500\n",
      "Epoch 897/1000\n",
      "20/20 [==============================] - 0s 15ms/step - loss: 0.9110 - categorical_accuracy: 0.7250 - val_loss: 2.4614 - val_categorical_accuracy: 0.1500\n",
      "Epoch 898/1000\n",
      "20/20 [==============================] - 0s 16ms/step - loss: 0.9594 - categorical_accuracy: 0.7125 - val_loss: 2.1396 - val_categorical_accuracy: 0.3000\n",
      "Epoch 899/1000\n",
      "20/20 [==============================] - 0s 16ms/step - loss: 1.0565 - categorical_accuracy: 0.6750 - val_loss: 2.5956 - val_categorical_accuracy: 0.1000\n",
      "Epoch 900/1000\n",
      "20/20 [==============================] - 0s 15ms/step - loss: 1.2613 - categorical_accuracy: 0.5625 - val_loss: 2.5577 - val_categorical_accuracy: 0.1500\n",
      "Epoch 901/1000\n",
      "20/20 [==============================] - 0s 14ms/step - loss: 1.2048 - categorical_accuracy: 0.5500 - val_loss: 2.8745 - val_categorical_accuracy: 0.2000\n",
      "Epoch 902/1000\n",
      "20/20 [==============================] - 0s 16ms/step - loss: 1.1361 - categorical_accuracy: 0.6375 - val_loss: 2.5599 - val_categorical_accuracy: 0.1000\n",
      "Epoch 903/1000\n",
      "20/20 [==============================] - 0s 15ms/step - loss: 1.0039 - categorical_accuracy: 0.7000 - val_loss: 2.5832 - val_categorical_accuracy: 0.1000\n",
      "Epoch 904/1000\n",
      "20/20 [==============================] - 0s 16ms/step - loss: 1.0802 - categorical_accuracy: 0.6875 - val_loss: 2.6752 - val_categorical_accuracy: 0.1500\n",
      "Epoch 905/1000\n",
      "20/20 [==============================] - 0s 15ms/step - loss: 1.0410 - categorical_accuracy: 0.6375 - val_loss: 2.4539 - val_categorical_accuracy: 0.2000\n",
      "Epoch 906/1000\n",
      "20/20 [==============================] - 0s 14ms/step - loss: 0.8916 - categorical_accuracy: 0.7500 - val_loss: 2.5075 - val_categorical_accuracy: 0.2000\n",
      "Epoch 907/1000\n",
      "20/20 [==============================] - 0s 15ms/step - loss: 0.8886 - categorical_accuracy: 0.6875 - val_loss: 2.5824 - val_categorical_accuracy: 0.1500\n",
      "Epoch 908/1000\n",
      "20/20 [==============================] - 0s 14ms/step - loss: 0.9722 - categorical_accuracy: 0.6875 - val_loss: 2.2523 - val_categorical_accuracy: 0.2000\n",
      "Epoch 909/1000\n",
      "20/20 [==============================] - 0s 15ms/step - loss: 0.8776 - categorical_accuracy: 0.7500 - val_loss: 2.5815 - val_categorical_accuracy: 0.1500\n",
      "Epoch 910/1000\n",
      "20/20 [==============================] - 0s 16ms/step - loss: 0.9796 - categorical_accuracy: 0.6375 - val_loss: 2.5884 - val_categorical_accuracy: 0.1000\n",
      "Epoch 911/1000\n",
      "20/20 [==============================] - 0s 15ms/step - loss: 1.0673 - categorical_accuracy: 0.6750 - val_loss: 2.9363 - val_categorical_accuracy: 0.0500\n",
      "Epoch 912/1000\n",
      "20/20 [==============================] - 0s 15ms/step - loss: 1.1224 - categorical_accuracy: 0.6125 - val_loss: 2.3849 - val_categorical_accuracy: 0.0500\n",
      "Epoch 913/1000\n",
      "20/20 [==============================] - 0s 14ms/step - loss: 0.9584 - categorical_accuracy: 0.7250 - val_loss: 2.4597 - val_categorical_accuracy: 0.1000\n",
      "Epoch 914/1000\n",
      "20/20 [==============================] - 0s 17ms/step - loss: 0.8588 - categorical_accuracy: 0.7125 - val_loss: 2.5175 - val_categorical_accuracy: 0.1000\n",
      "Epoch 915/1000\n",
      "20/20 [==============================] - 0s 16ms/step - loss: 1.0678 - categorical_accuracy: 0.6250 - val_loss: 2.5562 - val_categorical_accuracy: 0.1000\n",
      "Epoch 916/1000\n",
      "20/20 [==============================] - 0s 16ms/step - loss: 1.1646 - categorical_accuracy: 0.5875 - val_loss: 2.3540 - val_categorical_accuracy: 0.2000\n",
      "Epoch 917/1000\n",
      "20/20 [==============================] - 0s 18ms/step - loss: 1.0809 - categorical_accuracy: 0.6750 - val_loss: 2.4571 - val_categorical_accuracy: 0.1500\n",
      "Epoch 918/1000\n",
      "20/20 [==============================] - 0s 17ms/step - loss: 1.1793 - categorical_accuracy: 0.5875 - val_loss: 2.4561 - val_categorical_accuracy: 0.2000\n",
      "Epoch 919/1000\n",
      "20/20 [==============================] - 0s 16ms/step - loss: 1.1539 - categorical_accuracy: 0.5625 - val_loss: 2.8339 - val_categorical_accuracy: 0.0500\n",
      "Epoch 920/1000\n",
      "20/20 [==============================] - 0s 16ms/step - loss: 1.0836 - categorical_accuracy: 0.7000 - val_loss: 2.7723 - val_categorical_accuracy: 0.1000\n",
      "Epoch 921/1000\n",
      "20/20 [==============================] - 0s 15ms/step - loss: 0.9885 - categorical_accuracy: 0.7000 - val_loss: 2.3661 - val_categorical_accuracy: 0.1000\n",
      "Epoch 922/1000\n",
      "20/20 [==============================] - 0s 14ms/step - loss: 0.9398 - categorical_accuracy: 0.7375 - val_loss: 2.5953 - val_categorical_accuracy: 0.1000\n",
      "Epoch 923/1000\n",
      "20/20 [==============================] - 0s 15ms/step - loss: 1.0979 - categorical_accuracy: 0.6000 - val_loss: 2.3230 - val_categorical_accuracy: 0.2000\n",
      "Epoch 924/1000\n",
      "20/20 [==============================] - 0s 15ms/step - loss: 1.2981 - categorical_accuracy: 0.5250 - val_loss: 2.7992 - val_categorical_accuracy: 0.1000\n",
      "Epoch 925/1000\n",
      "20/20 [==============================] - 0s 15ms/step - loss: 1.0126 - categorical_accuracy: 0.6875 - val_loss: 2.4169 - val_categorical_accuracy: 0.1500\n",
      "Epoch 926/1000\n",
      "20/20 [==============================] - 0s 15ms/step - loss: 0.9560 - categorical_accuracy: 0.7375 - val_loss: 2.7675 - val_categorical_accuracy: 0.1500\n",
      "Epoch 927/1000\n",
      "20/20 [==============================] - 0s 16ms/step - loss: 1.0074 - categorical_accuracy: 0.6750 - val_loss: 2.3305 - val_categorical_accuracy: 0.0500\n",
      "Epoch 928/1000\n",
      "20/20 [==============================] - 0s 15ms/step - loss: 0.9860 - categorical_accuracy: 0.7000 - val_loss: 2.7279 - val_categorical_accuracy: 0.1000\n",
      "Epoch 929/1000\n",
      "20/20 [==============================] - 0s 14ms/step - loss: 1.0712 - categorical_accuracy: 0.6375 - val_loss: 2.4988 - val_categorical_accuracy: 0.1500\n",
      "Epoch 930/1000\n",
      "20/20 [==============================] - 0s 16ms/step - loss: 1.0521 - categorical_accuracy: 0.6375 - val_loss: 2.1097 - val_categorical_accuracy: 0.1000\n",
      "Epoch 931/1000\n",
      "20/20 [==============================] - 0s 15ms/step - loss: 1.0320 - categorical_accuracy: 0.6500 - val_loss: 2.6906 - val_categorical_accuracy: 0.1500\n",
      "Epoch 932/1000\n",
      "20/20 [==============================] - 0s 14ms/step - loss: 1.1349 - categorical_accuracy: 0.5750 - val_loss: 2.6780 - val_categorical_accuracy: 0.1000\n",
      "Epoch 933/1000\n",
      "20/20 [==============================] - 0s 15ms/step - loss: 1.0635 - categorical_accuracy: 0.6500 - val_loss: 2.7755 - val_categorical_accuracy: 0.1500\n",
      "Epoch 934/1000\n",
      "20/20 [==============================] - 0s 15ms/step - loss: 1.0301 - categorical_accuracy: 0.6750 - val_loss: 2.6279 - val_categorical_accuracy: 0.1000\n",
      "Epoch 935/1000\n",
      "20/20 [==============================] - 0s 15ms/step - loss: 0.8974 - categorical_accuracy: 0.6750 - val_loss: 2.8335 - val_categorical_accuracy: 0.1000\n",
      "Epoch 936/1000\n",
      "20/20 [==============================] - 0s 14ms/step - loss: 0.8961 - categorical_accuracy: 0.7750 - val_loss: 2.9544 - val_categorical_accuracy: 0.1000\n",
      "Epoch 937/1000\n",
      "20/20 [==============================] - 0s 15ms/step - loss: 1.0503 - categorical_accuracy: 0.6875 - val_loss: 2.5516 - val_categorical_accuracy: 0.1500\n",
      "Epoch 938/1000\n",
      "20/20 [==============================] - 0s 16ms/step - loss: 1.1145 - categorical_accuracy: 0.6375 - val_loss: 3.0027 - val_categorical_accuracy: 0.0500\n",
      "Epoch 939/1000\n",
      "20/20 [==============================] - 0s 15ms/step - loss: 1.0591 - categorical_accuracy: 0.6500 - val_loss: 3.0029 - val_categorical_accuracy: 0.0000e+00\n",
      "Epoch 940/1000\n",
      "20/20 [==============================] - 0s 14ms/step - loss: 0.9195 - categorical_accuracy: 0.7750 - val_loss: 2.6948 - val_categorical_accuracy: 0.1500\n",
      "Epoch 941/1000\n",
      "20/20 [==============================] - 0s 14ms/step - loss: 0.9203 - categorical_accuracy: 0.7375 - val_loss: 2.3180 - val_categorical_accuracy: 0.1000\n",
      "Epoch 942/1000\n",
      "20/20 [==============================] - 0s 15ms/step - loss: 0.9696 - categorical_accuracy: 0.6000 - val_loss: 2.2978 - val_categorical_accuracy: 0.1000\n",
      "Epoch 943/1000\n",
      "20/20 [==============================] - 0s 15ms/step - loss: 0.9721 - categorical_accuracy: 0.6375 - val_loss: 2.4927 - val_categorical_accuracy: 0.0500\n",
      "Epoch 944/1000\n",
      "20/20 [==============================] - 0s 16ms/step - loss: 0.9881 - categorical_accuracy: 0.6875 - val_loss: 2.6119 - val_categorical_accuracy: 0.0500\n",
      "Epoch 945/1000\n",
      "20/20 [==============================] - 0s 15ms/step - loss: 1.0044 - categorical_accuracy: 0.6500 - val_loss: 2.7286 - val_categorical_accuracy: 0.0500\n",
      "Epoch 946/1000\n",
      "20/20 [==============================] - 0s 16ms/step - loss: 1.0366 - categorical_accuracy: 0.6250 - val_loss: 2.5512 - val_categorical_accuracy: 0.1500\n",
      "Epoch 947/1000\n",
      "20/20 [==============================] - 0s 15ms/step - loss: 1.0163 - categorical_accuracy: 0.6750 - val_loss: 2.5566 - val_categorical_accuracy: 0.1000\n",
      "Epoch 948/1000\n",
      "20/20 [==============================] - 0s 15ms/step - loss: 1.2514 - categorical_accuracy: 0.5250 - val_loss: 3.0729 - val_categorical_accuracy: 0.1500\n",
      "Epoch 949/1000\n",
      "20/20 [==============================] - 0s 15ms/step - loss: 1.0287 - categorical_accuracy: 0.6875 - val_loss: 2.6575 - val_categorical_accuracy: 0.1000\n",
      "Epoch 950/1000\n",
      "20/20 [==============================] - 0s 16ms/step - loss: 0.9347 - categorical_accuracy: 0.6750 - val_loss: 2.4995 - val_categorical_accuracy: 0.0000e+00\n",
      "Epoch 951/1000\n",
      "20/20 [==============================] - 0s 15ms/step - loss: 1.0903 - categorical_accuracy: 0.6625 - val_loss: 2.5775 - val_categorical_accuracy: 0.1000\n",
      "Epoch 952/1000\n",
      "20/20 [==============================] - 0s 16ms/step - loss: 1.0829 - categorical_accuracy: 0.6500 - val_loss: 2.5716 - val_categorical_accuracy: 0.1500\n",
      "Epoch 953/1000\n",
      "20/20 [==============================] - 0s 16ms/step - loss: 0.9766 - categorical_accuracy: 0.6500 - val_loss: 2.4928 - val_categorical_accuracy: 0.1500\n",
      "Epoch 954/1000\n",
      "20/20 [==============================] - 0s 17ms/step - loss: 1.1404 - categorical_accuracy: 0.6125 - val_loss: 2.7982 - val_categorical_accuracy: 0.1500\n",
      "Epoch 955/1000\n",
      "20/20 [==============================] - 0s 16ms/step - loss: 0.8576 - categorical_accuracy: 0.7500 - val_loss: 2.7638 - val_categorical_accuracy: 0.0000e+00\n",
      "Epoch 956/1000\n",
      "20/20 [==============================] - 0s 14ms/step - loss: 0.9283 - categorical_accuracy: 0.7375 - val_loss: 2.1506 - val_categorical_accuracy: 0.3000\n",
      "Epoch 957/1000\n",
      "20/20 [==============================] - 0s 15ms/step - loss: 1.1313 - categorical_accuracy: 0.6625 - val_loss: 2.3204 - val_categorical_accuracy: 0.1000\n",
      "Epoch 958/1000\n",
      "20/20 [==============================] - 0s 14ms/step - loss: 0.8840 - categorical_accuracy: 0.6750 - val_loss: 2.2319 - val_categorical_accuracy: 0.1500\n",
      "Epoch 959/1000\n",
      "20/20 [==============================] - 0s 16ms/step - loss: 0.9694 - categorical_accuracy: 0.6625 - val_loss: 2.4450 - val_categorical_accuracy: 0.1000\n",
      "Epoch 960/1000\n",
      "20/20 [==============================] - 0s 16ms/step - loss: 0.8541 - categorical_accuracy: 0.7500 - val_loss: 2.7991 - val_categorical_accuracy: 0.0500\n",
      "Epoch 961/1000\n",
      "20/20 [==============================] - 0s 15ms/step - loss: 1.0016 - categorical_accuracy: 0.7000 - val_loss: 2.3677 - val_categorical_accuracy: 0.2000\n",
      "Epoch 962/1000\n",
      "20/20 [==============================] - 0s 15ms/step - loss: 0.8813 - categorical_accuracy: 0.7625 - val_loss: 2.9765 - val_categorical_accuracy: 0.2000\n",
      "Epoch 963/1000\n",
      "20/20 [==============================] - 0s 16ms/step - loss: 0.8331 - categorical_accuracy: 0.7750 - val_loss: 2.5170 - val_categorical_accuracy: 0.1500\n",
      "Epoch 964/1000\n",
      "20/20 [==============================] - 0s 16ms/step - loss: 1.1417 - categorical_accuracy: 0.6125 - val_loss: 2.3710 - val_categorical_accuracy: 0.1500\n",
      "Epoch 965/1000\n",
      "20/20 [==============================] - 0s 14ms/step - loss: 0.9958 - categorical_accuracy: 0.6500 - val_loss: 2.3739 - val_categorical_accuracy: 0.1000\n",
      "Epoch 966/1000\n",
      "20/20 [==============================] - 0s 15ms/step - loss: 0.9429 - categorical_accuracy: 0.7000 - val_loss: 2.5759 - val_categorical_accuracy: 0.2000\n",
      "Epoch 967/1000\n",
      "20/20 [==============================] - 0s 15ms/step - loss: 1.0527 - categorical_accuracy: 0.7000 - val_loss: 2.4618 - val_categorical_accuracy: 0.1500\n",
      "Epoch 968/1000\n",
      "20/20 [==============================] - 0s 15ms/step - loss: 1.2101 - categorical_accuracy: 0.6125 - val_loss: 2.9587 - val_categorical_accuracy: 0.0500\n",
      "Epoch 969/1000\n",
      "20/20 [==============================] - 0s 15ms/step - loss: 0.8956 - categorical_accuracy: 0.7375 - val_loss: 2.5024 - val_categorical_accuracy: 0.1500\n",
      "Epoch 970/1000\n",
      "20/20 [==============================] - 0s 14ms/step - loss: 1.0263 - categorical_accuracy: 0.6625 - val_loss: 2.7299 - val_categorical_accuracy: 0.1000\n",
      "Epoch 971/1000\n",
      "20/20 [==============================] - 0s 16ms/step - loss: 0.9379 - categorical_accuracy: 0.7250 - val_loss: 2.3373 - val_categorical_accuracy: 0.2000\n",
      "Epoch 972/1000\n",
      "20/20 [==============================] - 0s 15ms/step - loss: 0.9388 - categorical_accuracy: 0.7000 - val_loss: 2.5515 - val_categorical_accuracy: 0.2000\n",
      "Epoch 973/1000\n",
      "20/20 [==============================] - 0s 16ms/step - loss: 1.0469 - categorical_accuracy: 0.6625 - val_loss: 2.7901 - val_categorical_accuracy: 0.0500\n",
      "Epoch 974/1000\n",
      "20/20 [==============================] - 0s 13ms/step - loss: 1.0202 - categorical_accuracy: 0.6875 - val_loss: 2.7805 - val_categorical_accuracy: 0.2000\n",
      "Epoch 975/1000\n",
      "20/20 [==============================] - 0s 16ms/step - loss: 0.9617 - categorical_accuracy: 0.6750 - val_loss: 2.5247 - val_categorical_accuracy: 0.1000\n",
      "Epoch 976/1000\n",
      "20/20 [==============================] - 0s 16ms/step - loss: 0.9925 - categorical_accuracy: 0.6250 - val_loss: 2.5682 - val_categorical_accuracy: 0.1500\n",
      "Epoch 977/1000\n",
      "20/20 [==============================] - 0s 14ms/step - loss: 0.9494 - categorical_accuracy: 0.6250 - val_loss: 2.1947 - val_categorical_accuracy: 0.1000\n",
      "Epoch 978/1000\n",
      "20/20 [==============================] - 0s 15ms/step - loss: 0.9710 - categorical_accuracy: 0.6750 - val_loss: 2.5906 - val_categorical_accuracy: 0.2000\n",
      "Epoch 979/1000\n",
      "20/20 [==============================] - 0s 14ms/step - loss: 0.9101 - categorical_accuracy: 0.8000 - val_loss: 2.4261 - val_categorical_accuracy: 0.1500\n",
      "Epoch 980/1000\n",
      "20/20 [==============================] - 0s 14ms/step - loss: 0.9607 - categorical_accuracy: 0.7000 - val_loss: 2.5166 - val_categorical_accuracy: 0.0500\n",
      "Epoch 981/1000\n",
      "20/20 [==============================] - 0s 15ms/step - loss: 1.0345 - categorical_accuracy: 0.6125 - val_loss: 2.6443 - val_categorical_accuracy: 0.1000\n",
      "Epoch 982/1000\n",
      "20/20 [==============================] - 0s 16ms/step - loss: 0.9519 - categorical_accuracy: 0.7125 - val_loss: 2.6177 - val_categorical_accuracy: 0.1000\n",
      "Epoch 983/1000\n",
      "20/20 [==============================] - 0s 16ms/step - loss: 1.1320 - categorical_accuracy: 0.5500 - val_loss: 2.4705 - val_categorical_accuracy: 0.1500\n",
      "Epoch 984/1000\n",
      "20/20 [==============================] - 0s 16ms/step - loss: 1.0067 - categorical_accuracy: 0.7125 - val_loss: 2.4600 - val_categorical_accuracy: 0.1000\n",
      "Epoch 985/1000\n",
      "20/20 [==============================] - 0s 15ms/step - loss: 0.8861 - categorical_accuracy: 0.7250 - val_loss: 2.4229 - val_categorical_accuracy: 0.2000\n",
      "Epoch 986/1000\n",
      "20/20 [==============================] - 0s 14ms/step - loss: 0.8844 - categorical_accuracy: 0.7250 - val_loss: 2.8203 - val_categorical_accuracy: 0.1000\n",
      "Epoch 987/1000\n",
      "20/20 [==============================] - 0s 14ms/step - loss: 0.9702 - categorical_accuracy: 0.6875 - val_loss: 2.4029 - val_categorical_accuracy: 0.1500\n",
      "Epoch 988/1000\n",
      "20/20 [==============================] - 0s 15ms/step - loss: 1.0598 - categorical_accuracy: 0.6500 - val_loss: 2.4512 - val_categorical_accuracy: 0.2000\n",
      "Epoch 989/1000\n",
      "20/20 [==============================] - 0s 14ms/step - loss: 0.9993 - categorical_accuracy: 0.8000 - val_loss: 2.4154 - val_categorical_accuracy: 0.1500\n",
      "Epoch 990/1000\n",
      "20/20 [==============================] - 0s 15ms/step - loss: 1.1513 - categorical_accuracy: 0.6125 - val_loss: 2.0106 - val_categorical_accuracy: 0.3000\n",
      "Epoch 991/1000\n",
      "20/20 [==============================] - 0s 17ms/step - loss: 0.9413 - categorical_accuracy: 0.7125 - val_loss: 2.1595 - val_categorical_accuracy: 0.2000\n",
      "Epoch 992/1000\n",
      "20/20 [==============================] - 0s 16ms/step - loss: 1.0775 - categorical_accuracy: 0.6250 - val_loss: 2.7884 - val_categorical_accuracy: 0.1500\n",
      "Epoch 993/1000\n",
      "20/20 [==============================] - 0s 17ms/step - loss: 1.0423 - categorical_accuracy: 0.6500 - val_loss: 2.5194 - val_categorical_accuracy: 0.1500\n",
      "Epoch 994/1000\n",
      "20/20 [==============================] - 0s 17ms/step - loss: 0.8579 - categorical_accuracy: 0.7250 - val_loss: 2.4968 - val_categorical_accuracy: 0.1500\n",
      "Epoch 995/1000\n",
      "20/20 [==============================] - 0s 16ms/step - loss: 1.0892 - categorical_accuracy: 0.6125 - val_loss: 2.4485 - val_categorical_accuracy: 0.1000\n",
      "Epoch 996/1000\n",
      "20/20 [==============================] - 0s 17ms/step - loss: 1.1251 - categorical_accuracy: 0.6125 - val_loss: 2.6697 - val_categorical_accuracy: 0.1500\n",
      "Epoch 997/1000\n",
      "20/20 [==============================] - 0s 15ms/step - loss: 0.7552 - categorical_accuracy: 0.8000 - val_loss: 2.4565 - val_categorical_accuracy: 0.2000\n",
      "Epoch 998/1000\n",
      "20/20 [==============================] - 0s 15ms/step - loss: 1.1511 - categorical_accuracy: 0.6000 - val_loss: 2.5573 - val_categorical_accuracy: 0.1000\n",
      "Epoch 999/1000\n",
      "20/20 [==============================] - 0s 15ms/step - loss: 0.9796 - categorical_accuracy: 0.7000 - val_loss: 2.8769 - val_categorical_accuracy: 0.1000\n",
      "Epoch 1000/1000\n",
      "20/20 [==============================] - 0s 18ms/step - loss: 1.2134 - categorical_accuracy: 0.6125 - val_loss: 2.4550 - val_categorical_accuracy: 0.1500\n"
     ]
    },
    {
     "data": {
      "application/vnd.jupyter.widget-view+json": {
       "model_id": "",
       "version_major": 2,
       "version_minor": 0
      },
      "text/plain": [
       "VBox(children=(Label(value='0.006 MB of 0.006 MB uploaded\\r'), FloatProgress(value=1.0, max=1.0)))"
      ]
     },
     "metadata": {},
     "output_type": "display_data"
    },
    {
     "data": {
      "text/html": [
       "<style>\n",
       "    table.wandb td:nth-child(1) { padding: 0 10px; text-align: left ; width: auto;} td:nth-child(2) {text-align: left ; width: 100%}\n",
       "    .wandb-row { display: flex; flex-direction: row; flex-wrap: wrap; justify-content: flex-start; width: 100% }\n",
       "    .wandb-col { display: flex; flex-direction: column; flex-basis: 100%; flex: 1; padding: 10px; }\n",
       "    </style>\n",
       "<div class=\"wandb-row\"><div class=\"wandb-col\"><h3>Run history:</h3><br/><table class=\"wandb\"><tr><td>epoch/categorical_accuracy</td><td>▁▁▂▃▃▅▄▃▃▃▅▅▅▇▆▇▆▆▆▆▆▅▃▇▅▅▆▆▆▇█▆▆▇█▇▇▇▅▆</td></tr><tr><td>epoch/epoch</td><td>▁▁▁▂▂▂▂▂▂▃▃▃▃▃▄▄▄▄▄▄▅▅▅▅▅▅▆▆▆▆▆▇▇▇▇▇▇███</td></tr><tr><td>epoch/learning_rate</td><td>████▇▇▆▆▅▅▄▄▃▃▂▂▂▁▁▁███▇▇▇▆▆▅▅▄▄▃▃▂▂▁▁▁▁</td></tr><tr><td>epoch/loss</td><td>█▇▅▅▆▄▅▅▅▅▃▄▄▂▃▂▃▂▂▃▃▅▅▂▃▂▃▂▃▂▂▂▁▁▁▂▂▁▄▂</td></tr><tr><td>epoch/val_categorical_accuracy</td><td>▆▃▃▂▃▅▄▃▄▃▂▄▂▃▃▅▂▅▃▄▄▃▂▁▂▄▅█▇▂▃▅▄▃▅▄▃▂▂▄</td></tr><tr><td>epoch/val_loss</td><td>▂▅▄▇▅▁▄▆▃▃▅▂▄▅▅▅▅▄▅▅▆▇▆▆▄▅▃▄▃▆▆▄▅█▅▆▇▆█▇</td></tr></table><br/></div><div class=\"wandb-col\"><h3>Run summary:</h3><br/><table class=\"wandb\"><tr><td>epoch/categorical_accuracy</td><td>0.6125</td></tr><tr><td>epoch/epoch</td><td>999</td></tr><tr><td>epoch/learning_rate</td><td>1e-05</td></tr><tr><td>epoch/loss</td><td>1.21336</td></tr><tr><td>epoch/val_categorical_accuracy</td><td>0.15</td></tr><tr><td>epoch/val_loss</td><td>2.45497</td></tr></table><br/></div></div>"
      ],
      "text/plain": [
       "<IPython.core.display.HTML object>"
      ]
     },
     "metadata": {},
     "output_type": "display_data"
    },
    {
     "data": {
      "text/html": [
       " View run <strong style=\"color:#cdcd00\">C2_EfficientNetB0</strong> at: <a href='https://wandb.ai/mlewand7/MHI-CNN/runs/qeq7932w' target=\"_blank\">https://wandb.ai/mlewand7/MHI-CNN/runs/qeq7932w</a><br/> View project at: <a href='https://wandb.ai/mlewand7/MHI-CNN' target=\"_blank\">https://wandb.ai/mlewand7/MHI-CNN</a><br/>Synced 5 W&B file(s), 0 media file(s), 0 artifact file(s) and 0 other file(s)"
      ],
      "text/plain": [
       "<IPython.core.display.HTML object>"
      ]
     },
     "metadata": {},
     "output_type": "display_data"
    },
    {
     "data": {
      "text/html": [
       "Find logs at: <code>./wandb/run-20240415_202505-qeq7932w/logs</code>"
      ],
      "text/plain": [
       "<IPython.core.display.HTML object>"
      ]
     },
     "metadata": {},
     "output_type": "display_data"
    },
    {
     "data": {
      "text/plain": [
       "<keras.src.callbacks.History at 0x7fe258ac8550>"
      ]
     },
     "execution_count": 44,
     "metadata": {},
     "output_type": "execute_result"
    }
   ],
   "source": [
    "MHI_SHAPE = (224,224,3)\n",
    "# get the base model, exclude final dense layers - we will modify/output this\n",
    "base_model = tf.keras.applications.EfficientNetB0(input_shape = MHI_SHAPE,\n",
    "                                                include_top = False,\n",
    "                                                weights = 'imagenet',\n",
    "                                                pooling='max')\n",
    "# Freeze the convolutional base\n",
    "base_model.trainable = True\n",
    "\n",
    "#len(train_ds.unique_labels) outputs the length of the labels.\n",
    "#MobileNetV3 without additional dense layer - add softmax classification layer\n",
    "model = Sequential()\n",
    "model.add(keras.layers.Flatten())\n",
    "model.add(Dense(256, activation=\"relu\"))\n",
    "model.add(keras.layers.BatchNormalization())\n",
    "model.add(Dense(len(train_ds.unique_labels), activation='softmax'))\n",
    "\n",
    "keras_train(model, \n",
    "            run_name=\"C2_EfficientNetB0_no_transforms\", \n",
    "            train_ds=train_dataset, \n",
    "            val_ds=val_dataset, \n",
    "            T_max=501, \n",
    "            epochs=1000,\n",
    "            max_lr = 1e-4, \n",
    "            min_lr = 1e-5,\n",
    "            dataset_name=\"calcMHI-augmentMHI_no_transforms\", \n",
    "            filepath=os.path.join(\"models\", \"C2_EfficientNetB0_no_transforms.tf\"), \n",
    "            USE_WANDB=CONFIG.USE_WANDB)"
   ]
  }
 ],
 "metadata": {
  "kaggle": {
   "accelerator": "none",
   "dataSources": [
    {
     "datasetId": 1589971,
     "sourceId": 2632847,
     "sourceType": "datasetVersion"
    }
   ],
   "dockerImageVersionId": 30684,
   "isGpuEnabled": false,
   "isInternetEnabled": true,
   "language": "python",
   "sourceType": "notebook"
  },
  "kernelspec": {
   "display_name": "Python 3 (ipykernel)",
   "language": "python",
   "name": "python3"
  },
  "language_info": {
   "codemirror_mode": {
    "name": "ipython",
    "version": 3
   },
   "file_extension": ".py",
   "mimetype": "text/x-python",
   "name": "python",
   "nbconvert_exporter": "python",
   "pygments_lexer": "ipython3",
   "version": "3.11.7"
  }
 },
 "nbformat": 4,
 "nbformat_minor": 4
}
