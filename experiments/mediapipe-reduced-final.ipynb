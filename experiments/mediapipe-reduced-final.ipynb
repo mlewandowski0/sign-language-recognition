{
 "cells": [
  {
   "cell_type": "code",
   "execution_count": null,
   "metadata": {
    "ExecuteTime": {
     "end_time": "2024-04-22T23:04:54.233139Z",
     "start_time": "2024-04-22T23:04:47.040055Z"
    }
   },
   "outputs": [],
   "source": [
    "!pip install opencv-python numpy tensorflow scikit-learn matplotlib wandb tdqm wurlitzer pandas plotly pyarrow"
   ]
  },
  {
   "cell_type": "code",
   "execution_count": 1,
   "metadata": {
    "ExecuteTime": {
     "end_time": "2024-04-22T23:05:04.038342Z",
     "start_time": "2024-04-22T23:04:54.236156Z"
    }
   },
   "outputs": [],
   "source": [
    "import os\n",
    "import math\n",
    "import pandas as pd\n",
    "import numpy as np\n",
    "#Load parquet data into dataset_parquet for training.\n",
    "import tensorflow as tf\n",
    "from tensorflow import keras\n",
    "from keras.regularizers import l2\n",
    "from glob import glob\n",
    "from tqdm import tqdm\n",
    "from collections import Counter\n",
    "import random\n",
    "import time\n",
    "import wandb"
   ]
  },
  {
   "cell_type": "code",
   "execution_count": 2,
   "metadata": {
    "ExecuteTime": {
     "end_time": "2024-04-23T00:25:31.935196Z",
     "start_time": "2024-04-23T00:25:31.930803Z"
    }
   },
   "outputs": [],
   "source": [
    "class CONFIG:\n",
    "    # root = os.path.join(\"/\", \"kaggle\", \"input\", \"asl-signs\") \n",
    "    # root = os.path.join(\".\")\n",
    "    # root = os.path.join(\".\")\n",
    "    root = os.path.join(\"..\", \"data\", \"asl-signs\")\n",
    "    DATA_LIMIT = 2000\n",
    "    BATCH_SIZE = 32\n",
    "    VIDEO_LENGTH = 36\n",
    "    TRAIN_VAL_SPLIT = 0.8\n",
    "    WANDB_RUN = \"mediapipe-asl-dataset\"\n"
   ]
  },
  {
   "cell_type": "code",
   "execution_count": 3,
   "metadata": {
    "ExecuteTime": {
     "end_time": "2024-04-23T00:25:32.292809Z",
     "start_time": "2024-04-23T00:25:32.281575Z"
    }
   },
   "outputs": [
    {
     "name": "stdout",
     "output_type": "stream",
     "text": [
      "LIPS :  40\n",
      "EYE_LEFT :  20\n",
      "EYE_RIGHT :  20\n",
      "LEFT_HAND :  21\n",
      "RIGHT_HAND :  21\n",
      "LEFT_POSE :  5\n",
      "RIGHT_POSE :  5\n",
      "132\n"
     ]
    }
   ],
   "source": [
    "LIPS_IDXS0 = np.array([\n",
    "        61, 185, 40, 39, 37, 0, 267, 269, 270, 409,\n",
    "        291, 146, 91, 181, 84, 17, 314, 405, 321, 375,\n",
    "        78, 191, 80, 81, 82, 13, 312, 311, 310, 415,\n",
    "        95, 88, 178, 87, 14, 317, 402, 318, 324, 308,\n",
    "    ])\n",
    "\n",
    "\n",
    "EYE_LEFT = np.array([33, 7, 246, 161, 160, 159, 158, 157, 173, 133, 155, 154, 153, 145, 144, 163, 471, 470, 469, 472])\n",
    "\n",
    "\n",
    "EYE_RIGHT = np.array([362, 398, 384, 385, 386, 387, 388, 466, 263, 249, 390, 373, 374, 380, 381, 382, 476, 475, 474, 477])\n",
    "# Landmark indices in original data\n",
    "LEFT_HAND_IDXS0 = np.arange(468,489)\n",
    "RIGHT_HAND_IDXS0 = np.arange(522,543)\n",
    "LEFT_POSE_IDXS0 = np.array([502, 504, 506, 508, 510])\n",
    "RIGHT_POSE_IDXS0 = np.array([503, 505, 507, 509, 511])\n",
    "\n",
    "\n",
    "LIPS_END = len(LIPS_IDXS0)\n",
    "EYE_LEFT_END = LIPS_END + len(EYE_LEFT)\n",
    "EYE_RIGHT_END = EYE_LEFT_END + len(EYE_RIGHT)\n",
    "LEFT_HAND_END = EYE_RIGHT_END + len(LEFT_HAND_IDXS0)\n",
    "RIGHT_HAND_END = LEFT_HAND_END + len(RIGHT_HAND_IDXS0)\n",
    "LEFT_POSE_END = RIGHT_HAND_END + len(LEFT_POSE_IDXS0)\n",
    "RIGHT_POSE_END = LEFT_POSE_END + len(RIGHT_POSE_IDXS0)\n",
    "\n",
    "print(\"LIPS : \",len(LIPS_IDXS0))\n",
    "print(\"EYE_LEFT : \",len(EYE_LEFT))\n",
    "print(\"EYE_RIGHT : \",len(EYE_RIGHT))\n",
    "print(\"LEFT_HAND : \",len(LEFT_HAND_IDXS0))\n",
    "print(\"RIGHT_HAND : \",len(RIGHT_HAND_IDXS0))\n",
    "print(\"LEFT_POSE : \",len(LEFT_POSE_IDXS0))\n",
    "print(\"RIGHT_POSE : \",len(RIGHT_POSE_IDXS0))\n",
    "\n",
    "all_selection = np.concatenate([LIPS_IDXS0, EYE_LEFT, EYE_RIGHT, LEFT_HAND_IDXS0, RIGHT_HAND_IDXS0, LEFT_POSE_IDXS0, RIGHT_POSE_IDXS0])\n",
    "print(len(all_selection))"
   ]
  },
  {
   "cell_type": "code",
   "execution_count": 4,
   "metadata": {
    "ExecuteTime": {
     "end_time": "2024-04-23T00:25:32.654379Z",
     "start_time": "2024-04-23T00:25:32.646338Z"
    }
   },
   "outputs": [],
   "source": [
    "def update_mean (values, mean, cnt):\n",
    "    if np.any(np.isnan(values)):\n",
    "        return mean, cnt\n",
    "    \n",
    "    mean += np.sum(values, axis=0)\n",
    "    cnt += values.shape[0]\n",
    "    return mean, cnt\n",
    "\n",
    "def update_std(values, mean, std):\n",
    "    if np.any(np.isnan(values)):\n",
    "        return std\n",
    "    \n",
    "    std += np.sum((values - mean)**2, axis=0)\n",
    "    return std"
   ]
  },
  {
   "cell_type": "code",
   "execution_count": 5,
   "metadata": {
    "ExecuteTime": {
     "end_time": "2024-04-23T00:25:32.977724Z",
     "start_time": "2024-04-23T00:25:32.966015Z"
    }
   },
   "outputs": [],
   "source": [
    "#this code sorts out a parquet files and rearrange the order to pose,face, left-hand, right-hand\n",
    "import os\n",
    "import pandas as pd\n",
    "import numpy as np\n",
    "import matplotlib.pyplot as plt \n",
    "import plotly.graph_objs as go\n",
    "from sklearn.model_selection import train_test_split\n",
    "import plotly.io as pio\n",
    "\n",
    "def visualize_keypoints(frames : np.ndarray, point_size : int):\n",
    "    if len(frames.shape) == 1:\n",
    "        frames = np.array([frames])\n",
    "    \n",
    "    for frame in frames:\n",
    "        frame = frame.reshape(-1, 3)\n",
    "        sizes = point_size * np.ones(frame.shape[0])\n",
    "\n",
    "        fig = go.Figure(data=go.Scatter(x=frame[:,0], y=2.5 - frame[:,1], mode='markers',\n",
    "                                        marker=dict(\n",
    "                                            size=sizes\n",
    "                                            )))\n",
    "\n",
    "    # Customize the layout\n",
    "    fig.update_layout(title='visualization of human keypoints',\n",
    "                        xaxis_title='',\n",
    "                        yaxis_title='',\n",
    "                        width=1000,\n",
    "                        height=1600)\n",
    "\n",
    "    fig.update_xaxes(range=[-0.2, 1.4])  # Set x-axis range from 0 to 6\n",
    "    fig.update_yaxes(range=[0, 2.5])  # Set y-axis range from 10 to 20\n",
    "\n",
    "    # Show the plot\n",
    "    fig.show()\n",
    "\n",
    "def process_parquet2(ds, idxes = None):\n",
    "    ret = []    \n",
    "    frame_size = 543\n",
    "    it = len(ds) // frame_size\n",
    "    assert it == len(ds) / frame_size\n",
    "    \n",
    "    for i in range(it):\n",
    "        vals = ds.iloc[ i * frame_size : (i + 1 ) * frame_size ]        \n",
    "        \n",
    "        if idxes is not None:          \n",
    "            vals = ds.iloc[idxes]\n",
    "                        \n",
    "        ret.append(np.array(vals[[\"x\",\"y\", \"z\"]]))\n",
    "        \n",
    "    return np.array(np.array(ret))"
   ]
  },
  {
   "cell_type": "code",
   "execution_count": 6,
   "metadata": {
    "ExecuteTime": {
     "end_time": "2024-04-23T00:45:51.561533Z",
     "start_time": "2024-04-23T00:43:24.084149Z"
    }
   },
   "outputs": [
    {
     "name": "stderr",
     "output_type": "stream",
     "text": [
      "100%|██████████| 94477/94477 [00:00<00:00, 395895.10it/s]\n",
      "Cacheing: 100%|██████████| 1600/1600 [01:01<00:00, 26.07it/s]\n",
      "calculating means: 100%|██████████| 1600/1600 [00:03<00:00, 498.59it/s]\n",
      "calculating std: 100%|██████████| 1600/1600 [00:11<00:00, 140.87it/s]\n",
      "normalizing: 100%|██████████| 1600/1600 [00:07<00:00, 218.05it/s]\n",
      "100%|██████████| 94477/94477 [00:00<00:00, 324553.80it/s]\n",
      "Cacheing: 100%|██████████| 400/400 [00:09<00:00, 40.03it/s]\n",
      "normalizing: 100%|██████████| 400/400 [00:01<00:00, 216.61it/s]"
     ]
    },
    {
     "name": "stdout",
     "output_type": "stream",
     "text": [
      "cardinality of train : 1600, cardinality of validation : 400\n"
     ]
    },
    {
     "name": "stderr",
     "output_type": "stream",
     "text": [
      "\n"
     ]
    }
   ],
   "source": [
    "class Groups:\n",
    "    def __init__(self):\n",
    "        self.starts = []\n",
    "        self.id_2_label = {}\n",
    "        self.means = []\n",
    "        self.cnts = []\n",
    "        self.stds = []\n",
    "\n",
    "    def add(self, start, name):\n",
    "        self.id_2_label[len(self.starts)] = name\n",
    "        self.starts.append(start)\n",
    "        self.means.append(np.array([0.0,0.0,0.0]))\n",
    "        self.cnts.append(0)\n",
    "        self.stds.append(np.array([0.0,0.0,0.0]))\n",
    "        \n",
    "    def reset(self):\n",
    "        for i in range(len(self.means)):\n",
    "            self.means[i] = np.array([0,0,0])\n",
    "            self.cnts[i] = 0\n",
    "            self.stds[i] = np.array([0,0,0])\n",
    "            \n",
    "    def __str__(self):\n",
    "        s = \"\"\n",
    "        for i in range(len(self.starts)):\n",
    "            s += f\"name={self.id_2_label[i]} idxes = ({self.starts[i][0]}, {self.starts[i][1]}), mu={self.means[i]}, std = {self.stds[i]}\\n\"\n",
    "        \n",
    "        return s\n",
    "    \n",
    "#custom class to load data from Parquet files for training ML models.\n",
    "class ParquetDatasetCached(keras.utils.Sequence):\n",
    "    def __init__(self, dataset_folder, csv_file : str, groups : Groups=None, batch_size=CONFIG.BATCH_SIZE, \n",
    "                 data_limit :int= CONFIG.DATA_LIMIT, check_if_file_exists = True, \n",
    "                 frame_length :int = CONFIG.VIDEO_LENGTH, split : str = \"train\", \n",
    "                 train_val_split : float = CONFIG.TRAIN_VAL_SPLIT, sort_by_counts : bool = True, \n",
    "                 idxes=None, **kwargs):\n",
    "        super().__init__(**kwargs)\n",
    "        #taking keras sequence for .fit(), .evaluate(), .predict() methods\n",
    "        #load csv - it has the path to parquet file, and another to store label\n",
    "        self.cached_Y = None\n",
    "        self.cached_X = None\n",
    "        self.csv_path = csv_file\n",
    "        self.root_folder = dataset_folder\n",
    "        self.batch_size = batch_size\n",
    "        #optional pre-processing function to the parquet files.\n",
    "        self.group = groups\n",
    "        \n",
    "        self.csv_data = pd.read_csv(self.csv_path)\n",
    "        \n",
    "        self.all_files = []\n",
    "        self.not_exists = []\n",
    "        self.frame_length = frame_length\n",
    "\n",
    "        for path, label in tqdm(list(zip(self.csv_data[\"path\"], self.csv_data[\"sign\"]))):\n",
    "            prop_path = os.path.join(self.root_folder, path)\n",
    "            \n",
    "            if check_if_file_exists:\n",
    "                if os.path.exists(prop_path):\n",
    "                    self.all_files.append((prop_path, label))\n",
    "                else:\n",
    "                    self.not_exists.append(prop_path)\n",
    "            else:\n",
    "                self.all_files.append((prop_path, label))\n",
    "                \n",
    "                    \n",
    "        self.all_files = np.array(self.all_files)\n",
    "        self.unique_labels = np.unique(self.all_files[:, 1])\n",
    "        self.label_2_id = { key : i for i, key in enumerate(self.unique_labels)}\n",
    "    \n",
    "        # sort the values by popularity\n",
    "        if sort_by_counts:\n",
    "            cnt = Counter(self.all_files[:, 1])\n",
    "            vals = []\n",
    "            \n",
    "            for i,row in enumerate(self.all_files):\n",
    "                vals.append((int(1e6 * cnt[row[1]] + self.label_2_id [row[1]]),i))\n",
    "            \n",
    "            vals = np.array(sorted(vals)[::-1])\n",
    "            self.all_files = self.all_files[vals[:,1]]\n",
    "\n",
    "        \n",
    "        if data_limit < 0:\n",
    "            train_ds, val_ds = train_test_split(self.all_files, train_size=train_val_split, random_state=42)\n",
    "        else:\n",
    "            train_ds, val_ds = train_test_split(self.all_files[:data_limit], train_size=train_val_split, random_state=42)\n",
    "            self.unique_labels = np.unique(self.all_files[:data_limit, 1])\n",
    "            self.label_2_id = { key : i for i, key in enumerate(self.unique_labels)}\n",
    "            \n",
    "        if split.lower() == \"train\":\n",
    "            self.dataset = train_ds\n",
    "            \n",
    "        elif split.lower() == \"val\":\n",
    "            self.dataset = val_ds \n",
    "            \n",
    "        else:\n",
    "            raise Exception(\"please specify split to be either train or val\")\n",
    "            \n",
    "        self.cache_data(idxes)\n",
    "        self.calculate_props_for_groups()\n",
    "\n",
    "    def normalize_data_points(self):\n",
    "        for i in tqdm(range(len(self.cached_X)), desc=\"normalizing\"):\n",
    "            self.preprocess(self.cached_X[i])\n",
    "            \n",
    "                   \n",
    "    def getGroups(self):\n",
    "        return self.group\n",
    "    \n",
    "    def select(self, frames):\n",
    "        current_length, num_features, _ = frames.shape\n",
    "    \n",
    "        if current_length >= CONFIG.VIDEO_LENGTH:\n",
    "                # TODO: a better than uniform value ? Could place gaussian in the middle\n",
    "                random_start = random.randint(0, current_length - CONFIG.VIDEO_LENGTH)\n",
    "                return frames[random_start : (random_start + CONFIG.VIDEO_LENGTH)]\n",
    "            \n",
    "        # padd the video to contain zeros \n",
    "        return np.concatenate([frames, np.zeros((CONFIG.VIDEO_LENGTH - current_length, num_features,3))], axis=0)\n",
    "\n",
    "    def preprocess(self, raw_frames):\n",
    "        select_frames = raw_frames\n",
    "        t = select_frames.shape[0]\n",
    "        \n",
    "        for i in range(t):   \n",
    "            for j in range(len(self.group.starts)):\n",
    "                start = self.group.starts[j] \n",
    "                mean, std = self.group.means[j], self.group.stds[j]\n",
    "                region = select_frames[i, start[0] : start[1], :]                \n",
    "                region = (region - mean) / std\n",
    "                region = np.nan_to_num(region)                \n",
    "                select_frames[i, start[0] : start[1]] = region\n",
    "                \n",
    "                \n",
    "        return select_frames\n",
    "        \n",
    "            \n",
    "    def cache_data(self, idxes):\n",
    "        self.cached_X, self.cached_Y = [], []\n",
    "        \n",
    "        pb = tqdm(range(len(self.dataset)), desc=\"Cacheing\")\n",
    "\n",
    "        for i in pb:\n",
    "            \n",
    "            path, label = self.dataset[i]\n",
    "            df = pd.read_parquet(path)\n",
    "                        \n",
    "            one_hot_encoded_label = np.zeros(len(self.unique_labels))\n",
    "            one_hot_encoded_label[self.label_2_id[label]] = 1\n",
    "\n",
    "            self.cached_X.append(process_parquet2(df, idxes=idxes))\n",
    "            self.cached_Y.append(one_hot_encoded_label)     \n",
    "            \n",
    "        \n",
    "    def calculate_props_for_groups(self):\n",
    "        \n",
    "        if self.group is None:\n",
    "            return \n",
    "                            \n",
    "        for frames in tqdm(self.cached_X, desc=\"calculating means\"):\n",
    "            for frame in frames:\n",
    "                for i in range(len(self.group.starts)):\n",
    "                    start = self.group.starts[i]\n",
    "                    mean = self.group.means[i]\n",
    "                    cnts = self.group.cnts[i]\n",
    "                    \n",
    "                    feature = frame[start[0]:start[1]]\n",
    "                    \n",
    "                    self.group.means[i], self.group.cnts[i] = update_mean(feature, mean, cnts)                   \n",
    " \n",
    "        \n",
    "        # set the means \n",
    "        for i in range(len(self.group.starts)):            \n",
    "            self.group.means[i] = self.group.means[i] / self.group.cnts[i]\n",
    "            \n",
    "        # calculate the standard deviations\n",
    "        for frames in tqdm(self.cached_X, desc=\"calculating std\"):\n",
    "            for frame in frames:\n",
    "                for i in range(len(self.group.starts)):\n",
    "                    start = self.group.starts[i]\n",
    "                    std = self.group.stds[i]\n",
    "                    mean = self.group.means[i]                    \n",
    "                    feature = frame[start[0]:start[1]]\n",
    "                    \n",
    "                    self.group.stds[i] = update_std(feature, mean=mean, std=std)                   \n",
    " \n",
    "        # set the standard deviations \n",
    "        for i in range(len(self.group.starts)):            \n",
    "            self.group.stds[i] = np.sqrt(self.group.stds[i] / self.group.cnts[i])\n",
    "  \n",
    "    def set_group(self, group):\n",
    "        self.group = group\n",
    "\n",
    "    def __len__(self):\n",
    "        # Assuming each Parquet file should be one batch; adjust if necessary\n",
    "        return len(self.dataset)\n",
    "\n",
    "    def __getitem__(self, idx):\n",
    "        traj = self.select(self.cached_X[idx])\n",
    "        t = traj.shape[0]\n",
    "        return traj.reshape(t, -1), self.cached_Y[idx]                \n",
    "        \n",
    "    def on_epoch_end(self):\n",
    "        # Shuffle files for the next epoch\n",
    "        np.random.shuffle(self.dataset)\n",
    "\n",
    "\n",
    "    \n",
    "groups = Groups()\n",
    "groups.add((0, LIPS_END), \"lips\")\n",
    "groups.add((LIPS_END, EYE_LEFT_END), \"left eye\")\n",
    "groups.add((EYE_LEFT_END, EYE_RIGHT_END), \"right eye\")\n",
    "groups.add((EYE_RIGHT_END, LEFT_HAND_END), \"left hand\")\n",
    "groups.add((LEFT_HAND_END, RIGHT_HAND_END), \"right hand\")\n",
    "groups.add((RIGHT_HAND_END, LEFT_POSE_END), \"left pose\")\n",
    "groups.add((LEFT_POSE_END, RIGHT_POSE_END), \"right pose\")\n",
    "\n",
    "# Usage example\n",
    "parquet_folder_path = CONFIG.root\n",
    "train_dataset_parquet = ParquetDatasetCached(parquet_folder_path, csv_file = os.path.join(CONFIG.root, \"train.csv\"), \n",
    "                                 batch_size=CONFIG.BATCH_SIZE, data_limit=CONFIG.DATA_LIMIT, groups=groups,\n",
    "                                             check_if_file_exists = False,\n",
    "                                             split=\"train\", idxes= all_selection)\n",
    "train_dataset_parquet.normalize_data_points()\n",
    "\n",
    "val_dataset_parquet = ParquetDatasetCached(parquet_folder_path, csv_file = os.path.join(CONFIG.root, \"train.csv\"), \n",
    "                                 batch_size=CONFIG.BATCH_SIZE, data_limit=CONFIG.DATA_LIMIT,\n",
    "                                 check_if_file_exists= False,\n",
    "                                 split=\"val\",idxes= all_selection)\n",
    "val_dataset_parquet.set_group(train_dataset_parquet.group)\n",
    "val_dataset_parquet.normalize_data_points()\n",
    "\n",
    "print(f\"cardinality of train : {len(train_dataset_parquet)}, cardinality of validation : {len(val_dataset_parquet)}\")"
   ]
  },
  {
   "cell_type": "code",
   "execution_count": 7,
   "metadata": {
    "ExecuteTime": {
     "end_time": "2024-04-23T00:46:02.433959Z",
     "start_time": "2024-04-23T00:46:02.427774Z"
    }
   },
   "outputs": [
    {
     "name": "stdout",
     "output_type": "stream",
     "text": [
      "name=lips idxes = (0, 40), mu=[ 0.46837713  0.48302917 -0.02288619], std = [0.07567185 0.07805494 0.01595569]\n",
      "name=left eye idxes = (40, 60), mu=[0.3991533  0.42728534 0.00753501], std = [0.13361506 0.14249471 0.03310135]\n",
      "name=right eye idxes = (60, 80), mu=[ 0.51717346  0.40728644 -0.00183984], std = [0.09961183 0.13192261 0.04502668]\n",
      "name=left hand idxes = (80, 101), mu=[ 0.64549218  0.60715568 -0.05593578], std = [0.15745084 0.19082723 0.06481537]\n",
      "name=right hand idxes = (101, 122), mu=[ 0.32559969  0.59123747 -0.06171813], std = [0.14304286 0.17530013 0.05818096]\n",
      "name=left pose idxes = (122, 127), mu=[ 0.87917387  0.94527561 -1.30689645], std = [0.18371726 0.28708228 0.70052876]\n",
      "name=right pose idxes = (127, 132), mu=[ 0.1245269   0.93955634 -1.58225958], std = [0.17150104 0.3138634  0.96991489]\n",
      "\n"
     ]
    }
   ],
   "source": [
    "print(groups)"
   ]
  },
  {
   "cell_type": "code",
   "execution_count": 8,
   "metadata": {
    "ExecuteTime": {
     "end_time": "2024-04-23T00:46:14.965820Z",
     "start_time": "2024-04-23T00:46:03.146718Z"
    }
   },
   "outputs": [
    {
     "name": "stderr",
     "output_type": "stream",
     "text": [
      "100%|██████████| 1600/1600 [00:00<00:00, 48743.70it/s]\n",
      "100%|██████████| 400/400 [00:00<00:00, 47944.49it/s]\n"
     ]
    }
   ],
   "source": [
    "nans = False\n",
    "\n",
    "for x, y in tqdm(train_dataset_parquet):\n",
    "    nans |= np.any(np.isnan(x))\n",
    "    if nans:\n",
    "        print(\"SAD : \")\n",
    "        break\n",
    "\n",
    "for x, y in tqdm(val_dataset_parquet):\n",
    "    nans |= np.any(np.isnan(x))\n",
    "    if nans:    \n",
    "        print(\"SAD : \")\n",
    "        break\n"
   ]
  },
  {
   "cell_type": "code",
   "execution_count": 9,
   "metadata": {
    "ExecuteTime": {
     "end_time": "2024-04-23T00:47:16.932555Z",
     "start_time": "2024-04-23T00:47:16.921247Z"
    }
   },
   "outputs": [
    {
     "name": "stdout",
     "output_type": "stream",
     "text": [
      "name=lips idxes = (0, 40), mu=[ 0.46837713  0.48302917 -0.02288619], std = [0.07567185 0.07805494 0.01595569]\n",
      "name=left eye idxes = (40, 60), mu=[0.3991533  0.42728534 0.00753501], std = [0.13361506 0.14249471 0.03310135]\n",
      "name=right eye idxes = (60, 80), mu=[ 0.51717346  0.40728644 -0.00183984], std = [0.09961183 0.13192261 0.04502668]\n",
      "name=left hand idxes = (80, 101), mu=[ 0.64549218  0.60715568 -0.05593578], std = [0.15745084 0.19082723 0.06481537]\n",
      "name=right hand idxes = (101, 122), mu=[ 0.32559969  0.59123747 -0.06171813], std = [0.14304286 0.17530013 0.05818096]\n",
      "name=left pose idxes = (122, 127), mu=[ 0.87917387  0.94527561 -1.30689645], std = [0.18371726 0.28708228 0.70052876]\n",
      "name=right pose idxes = (127, 132), mu=[ 0.1245269   0.93955634 -1.58225958], std = [0.17150104 0.3138634  0.96991489]\n",
      "\n"
     ]
    }
   ],
   "source": [
    "print(groups)"
   ]
  },
  {
   "cell_type": "code",
   "execution_count": 10,
   "metadata": {
    "ExecuteTime": {
     "end_time": "2024-04-23T00:47:17.485435Z",
     "start_time": "2024-04-23T00:47:17.232781Z"
    }
   },
   "outputs": [
    {
     "name": "stdout",
     "output_type": "stream",
     "text": [
      "101 122 127\n",
      "len(frames) = 35\n"
     ]
    },
    {
     "data": {
      "image/png": "[encoded data removed]",
      "text/plain": [
       "<Figure size 640x480 with 1 Axes>"
      ]
     },
     "metadata": {},
     "output_type": "display_data"
    }
   ],
   "source": [
    "import matplotlib.pyplot as plt \n",
    "\n",
    "i = 1\n",
    "LIPS_END = len(LIPS_IDXS0)\n",
    "EYE_LEFT_END = LIPS_END + len(EYE_LEFT)\n",
    "EYE_RIGHT_END = EYE_LEFT_END + len(EYE_RIGHT)\n",
    "LEFT_HAND_END = EYE_RIGHT_END + len(LEFT_HAND_IDXS0)\n",
    "RIGHT_HAND_END = LEFT_HAND_END + len(RIGHT_HAND_IDXS0)\n",
    "LEFT_POSE_END = RIGHT_HAND_END + len(LEFT_POSE_IDXS0)\n",
    "RIGHT_POSE_END = LEFT_POSE_END + len(RIGHT_POSE_IDXS0)\n",
    "\n",
    "print(LEFT_HAND_END, RIGHT_HAND_END,LEFT_POSE_END)\n",
    "\n",
    "frames = train_dataset_parquet.cached_X[i]\n",
    "print(f\"len(frames) = {len(frames)}\")\n",
    "\n",
    "frame = train_dataset_parquet.cached_X[0][0]\n",
    "\n",
    "plt.scatter(frame[:LIPS_END, 0], frame[:LIPS_END, 1], label=\"lips\")\n",
    "plt.scatter(frame[LIPS_END:EYE_LEFT_END, 0], frame[LIPS_END:EYE_LEFT_END, 1], label=\"eye left\")\n",
    "plt.scatter(frame[EYE_LEFT_END:EYE_RIGHT_END,0], frame[EYE_LEFT_END:EYE_RIGHT_END, 1], label=\"eye right\")\n",
    "plt.scatter(frame[EYE_RIGHT_END:LEFT_HAND_END,0], frame[EYE_RIGHT_END:LEFT_HAND_END, 1], label=\"left hand\")\n",
    "plt.scatter(frame[LEFT_HAND_END:RIGHT_HAND_END, 0], frame[LEFT_HAND_END:RIGHT_HAND_END, 1], label=\"right hand\")\n",
    "plt.scatter(frame[RIGHT_HAND_END:LEFT_POSE_END, 0], frame[RIGHT_HAND_END:LEFT_POSE_END, 1], label=\"left pose\")\n",
    "plt.scatter(frame[LEFT_POSE_END:RIGHT_POSE_END, 0], frame[LEFT_POSE_END:RIGHT_POSE_END, 1], label=\"right pose\")\n",
    "\n",
    "plt.legend()\n",
    "plt.show()"
   ]
  },
  {
   "cell_type": "code",
   "execution_count": 11,
   "metadata": {
    "ExecuteTime": {
     "end_time": "2024-04-23T00:47:17.714861Z",
     "start_time": "2024-04-23T00:47:17.700382Z"
    }
   },
   "outputs": [],
   "source": [
    "x, y = next(iter(train_dataset_parquet))\n",
    "X_shape, Y_shape = x.shape, y.shape"
   ]
  },
  {
   "cell_type": "code",
   "execution_count": 12,
   "metadata": {},
   "outputs": [
    {
     "data": {
      "text/plain": [
       "array([[-0.55905635,  0.1629133 ,  1.03044723, ...,  2.72012163,\n",
       "         0.95555742,  0.22947643],\n",
       "       [-0.55905635,  0.1629133 ,  1.03044723, ...,  2.72012163,\n",
       "         0.95555742,  0.22947643],\n",
       "       [-0.55905635,  0.1629133 ,  1.03044723, ...,  2.72012163,\n",
       "         0.95555742,  0.22947643],\n",
       "       ...,\n",
       "       [ 0.        ,  0.        ,  0.        , ...,  0.        ,\n",
       "         0.        ,  0.        ],\n",
       "       [ 0.        ,  0.        ,  0.        , ...,  0.        ,\n",
       "         0.        ,  0.        ],\n",
       "       [ 0.        ,  0.        ,  0.        , ...,  0.        ,\n",
       "         0.        ,  0.        ]])"
      ]
     },
     "execution_count": 12,
     "metadata": {},
     "output_type": "execute_result"
    }
   ],
   "source": [
    "x"
   ]
  },
  {
   "cell_type": "code",
   "execution_count": 13,
   "metadata": {
    "ExecuteTime": {
     "end_time": "2024-04-23T00:47:18.487909Z",
     "start_time": "2024-04-23T00:47:18.404790Z"
    }
   },
   "outputs": [
    {
     "name": "stdout",
     "output_type": "stream",
     "text": [
      "WARNING:tensorflow:From C:\\Users\\mlewand\\AppData\\Local\\Temp\\ipykernel_16528\\1223102774.py:16: calling DatasetV2.from_generator (from tensorflow.python.data.ops.dataset_ops) with output_types is deprecated and will be removed in a future version.\n",
      "Instructions for updating:\n",
      "Use output_signature instead\n",
      "WARNING:tensorflow:From C:\\Users\\mlewand\\AppData\\Local\\Temp\\ipykernel_16528\\1223102774.py:16: calling DatasetV2.from_generator (from tensorflow.python.data.ops.dataset_ops) with output_shapes is deprecated and will be removed in a future version.\n",
      "Instructions for updating:\n",
      "Use output_signature instead\n"
     ]
    }
   ],
   "source": [
    "def dataset_train_generator():\n",
    "    # Instantiate your existing dataset loader\n",
    "\n",
    "    for i in range(len(train_dataset_parquet)):\n",
    "        X_batch, Y_batch = train_dataset_parquet[i]\n",
    "        yield X_batch, Y_batch\n",
    "        \n",
    "def dataset_val_generator():\n",
    "    # Instantiate your existing dataset loader\n",
    "\n",
    "    for i in range(len(val_dataset_parquet)):\n",
    "        X_batch, Y_batch = val_dataset_parquet[i]\n",
    "        yield X_batch, Y_batch        \n",
    "\n",
    "\n",
    "train_dataset = tf.data.Dataset.from_generator(\n",
    "    lambda: dataset_train_generator(),\n",
    "    output_types=(tf.float32, tf.float32),  # Adjust types based on your actual data\n",
    "    output_shapes=(X_shape, Y_shape)\n",
    ").prefetch(tf.data.AUTOTUNE).batch(CONFIG.BATCH_SIZE)\n",
    "\n",
    "val_dataset = tf.data.Dataset.from_generator(\n",
    "    lambda: dataset_val_generator(),\n",
    "    output_types=(tf.float32, tf.float32),  # Adjust types based on your actual data\n",
    "    output_shapes=(X_shape, Y_shape)\n",
    ").prefetch(tf.data.AUTOTUNE).batch(CONFIG.BATCH_SIZE)"
   ]
  },
  {
   "cell_type": "code",
   "execution_count": 14,
   "metadata": {
    "ExecuteTime": {
     "end_time": "2024-04-23T00:47:19.593083Z",
     "start_time": "2024-04-23T00:47:19.373334Z"
    },
    "scrolled": true
   },
   "outputs": [
    {
     "name": "stderr",
     "output_type": "stream",
     "text": [
      "0it [00:00, ?it/s]\n"
     ]
    },
    {
     "data": {
      "text/plain": [
       "<tf.Tensor: shape=(32, 36, 396), dtype=float32, numpy=\n",
       "array([[[-0.55905634,  0.1629133 ,  1.0304472 , ...,  2.7201216 ,\n",
       "          0.9555574 ,  0.22947644],\n",
       "        [-0.55905634,  0.1629133 ,  1.0304472 , ...,  2.7201216 ,\n",
       "          0.9555574 ,  0.22947644],\n",
       "        [-0.55905634,  0.1629133 ,  1.0304472 , ...,  2.7201216 ,\n",
       "          0.9555574 ,  0.22947644],\n",
       "        ...,\n",
       "        [ 0.        ,  0.        ,  0.        , ...,  0.        ,\n",
       "          0.        ,  0.        ],\n",
       "        [ 0.        ,  0.        ,  0.        , ...,  0.        ,\n",
       "          0.        ,  0.        ],\n",
       "        [ 0.        ,  0.        ,  0.        , ...,  0.        ,\n",
       "          0.        ,  0.        ]],\n",
       "\n",
       "       [[-1.4844216 , -0.5923233 ,  1.0971457 , ..., -1.4787697 ,\n",
       "          0.81079257,  0.04312035],\n",
       "        [-1.4844216 , -0.5923233 ,  1.0971457 , ..., -1.4787697 ,\n",
       "          0.81079257,  0.04312035],\n",
       "        [-1.4844216 , -0.5923233 ,  1.0971457 , ..., -1.4787697 ,\n",
       "          0.81079257,  0.04312035],\n",
       "        ...,\n",
       "        [-1.4844216 , -0.5923233 ,  1.0971457 , ..., -1.4787697 ,\n",
       "          0.81079257,  0.04312035],\n",
       "        [-1.4844216 , -0.5923233 ,  1.0971457 , ..., -1.4787697 ,\n",
       "          0.81079257,  0.04312035],\n",
       "        [ 0.        ,  0.        ,  0.        , ...,  0.        ,\n",
       "          0.        ,  0.        ]],\n",
       "\n",
       "       [[ 0.49326485,  0.7030049 ,  0.1572606 , ...,  0.68588597,\n",
       "         -0.5053435 , -1.1321044 ],\n",
       "        [ 0.49326485,  0.7030049 ,  0.1572606 , ...,  0.68588597,\n",
       "         -0.5053435 , -1.1321044 ],\n",
       "        [ 0.49326485,  0.7030049 ,  0.1572606 , ...,  0.68588597,\n",
       "         -0.5053435 , -1.1321044 ],\n",
       "        ...,\n",
       "        [ 0.        ,  0.        ,  0.        , ...,  0.        ,\n",
       "          0.        ,  0.        ],\n",
       "        [ 0.        ,  0.        ,  0.        , ...,  0.        ,\n",
       "          0.        ,  0.        ],\n",
       "        [ 0.        ,  0.        ,  0.        , ...,  0.        ,\n",
       "          0.        ,  0.        ]],\n",
       "\n",
       "       ...,\n",
       "\n",
       "       [[-0.43733928,  0.31043786,  2.2912798 , ..., -0.17353097,\n",
       "         -1.4182345 , -0.20151365],\n",
       "        [-0.43733928,  0.31043786,  2.2912798 , ..., -0.17353097,\n",
       "         -1.4182345 , -0.20151365],\n",
       "        [-0.43733928,  0.31043786,  2.2912798 , ..., -0.17353097,\n",
       "         -1.4182345 , -0.20151365],\n",
       "        ...,\n",
       "        [ 0.        ,  0.        ,  0.        , ...,  0.        ,\n",
       "          0.        ,  0.        ],\n",
       "        [ 0.        ,  0.        ,  0.        , ...,  0.        ,\n",
       "          0.        ,  0.        ],\n",
       "        [ 0.        ,  0.        ,  0.        , ...,  0.        ,\n",
       "          0.        ,  0.        ]],\n",
       "\n",
       "       [[ 0.68996876, -1.0444652 ,  1.4309196 , ...,  1.1928552 ,\n",
       "         -0.312923  ,  0.4422145 ],\n",
       "        [ 0.68996876, -1.0444652 ,  1.4309196 , ...,  1.1928552 ,\n",
       "         -0.312923  ,  0.4422145 ],\n",
       "        [ 0.68996876, -1.0444652 ,  1.4309196 , ...,  1.1928552 ,\n",
       "         -0.312923  ,  0.4422145 ],\n",
       "        ...,\n",
       "        [ 0.        ,  0.        ,  0.        , ...,  0.        ,\n",
       "          0.        ,  0.        ],\n",
       "        [ 0.        ,  0.        ,  0.        , ...,  0.        ,\n",
       "          0.        ,  0.        ],\n",
       "        [ 0.        ,  0.        ,  0.        , ...,  0.        ,\n",
       "          0.        ,  0.        ]],\n",
       "\n",
       "       [[-0.93343556,  0.5836993 ,  2.1462767 , ..., -0.06932547,\n",
       "         -1.3463702 , -0.94921595],\n",
       "        [-0.93343556,  0.5836993 ,  2.1462767 , ..., -0.06932547,\n",
       "         -1.3463702 , -0.94921595],\n",
       "        [-0.93343556,  0.5836993 ,  2.1462767 , ..., -0.06932547,\n",
       "         -1.3463702 , -0.94921595],\n",
       "        ...,\n",
       "        [ 0.        ,  0.        ,  0.        , ...,  0.        ,\n",
       "          0.        ,  0.        ],\n",
       "        [ 0.        ,  0.        ,  0.        , ...,  0.        ,\n",
       "          0.        ,  0.        ],\n",
       "        [ 0.        ,  0.        ,  0.        , ...,  0.        ,\n",
       "          0.        ,  0.        ]]], dtype=float32)>"
      ]
     },
     "execution_count": 14,
     "metadata": {},
     "output_type": "execute_result"
    }
   ],
   "source": [
    "els = np.array([0])\n",
    "for x,y in tqdm(train_dataset):\n",
    "    break \n",
    "    \n",
    "x"
   ]
  },
  {
   "cell_type": "code",
   "execution_count": 15,
   "metadata": {
    "ExecuteTime": {
     "end_time": "2024-04-23T00:47:29.947569Z",
     "start_time": "2024-04-23T00:47:21.273369Z"
    }
   },
   "outputs": [
    {
     "name": "stderr",
     "output_type": "stream",
     "text": [
      "21it [00:00, 96.61it/s]"
     ]
    },
    {
     "name": "stdout",
     "output_type": "stream",
     "text": [
      "(32, 36, 396) (32, 5)\n"
     ]
    },
    {
     "name": "stderr",
     "output_type": "stream",
     "text": [
      "50it [00:00, 77.14it/s]\n"
     ]
    },
    {
     "name": "stdout",
     "output_type": "stream",
     "text": [
      "Iterating through dataset took : 0.6511s\n"
     ]
    },
    {
     "data": {
      "image/png": "[encoded data removed]",
      "text/plain": [
       "<Figure size 640x480 with 1 Axes>"
      ]
     },
     "metadata": {},
     "output_type": "display_data"
    }
   ],
   "source": [
    "start = time.time()\n",
    "isnans =False\n",
    "\n",
    "id2label = {v : k for k,v in train_dataset_parquet.label_2_id.items()}\n",
    "\n",
    "f = True\n",
    "labels_batches = []\n",
    "for el in tqdm(train_dataset):\n",
    "    if f:\n",
    "        print(el[0].shape, el[1].shape)\n",
    "        f = False\n",
    "\n",
    "    ls = np.argmax(el[1], axis=1)\n",
    "    for l in ls:\n",
    "        labels_batches.append(id2label[l])\n",
    "    \n",
    "    isnans |= np.any(np.isnan(el[0]))\n",
    "    if isnans:\n",
    "        print(\"FOUND NAN!\")\n",
    "        break\n",
    "\n",
    "print(f\"Iterating through dataset took : {round( time.time() - start , 4)}s\")\n",
    "plt.hist(labels_batches, bins=len(np.unique(labels_batches)), edgecolor=\"black\")\n",
    "plt.xlabel('labels')\n",
    "plt.ylabel('counts')\n",
    "plt.title('')\n",
    "\n",
    "# Rotate x-axis ticks\n",
    "plt.xticks(rotation=45)\n",
    "plt.savefig(\"histogram.png\")\n",
    "plt.show()"
   ]
  },
  {
   "cell_type": "code",
   "execution_count": 16,
   "metadata": {
    "ExecuteTime": {
     "end_time": "2024-04-23T00:47:29.963567Z",
     "start_time": "2024-04-23T00:47:29.948575Z"
    }
   },
   "outputs": [
    {
     "name": "stderr",
     "output_type": "stream",
     "text": [
      "100%|██████████| 1600/1600 [00:00<00:00, 399338.67it/s]\n"
     ]
    }
   ],
   "source": [
    "from collections import defaultdict\n",
    "\n",
    "c = defaultdict(list)\n",
    "alltimes = []\n",
    "\n",
    "\n",
    "for i in tqdm(range(len(train_dataset_parquet.cached_X))):\n",
    "    x,y = train_dataset_parquet.cached_X[i], train_dataset_parquet.cached_Y[i]\n",
    "    c[np.argmax(y)].append(x.shape[0])\n",
    "    alltimes.append(x.shape[0])\n",
    "    "
   ]
  },
  {
   "cell_type": "code",
   "execution_count": 17,
   "metadata": {
    "ExecuteTime": {
     "end_time": "2024-04-23T00:57:29.144194Z",
     "start_time": "2024-04-23T00:57:29.139120Z"
    }
   },
   "outputs": [
    {
     "name": "stdout",
     "output_type": "stream",
     "text": [
      "{0: 'donkey', 1: 'listen', 2: 'look', 3: 'mouse', 4: 'shhh'}\n"
     ]
    }
   ],
   "source": [
    "print(id2label)\n",
    "no_cls = len(id2label)\n",
    "fs = CONFIG.VIDEO_LENGTH"
   ]
  },
  {
   "cell_type": "code",
   "execution_count": 18,
   "metadata": {
    "ExecuteTime": {
     "end_time": "2024-04-23T00:47:35.354437Z",
     "start_time": "2024-04-23T00:47:34.584500Z"
    }
   },
   "outputs": [
    {
     "data": {
      "image/png": "[encoded data removed]",
      "text/plain": [
       "<Figure size 1200x600 with 1 Axes>"
      ]
     },
     "metadata": {},
     "output_type": "display_data"
    }
   ],
   "source": [
    "\n",
    "plt.figure(figsize=(12, 6))\n",
    "ks = list(c.keys())\n",
    "\n",
    "for k in ks:\n",
    "    lengths = c[k]\n",
    "    \n",
    "    plt.title(f\"$\\mu$ = {np.mean(alltimes)}, median={np.median(alltimes)}\")\n",
    "    plt.hist(lengths, bins=np.arange(0, 250, 5), label=f\"{id2label[k]},$\\mu$={round(np.mean(lengths),3)},no={len(lengths)}\", alpha=0.3)\n",
    "    plt.xlabel(\"frame lengths\")\n",
    "    plt.ylabel(\"counts\")\n",
    "\n",
    "\n",
    "plt.legend()\n",
    "plt.savefig(\"length distribution.png\")\n",
    "plt.show()"
   ]
  },
  {
   "cell_type": "markdown",
   "metadata": {},
   "source": [
    "# Train experiment"
   ]
  },
  {
   "cell_type": "code",
   "execution_count": 91,
   "metadata": {
    "ExecuteTime": {
     "end_time": "2024-04-23T00:47:36.989397Z",
     "start_time": "2024-04-23T00:47:36.972880Z"
    }
   },
   "outputs": [],
   "source": [
    "from tensorflow.keras.models import Sequential\n",
    "from tensorflow.keras.layers import LSTM, Dense, Dropout, LeakyReLU\n",
    "from tensorflow.keras.callbacks import TensorBoard\n",
    "from tensorflow.keras import backend as K\n",
    "from wandb.keras import WandbMetricsLogger\n",
    "from keras.callbacks import Callback\n",
    "import tensorflow as tf\n",
    "import wandb\n",
    "\n",
    "\n",
    "class CosineAnnealingLearningRateScheduler(Callback):\n",
    "    def __init__(self, max_lr, min_lr, T_max):\n",
    "        super(CosineAnnealingLearningRateScheduler, self).__init__()\n",
    "        self.max_lr = max_lr  # Maximum learning rate (i.e., start learning rate)\n",
    "        self.min_lr = min_lr  # Minimum learning rate\n",
    "        self.T_max = T_max    # Specifies the number of epochs per cycle\n",
    "        self.t = 0            # Current epoch\n",
    "\n",
    "    def on_epoch_begin(self, epoch, logs=None):\n",
    "        self.t += 1\n",
    "        cos = np.cos(np.pi * (self.t % self.T_max) / self.T_max)\n",
    "        lr = self.min_lr + 0.5 * (self.max_lr - self.min_lr) * (1 + cos)\n",
    "\n",
    "        keras.backend.set_value(self.model.optimizer.lr, lr)\n",
    "\n",
    "def keras_train(model, filepath : str, max_lr = 1e-4, min_lr = 5e-5, T_max=51, epochs=100, run_name=\"\",\n",
    "                mediapipe_features = \"all\", USE_WANDB=True): \n",
    "    \n",
    "    \n",
    "    checkpoint = keras.callbacks.ModelCheckpoint(filepath,\n",
    "                                                 monitor=\"val_categorical_accuracy\",\n",
    "                                                 verbose=0,\n",
    "                                                 save_best_only=True,\n",
    "                                                 mode=\"max\",\n",
    "                                                 save_freq=\"epoch\")\n",
    "    \n",
    "    cosine_annealer = CosineAnnealingLearningRateScheduler(max_lr=max_lr,\n",
    "                                                           min_lr=min_lr,\n",
    "                                                           T_max=T_max)\n",
    "    \n",
    "    #Adam Optimizer - fixed learning rate.\n",
    "    adam_optimizer = tf.keras.optimizers.Adam(learning_rate=max_lr, weight_decay=1e-5, clipnorm=1.)\n",
    "\n",
    "    loss = tf.keras.losses.CategoricalCrossentropy(from_logits=False,label_smoothing=0.2)\n",
    "    model.compile(optimizer=adam_optimizer, loss=loss, metrics=['categorical_accuracy'])\n",
    "    \n",
    "    \n",
    "    callbacks  = [checkpoint, cosine_annealer]\n",
    "    \n",
    "    if USE_WANDB:\n",
    "        wandb.init(project=CONFIG.WANDB_RUN,\n",
    "                        name=run_name,\n",
    "                        notes=\"Model summary : \\n\" + str(model),\n",
    "                        config={\"max_lr\" : max_lr, \n",
    "                                \"min_lr\" : 5e-5, \n",
    "                                \"scheduler\" : \"cosineAnnealer\", \n",
    "                                \"epochs\" : epochs, \n",
    "                                \"T_max\" : T_max, \n",
    "                                \"train_size\" : len(train_dataset_parquet.dataset),\n",
    "                                \"val_size\" : len(val_dataset_parquet.dataset),\n",
    "                                \"unique_classes\" : len(train_dataset_parquet.unique_labels), \n",
    "                                \"video_length\" : CONFIG.VIDEO_LENGTH,\n",
    "                                \"features\" : mediapipe_features\n",
    "                                })\n",
    "        callbacks.append(WandbMetricsLogger())\n",
    "\n",
    "\n",
    "    history = model.fit(train_dataset, epochs=epochs, validation_data = val_dataset, callbacks=callbacks)\n",
    "    \n",
    "    if USE_WANDB:      \n",
    "        wandb.finish()\n",
    "    \n",
    "    return history"
   ]
  },
  {
   "cell_type": "markdown",
   "metadata": {},
   "source": [
    "# LSTM"
   ]
  },
  {
   "cell_type": "code",
   "execution_count": null,
   "metadata": {
    "ExecuteTime": {
     "end_time": "2024-04-23T00:57:17.467348Z",
     "start_time": "2024-04-23T00:47:37.989682Z"
    }
   },
   "outputs": [
    {
     "data": {
      "text/html": [
       "Finishing last run (ID:hh0lr472) before initializing another..."
      ],
      "text/plain": [
       "<IPython.core.display.HTML object>"
      ]
     },
     "metadata": {},
     "output_type": "display_data"
    },
    {
     "data": {
      "application/vnd.jupyter.widget-view+json": {
       "model_id": "",
       "version_major": 2,
       "version_minor": 0
      },
      "text/plain": [
       "VBox(children=(Label(value='0.006 MB of 0.006 MB uploaded\\r'), FloatProgress(value=1.0, max=1.0)))"
      ]
     },
     "metadata": {},
     "output_type": "display_data"
    },
    {
     "data": {
      "text/html": [
       "<style>\n",
       "    table.wandb td:nth-child(1) { padding: 0 10px; text-align: left ; width: auto;} td:nth-child(2) {text-align: left ; width: 100%}\n",
       "    .wandb-row { display: flex; flex-direction: row; flex-wrap: wrap; justify-content: flex-start; width: 100% }\n",
       "    .wandb-col { display: flex; flex-direction: column; flex-basis: 100%; flex: 1; padding: 10px; }\n",
       "    </style>\n",
       "<div class=\"wandb-row\"><div class=\"wandb-col\"><h3>Run history:</h3><br/><table class=\"wandb\"><tr><td>epoch/categorical_accuracy</td><td>▁</td></tr><tr><td>epoch/epoch</td><td>▁</td></tr><tr><td>epoch/learning_rate</td><td>▁</td></tr><tr><td>epoch/loss</td><td>▁</td></tr><tr><td>epoch/val_categorical_accuracy</td><td>▁</td></tr><tr><td>epoch/val_loss</td><td>▁</td></tr></table><br/></div><div class=\"wandb-col\"><h3>Run summary:</h3><br/><table class=\"wandb\"><tr><td>epoch/categorical_accuracy</td><td>0.19187</td></tr><tr><td>epoch/epoch</td><td>0</td></tr><tr><td>epoch/learning_rate</td><td>0.0001</td></tr><tr><td>epoch/loss</td><td>1.61936</td></tr><tr><td>epoch/val_categorical_accuracy</td><td>0.2125</td></tr><tr><td>epoch/val_loss</td><td>1.6158</td></tr></table><br/></div></div>"
      ],
      "text/plain": [
       "<IPython.core.display.HTML object>"
      ]
     },
     "metadata": {},
     "output_type": "display_data"
    },
    {
     "data": {
      "text/html": [
       " View run <strong style=\"color:#cdcd00\">RK-LSTM16-LR-Dense256-fs=36-cls=5</strong> at: <a href='https://wandb.ai/mlewand7/mediapipe-asl-dataset/runs/hh0lr472' target=\"_blank\">https://wandb.ai/mlewand7/mediapipe-asl-dataset/runs/hh0lr472</a><br/> View project at: <a href='https://wandb.ai/mlewand7/mediapipe-asl-dataset' target=\"_blank\">https://wandb.ai/mlewand7/mediapipe-asl-dataset</a><br/>Synced 5 W&B file(s), 0 media file(s), 0 artifact file(s) and 0 other file(s)"
      ],
      "text/plain": [
       "<IPython.core.display.HTML object>"
      ]
     },
     "metadata": {},
     "output_type": "display_data"
    },
    {
     "data": {
      "text/html": [
       "Find logs at: <code>./wandb/run-20240423_010946-hh0lr472/logs</code>"
      ],
      "text/plain": [
       "<IPython.core.display.HTML object>"
      ]
     },
     "metadata": {},
     "output_type": "display_data"
    },
    {
     "data": {
      "text/html": [
       "Successfully finished last run (ID:hh0lr472). Initializing new run:<br/>"
      ],
      "text/plain": [
       "<IPython.core.display.HTML object>"
      ]
     },
     "metadata": {},
     "output_type": "display_data"
    },
    {
     "data": {
      "application/vnd.jupyter.widget-view+json": {
       "model_id": "432a0b272fb2436899836b29b1bb8a4f",
       "version_major": 2,
       "version_minor": 0
      },
      "text/plain": [
       "VBox(children=(Label(value='Waiting for wandb.init()...\\r'), FloatProgress(value=0.01111273215048843, max=1.0)…"
      ]
     },
     "metadata": {},
     "output_type": "display_data"
    },
    {
     "data": {
      "text/html": [
       "Tracking run with wandb version 0.16.6"
      ],
      "text/plain": [
       "<IPython.core.display.HTML object>"
      ]
     },
     "metadata": {},
     "output_type": "display_data"
    },
    {
     "data": {
      "text/html": [
       "Run data is saved locally in <code>/workspace/wandb/run-20240423_011134-oruthjm8</code>"
      ],
      "text/plain": [
       "<IPython.core.display.HTML object>"
      ]
     },
     "metadata": {},
     "output_type": "display_data"
    },
    {
     "data": {
      "text/html": [
       "Syncing run <strong><a href='https://wandb.ai/mlewand7/mediapipe-asl-dataset/runs/oruthjm8' target=\"_blank\">RK-LSTM16-LR-Dense256-fs=36-cls=5</a></strong> to <a href='https://wandb.ai/mlewand7/mediapipe-asl-dataset' target=\"_blank\">Weights & Biases</a> (<a href='https://wandb.me/run' target=\"_blank\">docs</a>)<br/>"
      ],
      "text/plain": [
       "<IPython.core.display.HTML object>"
      ]
     },
     "metadata": {},
     "output_type": "display_data"
    },
    {
     "data": {
      "text/html": [
       " View project at <a href='https://wandb.ai/mlewand7/mediapipe-asl-dataset' target=\"_blank\">https://wandb.ai/mlewand7/mediapipe-asl-dataset</a>"
      ],
      "text/plain": [
       "<IPython.core.display.HTML object>"
      ]
     },
     "metadata": {},
     "output_type": "display_data"
    },
    {
     "data": {
      "text/html": [
       " View run at <a href='https://wandb.ai/mlewand7/mediapipe-asl-dataset/runs/oruthjm8' target=\"_blank\">https://wandb.ai/mlewand7/mediapipe-asl-dataset/runs/oruthjm8</a>"
      ],
      "text/plain": [
       "<IPython.core.display.HTML object>"
      ]
     },
     "metadata": {},
     "output_type": "display_data"
    },
    {
     "name": "stdout",
     "output_type": "stream",
     "text": [
      "Epoch 1/200\n",
      "     50/Unknown - 9s 146ms/step - loss: 1.6132 - categorical_accuracy: 0.2844"
     ]
    },
    {
     "name": "stderr",
     "output_type": "stream",
     "text": [
      "2024-04-23 01:11:50.667301: I tensorflow/core/framework/local_rendezvous.cc:421] Local rendezvous recv item cancelled. Key hash: 14648368726491452287\n",
      "2024-04-23 01:11:50.667405: I tensorflow/core/framework/local_rendezvous.cc:421] Local rendezvous recv item cancelled. Key hash: 15650191045308210741\n",
      "2024-04-23 01:11:50.667441: I tensorflow/core/framework/local_rendezvous.cc:421] Local rendezvous recv item cancelled. Key hash: 696204757222100644\n",
      "2024-04-23 01:11:50.667461: I tensorflow/core/framework/local_rendezvous.cc:421] Local rendezvous recv item cancelled. Key hash: 4945895755753639572\n",
      "2024-04-23 01:11:52.799456: I tensorflow/core/framework/local_rendezvous.cc:421] Local rendezvous recv item cancelled. Key hash: 16398769369169673559\n"
     ]
    },
    {
     "name": "stdout",
     "output_type": "stream",
     "text": [
      "INFO:tensorflow:Assets written to: models/RK-LSTM16-LR-Dense256-fs=36-cls=5.tf/assets\n"
     ]
    },
    {
     "name": "stderr",
     "output_type": "stream",
     "text": [
      "INFO:tensorflow:Assets written to: models/RK-LSTM16-LR-Dense256-fs=36-cls=5.tf/assets\n"
     ]
    },
    {
     "name": "stdout",
     "output_type": "stream",
     "text": [
      "50/50 [==============================] - 13s 235ms/step - loss: 1.6132 - categorical_accuracy: 0.2844 - val_loss: 1.6060 - val_categorical_accuracy: 0.3200\n",
      "Epoch 2/200\n",
      "50/50 [==============================] - ETA: 0s - loss: 1.6000 - categorical_accuracy: 0.3487INFO:tensorflow:Assets written to: models/RK-LSTM16-LR-Dense256-fs=36-cls=5.tf/assets\n"
     ]
    },
    {
     "name": "stderr",
     "output_type": "stream",
     "text": [
      "INFO:tensorflow:Assets written to: models/RK-LSTM16-LR-Dense256-fs=36-cls=5.tf/assets\n"
     ]
    },
    {
     "name": "stdout",
     "output_type": "stream",
     "text": [
      "50/50 [==============================] - 11s 226ms/step - loss: 1.6000 - categorical_accuracy: 0.3487 - val_loss: 1.5966 - val_categorical_accuracy: 0.3450\n",
      "Epoch 3/200\n",
      "50/50 [==============================] - ETA: 0s - loss: 1.5855 - categorical_accuracy: 0.3650INFO:tensorflow:Assets written to: models/RK-LSTM16-LR-Dense256-fs=36-cls=5.tf/assets\n"
     ]
    },
    {
     "name": "stderr",
     "output_type": "stream",
     "text": [
      "INFO:tensorflow:Assets written to: models/RK-LSTM16-LR-Dense256-fs=36-cls=5.tf/assets\n"
     ]
    },
    {
     "name": "stdout",
     "output_type": "stream",
     "text": [
      "50/50 [==============================] - 12s 241ms/step - loss: 1.5855 - categorical_accuracy: 0.3650 - val_loss: 1.5789 - val_categorical_accuracy: 0.3675\n",
      "Epoch 4/200\n",
      "50/50 [==============================] - ETA: 0s - loss: 1.5638 - categorical_accuracy: 0.3719INFO:tensorflow:Assets written to: models/RK-LSTM16-LR-Dense256-fs=36-cls=5.tf/assets\n"
     ]
    },
    {
     "name": "stderr",
     "output_type": "stream",
     "text": [
      "INFO:tensorflow:Assets written to: models/RK-LSTM16-LR-Dense256-fs=36-cls=5.tf/assets\n"
     ]
    },
    {
     "name": "stdout",
     "output_type": "stream",
     "text": [
      "50/50 [==============================] - 12s 235ms/step - loss: 1.5638 - categorical_accuracy: 0.3719 - val_loss: 1.5541 - val_categorical_accuracy: 0.4050\n",
      "Epoch 5/200\n",
      "50/50 [==============================] - ETA: 0s - loss: 1.5334 - categorical_accuracy: 0.3856INFO:tensorflow:Assets written to: models/RK-LSTM16-LR-Dense256-fs=36-cls=5.tf/assets\n"
     ]
    },
    {
     "name": "stderr",
     "output_type": "stream",
     "text": [
      "INFO:tensorflow:Assets written to: models/RK-LSTM16-LR-Dense256-fs=36-cls=5.tf/assets\n"
     ]
    },
    {
     "name": "stdout",
     "output_type": "stream",
     "text": [
      "50/50 [==============================] - 12s 234ms/step - loss: 1.5334 - categorical_accuracy: 0.3856 - val_loss: 1.5278 - val_categorical_accuracy: 0.4275\n",
      "Epoch 6/200\n",
      "50/50 [==============================] - ETA: 0s - loss: 1.5007 - categorical_accuracy: 0.4081INFO:tensorflow:Assets written to: models/RK-LSTM16-LR-Dense256-fs=36-cls=5.tf/assets\n"
     ]
    },
    {
     "name": "stderr",
     "output_type": "stream",
     "text": [
      "INFO:tensorflow:Assets written to: models/RK-LSTM16-LR-Dense256-fs=36-cls=5.tf/assets\n"
     ]
    },
    {
     "name": "stdout",
     "output_type": "stream",
     "text": [
      "50/50 [==============================] - 12s 233ms/step - loss: 1.5007 - categorical_accuracy: 0.4081 - val_loss: 1.4908 - val_categorical_accuracy: 0.4325\n",
      "Epoch 7/200\n",
      "50/50 [==============================] - ETA: 0s - loss: 1.4666 - categorical_accuracy: 0.4275INFO:tensorflow:Assets written to: models/RK-LSTM16-LR-Dense256-fs=36-cls=5.tf/assets\n"
     ]
    },
    {
     "name": "stderr",
     "output_type": "stream",
     "text": [
      "INFO:tensorflow:Assets written to: models/RK-LSTM16-LR-Dense256-fs=36-cls=5.tf/assets\n"
     ]
    },
    {
     "name": "stdout",
     "output_type": "stream",
     "text": [
      "50/50 [==============================] - 11s 227ms/step - loss: 1.4666 - categorical_accuracy: 0.4275 - val_loss: 1.4632 - val_categorical_accuracy: 0.4625\n",
      "Epoch 8/200\n",
      "50/50 [==============================] - ETA: 0s - loss: 1.4372 - categorical_accuracy: 0.4519INFO:tensorflow:Assets written to: models/RK-LSTM16-LR-Dense256-fs=36-cls=5.tf/assets\n"
     ]
    },
    {
     "name": "stderr",
     "output_type": "stream",
     "text": [
      "INFO:tensorflow:Assets written to: models/RK-LSTM16-LR-Dense256-fs=36-cls=5.tf/assets\n"
     ]
    },
    {
     "name": "stdout",
     "output_type": "stream",
     "text": [
      "50/50 [==============================] - 11s 229ms/step - loss: 1.4372 - categorical_accuracy: 0.4519 - val_loss: 1.4407 - val_categorical_accuracy: 0.4750\n",
      "Epoch 9/200\n",
      "50/50 [==============================] - 9s 185ms/step - loss: 1.4146 - categorical_accuracy: 0.4669 - val_loss: 1.4205 - val_categorical_accuracy: 0.4675\n",
      "Epoch 10/200\n",
      "33/50 [==================>...........] - ETA: 2s - loss: 1.3901 - categorical_accuracy: 0.4820"
     ]
    }
   ],
   "source": [
    "model = Sequential()\n",
    "#x,y,z -> y,z as the input shape\n",
    "model.add(LSTM(16, return_sequences=False, input_shape=X_shape,\n",
    "               kernel_regularizer=l2(0.0001), \n",
    "               activity_regularizer=l2(0.0001)))\n",
    "model.add(LeakyReLU(alpha=0.1))\n",
    "model.add(Dense(256, activation='gelu'))\n",
    "model.add(Dense(len(train_dataset_parquet.unique_labels), activation='softmax'))\n",
    "\n",
    "\n",
    "keras_train(model, filepath=os.path.join(\"models\", f\"RK-LSTM16-LR-Dense256-fs={fs}-cls={no_cls}.tf\"),\n",
    "            run_name=f\"RK-LSTM16-LR-Dense256-fs={fs}-cls={no_cls}\",\n",
    "            max_lr=1e-4,\n",
    "            min_lr=2.5e-5,\n",
    "            T_max=101,\n",
    "            epochs=200,\n",
    "            mediapipe_features=\"reduced-LipsEyesHandsPose-scaled\",\n",
    "            USE_WANDB=True)"
   ]
  },
  {
   "cell_type": "code",
   "execution_count": null,
   "metadata": {},
   "outputs": [],
   "source": [
    "model = Sequential()\n",
    "#x,y,z -> y,z as the input shape\n",
    "model.add(LSTM(32, return_sequences=False, input_shape=X_shape,\n",
    "               kernel_regularizer=l2(0.0001), \n",
    "               activity_regularizer=l2(0.0001)))\n",
    "model.add(LeakyReLU(alpha=0.1))\n",
    "model.add(Dense(256, activation='gelu'))\n",
    "model.add(Dense(len(train_dataset_parquet.unique_labels), activation='softmax'))\n",
    "\n",
    "\n",
    "keras_train(model, filepath=os.path.join(\"models\",          \n",
    "            f\"RK-LSTM32-LR-Dense256-fs={fs}-cls={no_cls}.tf\"),\n",
    "            run_name=f\"RK-LSTM32-LR-Dense256-fs={fs}-cls={no_cls}\",\n",
    "            max_lr=1e-4,\n",
    "            min_lr=2.5e-5,\n",
    "            T_max=101,\n",
    "            epochs=200,\n",
    "            mediapipe_features=\"reduced-LipsEyesHandsPose-scaled\",\n",
    "            USE_WANDB=True)"
   ]
  },
  {
   "cell_type": "code",
   "execution_count": null,
   "metadata": {},
   "outputs": [],
   "source": [
    "model = Sequential()\n",
    "#x,y,z -> y,z as the input shape\n",
    "model.add(LSTM(64, return_sequences=False, input_shape=X_shape,\n",
    "               kernel_regularizer=l2(0.0001), \n",
    "               activity_regularizer=l2(0.0001)))\n",
    "model.add(LeakyReLU(alpha=0.1))\n",
    "model.add(Dense(256, activation='gelu'))\n",
    "model.add(Dense(len(train_dataset_parquet.unique_labels), activation='softmax'))\n",
    "\n",
    "\n",
    "keras_train(model, filepath=os.path.join(\"models\",          \n",
    "            f\"RK-LSTM64-LR-Dense256-fs={fs}-cls={no_cls}.tf\"),\n",
    "            run_name=f\"RK-LSTM64-LR-Dense256-fs={fs}-cls={no_cls}\",\n",
    "            max_lr=1e-4,\n",
    "            min_lr=2.5e-5,\n",
    "            T_max=101,\n",
    "            epochs=200,\n",
    "            mediapipe_features=\"reduced-LipsEyesHandsPose-scaled\",\n",
    "            USE_WANDB=True)"
   ]
  },
  {
   "cell_type": "code",
   "execution_count": null,
   "metadata": {},
   "outputs": [],
   "source": [
    "model = Sequential()\n",
    "#x,y,z -> y,z as the input shape\n",
    "model.add(LSTM(128, return_sequences=False, input_shape=X_shape,\n",
    "               kernel_regularizer=l2(0.0001), \n",
    "               activity_regularizer=l2(0.0001)))\n",
    "model.add(LeakyReLU(alpha=0.1))\n",
    "model.add(Dense(256, activation='gelu'))\n",
    "model.add(Dense(len(train_dataset_parquet.unique_labels), activation='softmax'))\n",
    "\n",
    "\n",
    "keras_train(model, filepath=os.path.join(\"models\",          \n",
    "            f\"RK-LSTM128-LR-Dense256-fs={fs}-cls={no_cls}.tf\"),\n",
    "            run_name=f\"RK-LSTM128-LR-Dense256-fs={fs}-cls={no_cls}\",\n",
    "            max_lr=1e-4,\n",
    "            min_lr=2.5e-5,\n",
    "            T_max=101,\n",
    "            epochs=200,\n",
    "            mediapipe_features=\"reduced-LipsEyesHandsPose-scaled\",\n",
    "            USE_WANDB=True)"
   ]
  },
  {
   "cell_type": "code",
   "execution_count": null,
   "metadata": {},
   "outputs": [],
   "source": [
    "model = Sequential()\n",
    "#x,y,z -> y,z as the input shape\n",
    "model.add(LSTM(256, return_sequences=False, input_shape=X_shape,\n",
    "               kernel_regularizer=l2(0.0001), \n",
    "               activity_regularizer=l2(0.0001)))\n",
    "model.add(LeakyReLU(alpha=0.1))\n",
    "model.add(Dense(256, activation='gelu'))\n",
    "model.add(Dense(len(train_dataset_parquet.unique_labels), activation='softmax'))\n",
    "\n",
    "\n",
    "keras_train(model, filepath=os.path.join(\"models\",          \n",
    "            f\"RK-LSTM256-LR-Dense256-fs={fs}-cls={no_cls}.tf\"),\n",
    "            run_name=f\"RK-LSTM256-LR-Dense256-fs={fs}-cls={no_cls}\",\n",
    "            max_lr=1e-4,\n",
    "            min_lr=2.5e-5,\n",
    "            T_max=101,\n",
    "            epochs=200,\n",
    "            mediapipe_features=\"reduced-LipsEyesHandsPose-scaled\",\n",
    "            USE_WANDB=True)"
   ]
  },
  {
   "cell_type": "code",
   "execution_count": null,
   "metadata": {},
   "outputs": [],
   "source": [
    "model = Sequential()\n",
    "#x,y,z -> y,z as the input shape\n",
    "model.add(LSTM(512, return_sequences=False, input_shape=X_shape,\n",
    "               kernel_regularizer=l2(0.0001), \n",
    "               activity_regularizer=l2(0.0001)))\n",
    "model.add(LeakyReLU(alpha=0.1))\n",
    "model.add(Dense(256, activation='gelu'))\n",
    "model.add(Dense(len(train_dataset_parquet.unique_labels), activation='softmax'))\n",
    "\n",
    "\n",
    "keras_train(model, filepath=os.path.join(\"models\",          \n",
    "            f\"RK-LSTM512-LR-Dense256-fs={fs}-cls={no_cls}.tf\"),\n",
    "            run_name=f\"RK-LSTM512-LR-Dense256-fs={fs}-cls={no_cls}\",\n",
    "            max_lr=1e-4,\n",
    "            min_lr=2.5e-5,\n",
    "            T_max=101,\n",
    "            epochs=200,\n",
    "            mediapipe_features=\"reduced-LipsEyesHandsPose-scaled\",\n",
    "            USE_WANDB=True)"
   ]
  },
  {
   "cell_type": "code",
   "execution_count": 77,
   "metadata": {},
   "outputs": [
    {
     "data": {
      "text/plain": [
       "(36, 132, 3)"
      ]
     },
     "execution_count": 77,
     "metadata": {},
     "output_type": "execute_result"
    }
   ],
   "source": [
    "X_shape"
   ]
  },
  {
   "cell_type": "code",
   "execution_count": null,
   "metadata": {},
   "outputs": [
    {
     "data": {
      "text/html": [
       "Finishing last run (ID:dlchmyr9) before initializing another..."
      ],
      "text/plain": [
       "<IPython.core.display.HTML object>"
      ]
     },
     "metadata": {},
     "output_type": "display_data"
    },
    {
     "data": {
      "application/vnd.jupyter.widget-view+json": {
       "model_id": "",
       "version_major": 2,
       "version_minor": 0
      },
      "text/plain": [
       "VBox(children=(Label(value='0.006 MB of 0.006 MB uploaded\\r'), FloatProgress(value=1.0, max=1.0)))"
      ]
     },
     "metadata": {},
     "output_type": "display_data"
    },
    {
     "data": {
      "text/html": [
       "<style>\n",
       "    table.wandb td:nth-child(1) { padding: 0 10px; text-align: left ; width: auto;} td:nth-child(2) {text-align: left ; width: 100%}\n",
       "    .wandb-row { display: flex; flex-direction: row; flex-wrap: wrap; justify-content: flex-start; width: 100% }\n",
       "    .wandb-col { display: flex; flex-direction: column; flex-basis: 100%; flex: 1; padding: 10px; }\n",
       "    </style>\n",
       "<div class=\"wandb-row\"><div class=\"wandb-col\"><h3>Run history:</h3><br/><table class=\"wandb\"><tr><td>epoch/categorical_accuracy</td><td>▁▅▇█</td></tr><tr><td>epoch/epoch</td><td>▁▃▆█</td></tr><tr><td>epoch/learning_rate</td><td>█▇▄▁</td></tr><tr><td>epoch/loss</td><td>█▃▂▁</td></tr><tr><td>epoch/val_categorical_accuracy</td><td>▁▆▅█</td></tr><tr><td>epoch/val_loss</td><td>█▄▃▁</td></tr></table><br/></div><div class=\"wandb-col\"><h3>Run summary:</h3><br/><table class=\"wandb\"><tr><td>epoch/categorical_accuracy</td><td>0.63563</td></tr><tr><td>epoch/epoch</td><td>3</td></tr><tr><td>epoch/learning_rate</td><td>0.0003</td></tr><tr><td>epoch/loss</td><td>1.22607</td></tr><tr><td>epoch/val_categorical_accuracy</td><td>0.6525</td></tr><tr><td>epoch/val_loss</td><td>1.19259</td></tr></table><br/></div></div>"
      ],
      "text/plain": [
       "<IPython.core.display.HTML object>"
      ]
     },
     "metadata": {},
     "output_type": "display_data"
    },
    {
     "data": {
      "text/html": [
       " View run <strong style=\"color:#cdcd00\">Transformer-embed=128-heads=2-ff=128-D=0.2-Dense=256-LipsEyesHandsPose_5k</strong> at: <a href='https://wandb.ai/mlewand7/mediapipe-asl-dataset/runs/dlchmyr9' target=\"_blank\">https://wandb.ai/mlewand7/mediapipe-asl-dataset/runs/dlchmyr9</a><br/> View project at: <a href='https://wandb.ai/mlewand7/mediapipe-asl-dataset' target=\"_blank\">https://wandb.ai/mlewand7/mediapipe-asl-dataset</a><br/>Synced 5 W&B file(s), 0 media file(s), 0 artifact file(s) and 0 other file(s)"
      ],
      "text/plain": [
       "<IPython.core.display.HTML object>"
      ]
     },
     "metadata": {},
     "output_type": "display_data"
    },
    {
     "data": {
      "text/html": [
       "Find logs at: <code>./wandb/run-20240423_141523-dlchmyr9/logs</code>"
      ],
      "text/plain": [
       "<IPython.core.display.HTML object>"
      ]
     },
     "metadata": {},
     "output_type": "display_data"
    },
    {
     "data": {
      "text/html": [
       "Successfully finished last run (ID:dlchmyr9). Initializing new run:<br/>"
      ],
      "text/plain": [
       "<IPython.core.display.HTML object>"
      ]
     },
     "metadata": {},
     "output_type": "display_data"
    },
    {
     "data": {
      "application/vnd.jupyter.widget-view+json": {
       "model_id": "73218e9ea4b6404da40b878bd3f73f11",
       "version_major": 2,
       "version_minor": 0
      },
      "text/plain": [
       "VBox(children=(Label(value='Waiting for wandb.init()...\\r'), FloatProgress(value=0.01111229703658157, max=1.0)…"
      ]
     },
     "metadata": {},
     "output_type": "display_data"
    },
    {
     "data": {
      "text/html": [
       "Tracking run with wandb version 0.16.6"
      ],
      "text/plain": [
       "<IPython.core.display.HTML object>"
      ]
     },
     "metadata": {},
     "output_type": "display_data"
    },
    {
     "data": {
      "text/html": [
       "Run data is saved locally in <code>/workspace/wandb/run-20240423_143023-ffnnl3b3</code>"
      ],
      "text/plain": [
       "<IPython.core.display.HTML object>"
      ]
     },
     "metadata": {},
     "output_type": "display_data"
    },
    {
     "data": {
      "text/html": [
       "Syncing run <strong><a href='https://wandb.ai/mlewand7/mediapipe-asl-dataset/runs/ffnnl3b3' target=\"_blank\">RK-LSTM16-LR-Dense256-fs=36-cls=5</a></strong> to <a href='https://wandb.ai/mlewand7/mediapipe-asl-dataset' target=\"_blank\">Weights & Biases</a> (<a href='https://wandb.me/run' target=\"_blank\">docs</a>)<br/>"
      ],
      "text/plain": [
       "<IPython.core.display.HTML object>"
      ]
     },
     "metadata": {},
     "output_type": "display_data"
    },
    {
     "data": {
      "text/html": [
       " View project at <a href='https://wandb.ai/mlewand7/mediapipe-asl-dataset' target=\"_blank\">https://wandb.ai/mlewand7/mediapipe-asl-dataset</a>"
      ],
      "text/plain": [
       "<IPython.core.display.HTML object>"
      ]
     },
     "metadata": {},
     "output_type": "display_data"
    },
    {
     "data": {
      "text/html": [
       " View run at <a href='https://wandb.ai/mlewand7/mediapipe-asl-dataset/runs/ffnnl3b3' target=\"_blank\">https://wandb.ai/mlewand7/mediapipe-asl-dataset/runs/ffnnl3b3</a>"
      ],
      "text/plain": [
       "<IPython.core.display.HTML object>"
      ]
     },
     "metadata": {},
     "output_type": "display_data"
    },
    {
     "name": "stdout",
     "output_type": "stream",
     "text": [
      "Epoch 1/200\n",
      "     48/Unknown - 3s 11ms/step - loss: 2.0469 - categorical_accuracy: 0.2357"
     ]
    },
    {
     "name": "stderr",
     "output_type": "stream",
     "text": [
      "2024-04-23 14:30:34.144196: I tensorflow/core/framework/local_rendezvous.cc:421] Local rendezvous recv item cancelled. Key hash: 17038993016799033617\n",
      "2024-04-23 14:30:34.144268: I tensorflow/core/framework/local_rendezvous.cc:421] Local rendezvous recv item cancelled. Key hash: 4247586347779822691\n",
      "2024-04-23 14:30:34.144283: I tensorflow/core/framework/local_rendezvous.cc:421] Local rendezvous recv item cancelled. Key hash: 7516412549239084815\n",
      "2024-04-23 14:30:34.144295: I tensorflow/core/framework/local_rendezvous.cc:421] Local rendezvous recv item cancelled. Key hash: 6747532461201801410\n"
     ]
    },
    {
     "name": "stdout",
     "output_type": "stream",
     "text": [
      "INFO:tensorflow:Assets written to: models/RK-LSTM16-LR-Dense256-fs=36-cls=5.tf/assets\n"
     ]
    },
    {
     "name": "stderr",
     "output_type": "stream",
     "text": [
      "INFO:tensorflow:Assets written to: models/RK-LSTM16-LR-Dense256-fs=36-cls=5.tf/assets\n"
     ]
    },
    {
     "name": "stdout",
     "output_type": "stream",
     "text": [
      "50/50 [==============================] - 7s 81ms/step - loss: 2.0396 - categorical_accuracy: 0.2375 - val_loss: 1.6596 - val_categorical_accuracy: 0.3400\n",
      "Epoch 2/200\n",
      "50/50 [==============================] - 1s 14ms/step - loss: 1.8184 - categorical_accuracy: 0.3056 - val_loss: 1.6765 - val_categorical_accuracy: 0.2975\n",
      "Epoch 3/200\n",
      "50/50 [==============================] - 1s 14ms/step - loss: 1.6903 - categorical_accuracy: 0.3656 - val_loss: 1.6918 - val_categorical_accuracy: 0.3075\n",
      "Epoch 4/200\n",
      "50/50 [==============================] - 1s 14ms/step - loss: 1.6862 - categorical_accuracy: 0.4069 - val_loss: 1.6945 - val_categorical_accuracy: 0.3300\n",
      "Epoch 5/200\n",
      "50/50 [==============================] - 1s 14ms/step - loss: 1.5860 - categorical_accuracy: 0.4525 - val_loss: 1.6825 - val_categorical_accuracy: 0.3400\n",
      "Epoch 6/200\n",
      "46/50 [==========================>...] - ETA: 0s - loss: 1.5341 - categorical_accuracy: 0.4626INFO:tensorflow:Assets written to: models/RK-LSTM16-LR-Dense256-fs=36-cls=5.tf/assets\n"
     ]
    },
    {
     "name": "stderr",
     "output_type": "stream",
     "text": [
      "INFO:tensorflow:Assets written to: models/RK-LSTM16-LR-Dense256-fs=36-cls=5.tf/assets\n"
     ]
    },
    {
     "name": "stdout",
     "output_type": "stream",
     "text": [
      "50/50 [==============================] - 4s 73ms/step - loss: 1.5294 - categorical_accuracy: 0.4656 - val_loss: 1.6448 - val_categorical_accuracy: 0.3525\n",
      "Epoch 7/200\n",
      "46/50 [==========================>...] - ETA: 0s - loss: 1.4621 - categorical_accuracy: 0.5231INFO:tensorflow:Assets written to: models/RK-LSTM16-LR-Dense256-fs=36-cls=5.tf/assets\n"
     ]
    },
    {
     "name": "stderr",
     "output_type": "stream",
     "text": [
      "INFO:tensorflow:Assets written to: models/RK-LSTM16-LR-Dense256-fs=36-cls=5.tf/assets\n"
     ]
    },
    {
     "name": "stdout",
     "output_type": "stream",
     "text": [
      "50/50 [==============================] - 3s 71ms/step - loss: 1.4632 - categorical_accuracy: 0.5250 - val_loss: 1.5936 - val_categorical_accuracy: 0.3700\n",
      "Epoch 8/200\n",
      "47/50 [===========================>..] - ETA: 0s - loss: 1.4356 - categorical_accuracy: 0.5379INFO:tensorflow:Assets written to: models/RK-LSTM16-LR-Dense256-fs=36-cls=5.tf/assets\n"
     ]
    },
    {
     "name": "stderr",
     "output_type": "stream",
     "text": [
      "INFO:tensorflow:Assets written to: models/RK-LSTM16-LR-Dense256-fs=36-cls=5.tf/assets\n"
     ]
    },
    {
     "name": "stdout",
     "output_type": "stream",
     "text": [
      "50/50 [==============================] - 4s 71ms/step - loss: 1.4384 - categorical_accuracy: 0.5412 - val_loss: 1.5456 - val_categorical_accuracy: 0.4225\n",
      "Epoch 9/200\n",
      "47/50 [===========================>..] - ETA: 0s - loss: 1.3949 - categorical_accuracy: 0.5585INFO:tensorflow:Assets written to: models/RK-LSTM16-LR-Dense256-fs=36-cls=5.tf/assets\n"
     ]
    },
    {
     "name": "stderr",
     "output_type": "stream",
     "text": [
      "INFO:tensorflow:Assets written to: models/RK-LSTM16-LR-Dense256-fs=36-cls=5.tf/assets\n"
     ]
    },
    {
     "name": "stdout",
     "output_type": "stream",
     "text": [
      "50/50 [==============================] - 4s 71ms/step - loss: 1.3942 - categorical_accuracy: 0.5619 - val_loss: 1.4927 - val_categorical_accuracy: 0.4375\n",
      "Epoch 10/200\n",
      "50/50 [==============================] - ETA: 0s - loss: 1.3667 - categorical_accuracy: 0.6056INFO:tensorflow:Assets written to: models/RK-LSTM16-LR-Dense256-fs=36-cls=5.tf/assets\n"
     ]
    },
    {
     "name": "stderr",
     "output_type": "stream",
     "text": [
      "INFO:tensorflow:Assets written to: models/RK-LSTM16-LR-Dense256-fs=36-cls=5.tf/assets\n"
     ]
    },
    {
     "name": "stdout",
     "output_type": "stream",
     "text": [
      "50/50 [==============================] - 3s 70ms/step - loss: 1.3667 - categorical_accuracy: 0.6056 - val_loss: 1.4566 - val_categorical_accuracy: 0.4475\n",
      "Epoch 11/200\n",
      "46/50 [==========================>...] - ETA: 0s - loss: 1.3374 - categorical_accuracy: 0.6107INFO:tensorflow:Assets written to: models/RK-LSTM16-LR-Dense256-fs=36-cls=5.tf/assets\n"
     ]
    },
    {
     "name": "stderr",
     "output_type": "stream",
     "text": [
      "INFO:tensorflow:Assets written to: models/RK-LSTM16-LR-Dense256-fs=36-cls=5.tf/assets\n"
     ]
    },
    {
     "name": "stdout",
     "output_type": "stream",
     "text": [
      "50/50 [==============================] - 5s 107ms/step - loss: 1.3359 - categorical_accuracy: 0.6112 - val_loss: 1.4186 - val_categorical_accuracy: 0.5000\n",
      "Epoch 12/200\n",
      "49/50 [============================>.] - ETA: 0s - loss: 1.3051 - categorical_accuracy: 0.6205INFO:tensorflow:Assets written to: models/RK-LSTM16-LR-Dense256-fs=36-cls=5.tf/assets\n"
     ]
    },
    {
     "name": "stderr",
     "output_type": "stream",
     "text": [
      "INFO:tensorflow:Assets written to: models/RK-LSTM16-LR-Dense256-fs=36-cls=5.tf/assets\n"
     ]
    },
    {
     "name": "stdout",
     "output_type": "stream",
     "text": [
      "50/50 [==============================] - 3s 71ms/step - loss: 1.3056 - categorical_accuracy: 0.6212 - val_loss: 1.4010 - val_categorical_accuracy: 0.5250\n",
      "Epoch 13/200\n",
      "47/50 [===========================>..] - ETA: 0s - loss: 1.2947 - categorical_accuracy: 0.6456INFO:tensorflow:Assets written to: models/RK-LSTM16-LR-Dense256-fs=36-cls=5.tf/assets\n"
     ]
    },
    {
     "name": "stderr",
     "output_type": "stream",
     "text": [
      "INFO:tensorflow:Assets written to: models/RK-LSTM16-LR-Dense256-fs=36-cls=5.tf/assets\n"
     ]
    },
    {
     "name": "stdout",
     "output_type": "stream",
     "text": [
      "50/50 [==============================] - 3s 69ms/step - loss: 1.2921 - categorical_accuracy: 0.6481 - val_loss: 1.3925 - val_categorical_accuracy: 0.5575\n",
      "Epoch 14/200\n",
      "45/50 [==========================>...] - ETA: 0s - loss: 1.2383 - categorical_accuracy: 0.6979INFO:tensorflow:Assets written to: models/RK-LSTM16-LR-Dense256-fs=36-cls=5.tf/assets\n"
     ]
    },
    {
     "name": "stderr",
     "output_type": "stream",
     "text": [
      "INFO:tensorflow:Assets written to: models/RK-LSTM16-LR-Dense256-fs=36-cls=5.tf/assets\n"
     ]
    },
    {
     "name": "stdout",
     "output_type": "stream",
     "text": [
      "50/50 [==============================] - 4s 72ms/step - loss: 1.2448 - categorical_accuracy: 0.6975 - val_loss: 1.3797 - val_categorical_accuracy: 0.5850\n",
      "Epoch 15/200\n",
      "50/50 [==============================] - ETA: 0s - loss: 1.2505 - categorical_accuracy: 0.6669INFO:tensorflow:Assets written to: models/RK-LSTM16-LR-Dense256-fs=36-cls=5.tf/assets\n"
     ]
    },
    {
     "name": "stderr",
     "output_type": "stream",
     "text": [
      "INFO:tensorflow:Assets written to: models/RK-LSTM16-LR-Dense256-fs=36-cls=5.tf/assets\n"
     ]
    },
    {
     "name": "stdout",
     "output_type": "stream",
     "text": [
      "50/50 [==============================] - 4s 71ms/step - loss: 1.2505 - categorical_accuracy: 0.6669 - val_loss: 1.3720 - val_categorical_accuracy: 0.5925\n",
      "Epoch 16/200\n",
      "45/50 [==========================>...] - ETA: 0s - loss: 1.2026 - categorical_accuracy: 0.7167INFO:tensorflow:Assets written to: models/RK-LSTM16-LR-Dense256-fs=36-cls=5.tf/assets\n"
     ]
    },
    {
     "name": "stderr",
     "output_type": "stream",
     "text": [
      "INFO:tensorflow:Assets written to: models/RK-LSTM16-LR-Dense256-fs=36-cls=5.tf/assets\n"
     ]
    },
    {
     "name": "stdout",
     "output_type": "stream",
     "text": [
      "50/50 [==============================] - 4s 72ms/step - loss: 1.2025 - categorical_accuracy: 0.7181 - val_loss: 1.3822 - val_categorical_accuracy: 0.5975\n",
      "Epoch 17/200\n",
      "50/50 [==============================] - ETA: 0s - loss: 1.1926 - categorical_accuracy: 0.7306INFO:tensorflow:Assets written to: models/RK-LSTM16-LR-Dense256-fs=36-cls=5.tf/assets\n"
     ]
    },
    {
     "name": "stderr",
     "output_type": "stream",
     "text": [
      "INFO:tensorflow:Assets written to: models/RK-LSTM16-LR-Dense256-fs=36-cls=5.tf/assets\n"
     ]
    },
    {
     "name": "stdout",
     "output_type": "stream",
     "text": [
      "50/50 [==============================] - 4s 71ms/step - loss: 1.1926 - categorical_accuracy: 0.7306 - val_loss: 1.3677 - val_categorical_accuracy: 0.6075\n",
      "Epoch 18/200\n",
      "50/50 [==============================] - 1s 14ms/step - loss: 1.1780 - categorical_accuracy: 0.7237 - val_loss: 1.3717 - val_categorical_accuracy: 0.6075\n",
      "Epoch 19/200\n",
      "50/50 [==============================] - ETA: 0s - loss: 1.1427 - categorical_accuracy: 0.7494INFO:tensorflow:Assets written to: models/RK-LSTM16-LR-Dense256-fs=36-cls=5.tf/assets\n"
     ]
    },
    {
     "name": "stderr",
     "output_type": "stream",
     "text": [
      "INFO:tensorflow:Assets written to: models/RK-LSTM16-LR-Dense256-fs=36-cls=5.tf/assets\n"
     ]
    },
    {
     "name": "stdout",
     "output_type": "stream",
     "text": [
      "50/50 [==============================] - 5s 105ms/step - loss: 1.1427 - categorical_accuracy: 0.7494 - val_loss: 1.3696 - val_categorical_accuracy: 0.6175\n",
      "Epoch 20/200\n",
      "46/50 [==========================>...] - ETA: 0s - loss: 1.1343 - categorical_accuracy: 0.7731INFO:tensorflow:Assets written to: models/RK-LSTM16-LR-Dense256-fs=36-cls=5.tf/assets\n"
     ]
    },
    {
     "name": "stderr",
     "output_type": "stream",
     "text": [
      "INFO:tensorflow:Assets written to: models/RK-LSTM16-LR-Dense256-fs=36-cls=5.tf/assets\n"
     ]
    },
    {
     "name": "stdout",
     "output_type": "stream",
     "text": [
      "50/50 [==============================] - 4s 71ms/step - loss: 1.1334 - categorical_accuracy: 0.7750 - val_loss: 1.3690 - val_categorical_accuracy: 0.6425\n",
      "Epoch 21/200\n",
      "50/50 [==============================] - 1s 15ms/step - loss: 1.1070 - categorical_accuracy: 0.7738 - val_loss: 1.3673 - val_categorical_accuracy: 0.6300\n",
      "Epoch 22/200\n",
      "50/50 [==============================] - 1s 15ms/step - loss: 1.0966 - categorical_accuracy: 0.7819 - val_loss: 1.3684 - val_categorical_accuracy: 0.6250\n",
      "Epoch 23/200\n",
      "50/50 [==============================] - 1s 15ms/step - loss: 1.0723 - categorical_accuracy: 0.8050 - val_loss: 1.3664 - val_categorical_accuracy: 0.6275\n",
      "Epoch 24/200\n",
      "50/50 [==============================] - 1s 15ms/step - loss: 1.0546 - categorical_accuracy: 0.8200 - val_loss: 1.3580 - val_categorical_accuracy: 0.6350\n",
      "Epoch 25/200\n",
      "50/50 [==============================] - 1s 14ms/step - loss: 1.0467 - categorical_accuracy: 0.8275 - val_loss: 1.3701 - val_categorical_accuracy: 0.6300\n",
      "Epoch 26/200\n",
      "50/50 [==============================] - 1s 14ms/step - loss: 1.0510 - categorical_accuracy: 0.8112 - val_loss: 1.3607 - val_categorical_accuracy: 0.6300\n",
      "Epoch 27/200\n",
      "50/50 [==============================] - 1s 13ms/step - loss: 1.0254 - categorical_accuracy: 0.8381 - val_loss: 1.3572 - val_categorical_accuracy: 0.6175\n",
      "Epoch 28/200\n",
      "50/50 [==============================] - 1s 15ms/step - loss: 1.0104 - categorical_accuracy: 0.8512 - val_loss: 1.3608 - val_categorical_accuracy: 0.6375\n",
      "Epoch 29/200\n",
      "50/50 [==============================] - 1s 14ms/step - loss: 1.0046 - categorical_accuracy: 0.8544 - val_loss: 1.3689 - val_categorical_accuracy: 0.6425\n",
      "Epoch 30/200\n",
      "46/50 [==========================>...] - ETA: 0s - loss: 0.9962 - categorical_accuracy: 0.8621INFO:tensorflow:Assets written to: models/RK-LSTM16-LR-Dense256-fs=36-cls=5.tf/assets\n"
     ]
    },
    {
     "name": "stderr",
     "output_type": "stream",
     "text": [
      "INFO:tensorflow:Assets written to: models/RK-LSTM16-LR-Dense256-fs=36-cls=5.tf/assets\n"
     ]
    },
    {
     "name": "stdout",
     "output_type": "stream",
     "text": [
      "50/50 [==============================] - 4s 73ms/step - loss: 0.9941 - categorical_accuracy: 0.8644 - val_loss: 1.3656 - val_categorical_accuracy: 0.6475\n",
      "Epoch 31/200\n",
      "50/50 [==============================] - 1s 13ms/step - loss: 0.9933 - categorical_accuracy: 0.8637 - val_loss: 1.3455 - val_categorical_accuracy: 0.6375\n",
      "Epoch 32/200\n",
      "49/50 [============================>.] - ETA: 0s - loss: 0.9772 - categorical_accuracy: 0.8756INFO:tensorflow:Assets written to: models/RK-LSTM16-LR-Dense256-fs=36-cls=5.tf/assets\n"
     ]
    },
    {
     "name": "stderr",
     "output_type": "stream",
     "text": [
      "INFO:tensorflow:Assets written to: models/RK-LSTM16-LR-Dense256-fs=36-cls=5.tf/assets\n"
     ]
    },
    {
     "name": "stdout",
     "output_type": "stream",
     "text": [
      "50/50 [==============================] - 4s 73ms/step - loss: 0.9771 - categorical_accuracy: 0.8763 - val_loss: 1.3474 - val_categorical_accuracy: 0.6525\n",
      "Epoch 33/200\n",
      "50/50 [==============================] - 1s 13ms/step - loss: 0.9669 - categorical_accuracy: 0.8825 - val_loss: 1.3467 - val_categorical_accuracy: 0.6525\n",
      "Epoch 34/200\n",
      "50/50 [==============================] - 1s 15ms/step - loss: 0.9566 - categorical_accuracy: 0.8863 - val_loss: 1.3347 - val_categorical_accuracy: 0.6375\n",
      "Epoch 35/200\n",
      "47/50 [===========================>..] - ETA: 0s - loss: 0.9590 - categorical_accuracy: 0.8836INFO:tensorflow:Assets written to: models/RK-LSTM16-LR-Dense256-fs=36-cls=5.tf/assets\n"
     ]
    },
    {
     "name": "stderr",
     "output_type": "stream",
     "text": [
      "INFO:tensorflow:Assets written to: models/RK-LSTM16-LR-Dense256-fs=36-cls=5.tf/assets\n"
     ]
    },
    {
     "name": "stdout",
     "output_type": "stream",
     "text": [
      "50/50 [==============================] - 4s 71ms/step - loss: 0.9608 - categorical_accuracy: 0.8825 - val_loss: 1.3295 - val_categorical_accuracy: 0.6650\n",
      "Epoch 36/200\n",
      "50/50 [==============================] - 1s 13ms/step - loss: 0.9493 - categorical_accuracy: 0.9019 - val_loss: 1.3347 - val_categorical_accuracy: 0.6600\n",
      "Epoch 37/200\n",
      "49/50 [============================>.] - ETA: 0s - loss: 0.9473 - categorical_accuracy: 0.8935INFO:tensorflow:Assets written to: models/RK-LSTM16-LR-Dense256-fs=36-cls=5.tf/assets\n"
     ]
    },
    {
     "name": "stderr",
     "output_type": "stream",
     "text": [
      "INFO:tensorflow:Assets written to: models/RK-LSTM16-LR-Dense256-fs=36-cls=5.tf/assets\n"
     ]
    },
    {
     "name": "stdout",
     "output_type": "stream",
     "text": [
      "50/50 [==============================] - 4s 72ms/step - loss: 0.9483 - categorical_accuracy: 0.8919 - val_loss: 1.3274 - val_categorical_accuracy: 0.6850\n",
      "Epoch 38/200\n",
      "50/50 [==============================] - 1s 14ms/step - loss: 0.9421 - categorical_accuracy: 0.8988 - val_loss: 1.3286 - val_categorical_accuracy: 0.6675\n",
      "Epoch 39/200\n",
      "50/50 [==============================] - 1s 15ms/step - loss: 0.9358 - categorical_accuracy: 0.8963 - val_loss: 1.3269 - val_categorical_accuracy: 0.6600\n",
      "Epoch 40/200\n",
      "50/50 [==============================] - 1s 14ms/step - loss: 0.9239 - categorical_accuracy: 0.9175 - val_loss: 1.3324 - val_categorical_accuracy: 0.6775\n",
      "Epoch 41/200\n",
      "50/50 [==============================] - 1s 15ms/step - loss: 0.9214 - categorical_accuracy: 0.9169 - val_loss: 1.3398 - val_categorical_accuracy: 0.6750\n",
      "Epoch 42/200\n",
      "50/50 [==============================] - 1s 15ms/step - loss: 0.9132 - categorical_accuracy: 0.9194 - val_loss: 1.3423 - val_categorical_accuracy: 0.6750\n",
      "Epoch 43/200\n",
      "50/50 [==============================] - 1s 15ms/step - loss: 0.9181 - categorical_accuracy: 0.9137 - val_loss: 1.3297 - val_categorical_accuracy: 0.6750\n",
      "Epoch 44/200\n",
      "50/50 [==============================] - 1s 13ms/step - loss: 0.8961 - categorical_accuracy: 0.9275 - val_loss: 1.3235 - val_categorical_accuracy: 0.6800\n",
      "Epoch 45/200\n",
      "50/50 [==============================] - 1s 14ms/step - loss: 0.9008 - categorical_accuracy: 0.9287 - val_loss: 1.3402 - val_categorical_accuracy: 0.6725\n",
      "Epoch 46/200\n",
      "50/50 [==============================] - 1s 15ms/step - loss: 0.8917 - categorical_accuracy: 0.9337 - val_loss: 1.3237 - val_categorical_accuracy: 0.6750\n",
      "Epoch 47/200\n",
      "50/50 [==============================] - 1s 15ms/step - loss: 0.8961 - categorical_accuracy: 0.9306 - val_loss: 1.3321 - val_categorical_accuracy: 0.6675\n",
      "Epoch 48/200\n",
      "50/50 [==============================] - 1s 15ms/step - loss: 0.8831 - categorical_accuracy: 0.9394 - val_loss: 1.3211 - val_categorical_accuracy: 0.6700\n",
      "Epoch 49/200\n",
      "50/50 [==============================] - 1s 14ms/step - loss: 0.8803 - categorical_accuracy: 0.9406 - val_loss: 1.3317 - val_categorical_accuracy: 0.6725\n",
      "Epoch 50/200\n",
      "50/50 [==============================] - 1s 15ms/step - loss: 0.8792 - categorical_accuracy: 0.9425 - val_loss: 1.3348 - val_categorical_accuracy: 0.6775\n",
      "Epoch 51/200\n",
      "50/50 [==============================] - 1s 14ms/step - loss: 0.8720 - categorical_accuracy: 0.9475 - val_loss: 1.3398 - val_categorical_accuracy: 0.6825\n",
      "Epoch 52/200\n",
      "50/50 [==============================] - 1s 14ms/step - loss: 0.8828 - categorical_accuracy: 0.9325 - val_loss: 1.3466 - val_categorical_accuracy: 0.6750\n",
      "Epoch 53/200\n",
      "50/50 [==============================] - 1s 15ms/step - loss: 0.8665 - categorical_accuracy: 0.9538 - val_loss: 1.3327 - val_categorical_accuracy: 0.6650\n",
      "Epoch 54/200\n",
      "50/50 [==============================] - 1s 14ms/step - loss: 0.8678 - categorical_accuracy: 0.9519 - val_loss: 1.3482 - val_categorical_accuracy: 0.6725\n",
      "Epoch 55/200\n",
      "50/50 [==============================] - 1s 15ms/step - loss: 0.8644 - categorical_accuracy: 0.9494 - val_loss: 1.3409 - val_categorical_accuracy: 0.6725\n",
      "Epoch 56/200\n",
      "50/50 [==============================] - 1s 14ms/step - loss: 0.8541 - categorical_accuracy: 0.9581 - val_loss: 1.3359 - val_categorical_accuracy: 0.6800\n",
      "Epoch 57/200\n",
      "50/50 [==============================] - 1s 14ms/step - loss: 0.8569 - categorical_accuracy: 0.9550 - val_loss: 1.3461 - val_categorical_accuracy: 0.6625\n",
      "Epoch 58/200\n",
      "50/50 [==============================] - 1s 13ms/step - loss: 0.8507 - categorical_accuracy: 0.9613 - val_loss: 1.3409 - val_categorical_accuracy: 0.6675\n",
      "Epoch 59/200\n",
      "50/50 [==============================] - 1s 14ms/step - loss: 0.8587 - categorical_accuracy: 0.9556 - val_loss: 1.3217 - val_categorical_accuracy: 0.6675\n",
      "Epoch 60/200\n",
      "50/50 [==============================] - 1s 13ms/step - loss: 0.8615 - categorical_accuracy: 0.9525 - val_loss: 1.3458 - val_categorical_accuracy: 0.6775\n",
      "Epoch 61/200\n",
      "50/50 [==============================] - 1s 13ms/step - loss: 0.8450 - categorical_accuracy: 0.9606 - val_loss: 1.3359 - val_categorical_accuracy: 0.6700\n",
      "Epoch 62/200\n",
      "50/50 [==============================] - 1s 14ms/step - loss: 0.8538 - categorical_accuracy: 0.9563 - val_loss: 1.3408 - val_categorical_accuracy: 0.6650\n",
      "Epoch 63/200\n",
      "50/50 [==============================] - 1s 14ms/step - loss: 0.8449 - categorical_accuracy: 0.9619 - val_loss: 1.3323 - val_categorical_accuracy: 0.6725\n",
      "Epoch 64/200\n",
      "50/50 [==============================] - 1s 14ms/step - loss: 0.8439 - categorical_accuracy: 0.9581 - val_loss: 1.3292 - val_categorical_accuracy: 0.6800\n",
      "Epoch 65/200\n",
      "50/50 [==============================] - 1s 13ms/step - loss: 0.8371 - categorical_accuracy: 0.9675 - val_loss: 1.3330 - val_categorical_accuracy: 0.6700\n",
      "Epoch 66/200\n",
      "50/50 [==============================] - 1s 14ms/step - loss: 0.8390 - categorical_accuracy: 0.9712 - val_loss: 1.3380 - val_categorical_accuracy: 0.6750\n",
      "Epoch 67/200\n",
      "50/50 [==============================] - 1s 13ms/step - loss: 0.8406 - categorical_accuracy: 0.9656 - val_loss: 1.3342 - val_categorical_accuracy: 0.6825\n",
      "Epoch 68/200\n",
      "50/50 [==============================] - 1s 13ms/step - loss: 0.8376 - categorical_accuracy: 0.9663 - val_loss: 1.3418 - val_categorical_accuracy: 0.6675\n",
      "Epoch 69/200\n",
      "50/50 [==============================] - 1s 14ms/step - loss: 0.8288 - categorical_accuracy: 0.9731 - val_loss: 1.3525 - val_categorical_accuracy: 0.6650\n",
      "Epoch 70/200\n",
      "50/50 [==============================] - 1s 14ms/step - loss: 0.8330 - categorical_accuracy: 0.9688 - val_loss: 1.3483 - val_categorical_accuracy: 0.6825\n",
      "Epoch 71/200\n",
      "50/50 [==============================] - 1s 14ms/step - loss: 0.8321 - categorical_accuracy: 0.9688 - val_loss: 1.3443 - val_categorical_accuracy: 0.6750\n",
      "Epoch 72/200\n",
      "50/50 [==============================] - 1s 15ms/step - loss: 0.8328 - categorical_accuracy: 0.9669 - val_loss: 1.3464 - val_categorical_accuracy: 0.6825\n",
      "Epoch 73/200\n",
      "50/50 [==============================] - 1s 14ms/step - loss: 0.8275 - categorical_accuracy: 0.9762 - val_loss: 1.3582 - val_categorical_accuracy: 0.6775\n",
      "Epoch 74/200\n",
      "50/50 [==============================] - 1s 13ms/step - loss: 0.8252 - categorical_accuracy: 0.9737 - val_loss: 1.3490 - val_categorical_accuracy: 0.6825\n",
      "Epoch 75/200\n",
      "50/50 [==============================] - 1s 14ms/step - loss: 0.8274 - categorical_accuracy: 0.9688 - val_loss: 1.3477 - val_categorical_accuracy: 0.6775\n",
      "Epoch 76/200\n",
      "50/50 [==============================] - 1s 13ms/step - loss: 0.8225 - categorical_accuracy: 0.9750 - val_loss: 1.3424 - val_categorical_accuracy: 0.6750\n",
      "Epoch 77/200\n",
      "50/50 [==============================] - 1s 13ms/step - loss: 0.8224 - categorical_accuracy: 0.9744 - val_loss: 1.3503 - val_categorical_accuracy: 0.6625\n",
      "Epoch 78/200\n",
      "50/50 [==============================] - 1s 15ms/step - loss: 0.8255 - categorical_accuracy: 0.9681 - val_loss: 1.3362 - val_categorical_accuracy: 0.6675\n",
      "Epoch 79/200\n",
      "50/50 [==============================] - 1s 14ms/step - loss: 0.8195 - categorical_accuracy: 0.9787 - val_loss: 1.3326 - val_categorical_accuracy: 0.6575\n",
      "Epoch 80/200\n",
      "50/50 [==============================] - 1s 14ms/step - loss: 0.8167 - categorical_accuracy: 0.9769 - val_loss: 1.3400 - val_categorical_accuracy: 0.6725\n",
      "Epoch 81/200\n",
      "50/50 [==============================] - 1s 13ms/step - loss: 0.8196 - categorical_accuracy: 0.9750 - val_loss: 1.3455 - val_categorical_accuracy: 0.6775\n",
      "Epoch 82/200\n",
      "50/50 [==============================] - 1s 13ms/step - loss: 0.8164 - categorical_accuracy: 0.9794 - val_loss: 1.3478 - val_categorical_accuracy: 0.6675\n",
      "Epoch 83/200\n",
      "50/50 [==============================] - 1s 13ms/step - loss: 0.8170 - categorical_accuracy: 0.9787 - val_loss: 1.3445 - val_categorical_accuracy: 0.6700\n",
      "Epoch 84/200\n",
      "50/50 [==============================] - 1s 13ms/step - loss: 0.8198 - categorical_accuracy: 0.9794 - val_loss: 1.3489 - val_categorical_accuracy: 0.6650\n",
      "Epoch 85/200\n",
      "50/50 [==============================] - 1s 13ms/step - loss: 0.8148 - categorical_accuracy: 0.9812 - val_loss: 1.3359 - val_categorical_accuracy: 0.6775\n",
      "Epoch 86/200\n",
      "50/50 [==============================] - 1s 13ms/step - loss: 0.8150 - categorical_accuracy: 0.9769 - val_loss: 1.3472 - val_categorical_accuracy: 0.6700\n",
      "Epoch 87/200\n",
      "50/50 [==============================] - 1s 13ms/step - loss: 0.8145 - categorical_accuracy: 0.9769 - val_loss: 1.3504 - val_categorical_accuracy: 0.6600\n",
      "Epoch 88/200\n",
      "50/50 [==============================] - 1s 14ms/step - loss: 0.8216 - categorical_accuracy: 0.9694 - val_loss: 1.3443 - val_categorical_accuracy: 0.6700\n",
      "Epoch 89/200\n",
      "50/50 [==============================] - 1s 14ms/step - loss: 0.8118 - categorical_accuracy: 0.9794 - val_loss: 1.3413 - val_categorical_accuracy: 0.6675\n",
      "Epoch 90/200\n",
      "50/50 [==============================] - 1s 14ms/step - loss: 0.8163 - categorical_accuracy: 0.9762 - val_loss: 1.3364 - val_categorical_accuracy: 0.6625\n",
      "Epoch 91/200\n",
      "50/50 [==============================] - 1s 14ms/step - loss: 0.8075 - categorical_accuracy: 0.9812 - val_loss: 1.3446 - val_categorical_accuracy: 0.6650\n",
      "Epoch 92/200\n",
      "50/50 [==============================] - 1s 14ms/step - loss: 0.8074 - categorical_accuracy: 0.9806 - val_loss: 1.3325 - val_categorical_accuracy: 0.6725\n",
      "Epoch 93/200\n",
      "50/50 [==============================] - 1s 13ms/step - loss: 0.8083 - categorical_accuracy: 0.9819 - val_loss: 1.3483 - val_categorical_accuracy: 0.6675\n",
      "Epoch 94/200\n",
      "50/50 [==============================] - 1s 13ms/step - loss: 0.8044 - categorical_accuracy: 0.9862 - val_loss: 1.3406 - val_categorical_accuracy: 0.6700\n",
      "Epoch 95/200\n",
      "50/50 [==============================] - 1s 13ms/step - loss: 0.8065 - categorical_accuracy: 0.9812 - val_loss: 1.3452 - val_categorical_accuracy: 0.6750\n",
      "Epoch 96/200\n",
      "50/50 [==============================] - 1s 14ms/step - loss: 0.8054 - categorical_accuracy: 0.9812 - val_loss: 1.3432 - val_categorical_accuracy: 0.6700\n",
      "Epoch 97/200\n",
      "50/50 [==============================] - 1s 13ms/step - loss: 0.8108 - categorical_accuracy: 0.9800 - val_loss: 1.3359 - val_categorical_accuracy: 0.6725\n",
      "Epoch 98/200\n",
      "50/50 [==============================] - 1s 14ms/step - loss: 0.8105 - categorical_accuracy: 0.9831 - val_loss: 1.3403 - val_categorical_accuracy: 0.6675\n",
      "Epoch 99/200\n",
      "50/50 [==============================] - 1s 14ms/step - loss: 0.8041 - categorical_accuracy: 0.9837 - val_loss: 1.3306 - val_categorical_accuracy: 0.6700\n",
      "Epoch 100/200\n",
      "50/50 [==============================] - 1s 14ms/step - loss: 0.8040 - categorical_accuracy: 0.9856 - val_loss: 1.3280 - val_categorical_accuracy: 0.6725\n",
      "Epoch 101/200\n",
      "45/50 [==========================>...] - ETA: 0s - loss: 0.8158 - categorical_accuracy: 0.9757INFO:tensorflow:Assets written to: models/RK-LSTM16-LR-Dense256-fs=36-cls=5.tf/assets\n"
     ]
    },
    {
     "name": "stderr",
     "output_type": "stream",
     "text": [
      "INFO:tensorflow:Assets written to: models/RK-LSTM16-LR-Dense256-fs=36-cls=5.tf/assets\n"
     ]
    },
    {
     "name": "stdout",
     "output_type": "stream",
     "text": [
      "50/50 [==============================] - 3s 70ms/step - loss: 0.8179 - categorical_accuracy: 0.9750 - val_loss: 1.3371 - val_categorical_accuracy: 0.6875\n",
      "Epoch 102/200\n",
      "50/50 [==============================] - 1s 15ms/step - loss: 0.8219 - categorical_accuracy: 0.9744 - val_loss: 1.3656 - val_categorical_accuracy: 0.6525\n",
      "Epoch 103/200\n",
      "50/50 [==============================] - 1s 13ms/step - loss: 0.8200 - categorical_accuracy: 0.9781 - val_loss: 1.3199 - val_categorical_accuracy: 0.6800\n",
      "Epoch 104/200\n",
      "48/50 [===========================>..] - ETA: 0s - loss: 0.8153 - categorical_accuracy: 0.9759INFO:tensorflow:Assets written to: models/RK-LSTM16-LR-Dense256-fs=36-cls=5.tf/assets\n"
     ]
    },
    {
     "name": "stderr",
     "output_type": "stream",
     "text": [
      "INFO:tensorflow:Assets written to: models/RK-LSTM16-LR-Dense256-fs=36-cls=5.tf/assets\n"
     ]
    },
    {
     "name": "stdout",
     "output_type": "stream",
     "text": [
      "50/50 [==============================] - 4s 72ms/step - loss: 0.8160 - categorical_accuracy: 0.9750 - val_loss: 1.3001 - val_categorical_accuracy: 0.7000\n",
      "Epoch 105/200\n",
      "50/50 [==============================] - 1s 14ms/step - loss: 0.8181 - categorical_accuracy: 0.9762 - val_loss: 1.3153 - val_categorical_accuracy: 0.6825\n",
      "Epoch 106/200\n",
      "50/50 [==============================] - 1s 15ms/step - loss: 0.8125 - categorical_accuracy: 0.9800 - val_loss: 1.3256 - val_categorical_accuracy: 0.6725\n",
      "Epoch 107/200\n",
      "50/50 [==============================] - 1s 13ms/step - loss: 0.8140 - categorical_accuracy: 0.9750 - val_loss: 1.3143 - val_categorical_accuracy: 0.6850\n",
      "Epoch 108/200\n",
      "50/50 [==============================] - 1s 14ms/step - loss: 0.8164 - categorical_accuracy: 0.9725 - val_loss: 1.3374 - val_categorical_accuracy: 0.6600\n",
      "Epoch 109/200\n",
      "50/50 [==============================] - 1s 14ms/step - loss: 0.8174 - categorical_accuracy: 0.9769 - val_loss: 1.3359 - val_categorical_accuracy: 0.6825\n",
      "Epoch 110/200\n",
      "50/50 [==============================] - 1s 13ms/step - loss: 0.8094 - categorical_accuracy: 0.9744 - val_loss: 1.3400 - val_categorical_accuracy: 0.6625\n",
      "Epoch 111/200\n",
      "50/50 [==============================] - 1s 14ms/step - loss: 0.8065 - categorical_accuracy: 0.9806 - val_loss: 1.3426 - val_categorical_accuracy: 0.6625\n",
      "Epoch 112/200\n",
      "50/50 [==============================] - 1s 14ms/step - loss: 0.8007 - categorical_accuracy: 0.9856 - val_loss: 1.3323 - val_categorical_accuracy: 0.6775\n",
      "Epoch 113/200\n",
      "50/50 [==============================] - 1s 14ms/step - loss: 0.8020 - categorical_accuracy: 0.9844 - val_loss: 1.3375 - val_categorical_accuracy: 0.6725\n",
      "Epoch 114/200\n",
      "50/50 [==============================] - 1s 13ms/step - loss: 0.8009 - categorical_accuracy: 0.9831 - val_loss: 1.3275 - val_categorical_accuracy: 0.6800\n",
      "Epoch 115/200\n",
      "50/50 [==============================] - 1s 13ms/step - loss: 0.7984 - categorical_accuracy: 0.9856 - val_loss: 1.3089 - val_categorical_accuracy: 0.6750\n",
      "Epoch 116/200\n",
      "50/50 [==============================] - 1s 13ms/step - loss: 0.7946 - categorical_accuracy: 0.9862 - val_loss: 1.2918 - val_categorical_accuracy: 0.6750\n",
      "Epoch 117/200\n",
      "50/50 [==============================] - 1s 13ms/step - loss: 0.7964 - categorical_accuracy: 0.9806 - val_loss: 1.3241 - val_categorical_accuracy: 0.6625\n",
      "Epoch 118/200\n",
      "50/50 [==============================] - 1s 13ms/step - loss: 0.8009 - categorical_accuracy: 0.9812 - val_loss: 1.3087 - val_categorical_accuracy: 0.6575\n",
      "Epoch 119/200\n",
      "50/50 [==============================] - 1s 13ms/step - loss: 0.7944 - categorical_accuracy: 0.9850 - val_loss: 1.3180 - val_categorical_accuracy: 0.6600\n",
      "Epoch 120/200\n",
      "50/50 [==============================] - 1s 13ms/step - loss: 0.7921 - categorical_accuracy: 0.9881 - val_loss: 1.3157 - val_categorical_accuracy: 0.6900\n",
      "Epoch 121/200\n",
      "50/50 [==============================] - 1s 13ms/step - loss: 0.7948 - categorical_accuracy: 0.9825 - val_loss: 1.2979 - val_categorical_accuracy: 0.6775\n",
      "Epoch 122/200\n",
      "50/50 [==============================] - 1s 13ms/step - loss: 0.7874 - categorical_accuracy: 0.9900 - val_loss: 1.3308 - val_categorical_accuracy: 0.6550\n",
      "Epoch 123/200\n",
      "50/50 [==============================] - 1s 14ms/step - loss: 0.7900 - categorical_accuracy: 0.9875 - val_loss: 1.3066 - val_categorical_accuracy: 0.6825\n",
      "Epoch 124/200\n",
      "50/50 [==============================] - 1s 14ms/step - loss: 0.7888 - categorical_accuracy: 0.9881 - val_loss: 1.3018 - val_categorical_accuracy: 0.6900\n",
      "Epoch 125/200\n",
      "50/50 [==============================] - 1s 13ms/step - loss: 0.7868 - categorical_accuracy: 0.9881 - val_loss: 1.3016 - val_categorical_accuracy: 0.6600\n",
      "Epoch 126/200\n",
      "50/50 [==============================] - 1s 15ms/step - loss: 0.7830 - categorical_accuracy: 0.9894 - val_loss: 1.2851 - val_categorical_accuracy: 0.6950\n",
      "Epoch 127/200\n",
      "50/50 [==============================] - 1s 14ms/step - loss: 0.7854 - categorical_accuracy: 0.9900 - val_loss: 1.2913 - val_categorical_accuracy: 0.6925\n",
      "Epoch 128/200\n",
      "50/50 [==============================] - 1s 15ms/step - loss: 0.7861 - categorical_accuracy: 0.9887 - val_loss: 1.2901 - val_categorical_accuracy: 0.6850\n",
      "Epoch 129/200\n",
      "50/50 [==============================] - 1s 15ms/step - loss: 0.7850 - categorical_accuracy: 0.9869 - val_loss: 1.2971 - val_categorical_accuracy: 0.6775\n",
      "Epoch 130/200\n",
      "50/50 [==============================] - 1s 15ms/step - loss: 0.7794 - categorical_accuracy: 0.9900 - val_loss: 1.2885 - val_categorical_accuracy: 0.6775\n",
      "Epoch 131/200\n",
      "35/50 [====================>.........] - ETA: 0s - loss: 0.7752 - categorical_accuracy: 0.9946"
     ]
    }
   ],
   "source": [
    "model = Sequential()\n",
    "#x,y,z -> y,z as the input shape\n",
    "model.add(LSTM(128, return_sequences=False, input_shape=X_shape,\n",
    "               kernel_regularizer=l2(0.0001), \n",
    "               activity_regularizer=l2(0.0001)))\n",
    "model.add(LeakyReLU(alpha=0.2))\n",
    "model.add(Dense(256, activation='gelu'))\n",
    "model.add(layers.Dropout(0.2))\n",
    "model.add(layers.BatchNormalization())\n",
    "model.add(Dense(128, activation='gelu'))\n",
    "model.add(layers.Dropout(0.2))\n",
    "model.add(layers.BatchNormalization())\n",
    "model.add(Dense(len(train_dataset_parquet.unique_labels), activation='softmax'))\n",
    "\n",
    "\n",
    "keras_train(model, filepath=os.path.join(\"models\", f\"RK-LSTM16-LR-Dense256-fs={fs}-cls={no_cls}.tf\"),\n",
    "            run_name=f\"RK-LSTM16-LR-Dense256-fs={fs}-cls={no_cls}\",\n",
    "            max_lr=1e-4,\n",
    "            min_lr=2.5e-5,\n",
    "            T_max=101,\n",
    "            epochs=200,\n",
    "            mediapipe_features=\"reduced-LipsEyesHandsPose-scaled\",\n",
    "            USE_WANDB=True)"
   ]
  },
  {
   "cell_type": "markdown",
   "metadata": {},
   "source": [
    "# GRU"
   ]
  },
  {
   "cell_type": "code",
   "execution_count": null,
   "metadata": {},
   "outputs": [],
   "source": [
    "from tensorflow.keras import layers\n",
    "\n",
    "model = Sequential()\n",
    "#x,y,z -> y,z as the input shape\n",
    "model.add(layers.GRU(16, return_sequences=False, input_shape=X_shape,\n",
    "               kernel_regularizer=l2(0.0001), \n",
    "               activity_regularizer=l2(0.0001)))\n",
    "model.add(LeakyReLU(alpha=0.2))\n",
    "model.add(Dense(256, activation='gelu'))\n",
    "model.add(Dense(len(train_dataset_parquet.unique_labels), activation='softmax'))\n",
    "\n",
    "\n",
    "keras_train(model, filepath=os.path.join(\"models\", f\"RK-GRU16-LR-Dense256-gelu-fs={fs}-cls={no_cls}.tf\"),\n",
    "            run_name=f\"RK-GRU16-LR-Dense256-gelu-fs={fs}-cls={no_cls}\",\n",
    "            max_lr=1e-4,\n",
    "            min_lr=2.5e-5,\n",
    "            T_max=101,\n",
    "            epochs=200,\n",
    "            mediapipe_features=\"reduced-LipsEyesHandsPose-scaled\",\n",
    "            USE_WANDB=True)"
   ]
  },
  {
   "cell_type": "code",
   "execution_count": null,
   "metadata": {},
   "outputs": [],
   "source": [
    "from tensorflow.keras import layers\n",
    "\n",
    "model = Sequential()\n",
    "#x,y,z -> y,z as the input shape\n",
    "model.add(layers.GRU(32, return_sequences=False, input_shape=X_shape,\n",
    "               kernel_regularizer=l2(0.0001), \n",
    "               activity_regularizer=l2(0.0001)))\n",
    "model.add(LeakyReLU(alpha=0.2))\n",
    "model.add(Dense(256, activation='gelu'))\n",
    "model.add(Dense(len(train_dataset_parquet.unique_labels), activation='softmax'))\n",
    "\n",
    "\n",
    "keras_train(model, filepath=os.path.join(\"models\", f\"RK-GRU32-LR-Dense256-gelu-fs={fs}-cls={no_cls}.tf\"),\n",
    "            run_name=f\"RK-GRU32-LR-Dense256-gelu-fs={fs}-cls={no_cls}\",\n",
    "            max_lr=1e-4,\n",
    "            min_lr=2.5e-5,\n",
    "            T_max=101,\n",
    "            epochs=200,\n",
    "            mediapipe_features=\"reduced-LipsEyesHandsPose-scaled\",\n",
    "            USE_WANDB=True)"
   ]
  },
  {
   "cell_type": "code",
   "execution_count": null,
   "metadata": {},
   "outputs": [],
   "source": [
    "from tensorflow.keras import layers\n",
    "\n",
    "model = Sequential()\n",
    "#x,y,z -> y,z as the input shape\n",
    "model.add(layers.GRU(64, return_sequences=False, input_shape=X_shape,\n",
    "               kernel_regularizer=l2(0.0001), \n",
    "               activity_regularizer=l2(0.0001)))\n",
    "model.add(LeakyReLU(alpha=0.2))\n",
    "model.add(Dense(256, activation='gelu'))\n",
    "model.add(Dense(len(train_dataset_parquet.unique_labels), activation='softmax'))\n",
    "\n",
    "\n",
    "keras_train(model, filepath=os.path.join(\"models\", f\"RK-GRU64-LR-Dense256-gelu-fs={fs}-cls={no_cls}.tf\"),\n",
    "            run_name=f\"RK-GRU64-LR-Dense256-gelu-fs={fs}-cls={no_cls}\",\n",
    "            max_lr=1e-4,\n",
    "            min_lr=2.5e-5,\n",
    "            T_max=101,\n",
    "            epochs=200,\n",
    "            mediapipe_features=\"reduced-LipsEyesHandsPose-scaled\",\n",
    "            USE_WANDB=True)"
   ]
  },
  {
   "cell_type": "code",
   "execution_count": null,
   "metadata": {},
   "outputs": [],
   "source": [
    "from tensorflow.keras import layers\n",
    "\n",
    "model = Sequential()\n",
    "#x,y,z -> y,z as the input shape\n",
    "model.add(layers.GRU(128, return_sequences=False, input_shape=X_shape,\n",
    "               kernel_regularizer=l2(0.0001), \n",
    "               activity_regularizer=l2(0.0001)))\n",
    "model.add(LeakyReLU(alpha=0.2))\n",
    "model.add(Dense(256, activation='gelu'))\n",
    "model.add(Dense(len(train_dataset_parquet.unique_labels), activation='softmax'))\n",
    "\n",
    "\n",
    "keras_train(model, filepath=os.path.join(\"models\", f\"RK-GRU128-LR-Dense256-gelu-fs={fs}-cls={no_cls}.tf\"),\n",
    "            run_name=f\"RK-GRU128-LR-Dense256-gelu-fs={fs}-cls={no_cls}\",\n",
    "            max_lr=1e-4,\n",
    "            min_lr=2.5e-5,\n",
    "            T_max=101,\n",
    "            epochs=200,\n",
    "            mediapipe_features=\"reduced-LipsEyesHandsPose-scaled\",\n",
    "            USE_WANDB=True)"
   ]
  },
  {
   "cell_type": "code",
   "execution_count": null,
   "metadata": {},
   "outputs": [],
   "source": [
    "from tensorflow.keras import layers\n",
    "\n",
    "model = Sequential()\n",
    "#x,y,z -> y,z as the input shape\n",
    "model.add(layers.GRU(256, return_sequences=False, input_shape=X_shape,\n",
    "               kernel_regularizer=l2(0.0001), \n",
    "               activity_regularizer=l2(0.0001)))\n",
    "model.add(LeakyReLU(alpha=0.2))\n",
    "model.add(Dense(256, activation='gelu'))\n",
    "model.add(Dense(len(train_dataset_parquet.unique_labels), activation='softmax'))\n",
    "\n",
    "\n",
    "keras_train(model, filepath=os.path.join(\"models\", f\"RK-GRU256-LR-Dense256-gelu-fs={fs}-cls={no_cls}.tf\"),\n",
    "            run_name=f\"RK-GRU256-LR-Dense256-gelu-fs={fs}-cls={no_cls}\",\n",
    "            max_lr=1e-4,\n",
    "            min_lr=2.5e-5,\n",
    "            T_max=101,\n",
    "            epochs=200,\n",
    "            mediapipe_features=\"reduced-LipsEyesHandsPose-scaled\",\n",
    "            USE_WANDB=True)"
   ]
  },
  {
   "cell_type": "code",
   "execution_count": null,
   "metadata": {},
   "outputs": [],
   "source": [
    "from tensorflow.keras import layers\n",
    "\n",
    "model = Sequential()\n",
    "#x,y,z -> y,z as the input shape\n",
    "model.add(layers.GRU(512, return_sequences=False, input_shape=X_shape,\n",
    "               kernel_regularizer=l2(0.0001), \n",
    "               activity_regularizer=l2(0.0001)))\n",
    "model.add(LeakyReLU(alpha=0.2))\n",
    "model.add(Dense(256, activation='gelu'))\n",
    "model.add(Dense(len(train_dataset_parquet.unique_labels), activation='softmax'))\n",
    "\n",
    "\n",
    "keras_train(model, filepath=os.path.join(\"models\", f\"RK-GRU512-LR-Dense256-gelu-fs={fs}-cls={no_cls}.tf\"),\n",
    "            run_name=f\"RK-GRU512-LR-Dense256-gelu-fs={fs}-cls={no_cls}\",\n",
    "            max_lr=1e-4,\n",
    "            min_lr=2.5e-5,\n",
    "            T_max=101,\n",
    "            epochs=200,\n",
    "            mediapipe_features=\"reduced-LipsEyesHandsPose-scaled\",\n",
    "            USE_WANDB=True)"
   ]
  },
  {
   "cell_type": "markdown",
   "metadata": {},
   "source": [
    "## Bidirectional LSTM"
   ]
  },
  {
   "cell_type": "code",
   "execution_count": null,
   "metadata": {},
   "outputs": [],
   "source": [
    "from tensorflow.keras import layers\n",
    "\n",
    "model = Sequential()\n",
    "#x,y,z -> y,z as the input shape\n",
    "model.add(layers.Bidirectional(LSTM(16, return_sequences=True, input_shape=X_shape,\n",
    "               kernel_regularizer=l2(0.0001), \n",
    "               activity_regularizer=l2(0.0001))))\n",
    "model.add(layers.Flatten())\n",
    "model.add(LeakyReLU(alpha=0.2))\n",
    "model.add(Dense(256, activation='gelu'))\n",
    "model.add(Dense(len(train_dataset_parquet.unique_labels), activation='softmax'))\n",
    "\n",
    "\n",
    "keras_train(model, filepath=os.path.join(\"models\", f\"RK-BLSTM16-LR-Dense256-gelu-fs={fs}-cls={no_cls}\"),\n",
    "            run_name=f\"RK-BLSTM16-LR-Dense256-gelu-fs={fs}-cls={no_cls}\",\n",
    "            max_lr=1e-4,\n",
    "            min_lr=2.5e-5,\n",
    "            T_max=101,\n",
    "            epochs=200,\n",
    "            mediapipe_features=\"reduced-LipsEyesHandsPose-scaled\",\n",
    "            USE_WANDB=True)"
   ]
  },
  {
   "cell_type": "code",
   "execution_count": null,
   "metadata": {},
   "outputs": [],
   "source": [
    "from tensorflow.keras import layers\n",
    "\n",
    "model = Sequential()\n",
    "#x,y,z -> y,z as the input shape\n",
    "model.add(layers.Bidirectional(LSTM(32, return_sequences=True, input_shape=X_shape,\n",
    "               kernel_regularizer=l2(0.0001), \n",
    "               activity_regularizer=l2(0.0001))))\n",
    "model.add(layers.Flatten())\n",
    "model.add(LeakyReLU(alpha=0.2))\n",
    "model.add(Dense(256, activation='gelu'))\n",
    "model.add(Dense(len(train_dataset_parquet.unique_labels), activation='softmax'))\n",
    "\n",
    "\n",
    "keras_train(model, filepath=os.path.join(\"models\", f\"RK-BLSTM32-LR-Dense256-gelu-fs={fs}-cls={no_cls}\"),\n",
    "            run_name=f\"RK-BLSTM32-LR-Dense256-gelu-fs={fs}-cls={no_cls}\",\n",
    "            max_lr=1e-4,\n",
    "            min_lr=2.5e-5,\n",
    "            T_max=101,\n",
    "            epochs=200,\n",
    "            mediapipe_features=\"reduced-LipsEyesHandsPose-scaled\",\n",
    "            USE_WANDB=True)"
   ]
  },
  {
   "cell_type": "code",
   "execution_count": null,
   "metadata": {},
   "outputs": [],
   "source": [
    "from tensorflow.keras import layers\n",
    "\n",
    "model = Sequential()\n",
    "#x,y,z -> y,z as the input shape\n",
    "model.add(layers.Bidirectional(LSTM(64, return_sequences=True, input_shape=X_shape,\n",
    "               kernel_regularizer=l2(0.0001), \n",
    "               activity_regularizer=l2(0.0001))))\n",
    "model.add(layers.Flatten())\n",
    "model.add(LeakyReLU(alpha=0.2))\n",
    "model.add(Dense(256, activation='gelu'))\n",
    "model.add(Dense(len(train_dataset_parquet.unique_labels), activation='softmax'))\n",
    "\n",
    "\n",
    "keras_train(model, filepath=os.path.join(\"models\", f\"RK-BLSTM64-LR-Dense256-gelu-fs={fs}-cls={no_cls}\"),\n",
    "            run_name=f\"RK-BLSTM64-LR-Dense256-gelu-fs={fs}-cls={no_cls}\",\n",
    "            max_lr=1e-4,\n",
    "            min_lr=2.5e-5,\n",
    "            T_max=101,\n",
    "            epochs=200,\n",
    "            mediapipe_features=\"reduced-LipsEyesHandsPose-scaled\",\n",
    "            USE_WANDB=True)"
   ]
  },
  {
   "cell_type": "code",
   "execution_count": null,
   "metadata": {},
   "outputs": [],
   "source": [
    "from tensorflow.keras import layers\n",
    "\n",
    "model = Sequential()\n",
    "#x,y,z -> y,z as the input shape\n",
    "model.add(layers.Bidirectional(LSTM(128, return_sequences=True, input_shape=X_shape,\n",
    "               kernel_regularizer=l2(0.0001), \n",
    "               activity_regularizer=l2(0.0001))))\n",
    "model.add(layers.Flatten())\n",
    "model.add(LeakyReLU(alpha=0.2))\n",
    "model.add(Dense(256, activation='gelu'))\n",
    "model.add(Dense(len(train_dataset_parquet.unique_labels), activation='softmax'))\n",
    "\n",
    "\n",
    "keras_train(model, filepath=os.path.join(\"models\", f\"RK-BLSTM128-LR-Dense256-gelu-fs={fs}-cls={no_cls}\"),\n",
    "            run_name=f\"RK-BLSTM128-LR-Dense256-gelu-fs={fs}-cls={no_cls}\",\n",
    "            max_lr=1e-4,\n",
    "            min_lr=2.5e-5,\n",
    "            T_max=101,\n",
    "            epochs=200,\n",
    "            mediapipe_features=\"reduced-LipsEyesHandsPose-scaled\",\n",
    "            USE_WANDB=True)"
   ]
  },
  {
   "cell_type": "code",
   "execution_count": null,
   "metadata": {},
   "outputs": [],
   "source": [
    "from tensorflow.keras import layers\n",
    "\n",
    "model = Sequential()\n",
    "#x,y,z -> y,z as the input shape\n",
    "model.add(layers.Bidirectional(LSTM(256, return_sequences=True, input_shape=X_shape,\n",
    "               kernel_regularizer=l2(0.0001), \n",
    "               activity_regularizer=l2(0.0001))))\n",
    "model.add(layers.Flatten())\n",
    "model.add(LeakyReLU(alpha=0.2))\n",
    "model.add(Dense(256, activation='gelu'))\n",
    "model.add(Dense(len(train_dataset_parquet.unique_labels), activation='softmax'))\n",
    "\n",
    "\n",
    "keras_train(model, filepath=os.path.join(\"models\", f\"RK-BLSTM256-LR-Dense256-gelu-fs={fs}-cls={no_cls}\"),\n",
    "            run_name=f\"RK-BLSTM256-LR-Dense256-gelu-fs={fs}-cls={no_cls}\",\n",
    "            max_lr=1e-4,\n",
    "            min_lr=2.5e-5,\n",
    "            T_max=101,\n",
    "            epochs=200,\n",
    "            mediapipe_features=\"reduced-LipsEyesHandsPose-scaled\",\n",
    "            USE_WANDB=True)"
   ]
  },
  {
   "cell_type": "markdown",
   "metadata": {},
   "source": [
    "## Bidirectional GRU"
   ]
  },
  {
   "cell_type": "code",
   "execution_count": null,
   "metadata": {},
   "outputs": [],
   "source": [
    "from tensorflow.keras import layers\n",
    "\n",
    "model = Sequential()\n",
    "#x,y,z -> y,z as the input shape\n",
    "model.add(layers.Bidirectional(layers.GRU(16, return_sequences=True, input_shape=X_shape,\n",
    "               kernel_regularizer=l2(0.0001), \n",
    "               activity_regularizer=l2(0.0001))))\n",
    "model.add(layers.Flatten())\n",
    "model.add(LeakyReLU(alpha=0.2))\n",
    "model.add(Dense(256, activation='gelu'))\n",
    "model.add(Dense(len(train_dataset_parquet.unique_labels), activation='softmax'))\n",
    "\n",
    "\n",
    "keras_train(model, filepath=os.path.join(\"models\", f\"RK-BGRU16-LR-Dense256-gelu-fs={fs}-cls={no_cls}\"),\n",
    "            run_name=f\"RK-BGRU16-LR-Dense256-gelu-fs={fs}-cls={no_cls}\",\n",
    "            max_lr=1e-4,\n",
    "            min_lr=2.5e-5,\n",
    "            T_max=101,\n",
    "            epochs=200,\n",
    "            mediapipe_features=\"reduced-LipsEyesHandsPose-scaled\",\n",
    "            USE_WANDB=True)"
   ]
  },
  {
   "cell_type": "code",
   "execution_count": null,
   "metadata": {},
   "outputs": [],
   "source": [
    "from tensorflow.keras import layers\n",
    "\n",
    "model = Sequential()\n",
    "#x,y,z -> y,z as the input shape\n",
    "model.add(layers.Bidirectional(layers.GRU(32, return_sequences=True, input_shape=X_shape,\n",
    "               kernel_regularizer=l2(0.0001), \n",
    "               activity_regularizer=l2(0.0001))))\n",
    "model.add(layers.Flatten())\n",
    "model.add(LeakyReLU(alpha=0.2))\n",
    "model.add(Dense(256, activation='gelu'))\n",
    "model.add(Dense(len(train_dataset_parquet.unique_labels), activation='softmax'))\n",
    "\n",
    "\n",
    "keras_train(model, filepath=os.path.join(\"models\", f\"RK-BGRU32-LR-Dense256-gelu-fs={fs}-cls={no_cls}\"),\n",
    "            run_name=f\"RK-BGRU32-LR-Dense256-gelu-fs={fs}-cls={no_cls}\",\n",
    "            max_lr=1e-4,\n",
    "            min_lr=2.5e-5,\n",
    "            T_max=101,\n",
    "            epochs=200,\n",
    "            mediapipe_features=\"reduced-LipsEyesHandsPose-scaled\",\n",
    "            USE_WANDB=True)"
   ]
  },
  {
   "cell_type": "code",
   "execution_count": null,
   "metadata": {},
   "outputs": [],
   "source": [
    "from tensorflow.keras import layers\n",
    "\n",
    "model = Sequential()\n",
    "#x,y,z -> y,z as the input shape\n",
    "model.add(layers.Bidirectional(layers.GRU(64, return_sequences=True, input_shape=X_shape,\n",
    "               kernel_regularizer=l2(0.0001), \n",
    "               activity_regularizer=l2(0.0001))))\n",
    "model.add(layers.Flatten())\n",
    "model.add(LeakyReLU(alpha=0.2))\n",
    "model.add(Dense(256, activation='gelu'))\n",
    "model.add(Dense(len(train_dataset_parquet.unique_labels), activation='softmax'))\n",
    "\n",
    "\n",
    "keras_train(model, filepath=os.path.join(\"models\", f\"RK-BGRU64-LR-Dense256-gelu-fs={fs}-cls={no_cls}\"),\n",
    "            run_name=f\"RK-BGRU64-LR-Dense256-gelu-fs={fs}-cls={no_cls}\",\n",
    "            max_lr=1e-4,\n",
    "            min_lr=2.5e-5,\n",
    "            T_max=101,\n",
    "            epochs=200,\n",
    "            mediapipe_features=\"reduced-LipsEyesHandsPose-scaled\",\n",
    "            USE_WANDB=True)"
   ]
  },
  {
   "cell_type": "code",
   "execution_count": null,
   "metadata": {},
   "outputs": [],
   "source": [
    "from tensorflow.keras import layers\n",
    "\n",
    "model = Sequential()\n",
    "#x,y,z -> y,z as the input shape\n",
    "model.add(layers.Bidirectional(layers.GRU(128, return_sequences=True, input_shape=X_shape,\n",
    "               kernel_regularizer=l2(0.0001), \n",
    "               activity_regularizer=l2(0.0001))))\n",
    "model.add(layers.Flatten())\n",
    "model.add(LeakyReLU(alpha=0.2))\n",
    "model.add(Dense(256, activation='gelu'))\n",
    "model.add(Dense(len(train_dataset_parquet.unique_labels), activation='softmax'))\n",
    "\n",
    "\n",
    "keras_train(model, filepath=os.path.join(\"models\", f\"RK-BGRU128-LR-Dense256-gelu-fs={fs}-cls={no_cls}\"),\n",
    "            run_name=f\"RK-BGRU128-LR-Dense256-gelu-fs={fs}-cls={no_cls}\",\n",
    "            max_lr=1e-4,\n",
    "            min_lr=2.5e-5,\n",
    "            T_max=101,\n",
    "            epochs=200,\n",
    "            mediapipe_features=\"reduced-LipsEyesHandsPose-scaled\",\n",
    "            USE_WANDB=True)"
   ]
  },
  {
   "cell_type": "code",
   "execution_count": null,
   "metadata": {},
   "outputs": [],
   "source": [
    "from tensorflow.keras import layers\n",
    "\n",
    "model = Sequential()\n",
    "#x,y,z -> y,z as the input shape\n",
    "model.add(layers.Bidirectional(layers.GRU(256, return_sequences=True, input_shape=X_shape,\n",
    "               kernel_regularizer=l2(0.0001), \n",
    "               activity_regularizer=l2(0.0001))))\n",
    "model.add(layers.Flatten())\n",
    "model.add(LeakyReLU(alpha=0.2))\n",
    "model.add(Dense(256, activation='gelu'))\n",
    "model.add(Dense(len(train_dataset_parquet.unique_labels), activation='softmax'))\n",
    "\n",
    "\n",
    "keras_train(model, filepath=os.path.join(\"models\", f\"RK-BGRU256-LR-Dense256-gelu-fs={fs}-cls={no_cls}\"),\n",
    "            run_name=f\"RK-BGRU256-LR-Dense256-gelu-fs={fs}-cls={no_cls}\",\n",
    "            max_lr=1e-4,\n",
    "            min_lr=2.5e-5,\n",
    "            T_max=101,\n",
    "            epochs=200,\n",
    "            mediapipe_features=\"reduced-LipsEyesHandsPose-scaled\",\n",
    "            USE_WANDB=True)"
   ]
  },
  {
   "cell_type": "markdown",
   "metadata": {},
   "source": [
    "# Transformer"
   ]
  },
  {
   "cell_type": "code",
   "execution_count": null,
   "metadata": {},
   "outputs": [],
   "source": [
    "X_shape = train_dataset_parquet[0][0].shape\n",
    "Y_shape = train_dataset_parquet[0][1].shape\n",
    "print(f\"X_shape = {X_shape}, Y_shape = {Y_shape}\")"
   ]
  },
  {
   "cell_type": "code",
   "execution_count": 26,
   "metadata": {},
   "outputs": [],
   "source": [
    "import tensorflow as tf\n",
    "from tensorflow import keras\n",
    "from tensorflow.keras import layers\n",
    "\n",
    "class TransformerBlock(layers.Layer):\n",
    "    def __init__(self, embed_dim, num_heads, ff_dim, rate=0.1):\n",
    "        super(TransformerBlock, self).__init__()\n",
    "        self.att = layers.MultiHeadAttention(num_heads=num_heads, key_dim=embed_dim)\n",
    "        self.ffn = keras.Sequential(\n",
    "            [layers.Dense(ff_dim, activation=\"relu\"), layers.Dense(embed_dim),]\n",
    "        )\n",
    "        self.layernorm1 = layers.LayerNormalization(epsilon=1e-6)\n",
    "        self.layernorm2 = layers.LayerNormalization(epsilon=1e-6)\n",
    "        self.dropout1 = layers.Dropout(rate)\n",
    "        self.dropout2 = layers.Dropout(rate)\n",
    "\n",
    "    def call(self, inputs):\n",
    "        attn_output = self.att(inputs, inputs)\n",
    "        attn_output = self.dropout1(attn_output)\n",
    "        out1 = self.layernorm1(inputs + attn_output)\n",
    "        ffn_output = self.ffn(out1)\n",
    "        ffn_output = self.dropout2(ffn_output)\n",
    "        return self.layernorm2(out1 + ffn_output)\n",
    "\n",
    "\n",
    "class TokenAndPositionEmbedding(layers.Layer):\n",
    "    def __init__(self, maxlen, embed_dim):\n",
    "        super(TokenAndPositionEmbedding, self).__init__()\n",
    "        self.pos_emb = layers.Embedding(input_dim=maxlen, output_dim=embed_dim)\n",
    "\n",
    "    def call(self, x):\n",
    "        maxlen = tf.shape(x)[1]\n",
    "        positions = tf.range(start=0, limit=maxlen, delta=1)\n",
    "        positions = self.pos_emb(positions)\n",
    "        return x + positions\n"
   ]
  },
  {
   "cell_type": "code",
   "execution_count": null,
   "metadata": {},
   "outputs": [],
   "source": [
    "embed_dim = 128  # Embedding size for each token\n",
    "num_heads = 4  # Number of attention heads\n",
    "ff_dim = 256  # Hidden layer size in feed forward network inside \n",
    "\n",
    "inputs = layers.Input(shape=X_shape)\n",
    "embedding_layer = TokenAndPositionEmbedding(X_shape[0], X_shape[1])\n",
    "x = embedding_layer(inputs)\n",
    "transformer_block = TransformerBlock(X_shape[1], num_heads, ff_dim)\n",
    "x = transformer_block(x)\n",
    "x = layers.GlobalAveragePooling1D()(x)\n",
    "x = layers.Dropout(0.1)(x)\n",
    "x = layers.Dense(128, activation=\"relu\")(x)\n",
    "x = layers.Dropout(0.1)(x)\n",
    "outputs = Dense(len(train_dataset_parquet.unique_labels), activation='softmax')(x)\n",
    "model = keras.Model(inputs=inputs, outputs=outputs)\n",
    "\n",
    "keras_train(model, filepath=os.path.join(\"models\", f\"Transformer-e={embed_dim}-h={num_heads}-ff={ff_dim}-D=0.1-Dense=128-LipsEyesHandsPose_5k.tf\"),\n",
    "            run_name=f\"Transformer-e={embed_dim}-h={num_heads}-ff={ff_dim}-D=0.1-Dense=128-LipsEyesHandsPose_5k\",\n",
    "                max_lr=1e-4,\n",
    "            min_lr=2.5e-5,\n",
    "            T_max=101,\n",
    "            epochs=200,\n",
    "            mediapipe_features=\"reduced-LipsEyesHandsPose-scaled\",\n",
    "            USE_WANDB=True)"
   ]
  },
  {
   "cell_type": "code",
   "execution_count": null,
   "metadata": {},
   "outputs": [],
   "source": [
    "embed_dim = 128  # Embedding size for each token\n",
    "num_heads = 2  # Number of attention heads\n",
    "ff_dim = 128  # Hidden layer size in feed forward network inside transformer\n",
    "\n",
    "inputs = layers.Input(shape=X_shape)\n",
    "embedding_layer = TokenAndPositionEmbedding(X_shape[0], X_shape[1])\n",
    "x = embedding_layer(inputs)\n",
    "transformer_block = TransformerBlock(X_shape[1], num_heads, ff_dim)\n",
    "x = transformer_block(x)\n",
    "x = layers.GlobalAveragePooling1D()(x)\n",
    "x = layers.Dropout(0.1)(x)\n",
    "x = layers.Dense(128, activation=\"gelu\")(x)\n",
    "x = layers.Dropout(0.1)(x)\n",
    "x = layers.Dense(256, activation=\"gelu\")(x)\n",
    "x = layers.Dropout(0.1)(x)\n",
    "outputs = Dense(len(train_dataset_parquet.unique_labels), activation='softmax')(x)\n",
    "model = keras.Model(inputs=inputs, outputs=outputs)\n",
    "\n",
    "keras_train(model, filepath=os.path.join(\"models\", f\"Transformer-embed={embed_dim}-heads={num_heads}-ff={ff_dim}-D=0.1-Dense=128-Dense=256-LipsEyesHandsPose_5k.tf\"),\n",
    "            run_name=\"Transformer-embed=128-heads=2-ff=128-D=0.1-Dense=128-Dense=256-LipsEyesHandsPose_5k\",\n",
    "            mediapipe_features=\"reduced-LipsEyesHandsPose\",\n",
    "            T_max=151, epochs=300, \n",
    "            max_lr = 3e-4, min_lr = 5e-5,\n",
    "            USE_WANDB=True)"
   ]
  },
  {
   "cell_type": "code",
   "execution_count": 27,
   "metadata": {},
   "outputs": [],
   "source": [
    "from keras import layers\n",
    "\n",
    "embed_dim = 64  # Embedding size for each token\n",
    "num_heads = 2  # Number of attention heads\n",
    "ff_dim = 128  # Hidden layer size in feed forward network inside transformer\n",
    "\n",
    "inputs = layers.Input(shape=X_shape)\n",
    "embedding_layer = TokenAndPositionEmbedding(X_shape[0], X_shape[1])\n",
    "x = embedding_layer(inputs)\n",
    "transformer_block = TransformerBlock(X_shape[1], num_heads, ff_dim)\n",
    "x = transformer_block(x)\n",
    "x = layers.GlobalAveragePooling1D()(x)\n",
    "x = layers.Dropout(0.2)(x)\n",
    "x = layers.Dense(256, activation=\"gelu\")(x)\n",
    "x = layers.Dropout(0.2)(x)\n",
    "outputs = layers.Dense(len(train_dataset_parquet.unique_labels), activation='softmax')(x)\n",
    "model = keras.Model(inputs=inputs, outputs=outputs)\n",
    "\n",
    "#keras_train(model, filepath=os.path.join(\"models\", f\"Transformer-embed={embed_dim}-heads={num_heads}-ff={ff_dim}-D=0.1-Dense=128-Dense=256-LipsEyesHandsPose_5k.tf\"),\n",
    "#            run_name=\"Transformer-embed=128-heads=2-ff=128-D=0.2-Dense=256-LipsEyesHandsPose_5k\",\n",
    "#            mediapipe_features=\"reduced-LipsEyesHandsPose\",\n",
    "#            T_max=151, epochs=300, \n",
    "#            max_lr = 3e-4, min_lr = 5e-5,\n",
    "#            USE_WANDB=True)"
   ]
  },
  {
   "cell_type": "code",
   "execution_count": 28,
   "metadata": {},
   "outputs": [
    {
     "data": {
      "text/html": [
       "<pre style=\"white-space:pre;overflow-x:auto;line-height:normal;font-family:Menlo,'DejaVu Sans Mono',consolas,'Courier New',monospace\"><span style=\"font-weight: bold\">Model: \"functional_2\"</span>\n",
       "</pre>\n"
      ],
      "text/plain": [
       "\u001b[1mModel: \"functional_2\"\u001b[0m\n"
      ]
     },
     "metadata": {},
     "output_type": "display_data"
    },
    {
     "data": {
      "text/html": [
       "<pre style=\"white-space:pre;overflow-x:auto;line-height:normal;font-family:Menlo,'DejaVu Sans Mono',consolas,'Courier New',monospace\">┏━━━━━━━━━━━━━━━━━━━━━━━━━━━━━━━━━┳━━━━━━━━━━━━━━━━━━━━━━━━┳━━━━━━━━━━━━━━━┓\n",
       "┃<span style=\"font-weight: bold\"> Layer (type)                    </span>┃<span style=\"font-weight: bold\"> Output Shape           </span>┃<span style=\"font-weight: bold\">       Param # </span>┃\n",
       "┡━━━━━━━━━━━━━━━━━━━━━━━━━━━━━━━━━╇━━━━━━━━━━━━━━━━━━━━━━━━╇━━━━━━━━━━━━━━━┩\n",
       "│ input_layer_3 (<span style=\"color: #0087ff; text-decoration-color: #0087ff\">InputLayer</span>)      │ (<span style=\"color: #00d7ff; text-decoration-color: #00d7ff\">None</span>, <span style=\"color: #00af00; text-decoration-color: #00af00\">36</span>, <span style=\"color: #00af00; text-decoration-color: #00af00\">396</span>)        │             <span style=\"color: #00af00; text-decoration-color: #00af00\">0</span> │\n",
       "├─────────────────────────────────┼────────────────────────┼───────────────┤\n",
       "│ token_and_position_embedding_2  │ (<span style=\"color: #00d7ff; text-decoration-color: #00d7ff\">None</span>, <span style=\"color: #00af00; text-decoration-color: #00af00\">36</span>, <span style=\"color: #00af00; text-decoration-color: #00af00\">396</span>)        │        <span style=\"color: #00af00; text-decoration-color: #00af00\">14,256</span> │\n",
       "│ (<span style=\"color: #0087ff; text-decoration-color: #0087ff\">TokenAndPositionEmbedding</span>)     │                        │               │\n",
       "├─────────────────────────────────┼────────────────────────┼───────────────┤\n",
       "│ transformer_block_2             │ (<span style=\"color: #00d7ff; text-decoration-color: #00d7ff\">None</span>, <span style=\"color: #00af00; text-decoration-color: #00af00\">36</span>, <span style=\"color: #00af00; text-decoration-color: #00af00\">396</span>)        │     <span style=\"color: #00af00; text-decoration-color: #00af00\">1,360,784</span> │\n",
       "│ (<span style=\"color: #0087ff; text-decoration-color: #0087ff\">TransformerBlock</span>)              │                        │               │\n",
       "├─────────────────────────────────┼────────────────────────┼───────────────┤\n",
       "│ global_average_pooling1d        │ (<span style=\"color: #00d7ff; text-decoration-color: #00d7ff\">None</span>, <span style=\"color: #00af00; text-decoration-color: #00af00\">396</span>)            │             <span style=\"color: #00af00; text-decoration-color: #00af00\">0</span> │\n",
       "│ (<span style=\"color: #0087ff; text-decoration-color: #0087ff\">GlobalAveragePooling1D</span>)        │                        │               │\n",
       "├─────────────────────────────────┼────────────────────────┼───────────────┤\n",
       "│ dropout_8 (<span style=\"color: #0087ff; text-decoration-color: #0087ff\">Dropout</span>)             │ (<span style=\"color: #00d7ff; text-decoration-color: #00d7ff\">None</span>, <span style=\"color: #00af00; text-decoration-color: #00af00\">396</span>)            │             <span style=\"color: #00af00; text-decoration-color: #00af00\">0</span> │\n",
       "├─────────────────────────────────┼────────────────────────┼───────────────┤\n",
       "│ dense_6 (<span style=\"color: #0087ff; text-decoration-color: #0087ff\">Dense</span>)                 │ (<span style=\"color: #00d7ff; text-decoration-color: #00d7ff\">None</span>, <span style=\"color: #00af00; text-decoration-color: #00af00\">256</span>)            │       <span style=\"color: #00af00; text-decoration-color: #00af00\">101,632</span> │\n",
       "├─────────────────────────────────┼────────────────────────┼───────────────┤\n",
       "│ dropout_9 (<span style=\"color: #0087ff; text-decoration-color: #0087ff\">Dropout</span>)             │ (<span style=\"color: #00d7ff; text-decoration-color: #00d7ff\">None</span>, <span style=\"color: #00af00; text-decoration-color: #00af00\">256</span>)            │             <span style=\"color: #00af00; text-decoration-color: #00af00\">0</span> │\n",
       "├─────────────────────────────────┼────────────────────────┼───────────────┤\n",
       "│ dense_7 (<span style=\"color: #0087ff; text-decoration-color: #0087ff\">Dense</span>)                 │ (<span style=\"color: #00d7ff; text-decoration-color: #00d7ff\">None</span>, <span style=\"color: #00af00; text-decoration-color: #00af00\">5</span>)              │         <span style=\"color: #00af00; text-decoration-color: #00af00\">1,285</span> │\n",
       "└─────────────────────────────────┴────────────────────────┴───────────────┘\n",
       "</pre>\n"
      ],
      "text/plain": [
       "┏━━━━━━━━━━━━━━━━━━━━━━━━━━━━━━━━━┳━━━━━━━━━━━━━━━━━━━━━━━━┳━━━━━━━━━━━━━━━┓\n",
       "┃\u001b[1m \u001b[0m\u001b[1mLayer (type)                   \u001b[0m\u001b[1m \u001b[0m┃\u001b[1m \u001b[0m\u001b[1mOutput Shape          \u001b[0m\u001b[1m \u001b[0m┃\u001b[1m \u001b[0m\u001b[1m      Param #\u001b[0m\u001b[1m \u001b[0m┃\n",
       "┡━━━━━━━━━━━━━━━━━━━━━━━━━━━━━━━━━╇━━━━━━━━━━━━━━━━━━━━━━━━╇━━━━━━━━━━━━━━━┩\n",
       "│ input_layer_3 (\u001b[38;5;33mInputLayer\u001b[0m)      │ (\u001b[38;5;45mNone\u001b[0m, \u001b[38;5;34m36\u001b[0m, \u001b[38;5;34m396\u001b[0m)        │             \u001b[38;5;34m0\u001b[0m │\n",
       "├─────────────────────────────────┼────────────────────────┼───────────────┤\n",
       "│ token_and_position_embedding_2  │ (\u001b[38;5;45mNone\u001b[0m, \u001b[38;5;34m36\u001b[0m, \u001b[38;5;34m396\u001b[0m)        │        \u001b[38;5;34m14,256\u001b[0m │\n",
       "│ (\u001b[38;5;33mTokenAndPositionEmbedding\u001b[0m)     │                        │               │\n",
       "├─────────────────────────────────┼────────────────────────┼───────────────┤\n",
       "│ transformer_block_2             │ (\u001b[38;5;45mNone\u001b[0m, \u001b[38;5;34m36\u001b[0m, \u001b[38;5;34m396\u001b[0m)        │     \u001b[38;5;34m1,360,784\u001b[0m │\n",
       "│ (\u001b[38;5;33mTransformerBlock\u001b[0m)              │                        │               │\n",
       "├─────────────────────────────────┼────────────────────────┼───────────────┤\n",
       "│ global_average_pooling1d        │ (\u001b[38;5;45mNone\u001b[0m, \u001b[38;5;34m396\u001b[0m)            │             \u001b[38;5;34m0\u001b[0m │\n",
       "│ (\u001b[38;5;33mGlobalAveragePooling1D\u001b[0m)        │                        │               │\n",
       "├─────────────────────────────────┼────────────────────────┼───────────────┤\n",
       "│ dropout_8 (\u001b[38;5;33mDropout\u001b[0m)             │ (\u001b[38;5;45mNone\u001b[0m, \u001b[38;5;34m396\u001b[0m)            │             \u001b[38;5;34m0\u001b[0m │\n",
       "├─────────────────────────────────┼────────────────────────┼───────────────┤\n",
       "│ dense_6 (\u001b[38;5;33mDense\u001b[0m)                 │ (\u001b[38;5;45mNone\u001b[0m, \u001b[38;5;34m256\u001b[0m)            │       \u001b[38;5;34m101,632\u001b[0m │\n",
       "├─────────────────────────────────┼────────────────────────┼───────────────┤\n",
       "│ dropout_9 (\u001b[38;5;33mDropout\u001b[0m)             │ (\u001b[38;5;45mNone\u001b[0m, \u001b[38;5;34m256\u001b[0m)            │             \u001b[38;5;34m0\u001b[0m │\n",
       "├─────────────────────────────────┼────────────────────────┼───────────────┤\n",
       "│ dense_7 (\u001b[38;5;33mDense\u001b[0m)                 │ (\u001b[38;5;45mNone\u001b[0m, \u001b[38;5;34m5\u001b[0m)              │         \u001b[38;5;34m1,285\u001b[0m │\n",
       "└─────────────────────────────────┴────────────────────────┴───────────────┘\n"
      ]
     },
     "metadata": {},
     "output_type": "display_data"
    },
    {
     "data": {
      "text/html": [
       "<pre style=\"white-space:pre;overflow-x:auto;line-height:normal;font-family:Menlo,'DejaVu Sans Mono',consolas,'Courier New',monospace\"><span style=\"font-weight: bold\"> Total params: </span><span style=\"color: #00af00; text-decoration-color: #00af00\">1,477,957</span> (5.64 MB)\n",
       "</pre>\n"
      ],
      "text/plain": [
       "\u001b[1m Total params: \u001b[0m\u001b[38;5;34m1,477,957\u001b[0m (5.64 MB)\n"
      ]
     },
     "metadata": {},
     "output_type": "display_data"
    },
    {
     "data": {
      "text/html": [
       "<pre style=\"white-space:pre;overflow-x:auto;line-height:normal;font-family:Menlo,'DejaVu Sans Mono',consolas,'Courier New',monospace\"><span style=\"font-weight: bold\"> Trainable params: </span><span style=\"color: #00af00; text-decoration-color: #00af00\">1,477,957</span> (5.64 MB)\n",
       "</pre>\n"
      ],
      "text/plain": [
       "\u001b[1m Trainable params: \u001b[0m\u001b[38;5;34m1,477,957\u001b[0m (5.64 MB)\n"
      ]
     },
     "metadata": {},
     "output_type": "display_data"
    },
    {
     "data": {
      "text/html": [
       "<pre style=\"white-space:pre;overflow-x:auto;line-height:normal;font-family:Menlo,'DejaVu Sans Mono',consolas,'Courier New',monospace\"><span style=\"font-weight: bold\"> Non-trainable params: </span><span style=\"color: #00af00; text-decoration-color: #00af00\">0</span> (0.00 B)\n",
       "</pre>\n"
      ],
      "text/plain": [
       "\u001b[1m Non-trainable params: \u001b[0m\u001b[38;5;34m0\u001b[0m (0.00 B)\n"
      ]
     },
     "metadata": {},
     "output_type": "display_data"
    }
   ],
   "source": [
    "model.summary()"
   ]
  },
  {
   "cell_type": "code",
   "execution_count": null,
   "metadata": {},
   "outputs": [],
   "source": []
  }
 ],
 "metadata": {
  "kaggle": {
   "accelerator": "none",
   "dataSources": [
    {
     "databundleVersionId": 5087314,
     "sourceId": 46105,
     "sourceType": "competition"
    }
   ],
   "dockerImageVersionId": 30673,
   "isGpuEnabled": false,
   "isInternetEnabled": true,
   "language": "python",
   "sourceType": "notebook"
  },
  "kernelspec": {
   "display_name": "Python 3 (ipykernel)",
   "language": "python",
   "name": "python3"
  },
  "language_info": {
   "codemirror_mode": {
    "name": "ipython",
    "version": 3
   },
   "file_extension": ".py",
   "mimetype": "text/x-python",
   "name": "python",
   "nbconvert_exporter": "python",
   "pygments_lexer": "ipython3",
   "version": "3.11.7"
  }
 },
 "nbformat": 4,
 "nbformat_minor": 4
}
