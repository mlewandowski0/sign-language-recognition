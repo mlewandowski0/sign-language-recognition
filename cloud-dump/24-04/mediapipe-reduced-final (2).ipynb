{
 "cells": [
  {
   "cell_type": "code",
   "execution_count": 1,
   "metadata": {
    "ExecuteTime": {
     "end_time": "2024-04-22T23:04:54.233139Z",
     "start_time": "2024-04-22T23:04:47.040055Z"
    }
   },
   "outputs": [
    {
     "name": "stdout",
     "output_type": "stream",
     "text": [
      "Collecting opencv-python\n",
      "  Obtaining dependency information for opencv-python from https://files.pythonhosted.org/packages/d9/64/7fdfb9386511cd6805451e012c537073a79a958a58795c4e602e538c388c/opencv_python-4.9.0.80-cp37-abi3-manylinux_2_17_x86_64.manylinux2014_x86_64.whl.metadata\n",
      "  Downloading opencv_python-4.9.0.80-cp37-abi3-manylinux_2_17_x86_64.manylinux2014_x86_64.whl.metadata (20 kB)\n",
      "Requirement already satisfied: numpy in /usr/local/lib/python3.11/dist-packages (1.26.0)\n",
      "Requirement already satisfied: tensorflow in /usr/local/lib/python3.11/dist-packages (2.14.0)\n",
      "Collecting scikit-learn\n",
      "  Obtaining dependency information for scikit-learn from https://files.pythonhosted.org/packages/4e/53/14405a47292b59235d811a2af8634aba188ccfd1a38ef4b8042f3447d79a/scikit_learn-1.4.2-cp311-cp311-manylinux_2_17_x86_64.manylinux2014_x86_64.whl.metadata\n",
      "  Downloading scikit_learn-1.4.2-cp311-cp311-manylinux_2_17_x86_64.manylinux2014_x86_64.whl.metadata (11 kB)\n",
      "Requirement already satisfied: matplotlib in /usr/local/lib/python3.11/dist-packages (3.8.0)\n",
      "Collecting wandb\n",
      "  Obtaining dependency information for wandb from https://files.pythonhosted.org/packages/8b/8d/bb05a4ecdeac6b2256d98ac10bae8723af5d7a8c1a4c2384b3ae0f80370e/wandb-0.16.6-py3-none-any.whl.metadata\n",
      "  Downloading wandb-0.16.6-py3-none-any.whl.metadata (10 kB)\n",
      "Collecting tdqm\n",
      "  Downloading tdqm-0.0.1.tar.gz (1.4 kB)\n",
      "  Preparing metadata (setup.py) ... \u001b[?25ldone\n",
      "\u001b[?25hCollecting wurlitzer\n",
      "  Obtaining dependency information for wurlitzer from https://files.pythonhosted.org/packages/28/69/9d913bc2f85305c4eaf078fb22fd4828182b33189c1e78f2256ae27eaacb/wurlitzer-3.0.3-py3-none-any.whl.metadata\n",
      "  Downloading wurlitzer-3.0.3-py3-none-any.whl.metadata (1.9 kB)\n",
      "Collecting pandas\n",
      "  Obtaining dependency information for pandas from https://files.pythonhosted.org/packages/fc/a5/4d82be566f069d7a9a702dcdf6f9106df0e0b042e738043c0cc7ddd7e3f6/pandas-2.2.2-cp311-cp311-manylinux_2_17_x86_64.manylinux2014_x86_64.whl.metadata\n",
      "  Downloading pandas-2.2.2-cp311-cp311-manylinux_2_17_x86_64.manylinux2014_x86_64.whl.metadata (19 kB)\n",
      "Collecting plotly\n",
      "  Obtaining dependency information for plotly from https://files.pythonhosted.org/packages/04/e5/04cf049c08975e016da446356a47566889be8b6cf88ed45045774f5bf112/plotly-5.21.0-py3-none-any.whl.metadata\n",
      "  Downloading plotly-5.21.0-py3-none-any.whl.metadata (7.1 kB)\n",
      "Collecting pyarrow\n",
      "  Obtaining dependency information for pyarrow from https://files.pythonhosted.org/packages/d5/73/d5588e2bd671aabe02e1e11b12966fa1a066767b20340885964f5d4e1862/pyarrow-16.0.0-cp311-cp311-manylinux_2_28_x86_64.whl.metadata\n",
      "  Downloading pyarrow-16.0.0-cp311-cp311-manylinux_2_28_x86_64.whl.metadata (3.0 kB)\n",
      "Requirement already satisfied: absl-py>=1.0.0 in /usr/local/lib/python3.11/dist-packages (from tensorflow) (2.0.0)\n",
      "Requirement already satisfied: astunparse>=1.6.0 in /usr/local/lib/python3.11/dist-packages (from tensorflow) (1.6.3)\n",
      "Requirement already satisfied: flatbuffers>=23.5.26 in /usr/local/lib/python3.11/dist-packages (from tensorflow) (23.5.26)\n",
      "Requirement already satisfied: gast!=0.5.0,!=0.5.1,!=0.5.2,>=0.2.1 in /usr/local/lib/python3.11/dist-packages (from tensorflow) (0.5.4)\n",
      "Requirement already satisfied: google-pasta>=0.1.1 in /usr/local/lib/python3.11/dist-packages (from tensorflow) (0.2.0)\n",
      "Requirement already satisfied: h5py>=2.9.0 in /usr/local/lib/python3.11/dist-packages (from tensorflow) (3.9.0)\n",
      "Requirement already satisfied: libclang>=13.0.0 in /usr/local/lib/python3.11/dist-packages (from tensorflow) (16.0.6)\n",
      "Requirement already satisfied: ml-dtypes==0.2.0 in /usr/local/lib/python3.11/dist-packages (from tensorflow) (0.2.0)\n",
      "Requirement already satisfied: opt-einsum>=2.3.2 in /usr/local/lib/python3.11/dist-packages (from tensorflow) (3.3.0)\n",
      "Requirement already satisfied: packaging in /usr/local/lib/python3.11/dist-packages (from tensorflow) (23.1)\n",
      "Requirement already satisfied: protobuf!=4.21.0,!=4.21.1,!=4.21.2,!=4.21.3,!=4.21.4,!=4.21.5,<5.0.0dev,>=3.20.3 in /usr/local/lib/python3.11/dist-packages (from tensorflow) (4.24.3)\n",
      "Requirement already satisfied: setuptools in /usr/local/lib/python3.11/dist-packages (from tensorflow) (68.2.2)\n",
      "Requirement already satisfied: six>=1.12.0 in /usr/lib/python3/dist-packages (from tensorflow) (1.16.0)\n",
      "Requirement already satisfied: termcolor>=1.1.0 in /usr/local/lib/python3.11/dist-packages (from tensorflow) (2.3.0)\n",
      "Requirement already satisfied: typing-extensions>=3.6.6 in /usr/local/lib/python3.11/dist-packages (from tensorflow) (4.8.0)\n",
      "Requirement already satisfied: wrapt<1.15,>=1.11.0 in /usr/local/lib/python3.11/dist-packages (from tensorflow) (1.14.1)\n",
      "Requirement already satisfied: tensorflow-io-gcs-filesystem>=0.23.1 in /usr/local/lib/python3.11/dist-packages (from tensorflow) (0.34.0)\n",
      "Requirement already satisfied: grpcio<2.0,>=1.24.3 in /usr/local/lib/python3.11/dist-packages (from tensorflow) (1.58.0)\n",
      "Requirement already satisfied: tensorboard<2.15,>=2.14 in /usr/local/lib/python3.11/dist-packages (from tensorflow) (2.14.0)\n",
      "Requirement already satisfied: tensorflow-estimator<2.15,>=2.14.0 in /usr/local/lib/python3.11/dist-packages (from tensorflow) (2.14.0)\n",
      "Requirement already satisfied: keras<2.15,>=2.14.0 in /usr/local/lib/python3.11/dist-packages (from tensorflow) (2.14.0)\n",
      "Collecting scipy>=1.6.0 (from scikit-learn)\n",
      "  Obtaining dependency information for scipy>=1.6.0 from https://files.pythonhosted.org/packages/e8/fb/e5955e2ddbdf2baee461eb53ec8d0adedd20a6dfc5510ef8d5e7e44ba461/scipy-1.13.0-cp311-cp311-manylinux_2_17_x86_64.manylinux2014_x86_64.whl.metadata\n",
      "  Downloading scipy-1.13.0-cp311-cp311-manylinux_2_17_x86_64.manylinux2014_x86_64.whl.metadata (60 kB)\n",
      "\u001b[2K     \u001b[90m━━━━━━━━━━━━━━━━━━━━━━━━━━━━━━━━━━━━━━━━\u001b[0m \u001b[32m60.6/60.6 kB\u001b[0m \u001b[31m3.9 MB/s\u001b[0m eta \u001b[36m0:00:00\u001b[0m\n",
      "\u001b[?25hCollecting joblib>=1.2.0 (from scikit-learn)\n",
      "  Obtaining dependency information for joblib>=1.2.0 from https://files.pythonhosted.org/packages/ae/e2/4dea6313ef2b38442fccbbaf4017e50a6c3c8a50e8ee9b512783e5c90409/joblib-1.4.0-py3-none-any.whl.metadata\n",
      "  Downloading joblib-1.4.0-py3-none-any.whl.metadata (5.4 kB)\n",
      "Collecting threadpoolctl>=2.0.0 (from scikit-learn)\n",
      "  Obtaining dependency information for threadpoolctl>=2.0.0 from https://files.pythonhosted.org/packages/1e/84/ccd9b08653022b7785b6e3ee070ffb2825841e0dc119be22f0840b2b35cb/threadpoolctl-3.4.0-py3-none-any.whl.metadata\n",
      "  Downloading threadpoolctl-3.4.0-py3-none-any.whl.metadata (13 kB)\n",
      "Requirement already satisfied: contourpy>=1.0.1 in /usr/local/lib/python3.11/dist-packages (from matplotlib) (1.1.1)\n",
      "Requirement already satisfied: cycler>=0.10 in /usr/local/lib/python3.11/dist-packages (from matplotlib) (0.11.0)\n",
      "Requirement already satisfied: fonttools>=4.22.0 in /usr/local/lib/python3.11/dist-packages (from matplotlib) (4.42.1)\n",
      "Requirement already satisfied: kiwisolver>=1.0.1 in /usr/local/lib/python3.11/dist-packages (from matplotlib) (1.4.5)\n",
      "Requirement already satisfied: pillow>=6.2.0 in /usr/local/lib/python3.11/dist-packages (from matplotlib) (10.0.1)\n",
      "Requirement already satisfied: pyparsing>=2.3.1 in /usr/lib/python3/dist-packages (from matplotlib) (2.4.7)\n",
      "Requirement already satisfied: python-dateutil>=2.7 in /usr/local/lib/python3.11/dist-packages (from matplotlib) (2.8.2)\n",
      "Collecting Click!=8.0.0,>=7.1 (from wandb)\n",
      "  Obtaining dependency information for Click!=8.0.0,>=7.1 from https://files.pythonhosted.org/packages/00/2e/d53fa4befbf2cfa713304affc7ca780ce4fc1fd8710527771b58311a3229/click-8.1.7-py3-none-any.whl.metadata\n",
      "  Downloading click-8.1.7-py3-none-any.whl.metadata (3.0 kB)\n",
      "Collecting GitPython!=3.1.29,>=1.0.0 (from wandb)\n",
      "  Obtaining dependency information for GitPython!=3.1.29,>=1.0.0 from https://files.pythonhosted.org/packages/e9/bd/cc3a402a6439c15c3d4294333e13042b915bbeab54edc457c723931fed3f/GitPython-3.1.43-py3-none-any.whl.metadata\n",
      "  Downloading GitPython-3.1.43-py3-none-any.whl.metadata (13 kB)\n",
      "Requirement already satisfied: requests<3,>=2.0.0 in /usr/local/lib/python3.11/dist-packages (from wandb) (2.31.0)\n",
      "Requirement already satisfied: psutil>=5.0.0 in /usr/local/lib/python3.11/dist-packages (from wandb) (5.9.5)\n",
      "Collecting sentry-sdk>=1.0.0 (from wandb)\n",
      "  Obtaining dependency information for sentry-sdk>=1.0.0 from https://files.pythonhosted.org/packages/b7/26/cf87e98fb7fa5781c40474970a76d40b04289b949c0a327b719336aa5bca/sentry_sdk-1.45.0-py2.py3-none-any.whl.metadata\n",
      "  Downloading sentry_sdk-1.45.0-py2.py3-none-any.whl.metadata (9.9 kB)\n",
      "Collecting docker-pycreds>=0.4.0 (from wandb)\n",
      "  Obtaining dependency information for docker-pycreds>=0.4.0 from https://files.pythonhosted.org/packages/f5/e8/f6bd1eee09314e7e6dee49cbe2c5e22314ccdb38db16c9fc72d2fa80d054/docker_pycreds-0.4.0-py2.py3-none-any.whl.metadata\n",
      "  Downloading docker_pycreds-0.4.0-py2.py3-none-any.whl.metadata (1.8 kB)\n",
      "Requirement already satisfied: PyYAML in /usr/local/lib/python3.11/dist-packages (from wandb) (6.0.1)\n",
      "Collecting setproctitle (from wandb)\n",
      "  Obtaining dependency information for setproctitle from https://files.pythonhosted.org/packages/fd/df/44b267cb8f073a4ae77e120f0705ab3a07165ad90cecd4881b34c7e1e37b/setproctitle-1.3.3-cp311-cp311-manylinux_2_5_x86_64.manylinux1_x86_64.manylinux_2_17_x86_64.manylinux2014_x86_64.whl.metadata\n",
      "  Downloading setproctitle-1.3.3-cp311-cp311-manylinux_2_5_x86_64.manylinux1_x86_64.manylinux_2_17_x86_64.manylinux2014_x86_64.whl.metadata (9.9 kB)\n",
      "Collecting appdirs>=1.4.3 (from wandb)\n",
      "  Obtaining dependency information for appdirs>=1.4.3 from https://files.pythonhosted.org/packages/3b/00/2344469e2084fb287c2e0b57b72910309874c3245463acd6cf5e3db69324/appdirs-1.4.4-py2.py3-none-any.whl.metadata\n",
      "  Downloading appdirs-1.4.4-py2.py3-none-any.whl.metadata (9.0 kB)\n",
      "Collecting tqdm (from tdqm)\n",
      "  Obtaining dependency information for tqdm from https://files.pythonhosted.org/packages/2a/14/e75e52d521442e2fcc9f1df3c5e456aead034203d4797867980de558ab34/tqdm-4.66.2-py3-none-any.whl.metadata\n",
      "  Downloading tqdm-4.66.2-py3-none-any.whl.metadata (57 kB)\n",
      "\u001b[2K     \u001b[90m━━━━━━━━━━━━━━━━━━━━━━━━━━━━━━━━━━━━━━━━\u001b[0m \u001b[32m57.6/57.6 kB\u001b[0m \u001b[31m31.4 MB/s\u001b[0m eta \u001b[36m0:00:00\u001b[0m\n",
      "\u001b[?25hCollecting pytz>=2020.1 (from pandas)\n",
      "  Obtaining dependency information for pytz>=2020.1 from https://files.pythonhosted.org/packages/9c/3d/a121f284241f08268b21359bd425f7d4825cffc5ac5cd0e1b3d82ffd2b10/pytz-2024.1-py2.py3-none-any.whl.metadata\n",
      "  Downloading pytz-2024.1-py2.py3-none-any.whl.metadata (22 kB)\n",
      "Collecting tzdata>=2022.7 (from pandas)\n",
      "  Obtaining dependency information for tzdata>=2022.7 from https://files.pythonhosted.org/packages/65/58/f9c9e6be752e9fcb8b6a0ee9fb87e6e7a1f6bcab2cdc73f02bb7ba91ada0/tzdata-2024.1-py2.py3-none-any.whl.metadata\n",
      "  Downloading tzdata-2024.1-py2.py3-none-any.whl.metadata (1.4 kB)\n",
      "Collecting tenacity>=6.2.0 (from plotly)\n",
      "  Obtaining dependency information for tenacity>=6.2.0 from https://files.pythonhosted.org/packages/f4/f1/990741d5bb2487d529d20a433210ffa136a367751e454214013b441c4575/tenacity-8.2.3-py3-none-any.whl.metadata\n",
      "  Downloading tenacity-8.2.3-py3-none-any.whl.metadata (1.0 kB)\n",
      "Requirement already satisfied: wheel<1.0,>=0.23.0 in /usr/local/lib/python3.11/dist-packages (from astunparse>=1.6.0->tensorflow) (0.41.2)\n",
      "Collecting gitdb<5,>=4.0.1 (from GitPython!=3.1.29,>=1.0.0->wandb)\n",
      "  Obtaining dependency information for gitdb<5,>=4.0.1 from https://files.pythonhosted.org/packages/fd/5b/8f0c4a5bb9fd491c277c21eff7ccae71b47d43c4446c9d0c6cff2fe8c2c4/gitdb-4.0.11-py3-none-any.whl.metadata\n",
      "  Downloading gitdb-4.0.11-py3-none-any.whl.metadata (1.2 kB)\n",
      "Requirement already satisfied: charset-normalizer<4,>=2 in /usr/local/lib/python3.11/dist-packages (from requests<3,>=2.0.0->wandb) (3.2.0)\n",
      "Requirement already satisfied: idna<4,>=2.5 in /usr/local/lib/python3.11/dist-packages (from requests<3,>=2.0.0->wandb) (3.4)\n",
      "Requirement already satisfied: urllib3<3,>=1.21.1 in /usr/local/lib/python3.11/dist-packages (from requests<3,>=2.0.0->wandb) (2.0.5)\n",
      "Requirement already satisfied: certifi>=2017.4.17 in /usr/local/lib/python3.11/dist-packages (from requests<3,>=2.0.0->wandb) (2023.7.22)\n",
      "Requirement already satisfied: google-auth<3,>=1.6.3 in /usr/local/lib/python3.11/dist-packages (from tensorboard<2.15,>=2.14->tensorflow) (2.23.1)\n",
      "Requirement already satisfied: google-auth-oauthlib<1.1,>=0.5 in /usr/local/lib/python3.11/dist-packages (from tensorboard<2.15,>=2.14->tensorflow) (1.0.0)\n",
      "Requirement already satisfied: markdown>=2.6.8 in /usr/local/lib/python3.11/dist-packages (from tensorboard<2.15,>=2.14->tensorflow) (3.4.4)\n",
      "Requirement already satisfied: tensorboard-data-server<0.8.0,>=0.7.0 in /usr/local/lib/python3.11/dist-packages (from tensorboard<2.15,>=2.14->tensorflow) (0.7.1)\n",
      "Requirement already satisfied: werkzeug>=1.0.1 in /usr/local/lib/python3.11/dist-packages (from tensorboard<2.15,>=2.14->tensorflow) (2.3.7)\n",
      "Collecting smmap<6,>=3.0.1 (from gitdb<5,>=4.0.1->GitPython!=3.1.29,>=1.0.0->wandb)\n",
      "  Obtaining dependency information for smmap<6,>=3.0.1 from https://files.pythonhosted.org/packages/a7/a5/10f97f73544edcdef54409f1d839f6049a0d79df68adbc1ceb24d1aaca42/smmap-5.0.1-py3-none-any.whl.metadata\n",
      "  Downloading smmap-5.0.1-py3-none-any.whl.metadata (4.3 kB)\n",
      "Requirement already satisfied: cachetools<6.0,>=2.0.0 in /usr/local/lib/python3.11/dist-packages (from google-auth<3,>=1.6.3->tensorboard<2.15,>=2.14->tensorflow) (5.3.1)\n",
      "Requirement already satisfied: pyasn1-modules>=0.2.1 in /usr/local/lib/python3.11/dist-packages (from google-auth<3,>=1.6.3->tensorboard<2.15,>=2.14->tensorflow) (0.3.0)\n",
      "Requirement already satisfied: rsa<5,>=3.1.4 in /usr/local/lib/python3.11/dist-packages (from google-auth<3,>=1.6.3->tensorboard<2.15,>=2.14->tensorflow) (4.9)\n",
      "Requirement already satisfied: requests-oauthlib>=0.7.0 in /usr/local/lib/python3.11/dist-packages (from google-auth-oauthlib<1.1,>=0.5->tensorboard<2.15,>=2.14->tensorflow) (1.3.1)\n",
      "Requirement already satisfied: MarkupSafe>=2.1.1 in /usr/local/lib/python3.11/dist-packages (from werkzeug>=1.0.1->tensorboard<2.15,>=2.14->tensorflow) (2.1.3)\n",
      "Requirement already satisfied: pyasn1<0.6.0,>=0.4.6 in /usr/local/lib/python3.11/dist-packages (from pyasn1-modules>=0.2.1->google-auth<3,>=1.6.3->tensorboard<2.15,>=2.14->tensorflow) (0.5.0)\n",
      "Requirement already satisfied: oauthlib>=3.0.0 in /usr/lib/python3/dist-packages (from requests-oauthlib>=0.7.0->google-auth-oauthlib<1.1,>=0.5->tensorboard<2.15,>=2.14->tensorflow) (3.2.0)\n",
      "Downloading opencv_python-4.9.0.80-cp37-abi3-manylinux_2_17_x86_64.manylinux2014_x86_64.whl (62.2 MB)\n",
      "\u001b[2K   \u001b[90m━━━━━━━━━━━━━━━━━━━━━━━━━━━━━━━━━━━━━━━━\u001b[0m \u001b[32m62.2/62.2 MB\u001b[0m \u001b[31m55.0 MB/s\u001b[0m eta \u001b[36m0:00:00\u001b[0m:00:01\u001b[0m00:01\u001b[0m\n",
      "\u001b[?25hDownloading scikit_learn-1.4.2-cp311-cp311-manylinux_2_17_x86_64.manylinux2014_x86_64.whl (12.1 MB)\n",
      "\u001b[2K   \u001b[90m━━━━━━━━━━━━━━━━━━━━━━━━━━━━━━━━━━━━━━━━\u001b[0m \u001b[32m12.1/12.1 MB\u001b[0m \u001b[31m79.3 MB/s\u001b[0m eta \u001b[36m0:00:00\u001b[0m:00:01\u001b[0m00:01\u001b[0m\n",
      "\u001b[?25hDownloading wandb-0.16.6-py3-none-any.whl (2.2 MB)\n",
      "\u001b[2K   \u001b[90m━━━━━━━━━━━━━━━━━━━━━━━━━━━━━━━━━━━━━━━━\u001b[0m \u001b[32m2.2/2.2 MB\u001b[0m \u001b[31m91.1 MB/s\u001b[0m eta \u001b[36m0:00:00\u001b[0m\n",
      "\u001b[?25hDownloading wurlitzer-3.0.3-py3-none-any.whl (7.3 kB)\n",
      "Downloading pandas-2.2.2-cp311-cp311-manylinux_2_17_x86_64.manylinux2014_x86_64.whl (13.0 MB)\n",
      "\u001b[2K   \u001b[90m━━━━━━━━━━━━━━━━━━━━━━━━━━━━━━━━━━━━━━━━\u001b[0m \u001b[32m13.0/13.0 MB\u001b[0m \u001b[31m63.3 MB/s\u001b[0m eta \u001b[36m0:00:00\u001b[0m00:01\u001b[0m0:01\u001b[0m\n",
      "\u001b[?25hDownloading plotly-5.21.0-py3-none-any.whl (15.7 MB)\n",
      "\u001b[2K   \u001b[90m━━━━━━━━━━━━━━━━━━━━━━━━━━━━━━━━━━━━━━━━\u001b[0m \u001b[32m15.7/15.7 MB\u001b[0m \u001b[31m78.6 MB/s\u001b[0m eta \u001b[36m0:00:00\u001b[0m:00:01\u001b[0m00:01\u001b[0m\n",
      "\u001b[?25hDownloading pyarrow-16.0.0-cp311-cp311-manylinux_2_28_x86_64.whl (40.8 MB)\n",
      "\u001b[2K   \u001b[90m━━━━━━━━━━━━━━━━━━━━━━━━━━━━━━━━━━━━━━━━\u001b[0m \u001b[32m40.8/40.8 MB\u001b[0m \u001b[31m66.5 MB/s\u001b[0m eta \u001b[36m0:00:00\u001b[0m:00:01\u001b[0m00:01\u001b[0m\n",
      "\u001b[?25hDownloading appdirs-1.4.4-py2.py3-none-any.whl (9.6 kB)\n",
      "Downloading click-8.1.7-py3-none-any.whl (97 kB)\n",
      "\u001b[2K   \u001b[90m━━━━━━━━━━━━━━━━━━━━━━━━━━━━━━━━━━━━━━━━\u001b[0m \u001b[32m97.9/97.9 kB\u001b[0m \u001b[31m57.4 MB/s\u001b[0m eta \u001b[36m0:00:00\u001b[0m\n",
      "\u001b[?25hDownloading docker_pycreds-0.4.0-py2.py3-none-any.whl (9.0 kB)\n",
      "Downloading GitPython-3.1.43-py3-none-any.whl (207 kB)\n",
      "\u001b[2K   \u001b[90m━━━━━━━━━━━━━━━━━━━━━━━━━━━━━━━━━━━━━━━━\u001b[0m \u001b[32m207.3/207.3 kB\u001b[0m \u001b[31m20.1 MB/s\u001b[0m eta \u001b[36m0:00:00\u001b[0m\n",
      "\u001b[?25hDownloading joblib-1.4.0-py3-none-any.whl (301 kB)\n",
      "\u001b[2K   \u001b[90m━━━━━━━━━━━━━━━━━━━━━━━━━━━━━━━━━━━━━━━\u001b[0m \u001b[32m301.2/301.2 kB\u001b[0m \u001b[31m109.5 MB/s\u001b[0m eta \u001b[36m0:00:00\u001b[0m\n",
      "\u001b[?25hDownloading pytz-2024.1-py2.py3-none-any.whl (505 kB)\n",
      "\u001b[2K   \u001b[90m━━━━━━━━━━━━━━━━━━━━━━━━━━━━━━━━━━━━━━━\u001b[0m \u001b[32m505.5/505.5 kB\u001b[0m \u001b[31m104.6 MB/s\u001b[0m eta \u001b[36m0:00:00\u001b[0m\n",
      "\u001b[?25hDownloading scipy-1.13.0-cp311-cp311-manylinux_2_17_x86_64.manylinux2014_x86_64.whl (38.6 MB)\n",
      "\u001b[2K   \u001b[90m━━━━━━━━━━━━━━━━━━━━━━━━━━━━━━━━━━━━━━━━\u001b[0m \u001b[32m38.6/38.6 MB\u001b[0m \u001b[31m65.1 MB/s\u001b[0m eta \u001b[36m0:00:00\u001b[0m:00:01\u001b[0m00:01\u001b[0m\n",
      "\u001b[?25hDownloading sentry_sdk-1.45.0-py2.py3-none-any.whl (267 kB)\n",
      "\u001b[2K   \u001b[90m━━━━━━━━━━━━━━━━━━━━━━━━━━━━━━━━━━━━━━━\u001b[0m \u001b[32m267.1/267.1 kB\u001b[0m \u001b[31m108.8 MB/s\u001b[0m eta \u001b[36m0:00:00\u001b[0m\n",
      "\u001b[?25hDownloading tenacity-8.2.3-py3-none-any.whl (24 kB)\n",
      "Downloading threadpoolctl-3.4.0-py3-none-any.whl (17 kB)\n",
      "Downloading tzdata-2024.1-py2.py3-none-any.whl (345 kB)\n",
      "\u001b[2K   \u001b[90m━━━━━━━━━━━━━━━━━━━━━━━━━━━━━━━━━━━━━━━━\u001b[0m \u001b[32m345.4/345.4 kB\u001b[0m \u001b[31m83.9 MB/s\u001b[0m eta \u001b[36m0:00:00\u001b[0m\n",
      "\u001b[?25hDownloading setproctitle-1.3.3-cp311-cp311-manylinux_2_5_x86_64.manylinux1_x86_64.manylinux_2_17_x86_64.manylinux2014_x86_64.whl (31 kB)\n",
      "Downloading tqdm-4.66.2-py3-none-any.whl (78 kB)\n",
      "\u001b[2K   \u001b[90m━━━━━━━━━━━━━━━━━━━━━━━━━━━━━━━━━━━━━━━━\u001b[0m \u001b[32m78.3/78.3 kB\u001b[0m \u001b[31m39.9 MB/s\u001b[0m eta \u001b[36m0:00:00\u001b[0m\n",
      "\u001b[?25hDownloading gitdb-4.0.11-py3-none-any.whl (62 kB)\n",
      "\u001b[2K   \u001b[90m━━━━━━━━━━━━━━━━━━━━━━━━━━━━━━━━━━━━━━━━\u001b[0m \u001b[32m62.7/62.7 kB\u001b[0m \u001b[31m43.5 MB/s\u001b[0m eta \u001b[36m0:00:00\u001b[0m\n",
      "\u001b[?25hDownloading smmap-5.0.1-py3-none-any.whl (24 kB)\n",
      "Building wheels for collected packages: tdqm\n",
      "  Building wheel for tdqm (setup.py) ... \u001b[?25ldone\n",
      "\u001b[?25h  Created wheel for tdqm: filename=tdqm-0.0.1-py3-none-any.whl size=1322 sha256=0a6676a1f074cddf5986d6fd07132924c45c7ced58f8254bf121a168d804c508\n",
      "  Stored in directory: /root/.cache/pip/wheels/c8/c7/30/e5935be2cfa6883be72462333edc414d8928f3c78eaabec38a\n",
      "Successfully built tdqm\n",
      "Installing collected packages: pytz, appdirs, wurlitzer, tzdata, tqdm, threadpoolctl, tenacity, smmap, setproctitle, sentry-sdk, scipy, pyarrow, opencv-python, joblib, docker-pycreds, Click, tdqm, scikit-learn, plotly, pandas, gitdb, GitPython, wandb\n",
      "Successfully installed Click-8.1.7 GitPython-3.1.43 appdirs-1.4.4 docker-pycreds-0.4.0 gitdb-4.0.11 joblib-1.4.0 opencv-python-4.9.0.80 pandas-2.2.2 plotly-5.21.0 pyarrow-16.0.0 pytz-2024.1 scikit-learn-1.4.2 scipy-1.13.0 sentry-sdk-1.45.0 setproctitle-1.3.3 smmap-5.0.1 tdqm-0.0.1 tenacity-8.2.3 threadpoolctl-3.4.0 tqdm-4.66.2 tzdata-2024.1 wandb-0.16.6 wurlitzer-3.0.3\n",
      "\u001b[33mWARNING: Running pip as the 'root' user can result in broken permissions and conflicting behaviour with the system package manager. It is recommended to use a virtual environment instead: https://pip.pypa.io/warnings/venv\u001b[0m\u001b[33m\n",
      "\u001b[0m\n",
      "\u001b[1m[\u001b[0m\u001b[34;49mnotice\u001b[0m\u001b[1;39;49m]\u001b[0m\u001b[39;49m A new release of pip is available: \u001b[0m\u001b[31;49m23.2.1\u001b[0m\u001b[39;49m -> \u001b[0m\u001b[32;49m24.0\u001b[0m\n",
      "\u001b[1m[\u001b[0m\u001b[34;49mnotice\u001b[0m\u001b[1;39;49m]\u001b[0m\u001b[39;49m To update, run: \u001b[0m\u001b[32;49mpython3 -m pip install --upgrade pip\u001b[0m\n"
     ]
    }
   ],
   "source": [
    "!pip install opencv-python numpy tensorflow scikit-learn matplotlib wandb tdqm wurlitzer pandas plotly pyarrow"
   ]
  },
  {
   "cell_type": "code",
   "execution_count": 2,
   "metadata": {
    "ExecuteTime": {
     "end_time": "2024-04-22T23:05:04.038342Z",
     "start_time": "2024-04-22T23:04:54.236156Z"
    }
   },
   "outputs": [
    {
     "name": "stderr",
     "output_type": "stream",
     "text": [
      "2024-04-24 20:00:24.084302: I tensorflow/core/util/port.cc:111] oneDNN custom operations are on. You may see slightly different numerical results due to floating-point round-off errors from different computation orders. To turn them off, set the environment variable `TF_ENABLE_ONEDNN_OPTS=0`.\n",
      "2024-04-24 20:00:24.109102: E tensorflow/compiler/xla/stream_executor/cuda/cuda_dnn.cc:9342] Unable to register cuDNN factory: Attempting to register factory for plugin cuDNN when one has already been registered\n",
      "2024-04-24 20:00:24.109123: E tensorflow/compiler/xla/stream_executor/cuda/cuda_fft.cc:609] Unable to register cuFFT factory: Attempting to register factory for plugin cuFFT when one has already been registered\n",
      "2024-04-24 20:00:24.109138: E tensorflow/compiler/xla/stream_executor/cuda/cuda_blas.cc:1518] Unable to register cuBLAS factory: Attempting to register factory for plugin cuBLAS when one has already been registered\n",
      "2024-04-24 20:00:24.113808: I tensorflow/core/platform/cpu_feature_guard.cc:182] This TensorFlow binary is optimized to use available CPU instructions in performance-critical operations.\n",
      "To enable the following instructions: AVX2 AVX512F AVX512_VNNI FMA, in other operations, rebuild TensorFlow with the appropriate compiler flags.\n"
     ]
    }
   ],
   "source": [
    "import os\n",
    "import math\n",
    "import pandas as pd\n",
    "import numpy as np\n",
    "#Load parquet data into dataset_parquet for training.\n",
    "import tensorflow as tf\n",
    "from tensorflow import keras\n",
    "from keras.regularizers import l2\n",
    "from glob import glob\n",
    "from tqdm import tqdm\n",
    "from collections import Counter\n",
    "import random\n",
    "import time\n",
    "import wandb"
   ]
  },
  {
   "cell_type": "code",
   "execution_count": 3,
   "metadata": {
    "ExecuteTime": {
     "end_time": "2024-04-23T00:25:31.935196Z",
     "start_time": "2024-04-23T00:25:31.930803Z"
    }
   },
   "outputs": [],
   "source": [
    "class CONFIG:\n",
    "    # root = os.path.join(\"/\", \"kaggle\", \"input\", \"asl-signs\") \n",
    "    # root = os.path.join(\".\")\n",
    "    root = os.path.join(\".\")\n",
    "    #root = os.path.join(\"..\", \"data\", \"asl-signs\")\n",
    "    DATA_LIMIT = 2000\n",
    "    BATCH_SIZE = 32\n",
    "    VIDEO_LENGTH = 36\n",
    "    TRAIN_VAL_SPLIT = 0.8\n",
    "    WANDB_RUN = \"mediapipe-asl-dataset\"\n"
   ]
  },
  {
   "cell_type": "code",
   "execution_count": 4,
   "metadata": {
    "ExecuteTime": {
     "end_time": "2024-04-23T00:25:32.292809Z",
     "start_time": "2024-04-23T00:25:32.281575Z"
    }
   },
   "outputs": [
    {
     "name": "stdout",
     "output_type": "stream",
     "text": [
      "LIPS :  40\n",
      "EYE_LEFT :  20\n",
      "EYE_RIGHT :  20\n",
      "LEFT_HAND :  21\n",
      "RIGHT_HAND :  21\n",
      "LEFT_POSE :  5\n",
      "RIGHT_POSE :  5\n",
      "132\n"
     ]
    }
   ],
   "source": [
    "LIPS_IDXS0 = np.array([\n",
    "        61, 185, 40, 39, 37, 0, 267, 269, 270, 409,\n",
    "        291, 146, 91, 181, 84, 17, 314, 405, 321, 375,\n",
    "        78, 191, 80, 81, 82, 13, 312, 311, 310, 415,\n",
    "        95, 88, 178, 87, 14, 317, 402, 318, 324, 308,\n",
    "    ])\n",
    "\n",
    "\n",
    "EYE_LEFT = np.array([33, 7, 246, 161, 160, 159, 158, 157, 173, 133, 155, 154, 153, 145, 144, 163, 471, 470, 469, 472])\n",
    "\n",
    "\n",
    "EYE_RIGHT = np.array([362, 398, 384, 385, 386, 387, 388, 466, 263, 249, 390, 373, 374, 380, 381, 382, 476, 475, 474, 477])\n",
    "# Landmark indices in original data\n",
    "LEFT_HAND_IDXS0 = np.arange(468,489)\n",
    "RIGHT_HAND_IDXS0 = np.arange(522,543)\n",
    "LEFT_POSE_IDXS0 = np.array([502, 504, 506, 508, 510])\n",
    "RIGHT_POSE_IDXS0 = np.array([503, 505, 507, 509, 511])\n",
    "\n",
    "\n",
    "LIPS_END = len(LIPS_IDXS0)\n",
    "EYE_LEFT_END = LIPS_END + len(EYE_LEFT)\n",
    "EYE_RIGHT_END = EYE_LEFT_END + len(EYE_RIGHT)\n",
    "LEFT_HAND_END = EYE_RIGHT_END + len(LEFT_HAND_IDXS0)\n",
    "RIGHT_HAND_END = LEFT_HAND_END + len(RIGHT_HAND_IDXS0)\n",
    "LEFT_POSE_END = RIGHT_HAND_END + len(LEFT_POSE_IDXS0)\n",
    "RIGHT_POSE_END = LEFT_POSE_END + len(RIGHT_POSE_IDXS0)\n",
    "\n",
    "print(\"LIPS : \",len(LIPS_IDXS0))\n",
    "print(\"EYE_LEFT : \",len(EYE_LEFT))\n",
    "print(\"EYE_RIGHT : \",len(EYE_RIGHT))\n",
    "print(\"LEFT_HAND : \",len(LEFT_HAND_IDXS0))\n",
    "print(\"RIGHT_HAND : \",len(RIGHT_HAND_IDXS0))\n",
    "print(\"LEFT_POSE : \",len(LEFT_POSE_IDXS0))\n",
    "print(\"RIGHT_POSE : \",len(RIGHT_POSE_IDXS0))\n",
    "\n",
    "all_selection = np.concatenate([LIPS_IDXS0, EYE_LEFT, EYE_RIGHT, LEFT_HAND_IDXS0, RIGHT_HAND_IDXS0, LEFT_POSE_IDXS0, RIGHT_POSE_IDXS0])\n",
    "print(len(all_selection))"
   ]
  },
  {
   "cell_type": "code",
   "execution_count": 5,
   "metadata": {
    "ExecuteTime": {
     "end_time": "2024-04-23T00:25:32.654379Z",
     "start_time": "2024-04-23T00:25:32.646338Z"
    }
   },
   "outputs": [],
   "source": [
    "def update_mean (values, mean, cnt):\n",
    "    if np.any(np.isnan(values)):\n",
    "        return mean, cnt\n",
    "    \n",
    "    mean += np.sum(values, axis=0)\n",
    "    cnt += values.shape[0]\n",
    "    return mean, cnt\n",
    "\n",
    "def update_std(values, mean, std):\n",
    "    if np.any(np.isnan(values)):\n",
    "        return std\n",
    "    \n",
    "    std += np.sum((values - mean)**2, axis=0)\n",
    "    return std"
   ]
  },
  {
   "cell_type": "code",
   "execution_count": 6,
   "metadata": {
    "ExecuteTime": {
     "end_time": "2024-04-23T00:25:32.977724Z",
     "start_time": "2024-04-23T00:25:32.966015Z"
    }
   },
   "outputs": [],
   "source": [
    "#this code sorts out a parquet files and rearrange the order to pose,face, left-hand, right-hand\n",
    "import os\n",
    "import pandas as pd\n",
    "import numpy as np\n",
    "import matplotlib.pyplot as plt \n",
    "import plotly.graph_objs as go\n",
    "from sklearn.model_selection import train_test_split\n",
    "import plotly.io as pio\n",
    "\n",
    "def visualize_keypoints(frames : np.ndarray, point_size : int):\n",
    "    if len(frames.shape) == 1:\n",
    "        frames = np.array([frames])\n",
    "    \n",
    "    for frame in frames:\n",
    "        frame = frame.reshape(-1, 3)\n",
    "        sizes = point_size * np.ones(frame.shape[0])\n",
    "\n",
    "        fig = go.Figure(data=go.Scatter(x=frame[:,0], y=2.5 - frame[:,1], mode='markers',\n",
    "                                        marker=dict(\n",
    "                                            size=sizes\n",
    "                                            )))\n",
    "\n",
    "    # Customize the layout\n",
    "    fig.update_layout(title='visualization of human keypoints',\n",
    "                        xaxis_title='',\n",
    "                        yaxis_title='',\n",
    "                        width=1000,\n",
    "                        height=1600)\n",
    "\n",
    "    fig.update_xaxes(range=[-0.2, 1.4])  # Set x-axis range from 0 to 6\n",
    "    fig.update_yaxes(range=[0, 2.5])  # Set y-axis range from 10 to 20\n",
    "\n",
    "    # Show the plot\n",
    "    fig.show()\n",
    "\n",
    "def process_parquet2(ds, idxes = None):\n",
    "    ret = []    \n",
    "    frame_size = 543\n",
    "    it = len(ds) // frame_size\n",
    "    assert it == len(ds) / frame_size\n",
    "    \n",
    "    for i in range(it):\n",
    "        vals = ds.iloc[ i * frame_size : (i + 1 ) * frame_size ]        \n",
    "        \n",
    "        if idxes is not None:          \n",
    "            vals = ds.iloc[idxes]\n",
    "                        \n",
    "        ret.append(np.array(vals[[\"x\",\"y\", \"z\"]]))\n",
    "        \n",
    "    return np.array(np.array(ret))"
   ]
  },
  {
   "cell_type": "code",
   "execution_count": 7,
   "metadata": {
    "ExecuteTime": {
     "end_time": "2024-04-23T00:45:51.561533Z",
     "start_time": "2024-04-23T00:43:24.084149Z"
    }
   },
   "outputs": [
    {
     "name": "stderr",
     "output_type": "stream",
     "text": [
      "100%|██████████| 94477/94477 [00:00<00:00, 1340151.10it/s]\n",
      "Cacheing: 100%|██████████| 1600/1600 [00:24<00:00, 65.10it/s]\n",
      "calculating means: 100%|██████████| 1600/1600 [00:01<00:00, 830.02it/s]\n",
      "calculating std: 100%|██████████| 1600/1600 [00:02<00:00, 700.67it/s]\n",
      "normalizing: 100%|██████████| 1600/1600 [00:04<00:00, 377.45it/s]\n",
      "100%|██████████| 94477/94477 [00:00<00:00, 1329606.41it/s]\n",
      "Cacheing: 100%|██████████| 400/400 [00:06<00:00, 63.03it/s]\n",
      "normalizing: 100%|██████████| 400/400 [00:01<00:00, 370.31it/s]"
     ]
    },
    {
     "name": "stdout",
     "output_type": "stream",
     "text": [
      "cardinality of train : 1600, cardinality of validation : 400\n"
     ]
    },
    {
     "name": "stderr",
     "output_type": "stream",
     "text": [
      "\n"
     ]
    }
   ],
   "source": [
    "class Groups:\n",
    "    def __init__(self):\n",
    "        self.starts = []\n",
    "        self.id_2_label = {}\n",
    "        self.means = []\n",
    "        self.cnts = []\n",
    "        self.stds = []\n",
    "\n",
    "    def add(self, start, name):\n",
    "        self.id_2_label[len(self.starts)] = name\n",
    "        self.starts.append(start)\n",
    "        self.means.append(np.array([0.0,0.0,0.0]))\n",
    "        self.cnts.append(0)\n",
    "        self.stds.append(np.array([0.0,0.0,0.0]))\n",
    "        \n",
    "    def reset(self):\n",
    "        for i in range(len(self.means)):\n",
    "            self.means[i] = np.array([0,0,0])\n",
    "            self.cnts[i] = 0\n",
    "            self.stds[i] = np.array([0,0,0])\n",
    "            \n",
    "    def __str__(self):\n",
    "        s = \"\"\n",
    "        for i in range(len(self.starts)):\n",
    "            s += f\"name={self.id_2_label[i]} idxes = ({self.starts[i][0]}, {self.starts[i][1]}), mu={self.means[i]}, std = {self.stds[i]}\\n\"\n",
    "        \n",
    "        return s\n",
    "    \n",
    "#custom class to load data from Parquet files for training ML models.\n",
    "class ParquetDatasetCached(keras.utils.Sequence):\n",
    "    def __init__(self, dataset_folder, csv_file : str, groups : Groups=None, batch_size=CONFIG.BATCH_SIZE, \n",
    "                 data_limit :int= CONFIG.DATA_LIMIT, check_if_file_exists = True, \n",
    "                 frame_length :int = CONFIG.VIDEO_LENGTH, split : str = \"train\", \n",
    "                 train_val_split : float = CONFIG.TRAIN_VAL_SPLIT, sort_by_counts : bool = True, \n",
    "                 idxes=None, **kwargs):\n",
    "        super().__init__(**kwargs)\n",
    "        #taking keras sequence for .fit(), .evaluate(), .predict() methods\n",
    "        #load csv - it has the path to parquet file, and another to store label\n",
    "        self.cached_Y = None\n",
    "        self.cached_X = None\n",
    "        self.csv_path = csv_file\n",
    "        self.root_folder = dataset_folder\n",
    "        self.batch_size = batch_size\n",
    "        #optional pre-processing function to the parquet files.\n",
    "        self.group = groups\n",
    "        \n",
    "        self.csv_data = pd.read_csv(self.csv_path)\n",
    "        \n",
    "        self.all_files = []\n",
    "        self.not_exists = []\n",
    "        self.frame_length = frame_length\n",
    "\n",
    "        for path, label in tqdm(list(zip(self.csv_data[\"path\"], self.csv_data[\"sign\"]))):\n",
    "            prop_path = os.path.join(self.root_folder, path)\n",
    "            \n",
    "            if check_if_file_exists:\n",
    "                if os.path.exists(prop_path):\n",
    "                    self.all_files.append((prop_path, label))\n",
    "                else:\n",
    "                    self.not_exists.append(prop_path)\n",
    "            else:\n",
    "                self.all_files.append((prop_path, label))\n",
    "                \n",
    "                    \n",
    "        self.all_files = np.array(self.all_files)\n",
    "        self.unique_labels = np.unique(self.all_files[:, 1])\n",
    "        self.label_2_id = { key : i for i, key in enumerate(self.unique_labels)}\n",
    "    \n",
    "        # sort the values by popularity\n",
    "        if sort_by_counts:\n",
    "            cnt = Counter(self.all_files[:, 1])\n",
    "            vals = []\n",
    "            \n",
    "            for i,row in enumerate(self.all_files):\n",
    "                vals.append((int(1e6 * cnt[row[1]] + self.label_2_id [row[1]]),i))\n",
    "            \n",
    "            vals = np.array(sorted(vals)[::-1])\n",
    "            self.all_files = self.all_files[vals[:,1]]\n",
    "\n",
    "        \n",
    "        if data_limit < 0:\n",
    "            train_ds, val_ds = train_test_split(self.all_files, train_size=train_val_split, random_state=42)\n",
    "        else:\n",
    "            train_ds, val_ds = train_test_split(self.all_files[:data_limit], train_size=train_val_split, random_state=42)\n",
    "            self.unique_labels = np.unique(self.all_files[:data_limit, 1])\n",
    "            self.label_2_id = { key : i for i, key in enumerate(self.unique_labels)}\n",
    "            \n",
    "        if split.lower() == \"train\":\n",
    "            self.dataset = train_ds\n",
    "            \n",
    "        elif split.lower() == \"val\":\n",
    "            self.dataset = val_ds \n",
    "            \n",
    "        else:\n",
    "            raise Exception(\"please specify split to be either train or val\")\n",
    "            \n",
    "        self.cache_data(idxes)\n",
    "        self.calculate_props_for_groups()\n",
    "\n",
    "    def normalize_data_points(self):\n",
    "        for i in tqdm(range(len(self.cached_X)), desc=\"normalizing\"):\n",
    "            self.preprocess(self.cached_X[i])\n",
    "            \n",
    "                   \n",
    "    def getGroups(self):\n",
    "        return self.group\n",
    "    \n",
    "    def select(self, frames):\n",
    "        current_length, num_features, _ = frames.shape\n",
    "    \n",
    "        if current_length >= CONFIG.VIDEO_LENGTH:\n",
    "                # TODO: a better than uniform value ? Could place gaussian in the middle\n",
    "                random_start = random.randint(0, current_length - CONFIG.VIDEO_LENGTH)\n",
    "                return frames[random_start : (random_start + CONFIG.VIDEO_LENGTH)]\n",
    "            \n",
    "        # padd the video to contain zeros \n",
    "        return np.concatenate([frames, np.zeros((CONFIG.VIDEO_LENGTH - current_length, num_features,3))], axis=0)\n",
    "\n",
    "    def preprocess(self, raw_frames):\n",
    "        select_frames = raw_frames\n",
    "        t = select_frames.shape[0]\n",
    "        \n",
    "        for i in range(t):   \n",
    "            for j in range(len(self.group.starts)):\n",
    "                start = self.group.starts[j] \n",
    "                mean, std = self.group.means[j], self.group.stds[j]\n",
    "                region = select_frames[i, start[0] : start[1], :]                \n",
    "                region = (region - mean) / std\n",
    "                region = np.nan_to_num(region)                \n",
    "                select_frames[i, start[0] : start[1]] = region\n",
    "                \n",
    "                \n",
    "        return select_frames\n",
    "        \n",
    "            \n",
    "    def cache_data(self, idxes):\n",
    "        self.cached_X, self.cached_Y = [], []\n",
    "        \n",
    "        pb = tqdm(range(len(self.dataset)), desc=\"Cacheing\")\n",
    "\n",
    "        for i in pb:\n",
    "            \n",
    "            path, label = self.dataset[i]\n",
    "            df = pd.read_parquet(path)\n",
    "                        \n",
    "            one_hot_encoded_label = np.zeros(len(self.unique_labels))\n",
    "            one_hot_encoded_label[self.label_2_id[label]] = 1\n",
    "\n",
    "            self.cached_X.append(process_parquet2(df, idxes=idxes))\n",
    "            self.cached_Y.append(one_hot_encoded_label)     \n",
    "            \n",
    "        \n",
    "    def calculate_props_for_groups(self):\n",
    "        \n",
    "        if self.group is None:\n",
    "            return \n",
    "                            \n",
    "        for frames in tqdm(self.cached_X, desc=\"calculating means\"):\n",
    "            for frame in frames:\n",
    "                for i in range(len(self.group.starts)):\n",
    "                    start = self.group.starts[i]\n",
    "                    mean = self.group.means[i]\n",
    "                    cnts = self.group.cnts[i]\n",
    "                    \n",
    "                    feature = frame[start[0]:start[1]]\n",
    "                    \n",
    "                    self.group.means[i], self.group.cnts[i] = update_mean(feature, mean, cnts)                   \n",
    " \n",
    "        \n",
    "        # set the means \n",
    "        for i in range(len(self.group.starts)):            \n",
    "            self.group.means[i] = self.group.means[i] / self.group.cnts[i]\n",
    "            \n",
    "        # calculate the standard deviations\n",
    "        for frames in tqdm(self.cached_X, desc=\"calculating std\"):\n",
    "            for frame in frames:\n",
    "                for i in range(len(self.group.starts)):\n",
    "                    start = self.group.starts[i]\n",
    "                    std = self.group.stds[i]\n",
    "                    mean = self.group.means[i]                    \n",
    "                    feature = frame[start[0]:start[1]]\n",
    "                    \n",
    "                    self.group.stds[i] = update_std(feature, mean=mean, std=std)                   \n",
    " \n",
    "        # set the standard deviations \n",
    "        for i in range(len(self.group.starts)):            \n",
    "            self.group.stds[i] = np.sqrt(self.group.stds[i] / self.group.cnts[i])\n",
    "  \n",
    "    def set_group(self, group):\n",
    "        self.group = group\n",
    "\n",
    "    def __len__(self):\n",
    "        # Assuming each Parquet file should be one batch; adjust if necessary\n",
    "        return len(self.dataset)\n",
    "\n",
    "    def __getitem__(self, idx):\n",
    "        traj = self.select(self.cached_X[idx])\n",
    "        t = traj.shape[0]\n",
    "        return traj.reshape(t, -1), self.cached_Y[idx]                \n",
    "        \n",
    "    def on_epoch_end(self):\n",
    "        # Shuffle files for the next epoch\n",
    "        np.random.shuffle(self.dataset)\n",
    "\n",
    "\n",
    "    \n",
    "groups = Groups()\n",
    "groups.add((0, LIPS_END), \"lips\")\n",
    "groups.add((LIPS_END, EYE_LEFT_END), \"left eye\")\n",
    "groups.add((EYE_LEFT_END, EYE_RIGHT_END), \"right eye\")\n",
    "groups.add((EYE_RIGHT_END, LEFT_HAND_END), \"left hand\")\n",
    "groups.add((LEFT_HAND_END, RIGHT_HAND_END), \"right hand\")\n",
    "groups.add((RIGHT_HAND_END, LEFT_POSE_END), \"left pose\")\n",
    "groups.add((LEFT_POSE_END, RIGHT_POSE_END), \"right pose\")\n",
    "\n",
    "# Usage example\n",
    "parquet_folder_path = CONFIG.root\n",
    "train_dataset_parquet = ParquetDatasetCached(parquet_folder_path, csv_file = os.path.join(CONFIG.root, \"train.csv\"), \n",
    "                                 batch_size=CONFIG.BATCH_SIZE, data_limit=CONFIG.DATA_LIMIT, groups=groups,\n",
    "                                             check_if_file_exists = False,\n",
    "                                             split=\"train\", idxes= all_selection)\n",
    "train_dataset_parquet.normalize_data_points()\n",
    "\n",
    "val_dataset_parquet = ParquetDatasetCached(parquet_folder_path, csv_file = os.path.join(CONFIG.root, \"train.csv\"), \n",
    "                                 batch_size=CONFIG.BATCH_SIZE, data_limit=CONFIG.DATA_LIMIT,\n",
    "                                 check_if_file_exists= False,\n",
    "                                 split=\"val\",idxes= all_selection)\n",
    "val_dataset_parquet.set_group(train_dataset_parquet.group)\n",
    "val_dataset_parquet.normalize_data_points()\n",
    "\n",
    "print(f\"cardinality of train : {len(train_dataset_parquet)}, cardinality of validation : {len(val_dataset_parquet)}\")"
   ]
  },
  {
   "cell_type": "code",
   "execution_count": 8,
   "metadata": {
    "ExecuteTime": {
     "end_time": "2024-04-23T00:46:02.433959Z",
     "start_time": "2024-04-23T00:46:02.427774Z"
    }
   },
   "outputs": [
    {
     "name": "stdout",
     "output_type": "stream",
     "text": [
      "name=lips idxes = (0, 40), mu=[ 0.46837713  0.48302917 -0.02288619], std = [0.07567185 0.07805494 0.01595569]\n",
      "name=left eye idxes = (40, 60), mu=[0.3991533  0.42728534 0.00753501], std = [0.13361506 0.14249471 0.03310135]\n",
      "name=right eye idxes = (60, 80), mu=[ 0.51717346  0.40728644 -0.00183984], std = [0.09961183 0.13192261 0.04502668]\n",
      "name=left hand idxes = (80, 101), mu=[ 0.64549218  0.60715568 -0.05593578], std = [0.15745084 0.19082723 0.06481537]\n",
      "name=right hand idxes = (101, 122), mu=[ 0.32559969  0.59123747 -0.06171813], std = [0.14304286 0.17530013 0.05818096]\n",
      "name=left pose idxes = (122, 127), mu=[ 0.87917387  0.94527561 -1.30689645], std = [0.18371726 0.28708228 0.70052876]\n",
      "name=right pose idxes = (127, 132), mu=[ 0.1245269   0.93955634 -1.58225958], std = [0.17150104 0.3138634  0.96991489]\n",
      "\n"
     ]
    }
   ],
   "source": [
    "print(groups)"
   ]
  },
  {
   "cell_type": "code",
   "execution_count": 9,
   "metadata": {
    "ExecuteTime": {
     "end_time": "2024-04-23T00:46:14.965820Z",
     "start_time": "2024-04-23T00:46:03.146718Z"
    }
   },
   "outputs": [
    {
     "name": "stderr",
     "output_type": "stream",
     "text": [
      "100%|██████████| 1600/1600 [00:00<00:00, 76708.12it/s]\n",
      "100%|██████████| 400/400 [00:00<00:00, 76028.53it/s]\n"
     ]
    }
   ],
   "source": [
    "nans = False\n",
    "\n",
    "for x, y in tqdm(train_dataset_parquet):\n",
    "    nans |= np.any(np.isnan(x))\n",
    "    if nans:\n",
    "        print(\"SAD : \")\n",
    "        break\n",
    "\n",
    "for x, y in tqdm(val_dataset_parquet):\n",
    "    nans |= np.any(np.isnan(x))\n",
    "    if nans:    \n",
    "        print(\"SAD : \")\n",
    "        break\n"
   ]
  },
  {
   "cell_type": "code",
   "execution_count": 10,
   "metadata": {
    "ExecuteTime": {
     "end_time": "2024-04-23T00:47:16.932555Z",
     "start_time": "2024-04-23T00:47:16.921247Z"
    }
   },
   "outputs": [
    {
     "name": "stdout",
     "output_type": "stream",
     "text": [
      "name=lips idxes = (0, 40), mu=[ 0.46837713  0.48302917 -0.02288619], std = [0.07567185 0.07805494 0.01595569]\n",
      "name=left eye idxes = (40, 60), mu=[0.3991533  0.42728534 0.00753501], std = [0.13361506 0.14249471 0.03310135]\n",
      "name=right eye idxes = (60, 80), mu=[ 0.51717346  0.40728644 -0.00183984], std = [0.09961183 0.13192261 0.04502668]\n",
      "name=left hand idxes = (80, 101), mu=[ 0.64549218  0.60715568 -0.05593578], std = [0.15745084 0.19082723 0.06481537]\n",
      "name=right hand idxes = (101, 122), mu=[ 0.32559969  0.59123747 -0.06171813], std = [0.14304286 0.17530013 0.05818096]\n",
      "name=left pose idxes = (122, 127), mu=[ 0.87917387  0.94527561 -1.30689645], std = [0.18371726 0.28708228 0.70052876]\n",
      "name=right pose idxes = (127, 132), mu=[ 0.1245269   0.93955634 -1.58225958], std = [0.17150104 0.3138634  0.96991489]\n",
      "\n"
     ]
    }
   ],
   "source": [
    "print(groups)"
   ]
  },
  {
   "cell_type": "code",
   "execution_count": 11,
   "metadata": {
    "ExecuteTime": {
     "end_time": "2024-04-23T00:47:17.485435Z",
     "start_time": "2024-04-23T00:47:17.232781Z"
    }
   },
   "outputs": [
    {
     "name": "stdout",
     "output_type": "stream",
     "text": [
      "101 122 127\n",
      "len(frames) = 35\n"
     ]
    },
    {
     "data": {
      "image/png": "[encoded data removed]",
      "text/plain": [
       "<Figure size 640x480 with 1 Axes>"
      ]
     },
     "metadata": {},
     "output_type": "display_data"
    }
   ],
   "source": [
    "import matplotlib.pyplot as plt \n",
    "\n",
    "i = 1\n",
    "LIPS_END = len(LIPS_IDXS0)\n",
    "EYE_LEFT_END = LIPS_END + len(EYE_LEFT)\n",
    "EYE_RIGHT_END = EYE_LEFT_END + len(EYE_RIGHT)\n",
    "LEFT_HAND_END = EYE_RIGHT_END + len(LEFT_HAND_IDXS0)\n",
    "RIGHT_HAND_END = LEFT_HAND_END + len(RIGHT_HAND_IDXS0)\n",
    "LEFT_POSE_END = RIGHT_HAND_END + len(LEFT_POSE_IDXS0)\n",
    "RIGHT_POSE_END = LEFT_POSE_END + len(RIGHT_POSE_IDXS0)\n",
    "\n",
    "print(LEFT_HAND_END, RIGHT_HAND_END,LEFT_POSE_END)\n",
    "\n",
    "frames = train_dataset_parquet.cached_X[i]\n",
    "print(f\"len(frames) = {len(frames)}\")\n",
    "\n",
    "frame = train_dataset_parquet.cached_X[0][0]\n",
    "\n",
    "plt.scatter(frame[:LIPS_END, 0], frame[:LIPS_END, 1], label=\"lips\")\n",
    "plt.scatter(frame[LIPS_END:EYE_LEFT_END, 0], frame[LIPS_END:EYE_LEFT_END, 1], label=\"eye left\")\n",
    "plt.scatter(frame[EYE_LEFT_END:EYE_RIGHT_END,0], frame[EYE_LEFT_END:EYE_RIGHT_END, 1], label=\"eye right\")\n",
    "plt.scatter(frame[EYE_RIGHT_END:LEFT_HAND_END,0], frame[EYE_RIGHT_END:LEFT_HAND_END, 1], label=\"left hand\")\n",
    "plt.scatter(frame[LEFT_HAND_END:RIGHT_HAND_END, 0], frame[LEFT_HAND_END:RIGHT_HAND_END, 1], label=\"right hand\")\n",
    "plt.scatter(frame[RIGHT_HAND_END:LEFT_POSE_END, 0], frame[RIGHT_HAND_END:LEFT_POSE_END, 1], label=\"left pose\")\n",
    "plt.scatter(frame[LEFT_POSE_END:RIGHT_POSE_END, 0], frame[LEFT_POSE_END:RIGHT_POSE_END, 1], label=\"right pose\")\n",
    "\n",
    "plt.legend()\n",
    "plt.show()"
   ]
  },
  {
   "cell_type": "code",
   "execution_count": 12,
   "metadata": {
    "ExecuteTime": {
     "end_time": "2024-04-23T00:47:17.714861Z",
     "start_time": "2024-04-23T00:47:17.700382Z"
    }
   },
   "outputs": [],
   "source": [
    "x, y = next(iter(train_dataset_parquet))\n",
    "X_shape, Y_shape = x.shape, y.shape"
   ]
  },
  {
   "cell_type": "code",
   "execution_count": 13,
   "metadata": {},
   "outputs": [
    {
     "data": {
      "text/plain": [
       "array([[-0.55905635,  0.1629133 ,  1.03044723, ...,  2.72012163,\n",
       "         0.95555742,  0.22947643],\n",
       "       [-0.55905635,  0.1629133 ,  1.03044723, ...,  2.72012163,\n",
       "         0.95555742,  0.22947643],\n",
       "       [-0.55905635,  0.1629133 ,  1.03044723, ...,  2.72012163,\n",
       "         0.95555742,  0.22947643],\n",
       "       ...,\n",
       "       [ 0.        ,  0.        ,  0.        , ...,  0.        ,\n",
       "         0.        ,  0.        ],\n",
       "       [ 0.        ,  0.        ,  0.        , ...,  0.        ,\n",
       "         0.        ,  0.        ],\n",
       "       [ 0.        ,  0.        ,  0.        , ...,  0.        ,\n",
       "         0.        ,  0.        ]])"
      ]
     },
     "execution_count": 13,
     "metadata": {},
     "output_type": "execute_result"
    }
   ],
   "source": [
    "x"
   ]
  },
  {
   "cell_type": "code",
   "execution_count": 14,
   "metadata": {
    "ExecuteTime": {
     "end_time": "2024-04-23T00:47:18.487909Z",
     "start_time": "2024-04-23T00:47:18.404790Z"
    }
   },
   "outputs": [
    {
     "name": "stderr",
     "output_type": "stream",
     "text": [
      "2024-04-24 20:01:12.372195: I tensorflow/core/common_runtime/gpu/gpu_device.cc:1886] Created device /job:localhost/replica:0/task:0/device:GPU:0 with 22462 MB memory:  -> device: 0, name: NVIDIA GeForce RTX 3090, pci bus id: 0000:01:00.0, compute capability: 8.6\n"
     ]
    }
   ],
   "source": [
    "def dataset_train_generator():\n",
    "    # Instantiate your existing dataset loader\n",
    "\n",
    "    for i in range(len(train_dataset_parquet)):\n",
    "        X_batch, Y_batch = train_dataset_parquet[i]\n",
    "        yield X_batch, Y_batch\n",
    "        \n",
    "def dataset_val_generator():\n",
    "    # Instantiate your existing dataset loader\n",
    "\n",
    "    for i in range(len(val_dataset_parquet)):\n",
    "        X_batch, Y_batch = val_dataset_parquet[i]\n",
    "        yield X_batch, Y_batch        \n",
    "\n",
    "\n",
    "train_dataset = tf.data.Dataset.from_generator(\n",
    "    lambda: dataset_train_generator(),\n",
    "    output_types=(tf.float32, tf.float32),  # Adjust types based on your actual data\n",
    "    output_shapes=(X_shape, Y_shape)\n",
    ").prefetch(tf.data.AUTOTUNE).batch(CONFIG.BATCH_SIZE)\n",
    "\n",
    "val_dataset = tf.data.Dataset.from_generator(\n",
    "    lambda: dataset_val_generator(),\n",
    "    output_types=(tf.float32, tf.float32),  # Adjust types based on your actual data\n",
    "    output_shapes=(X_shape, Y_shape)\n",
    ").prefetch(tf.data.AUTOTUNE).batch(CONFIG.BATCH_SIZE)"
   ]
  },
  {
   "cell_type": "code",
   "execution_count": 15,
   "metadata": {
    "ExecuteTime": {
     "end_time": "2024-04-23T00:47:19.593083Z",
     "start_time": "2024-04-23T00:47:19.373334Z"
    },
    "scrolled": true
   },
   "outputs": [
    {
     "name": "stderr",
     "output_type": "stream",
     "text": [
      "0it [00:00, ?it/s]\n"
     ]
    },
    {
     "data": {
      "text/plain": [
       "<tf.Tensor: shape=(32, 36, 396), dtype=float32, numpy=\n",
       "array([[[-0.55905634,  0.1629133 ,  1.0304472 , ...,  2.7201216 ,\n",
       "          0.9555574 ,  0.22947644],\n",
       "        [-0.55905634,  0.1629133 ,  1.0304472 , ...,  2.7201216 ,\n",
       "          0.9555574 ,  0.22947644],\n",
       "        [-0.55905634,  0.1629133 ,  1.0304472 , ...,  2.7201216 ,\n",
       "          0.9555574 ,  0.22947644],\n",
       "        ...,\n",
       "        [ 0.        ,  0.        ,  0.        , ...,  0.        ,\n",
       "          0.        ,  0.        ],\n",
       "        [ 0.        ,  0.        ,  0.        , ...,  0.        ,\n",
       "          0.        ,  0.        ],\n",
       "        [ 0.        ,  0.        ,  0.        , ...,  0.        ,\n",
       "          0.        ,  0.        ]],\n",
       "\n",
       "       [[-1.4844216 , -0.5923233 ,  1.0971457 , ..., -1.4787697 ,\n",
       "          0.81079257,  0.04312035],\n",
       "        [-1.4844216 , -0.5923233 ,  1.0971457 , ..., -1.4787697 ,\n",
       "          0.81079257,  0.04312035],\n",
       "        [-1.4844216 , -0.5923233 ,  1.0971457 , ..., -1.4787697 ,\n",
       "          0.81079257,  0.04312035],\n",
       "        ...,\n",
       "        [-1.4844216 , -0.5923233 ,  1.0971457 , ..., -1.4787697 ,\n",
       "          0.81079257,  0.04312035],\n",
       "        [-1.4844216 , -0.5923233 ,  1.0971457 , ..., -1.4787697 ,\n",
       "          0.81079257,  0.04312035],\n",
       "        [ 0.        ,  0.        ,  0.        , ...,  0.        ,\n",
       "          0.        ,  0.        ]],\n",
       "\n",
       "       [[ 0.49326485,  0.7030049 ,  0.1572606 , ...,  0.68588597,\n",
       "         -0.5053435 , -1.1321044 ],\n",
       "        [ 0.49326485,  0.7030049 ,  0.1572606 , ...,  0.68588597,\n",
       "         -0.5053435 , -1.1321044 ],\n",
       "        [ 0.49326485,  0.7030049 ,  0.1572606 , ...,  0.68588597,\n",
       "         -0.5053435 , -1.1321044 ],\n",
       "        ...,\n",
       "        [ 0.        ,  0.        ,  0.        , ...,  0.        ,\n",
       "          0.        ,  0.        ],\n",
       "        [ 0.        ,  0.        ,  0.        , ...,  0.        ,\n",
       "          0.        ,  0.        ],\n",
       "        [ 0.        ,  0.        ,  0.        , ...,  0.        ,\n",
       "          0.        ,  0.        ]],\n",
       "\n",
       "       ...,\n",
       "\n",
       "       [[-0.43733928,  0.31043786,  2.2912798 , ..., -0.17353097,\n",
       "         -1.4182345 , -0.20151365],\n",
       "        [-0.43733928,  0.31043786,  2.2912798 , ..., -0.17353097,\n",
       "         -1.4182345 , -0.20151365],\n",
       "        [-0.43733928,  0.31043786,  2.2912798 , ..., -0.17353097,\n",
       "         -1.4182345 , -0.20151365],\n",
       "        ...,\n",
       "        [ 0.        ,  0.        ,  0.        , ...,  0.        ,\n",
       "          0.        ,  0.        ],\n",
       "        [ 0.        ,  0.        ,  0.        , ...,  0.        ,\n",
       "          0.        ,  0.        ],\n",
       "        [ 0.        ,  0.        ,  0.        , ...,  0.        ,\n",
       "          0.        ,  0.        ]],\n",
       "\n",
       "       [[ 0.68996876, -1.0444652 ,  1.4309196 , ...,  1.1928552 ,\n",
       "         -0.312923  ,  0.4422145 ],\n",
       "        [ 0.68996876, -1.0444652 ,  1.4309196 , ...,  1.1928552 ,\n",
       "         -0.312923  ,  0.4422145 ],\n",
       "        [ 0.68996876, -1.0444652 ,  1.4309196 , ...,  1.1928552 ,\n",
       "         -0.312923  ,  0.4422145 ],\n",
       "        ...,\n",
       "        [ 0.        ,  0.        ,  0.        , ...,  0.        ,\n",
       "          0.        ,  0.        ],\n",
       "        [ 0.        ,  0.        ,  0.        , ...,  0.        ,\n",
       "          0.        ,  0.        ],\n",
       "        [ 0.        ,  0.        ,  0.        , ...,  0.        ,\n",
       "          0.        ,  0.        ]],\n",
       "\n",
       "       [[-0.93343556,  0.5836993 ,  2.1462767 , ..., -0.06932547,\n",
       "         -1.3463702 , -0.94921595],\n",
       "        [-0.93343556,  0.5836993 ,  2.1462767 , ..., -0.06932547,\n",
       "         -1.3463702 , -0.94921595],\n",
       "        [-0.93343556,  0.5836993 ,  2.1462767 , ..., -0.06932547,\n",
       "         -1.3463702 , -0.94921595],\n",
       "        ...,\n",
       "        [ 0.        ,  0.        ,  0.        , ...,  0.        ,\n",
       "          0.        ,  0.        ],\n",
       "        [ 0.        ,  0.        ,  0.        , ...,  0.        ,\n",
       "          0.        ,  0.        ],\n",
       "        [ 0.        ,  0.        ,  0.        , ...,  0.        ,\n",
       "          0.        ,  0.        ]]], dtype=float32)>"
      ]
     },
     "execution_count": 15,
     "metadata": {},
     "output_type": "execute_result"
    }
   ],
   "source": [
    "els = np.array([0])\n",
    "for x,y in tqdm(train_dataset):\n",
    "    break \n",
    "    \n",
    "x"
   ]
  },
  {
   "cell_type": "code",
   "execution_count": 16,
   "metadata": {
    "ExecuteTime": {
     "end_time": "2024-04-23T00:47:29.947569Z",
     "start_time": "2024-04-23T00:47:21.273369Z"
    }
   },
   "outputs": [
    {
     "name": "stderr",
     "output_type": "stream",
     "text": [
      "50it [00:00, 256.86it/s]\n"
     ]
    },
    {
     "name": "stdout",
     "output_type": "stream",
     "text": [
      "(32, 36, 396) (32, 5)\n",
      "Iterating through dataset took : 0.1963s\n"
     ]
    },
    {
     "data": {
      "image/png": "[encoded data removed]",
      "text/plain": [
       "<Figure size 640x480 with 1 Axes>"
      ]
     },
     "metadata": {},
     "output_type": "display_data"
    }
   ],
   "source": [
    "start = time.time()\n",
    "isnans =False\n",
    "\n",
    "id2label = {v : k for k,v in train_dataset_parquet.label_2_id.items()}\n",
    "\n",
    "f = True\n",
    "labels_batches = []\n",
    "for el in tqdm(train_dataset):\n",
    "    if f:\n",
    "        print(el[0].shape, el[1].shape)\n",
    "        f = False\n",
    "\n",
    "    ls = np.argmax(el[1], axis=1)\n",
    "    for l in ls:\n",
    "        labels_batches.append(id2label[l])\n",
    "    \n",
    "    isnans |= np.any(np.isnan(el[0]))\n",
    "    if isnans:\n",
    "        print(\"FOUND NAN!\")\n",
    "        break\n",
    "\n",
    "print(f\"Iterating through dataset took : {round( time.time() - start , 4)}s\")\n",
    "plt.hist(labels_batches, bins=len(np.unique(labels_batches)), edgecolor=\"black\")\n",
    "plt.xlabel('labels')\n",
    "plt.ylabel('counts')\n",
    "plt.title('')\n",
    "\n",
    "# Rotate x-axis ticks\n",
    "plt.xticks(rotation=45)\n",
    "plt.savefig(\"histogram.png\")\n",
    "plt.show()"
   ]
  },
  {
   "cell_type": "code",
   "execution_count": 17,
   "metadata": {
    "ExecuteTime": {
     "end_time": "2024-04-23T00:47:29.963567Z",
     "start_time": "2024-04-23T00:47:29.948575Z"
    }
   },
   "outputs": [
    {
     "name": "stderr",
     "output_type": "stream",
     "text": [
      "100%|██████████| 1600/1600 [00:00<00:00, 224069.66it/s]\n"
     ]
    }
   ],
   "source": [
    "from collections import defaultdict\n",
    "\n",
    "c = defaultdict(list)\n",
    "alltimes = []\n",
    "\n",
    "\n",
    "for i in tqdm(range(len(train_dataset_parquet.cached_X))):\n",
    "    x,y = train_dataset_parquet.cached_X[i], train_dataset_parquet.cached_Y[i]\n",
    "    c[np.argmax(y)].append(x.shape[0])\n",
    "    alltimes.append(x.shape[0])\n",
    "    "
   ]
  },
  {
   "cell_type": "code",
   "execution_count": 18,
   "metadata": {
    "ExecuteTime": {
     "end_time": "2024-04-23T00:57:29.144194Z",
     "start_time": "2024-04-23T00:57:29.139120Z"
    }
   },
   "outputs": [
    {
     "name": "stdout",
     "output_type": "stream",
     "text": [
      "{0: 'donkey', 1: 'listen', 2: 'look', 3: 'mouse', 4: 'shhh'}\n"
     ]
    }
   ],
   "source": [
    "print(id2label)\n",
    "no_cls = len(id2label)\n",
    "fs = CONFIG.VIDEO_LENGTH"
   ]
  },
  {
   "cell_type": "code",
   "execution_count": 19,
   "metadata": {
    "ExecuteTime": {
     "end_time": "2024-04-23T00:47:35.354437Z",
     "start_time": "2024-04-23T00:47:34.584500Z"
    }
   },
   "outputs": [
    {
     "data": {
      "image/png": "[encoded data removed]",
      "text/plain": [
       "<Figure size 1200x600 with 1 Axes>"
      ]
     },
     "metadata": {},
     "output_type": "display_data"
    }
   ],
   "source": [
    "\n",
    "plt.figure(figsize=(12, 6))\n",
    "ks = list(c.keys())\n",
    "\n",
    "for k in ks:\n",
    "    lengths = c[k]\n",
    "    \n",
    "    plt.title(f\"$\\mu$ = {np.mean(alltimes)}, median={np.median(alltimes)}\")\n",
    "    plt.hist(lengths, bins=np.arange(0, 250, 5), label=f\"{id2label[k]},$\\mu$={round(np.mean(lengths),3)},no={len(lengths)}\", alpha=0.3)\n",
    "    plt.xlabel(\"frame lengths\")\n",
    "    plt.ylabel(\"counts\")\n",
    "\n",
    "\n",
    "plt.legend()\n",
    "plt.savefig(\"length distribution.png\")\n",
    "plt.show()"
   ]
  },
  {
   "cell_type": "markdown",
   "metadata": {},
   "source": [
    "# Train experiment"
   ]
  },
  {
   "cell_type": "code",
   "execution_count": 20,
   "metadata": {
    "ExecuteTime": {
     "end_time": "2024-04-23T00:47:36.989397Z",
     "start_time": "2024-04-23T00:47:36.972880Z"
    }
   },
   "outputs": [],
   "source": [
    "from tensorflow.keras.models import Sequential\n",
    "from tensorflow.keras.layers import LSTM, Dense, Dropout, LeakyReLU\n",
    "from tensorflow.keras.callbacks import TensorBoard\n",
    "from tensorflow.keras import backend as K\n",
    "from wandb.keras import WandbMetricsLogger\n",
    "from keras.callbacks import Callback\n",
    "import tensorflow as tf\n",
    "import wandb\n",
    "\n",
    "\n",
    "class CosineAnnealingLearningRateScheduler(Callback):\n",
    "    def __init__(self, max_lr, min_lr, T_max):\n",
    "        super(CosineAnnealingLearningRateScheduler, self).__init__()\n",
    "        self.max_lr = max_lr  # Maximum learning rate (i.e., start learning rate)\n",
    "        self.min_lr = min_lr  # Minimum learning rate\n",
    "        self.T_max = T_max    # Specifies the number of epochs per cycle\n",
    "        self.t = 0            # Current epoch\n",
    "\n",
    "    def on_epoch_begin(self, epoch, logs=None):\n",
    "        self.t += 1\n",
    "        cos = np.cos(np.pi * (self.t % self.T_max) / self.T_max)\n",
    "        lr = self.min_lr + 0.5 * (self.max_lr - self.min_lr) * (1 + cos)\n",
    "\n",
    "        keras.backend.set_value(self.model.optimizer.lr, lr)\n",
    "\n",
    "def keras_train(model, filepath : str, max_lr = 1e-4, min_lr = 5e-5, T_max=51, epochs=100, run_name=\"\",\n",
    "                mediapipe_features = \"all\", USE_WANDB=True): \n",
    "    \n",
    "    \n",
    "    checkpoint = keras.callbacks.ModelCheckpoint(filepath,\n",
    "                                                 monitor=\"val_categorical_accuracy\",\n",
    "                                                 verbose=0,\n",
    "                                                 save_best_only=True,\n",
    "                                                 mode=\"max\",\n",
    "                                                 save_freq=\"epoch\")\n",
    "    \n",
    "    cosine_annealer = CosineAnnealingLearningRateScheduler(max_lr=max_lr,\n",
    "                                                           min_lr=min_lr,\n",
    "                                                           T_max=T_max)\n",
    "    \n",
    "    #Adam Optimizer - fixed learning rate.\n",
    "    adam_optimizer = tf.keras.optimizers.Adam(learning_rate=max_lr, weight_decay=1e-5, clipnorm=1.)\n",
    "\n",
    "    loss = tf.keras.losses.CategoricalCrossentropy(from_logits=False,label_smoothing=0.2)\n",
    "    model.compile(optimizer=adam_optimizer, loss=loss, metrics=['categorical_accuracy'])\n",
    "    \n",
    "    \n",
    "    callbacks  = [checkpoint, cosine_annealer]\n",
    "    \n",
    "    if USE_WANDB:\n",
    "        wandb.init(project=CONFIG.WANDB_RUN,\n",
    "                        name=run_name,\n",
    "                        notes=\"Model summary : \\n\" + str(model),\n",
    "                        config={\"max_lr\" : max_lr, \n",
    "                                \"min_lr\" : 5e-5, \n",
    "                                \"scheduler\" : \"cosineAnnealer\", \n",
    "                                \"epochs\" : epochs, \n",
    "                                \"T_max\" : T_max, \n",
    "                                \"train_size\" : len(train_dataset_parquet.dataset),\n",
    "                                \"val_size\" : len(val_dataset_parquet.dataset),\n",
    "                                \"unique_classes\" : len(train_dataset_parquet.unique_labels), \n",
    "                                \"video_length\" : CONFIG.VIDEO_LENGTH,\n",
    "                                \"features\" : mediapipe_features\n",
    "                                })\n",
    "        callbacks.append(WandbMetricsLogger())\n",
    "\n",
    "\n",
    "    history = model.fit(train_dataset, epochs=epochs, validation_data = val_dataset, callbacks=callbacks)\n",
    "    \n",
    "    if USE_WANDB:      \n",
    "        wandb.finish()\n",
    "    \n",
    "    return history"
   ]
  },
  {
   "cell_type": "markdown",
   "metadata": {},
   "source": [
    "# LSTM"
   ]
  },
  {
   "cell_type": "code",
   "execution_count": 21,
   "metadata": {
    "ExecuteTime": {
     "end_time": "2024-04-23T00:57:17.467348Z",
     "start_time": "2024-04-23T00:47:37.989682Z"
    }
   },
   "outputs": [
    {
     "name": "stderr",
     "output_type": "stream",
     "text": [
      "2024-04-24 20:01:51.274867: I tensorflow/tsl/platform/default/subprocess.cc:304] Start cannot spawn child process: No such file or directory\n"
     ]
    },
    {
     "name": "stdout",
     "output_type": "stream",
     "text": [
      "Model: \"sequential\"\n",
      "_________________________________________________________________\n",
      " Layer (type)                Output Shape              Param #   \n",
      "=================================================================\n",
      " lstm (LSTM)                 (None, 16)                26432     \n",
      "                                                                 \n",
      " leaky_re_lu (LeakyReLU)     (None, 16)                0         \n",
      "                                                                 \n",
      " dense (Dense)               (None, 256)               4352      \n",
      "                                                                 \n",
      " dense_1 (Dense)             (None, 5)                 1285      \n",
      "                                                                 \n",
      "=================================================================\n",
      "Total params: 32069 (125.27 KB)\n",
      "Trainable params: 32069 (125.27 KB)\n",
      "Non-trainable params: 0 (0.00 Byte)\n",
      "_________________________________________________________________\n"
     ]
    },
    {
     "data": {
      "text/plain": [
       "'\\nkeras_train(model, filepath=os.path.join(\"models\", f\"RK-LSTM16-LR-Dense256-fs={fs}-cls={no_cls}.tf\"),\\n            run_name=f\"RK-LSTM16-LR-Dense256-fs={fs}-cls={no_cls}\",\\n            max_lr=1e-4,\\n            min_lr=2.5e-5,\\n            T_max=101,\\n            epochs=200,\\n            mediapipe_features=\"reduced-LipsEyesHandsPose-scaled\",\\n            USE_WANDB=True)\\n'"
      ]
     },
     "execution_count": 21,
     "metadata": {},
     "output_type": "execute_result"
    }
   ],
   "source": [
    "model = Sequential()\n",
    "#x,y,z -> y,z as the input shape\n",
    "model.add(LSTM(16, return_sequences=False, input_shape=X_shape,\n",
    "               kernel_regularizer=l2(0.0001), \n",
    "               activity_regularizer=l2(0.0001)))\n",
    "model.add(LeakyReLU(alpha=0.1))\n",
    "model.add(Dense(256, activation='gelu'))\n",
    "model.add(Dense(len(train_dataset_parquet.unique_labels), activation='softmax'))\n",
    "\n",
    "model.summary()\n",
    "\n",
    "\"\"\"\n",
    "keras_train(model, filepath=os.path.join(\"models\", f\"RK-LSTM16-LR-Dense256-fs={fs}-cls={no_cls}.tf\"),\n",
    "            run_name=f\"RK-LSTM16-LR-Dense256-fs={fs}-cls={no_cls}\",\n",
    "            max_lr=1e-4,\n",
    "            min_lr=2.5e-5,\n",
    "            T_max=101,\n",
    "            epochs=200,\n",
    "            mediapipe_features=\"reduced-LipsEyesHandsPose-scaled\",\n",
    "            USE_WANDB=True)\n",
    "\"\"\""
   ]
  },
  {
   "cell_type": "code",
   "execution_count": 22,
   "metadata": {},
   "outputs": [
    {
     "name": "stdout",
     "output_type": "stream",
     "text": [
      "Model: \"sequential_1\"\n",
      "_________________________________________________________________\n",
      " Layer (type)                Output Shape              Param #   \n",
      "=================================================================\n",
      " lstm_1 (LSTM)               (None, 32)                54912     \n",
      "                                                                 \n",
      " leaky_re_lu_1 (LeakyReLU)   (None, 32)                0         \n",
      "                                                                 \n",
      " dense_2 (Dense)             (None, 256)               8448      \n",
      "                                                                 \n",
      " dense_3 (Dense)             (None, 5)                 1285      \n",
      "                                                                 \n",
      "=================================================================\n",
      "Total params: 64645 (252.52 KB)\n",
      "Trainable params: 64645 (252.52 KB)\n",
      "Non-trainable params: 0 (0.00 Byte)\n",
      "_________________________________________________________________\n"
     ]
    },
    {
     "data": {
      "text/plain": [
       "'\\nkeras_train(model, filepath=os.path.join(\"models\",          \\n            f\"RK-LSTM32-LR-Dense256-fs={fs}-cls={no_cls}.tf\"),\\n            run_name=f\"RK-LSTM32-LR-Dense256-fs={fs}-cls={no_cls}\",\\n            max_lr=1e-4,\\n            min_lr=2.5e-5,\\n            T_max=101,\\n            epochs=200,\\n            mediapipe_features=\"reduced-LipsEyesHandsPose-scaled\",\\n            USE_WANDB=True)\\n'"
      ]
     },
     "execution_count": 22,
     "metadata": {},
     "output_type": "execute_result"
    }
   ],
   "source": [
    "model = Sequential()\n",
    "#x,y,z -> y,z as the input shape\n",
    "model.add(LSTM(32, return_sequences=False, input_shape=X_shape,\n",
    "               kernel_regularizer=l2(0.0001), \n",
    "               activity_regularizer=l2(0.0001)))\n",
    "model.add(LeakyReLU(alpha=0.1))\n",
    "model.add(Dense(256, activation='gelu'))\n",
    "model.add(Dense(len(train_dataset_parquet.unique_labels), activation='softmax'))\n",
    "\n",
    "model.summary()\n",
    "\"\"\"\n",
    "keras_train(model, filepath=os.path.join(\"models\",          \n",
    "            f\"RK-LSTM32-LR-Dense256-fs={fs}-cls={no_cls}.tf\"),\n",
    "            run_name=f\"RK-LSTM32-LR-Dense256-fs={fs}-cls={no_cls}\",\n",
    "            max_lr=1e-4,\n",
    "            min_lr=2.5e-5,\n",
    "            T_max=101,\n",
    "            epochs=200,\n",
    "            mediapipe_features=\"reduced-LipsEyesHandsPose-scaled\",\n",
    "            USE_WANDB=True)\n",
    "\"\"\""
   ]
  },
  {
   "cell_type": "code",
   "execution_count": 48,
   "metadata": {},
   "outputs": [
    {
     "name": "stdout",
     "output_type": "stream",
     "text": [
      "Model: \"sequential_24\"\n",
      "_________________________________________________________________\n",
      " Layer (type)                Output Shape              Param #   \n",
      "=================================================================\n",
      " lstm_10 (LSTM)              (None, 64)                118016    \n",
      "                                                                 \n",
      " leaky_re_lu_22 (LeakyReLU)  (None, 64)                0         \n",
      "                                                                 \n",
      " dense_53 (Dense)            (None, 256)               16640     \n",
      "                                                                 \n",
      " dense_54 (Dense)            (None, 5)                 1285      \n",
      "                                                                 \n",
      "=================================================================\n",
      "Total params: 135941 (531.02 KB)\n",
      "Trainable params: 135941 (531.02 KB)\n",
      "Non-trainable params: 0 (0.00 Byte)\n",
      "_________________________________________________________________\n"
     ]
    },
    {
     "data": {
      "text/plain": [
       "'\\nkeras_train(model, filepath=os.path.join(\"models\",          \\n            f\"RK-LSTM64-LR-Dense256-fs={fs}-cls={no_cls}.tf\"),\\n            run_name=f\"RK-LSTM64-LR-Dense256-fs={fs}-cls={no_cls}\",\\n            max_lr=1e-4,\\n            min_lr=2.5e-5,\\n            T_max=101,\\n            epochs=200,\\n            mediapipe_features=\"reduced-LipsEyesHandsPose-scaled\",\\n            USE_WANDB=True)\\n'"
      ]
     },
     "execution_count": 48,
     "metadata": {},
     "output_type": "execute_result"
    }
   ],
   "source": [
    "model = Sequential()\n",
    "#x,y,z -> y,z as the input shape\n",
    "model.add(LSTM(64, return_sequences=False, input_shape=X_shape,\n",
    "               kernel_regularizer=l2(0.0001), \n",
    "               activity_regularizer=l2(0.0001)))\n",
    "model.add(LeakyReLU(alpha=0.1))\n",
    "model.add(Dense(256, activation='gelu'))\n",
    "model.add(Dense(len(train_dataset_parquet.unique_labels), activation='softmax'))\n",
    "\n",
    "model.summary()\n",
    "\n",
    "\"\"\"\n",
    "keras_train(model, filepath=os.path.join(\"models\",          \n",
    "            f\"RK-LSTM64-LR-Dense256-fs={fs}-cls={no_cls}.tf\"),\n",
    "            run_name=f\"RK-LSTM64-LR-Dense256-fs={fs}-cls={no_cls}\",\n",
    "            max_lr=1e-4,\n",
    "            min_lr=2.5e-5,\n",
    "            T_max=101,\n",
    "            epochs=200,\n",
    "            mediapipe_features=\"reduced-LipsEyesHandsPose-scaled\",\n",
    "            USE_WANDB=True)\n",
    "\"\"\""
   ]
  },
  {
   "cell_type": "code",
   "execution_count": 49,
   "metadata": {},
   "outputs": [
    {
     "name": "stdout",
     "output_type": "stream",
     "text": [
      "Model: \"sequential_25\"\n",
      "_________________________________________________________________\n",
      " Layer (type)                Output Shape              Param #   \n",
      "=================================================================\n",
      " lstm_11 (LSTM)              (None, 128)               268800    \n",
      "                                                                 \n",
      " leaky_re_lu_23 (LeakyReLU)  (None, 128)               0         \n",
      "                                                                 \n",
      " dense_55 (Dense)            (None, 256)               33024     \n",
      "                                                                 \n",
      " dense_56 (Dense)            (None, 5)                 1285      \n",
      "                                                                 \n",
      "=================================================================\n",
      "Total params: 303109 (1.16 MB)\n",
      "Trainable params: 303109 (1.16 MB)\n",
      "Non-trainable params: 0 (0.00 Byte)\n",
      "_________________________________________________________________\n"
     ]
    },
    {
     "data": {
      "text/plain": [
       "'\\nkeras_train(model, filepath=os.path.join(\"models\",          \\n            f\"RK-LSTM128-LR-Dense256-fs={fs}-cls={no_cls}.tf\"),\\n            run_name=f\"RK-LSTM128-LR-Dense256-fs={fs}-cls={no_cls}\",\\n            max_lr=1e-4,\\n            min_lr=2.5e-5,\\n            T_max=101,\\n            epochs=200,\\n            mediapipe_features=\"reduced-LipsEyesHandsPose-scaled\",\\n            USE_WANDB=True)\\n'"
      ]
     },
     "execution_count": 49,
     "metadata": {},
     "output_type": "execute_result"
    }
   ],
   "source": [
    "model = Sequential()\n",
    "#x,y,z -> y,z as the input shape\n",
    "model.add(LSTM(128, return_sequences=False, input_shape=X_shape,\n",
    "               kernel_regularizer=l2(0.0001), \n",
    "               activity_regularizer=l2(0.0001)))\n",
    "model.add(LeakyReLU(alpha=0.1))\n",
    "model.add(Dense(256, activation='gelu'))\n",
    "model.add(Dense(len(train_dataset_parquet.unique_labels), activation='softmax'))\n",
    "\n",
    "model.summary()\n",
    "\n",
    "\"\"\"\n",
    "keras_train(model, filepath=os.path.join(\"models\",          \n",
    "            f\"RK-LSTM128-LR-Dense256-fs={fs}-cls={no_cls}.tf\"),\n",
    "            run_name=f\"RK-LSTM128-LR-Dense256-fs={fs}-cls={no_cls}\",\n",
    "            max_lr=1e-4,\n",
    "            min_lr=2.5e-5,\n",
    "            T_max=101,\n",
    "            epochs=200,\n",
    "            mediapipe_features=\"reduced-LipsEyesHandsPose-scaled\",\n",
    "            USE_WANDB=True)\n",
    "\"\"\""
   ]
  },
  {
   "cell_type": "code",
   "execution_count": null,
   "metadata": {},
   "outputs": [],
   "source": [
    "model = Sequential()\n",
    "#x,y,z -> y,z as the input shape\n",
    "model.add(LSTM(256, return_sequences=False, input_shape=X_shape,\n",
    "               kernel_regularizer=l2(0.0001), \n",
    "               activity_regularizer=l2(0.0001)))\n",
    "model.add(LeakyReLU(alpha=0.1))\n",
    "model.add(Dense(256, activation='gelu'))\n",
    "model.add(Dense(len(train_dataset_parquet.unique_labels), activation='softmax'))\n",
    "\n",
    "\"\"\"\n",
    "keras_train(model, filepath=os.path.join(\"models\",          \n",
    "            f\"RK-LSTM256-LR-Dense256-fs={fs}-cls={no_cls}.tf\"),\n",
    "            run_name=f\"RK-LSTM256-LR-Dense256-fs={fs}-cls={no_cls}\",\n",
    "            max_lr=1e-4,\n",
    "            min_lr=2.5e-5,\n",
    "            T_max=101,\n",
    "            epochs=200,\n",
    "            mediapipe_features=\"reduced-LipsEyesHandsPose-scaled\",\n",
    "            USE_WANDB=True)\n",
    "\"\"\""
   ]
  },
  {
   "cell_type": "code",
   "execution_count": null,
   "metadata": {},
   "outputs": [],
   "source": [
    "model = Sequential()\n",
    "#x,y,z -> y,z as the input shape\n",
    "model.add(LSTM(512, return_sequences=False, input_shape=X_shape,\n",
    "               kernel_regularizer=l2(0.0001), \n",
    "               activity_regularizer=l2(0.0001)))\n",
    "model.add(LeakyReLU(alpha=0.1))\n",
    "model.add(Dense(256, activation='gelu'))\n",
    "model.add(Dense(len(train_dataset_parquet.unique_labels), activation='softmax'))\n",
    "\n",
    "model.summary()\n",
    "\"\"\"\n",
    "keras_train(model, filepath=os.path.join(\"models\",          \n",
    "            f\"RK-LSTM512-LR-Dense256-fs={fs}-cls={no_cls}.tf\"),\n",
    "            run_name=f\"RK-LSTM512-LR-Dense256-fs={fs}-cls={no_cls}\",\n",
    "            max_lr=1e-4,\n",
    "            min_lr=2.5e-5,\n",
    "            T_max=101,\n",
    "            epochs=200,\n",
    "            mediapipe_features=\"reduced-LipsEyesHandsPose-scaled\",\n",
    "            USE_WANDB=True)\n",
    "\"\"\""
   ]
  },
  {
   "cell_type": "code",
   "execution_count": 24,
   "metadata": {},
   "outputs": [
    {
     "name": "stdout",
     "output_type": "stream",
     "text": [
      "Model: \"sequential_3\"\n",
      "_________________________________________________________________\n",
      " Layer (type)                Output Shape              Param #   \n",
      "=================================================================\n",
      " lstm_3 (LSTM)               (None, 128)               268800    \n",
      "                                                                 \n",
      " leaky_re_lu_3 (LeakyReLU)   (None, 128)               0         \n",
      "                                                                 \n",
      " dense_5 (Dense)             (None, 256)               33024     \n",
      "                                                                 \n",
      " dropout (Dropout)           (None, 256)               0         \n",
      "                                                                 \n",
      " batch_normalization (Batch  (None, 256)               1024      \n",
      " Normalization)                                                  \n",
      "                                                                 \n",
      " dense_6 (Dense)             (None, 128)               32896     \n",
      "                                                                 \n",
      " dropout_1 (Dropout)         (None, 128)               0         \n",
      "                                                                 \n",
      " batch_normalization_1 (Bat  (None, 128)               512       \n",
      " chNormalization)                                                \n",
      "                                                                 \n",
      " dense_7 (Dense)             (None, 5)                 645       \n",
      "                                                                 \n",
      "=================================================================\n",
      "Total params: 336901 (1.29 MB)\n",
      "Trainable params: 336133 (1.28 MB)\n",
      "Non-trainable params: 768 (3.00 KB)\n",
      "_________________________________________________________________\n"
     ]
    },
    {
     "data": {
      "text/plain": [
       "'\\nkeras_train(model, filepath=os.path.join(\"models\", f\"RK-LSTM16-LR-Dense256-fs={fs}-cls={no_cls}.tf\"),\\n            run_name=f\"RK-LSTM16-LR-Dense256-fs={fs}-cls={no_cls}\",\\n            max_lr=1e-4,\\n            min_lr=2.5e-5,\\n            T_max=101,\\n            epochs=200,\\n            mediapipe_features=\"reduced-LipsEyesHandsPose-scaled\",\\n            USE_WANDB=True)\\n'"
      ]
     },
     "execution_count": 24,
     "metadata": {},
     "output_type": "execute_result"
    }
   ],
   "source": [
    "from tensorflow.keras import layers \n",
    "model = Sequential()\n",
    "#x,y,z -> y,z as the input shape\n",
    "model.add(LSTM(128, return_sequences=False, input_shape=X_shape,\n",
    "               kernel_regularizer=l2(0.0001), \n",
    "               activity_regularizer=l2(0.0001)))\n",
    "model.add(LeakyReLU(alpha=0.2))\n",
    "model.add(Dense(256, activation='gelu'))\n",
    "model.add(layers.Dropout(0.2))\n",
    "model.add(layers.BatchNormalization())\n",
    "model.add(Dense(128, activation='gelu'))\n",
    "model.add(layers.Dropout(0.2))\n",
    "model.add(layers.BatchNormalization())\n",
    "model.add(Dense(len(train_dataset_parquet.unique_labels), activation='softmax'))\n",
    "\n",
    "model.summary()\n",
    "\"\"\"\n",
    "keras_train(model, filepath=os.path.join(\"models\", f\"RK-LSTM16-LR-Dense256-fs={fs}-cls={no_cls}.tf\"),\n",
    "            run_name=f\"RK-LSTM16-LR-Dense256-fs={fs}-cls={no_cls}\",\n",
    "            max_lr=1e-4,\n",
    "            min_lr=2.5e-5,\n",
    "            T_max=101,\n",
    "            epochs=200,\n",
    "            mediapipe_features=\"reduced-LipsEyesHandsPose-scaled\",\n",
    "            USE_WANDB=True)\n",
    "\"\"\""
   ]
  },
  {
   "cell_type": "markdown",
   "metadata": {},
   "source": [
    "# GRU"
   ]
  },
  {
   "cell_type": "code",
   "execution_count": 50,
   "metadata": {},
   "outputs": [
    {
     "name": "stdout",
     "output_type": "stream",
     "text": [
      "Model: \"sequential_26\"\n",
      "_________________________________________________________________\n",
      " Layer (type)                Output Shape              Param #   \n",
      "=================================================================\n",
      " gru_12 (GRU)                (None, 16)                19872     \n",
      "                                                                 \n",
      " leaky_re_lu_24 (LeakyReLU)  (None, 16)                0         \n",
      "                                                                 \n",
      " dense_57 (Dense)            (None, 256)               4352      \n",
      "                                                                 \n",
      " dense_58 (Dense)            (None, 5)                 1285      \n",
      "                                                                 \n",
      "=================================================================\n",
      "Total params: 25509 (99.64 KB)\n",
      "Trainable params: 25509 (99.64 KB)\n",
      "Non-trainable params: 0 (0.00 Byte)\n",
      "_________________________________________________________________\n"
     ]
    },
    {
     "data": {
      "text/plain": [
       "'\\nkeras_train(model, filepath=os.path.join(\"models\", f\"RK-GRU16-LR-Dense256-gelu-fs={fs}-cls={no_cls}.tf\"),\\n            run_name=f\"RK-GRU16-LR-Dense256-gelu-fs={fs}-cls={no_cls}\",\\n            max_lr=1e-4,\\n            min_lr=2.5e-5,\\n            T_max=101,\\n            epochs=200,\\n            mediapipe_features=\"reduced-LipsEyesHandsPose-scaled\",\\n            USE_WANDB=True)\\n'"
      ]
     },
     "execution_count": 50,
     "metadata": {},
     "output_type": "execute_result"
    }
   ],
   "source": [
    "from tensorflow.keras import layers\n",
    "\n",
    "model = Sequential()\n",
    "#x,y,z -> y,z as the input shape\n",
    "model.add(layers.GRU(16, return_sequences=False, input_shape=X_shape,\n",
    "               kernel_regularizer=l2(0.0001), \n",
    "               activity_regularizer=l2(0.0001)))\n",
    "model.add(LeakyReLU(alpha=0.2))\n",
    "model.add(Dense(256, activation='gelu'))\n",
    "model.add(Dense(len(train_dataset_parquet.unique_labels), activation='softmax'))\n",
    "\n",
    "model.summary()\n",
    "\n",
    "\"\"\"\n",
    "keras_train(model, filepath=os.path.join(\"models\", f\"RK-GRU16-LR-Dense256-gelu-fs={fs}-cls={no_cls}.tf\"),\n",
    "            run_name=f\"RK-GRU16-LR-Dense256-gelu-fs={fs}-cls={no_cls}\",\n",
    "            max_lr=1e-4,\n",
    "            min_lr=2.5e-5,\n",
    "            T_max=101,\n",
    "            epochs=200,\n",
    "            mediapipe_features=\"reduced-LipsEyesHandsPose-scaled\",\n",
    "            USE_WANDB=True)\n",
    "\"\"\""
   ]
  },
  {
   "cell_type": "code",
   "execution_count": 26,
   "metadata": {},
   "outputs": [
    {
     "name": "stdout",
     "output_type": "stream",
     "text": [
      "Model: \"sequential_5\"\n",
      "_________________________________________________________________\n",
      " Layer (type)                Output Shape              Param #   \n",
      "=================================================================\n",
      " gru_1 (GRU)                 (None, 32)                41280     \n",
      "                                                                 \n",
      " leaky_re_lu_5 (LeakyReLU)   (None, 32)                0         \n",
      "                                                                 \n",
      " dense_10 (Dense)            (None, 256)               8448      \n",
      "                                                                 \n",
      " dense_11 (Dense)            (None, 5)                 1285      \n",
      "                                                                 \n",
      "=================================================================\n",
      "Total params: 51013 (199.27 KB)\n",
      "Trainable params: 51013 (199.27 KB)\n",
      "Non-trainable params: 0 (0.00 Byte)\n",
      "_________________________________________________________________\n"
     ]
    },
    {
     "data": {
      "text/plain": [
       "'\\nkeras_train(model, filepath=os.path.join(\"models\", f\"RK-GRU32-LR-Dense256-gelu-fs={fs}-cls={no_cls}.tf\"),\\n            run_name=f\"RK-GRU32-LR-Dense256-gelu-fs={fs}-cls={no_cls}\",\\n            max_lr=1e-4,\\n            min_lr=2.5e-5,\\n            T_max=101,\\n            epochs=200,\\n            mediapipe_features=\"reduced-LipsEyesHandsPose-scaled\",\\n            USE_WANDB=True)\\n'"
      ]
     },
     "execution_count": 26,
     "metadata": {},
     "output_type": "execute_result"
    }
   ],
   "source": [
    "from tensorflow.keras import layers\n",
    "\n",
    "model = Sequential()\n",
    "#x,y,z -> y,z as the input shape\n",
    "model.add(layers.GRU(32, return_sequences=False, input_shape=X_shape,\n",
    "               kernel_regularizer=l2(0.0001), \n",
    "               activity_regularizer=l2(0.0001)))\n",
    "model.add(LeakyReLU(alpha=0.2))\n",
    "model.add(Dense(256, activation='gelu'))\n",
    "model.add(Dense(len(train_dataset_parquet.unique_labels), activation='softmax'))\n",
    "\n",
    "model.summary()\n",
    "\n",
    "\"\"\"\n",
    "keras_train(model, filepath=os.path.join(\"models\", f\"RK-GRU32-LR-Dense256-gelu-fs={fs}-cls={no_cls}.tf\"),\n",
    "            run_name=f\"RK-GRU32-LR-Dense256-gelu-fs={fs}-cls={no_cls}\",\n",
    "            max_lr=1e-4,\n",
    "            min_lr=2.5e-5,\n",
    "            T_max=101,\n",
    "            epochs=200,\n",
    "            mediapipe_features=\"reduced-LipsEyesHandsPose-scaled\",\n",
    "            USE_WANDB=True)\n",
    "\"\"\""
   ]
  },
  {
   "cell_type": "code",
   "execution_count": 27,
   "metadata": {},
   "outputs": [
    {
     "name": "stdout",
     "output_type": "stream",
     "text": [
      "Model: \"sequential_6\"\n",
      "_________________________________________________________________\n",
      " Layer (type)                Output Shape              Param #   \n",
      "=================================================================\n",
      " gru_2 (GRU)                 (None, 64)                88704     \n",
      "                                                                 \n",
      " leaky_re_lu_6 (LeakyReLU)   (None, 64)                0         \n",
      "                                                                 \n",
      " dense_12 (Dense)            (None, 256)               16640     \n",
      "                                                                 \n",
      " dense_13 (Dense)            (None, 5)                 1285      \n",
      "                                                                 \n",
      "=================================================================\n",
      "Total params: 106629 (416.52 KB)\n",
      "Trainable params: 106629 (416.52 KB)\n",
      "Non-trainable params: 0 (0.00 Byte)\n",
      "_________________________________________________________________\n"
     ]
    },
    {
     "data": {
      "text/plain": [
       "'\\nkeras_train(model, filepath=os.path.join(\"models\", f\"RK-GRU64-LR-Dense256-gelu-fs={fs}-cls={no_cls}.tf\"),\\n            run_name=f\"RK-GRU64-LR-Dense256-gelu-fs={fs}-cls={no_cls}\",\\n            max_lr=1e-4,\\n            min_lr=2.5e-5,\\n            T_max=101,\\n            epochs=200,\\n            mediapipe_features=\"reduced-LipsEyesHandsPose-scaled\",\\n            USE_WANDB=True)\\n'"
      ]
     },
     "execution_count": 27,
     "metadata": {},
     "output_type": "execute_result"
    }
   ],
   "source": [
    "from tensorflow.keras import layers\n",
    "\n",
    "model = Sequential()\n",
    "#x,y,z -> y,z as the input shape\n",
    "model.add(layers.GRU(64, return_sequences=False, input_shape=X_shape,\n",
    "               kernel_regularizer=l2(0.0001), \n",
    "               activity_regularizer=l2(0.0001)))\n",
    "model.add(LeakyReLU(alpha=0.2))\n",
    "model.add(Dense(256, activation='gelu'))\n",
    "model.add(Dense(len(train_dataset_parquet.unique_labels), activation='softmax'))\n",
    "\n",
    "model.summary()\n",
    "\n",
    "\"\"\"\n",
    "keras_train(model, filepath=os.path.join(\"models\", f\"RK-GRU64-LR-Dense256-gelu-fs={fs}-cls={no_cls}.tf\"),\n",
    "            run_name=f\"RK-GRU64-LR-Dense256-gelu-fs={fs}-cls={no_cls}\",\n",
    "            max_lr=1e-4,\n",
    "            min_lr=2.5e-5,\n",
    "            T_max=101,\n",
    "            epochs=200,\n",
    "            mediapipe_features=\"reduced-LipsEyesHandsPose-scaled\",\n",
    "            USE_WANDB=True)\n",
    "\"\"\""
   ]
  },
  {
   "cell_type": "code",
   "execution_count": 29,
   "metadata": {},
   "outputs": [
    {
     "name": "stdout",
     "output_type": "stream",
     "text": [
      "Model: \"sequential_8\"\n",
      "_________________________________________________________________\n",
      " Layer (type)                Output Shape              Param #   \n",
      "=================================================================\n",
      " gru_4 (GRU)                 (None, 128)               201984    \n",
      "                                                                 \n",
      " leaky_re_lu_8 (LeakyReLU)   (None, 128)               0         \n",
      "                                                                 \n",
      " dense_16 (Dense)            (None, 256)               33024     \n",
      "                                                                 \n",
      " dense_17 (Dense)            (None, 5)                 1285      \n",
      "                                                                 \n",
      "=================================================================\n",
      "Total params: 236293 (923.02 KB)\n",
      "Trainable params: 236293 (923.02 KB)\n",
      "Non-trainable params: 0 (0.00 Byte)\n",
      "_________________________________________________________________\n"
     ]
    },
    {
     "data": {
      "text/plain": [
       "'\\nkeras_train(model, filepath=os.path.join(\"models\", f\"RK-GRU128-LR-Dense256-gelu-fs={fs}-cls={no_cls}.tf\"),\\n            run_name=f\"RK-GRU128-LR-Dense256-gelu-fs={fs}-cls={no_cls}\",\\n            max_lr=1e-4,\\n            min_lr=2.5e-5,\\n            T_max=101,\\n            epochs=200,\\n            mediapipe_features=\"reduced-LipsEyesHandsPose-scaled\",\\n            USE_WANDB=True)\\n'"
      ]
     },
     "execution_count": 29,
     "metadata": {},
     "output_type": "execute_result"
    }
   ],
   "source": [
    "from tensorflow.keras import layers\n",
    "\n",
    "model = Sequential()\n",
    "#x,y,z -> y,z as the input shape\n",
    "model.add(layers.GRU(128, return_sequences=False, input_shape=X_shape,\n",
    "               kernel_regularizer=l2(0.0001), \n",
    "               activity_regularizer=l2(0.0001)))\n",
    "model.add(LeakyReLU(alpha=0.2))\n",
    "model.add(Dense(256, activation='gelu'))\n",
    "model.add(Dense(len(train_dataset_parquet.unique_labels), activation='softmax'))\n",
    "\n",
    "model.summary()\n",
    "\"\"\"\n",
    "keras_train(model, filepath=os.path.join(\"models\", f\"RK-GRU128-LR-Dense256-gelu-fs={fs}-cls={no_cls}.tf\"),\n",
    "            run_name=f\"RK-GRU128-LR-Dense256-gelu-fs={fs}-cls={no_cls}\",\n",
    "            max_lr=1e-4,\n",
    "            min_lr=2.5e-5,\n",
    "            T_max=101,\n",
    "            epochs=200,\n",
    "            mediapipe_features=\"reduced-LipsEyesHandsPose-scaled\",\n",
    "            USE_WANDB=True)\n",
    "\"\"\""
   ]
  },
  {
   "cell_type": "code",
   "execution_count": 30,
   "metadata": {},
   "outputs": [
    {
     "name": "stdout",
     "output_type": "stream",
     "text": [
      "Model: \"sequential_9\"\n",
      "_________________________________________________________________\n",
      " Layer (type)                Output Shape              Param #   \n",
      "=================================================================\n",
      " gru_5 (GRU)                 (None, 256)               502272    \n",
      "                                                                 \n",
      " leaky_re_lu_9 (LeakyReLU)   (None, 256)               0         \n",
      "                                                                 \n",
      " dense_18 (Dense)            (None, 256)               65792     \n",
      "                                                                 \n",
      " dense_19 (Dense)            (None, 5)                 1285      \n",
      "                                                                 \n",
      "=================================================================\n",
      "Total params: 569349 (2.17 MB)\n",
      "Trainable params: 569349 (2.17 MB)\n",
      "Non-trainable params: 0 (0.00 Byte)\n",
      "_________________________________________________________________\n"
     ]
    },
    {
     "data": {
      "text/plain": [
       "'\\nkeras_train(model, filepath=os.path.join(\"models\", f\"RK-GRU256-LR-Dense256-gelu-fs={fs}-cls={no_cls}.tf\"),\\n            run_name=f\"RK-GRU256-LR-Dense256-gelu-fs={fs}-cls={no_cls}\",\\n            max_lr=1e-4,\\n            min_lr=2.5e-5,\\n            T_max=101,\\n            epochs=200,\\n            mediapipe_features=\"reduced-LipsEyesHandsPose-scaled\",\\n            USE_WANDB=True)\\n'"
      ]
     },
     "execution_count": 30,
     "metadata": {},
     "output_type": "execute_result"
    }
   ],
   "source": [
    "from tensorflow.keras import layers\n",
    "\n",
    "model = Sequential()\n",
    "#x,y,z -> y,z as the input shape\n",
    "model.add(layers.GRU(256, return_sequences=False, input_shape=X_shape,\n",
    "               kernel_regularizer=l2(0.0001), \n",
    "               activity_regularizer=l2(0.0001)))\n",
    "model.add(LeakyReLU(alpha=0.2))\n",
    "model.add(Dense(256, activation='gelu'))\n",
    "model.add(Dense(len(train_dataset_parquet.unique_labels), activation='softmax'))\n",
    "\n",
    "model.summary()\n",
    "\n",
    "\"\"\"\n",
    "keras_train(model, filepath=os.path.join(\"models\", f\"RK-GRU256-LR-Dense256-gelu-fs={fs}-cls={no_cls}.tf\"),\n",
    "            run_name=f\"RK-GRU256-LR-Dense256-gelu-fs={fs}-cls={no_cls}\",\n",
    "            max_lr=1e-4,\n",
    "            min_lr=2.5e-5,\n",
    "            T_max=101,\n",
    "            epochs=200,\n",
    "            mediapipe_features=\"reduced-LipsEyesHandsPose-scaled\",\n",
    "            USE_WANDB=True)\n",
    "\"\"\""
   ]
  },
  {
   "cell_type": "code",
   "execution_count": 51,
   "metadata": {},
   "outputs": [
    {
     "name": "stderr",
     "output_type": "stream",
     "text": [
      "\u001b[34m\u001b[1mwandb\u001b[0m: Logging into wandb.ai. (Learn how to deploy a W&B server locally: https://wandb.me/wandb-server)\n",
      "\u001b[34m\u001b[1mwandb\u001b[0m: You can find your API key in your browser here: https://wandb.ai/authorize\n",
      "\u001b[34m\u001b[1mwandb\u001b[0m: Paste an API key from your profile and hit enter, or press ctrl+c to quit:"
     ]
    },
    {
     "name": "stdin",
     "output_type": "stream",
     "text": [
      "  ········\n"
     ]
    },
    {
     "name": "stderr",
     "output_type": "stream",
     "text": [
      "\u001b[34m\u001b[1mwandb\u001b[0m: Appending key for api.wandb.ai to your netrc file: /root/.netrc\n"
     ]
    },
    {
     "data": {
      "text/html": [
       "Tracking run with wandb version 0.16.6"
      ],
      "text/plain": [
       "<IPython.core.display.HTML object>"
      ]
     },
     "metadata": {},
     "output_type": "display_data"
    },
    {
     "data": {
      "text/html": [
       "Run data is saved locally in <code>/workspace/wandb/run-20240424_210355-8pkfakau</code>"
      ],
      "text/plain": [
       "<IPython.core.display.HTML object>"
      ]
     },
     "metadata": {},
     "output_type": "display_data"
    },
    {
     "data": {
      "text/html": [
       "Syncing run <strong><a href='https://wandb.ai/mlewand7/mediapipe-asl-dataset/runs/8pkfakau' target=\"_blank\">RK-GRU512-LR-Dense256-gelu-fs=36-cls=5</a></strong> to <a href='https://wandb.ai/mlewand7/mediapipe-asl-dataset' target=\"_blank\">Weights & Biases</a> (<a href='https://wandb.me/run' target=\"_blank\">docs</a>)<br/>"
      ],
      "text/plain": [
       "<IPython.core.display.HTML object>"
      ]
     },
     "metadata": {},
     "output_type": "display_data"
    },
    {
     "data": {
      "text/html": [
       " View project at <a href='https://wandb.ai/mlewand7/mediapipe-asl-dataset' target=\"_blank\">https://wandb.ai/mlewand7/mediapipe-asl-dataset</a>"
      ],
      "text/plain": [
       "<IPython.core.display.HTML object>"
      ]
     },
     "metadata": {},
     "output_type": "display_data"
    },
    {
     "data": {
      "text/html": [
       " View run at <a href='https://wandb.ai/mlewand7/mediapipe-asl-dataset/runs/8pkfakau' target=\"_blank\">https://wandb.ai/mlewand7/mediapipe-asl-dataset/runs/8pkfakau</a>"
      ],
      "text/plain": [
       "<IPython.core.display.HTML object>"
      ]
     },
     "metadata": {},
     "output_type": "display_data"
    },
    {
     "name": "stdout",
     "output_type": "stream",
     "text": [
      "Epoch 1/200\n"
     ]
    },
    {
     "name": "stderr",
     "output_type": "stream",
     "text": [
      "2024-04-24 21:03:57.989781: I tensorflow/compiler/xla/stream_executor/cuda/cuda_dnn.cc:442] Loaded cuDNN version 8905\n",
      "2024-04-24 21:03:58.684326: I tensorflow/compiler/xla/service/service.cc:168] XLA service 0x7fd4fc7df1f0 initialized for platform CUDA (this does not guarantee that XLA will be used). Devices:\n",
      "2024-04-24 21:03:58.684340: I tensorflow/compiler/xla/service/service.cc:176]   StreamExecutor device (0): NVIDIA GeForce RTX 3090, Compute Capability 8.6\n",
      "2024-04-24 21:03:58.687457: I tensorflow/compiler/mlir/tensorflow/utils/dump_mlir_util.cc:269] disabling MLIR crash reproducer, set env var `MLIR_CRASH_REPRODUCER_DIRECTORY` to enable.\n",
      "2024-04-24 21:03:58.750663: I ./tensorflow/compiler/jit/device_compiler.h:186] Compiled cluster using XLA!  This line is logged at most once for the lifetime of the process.\n"
     ]
    },
    {
     "name": "stdout",
     "output_type": "stream",
     "text": [
      "     49/Unknown - 3s 4ms/step - loss: 1.6569 - categorical_accuracy: 0.2532"
     ]
    },
    {
     "name": "stderr",
     "output_type": "stream",
     "text": [
      "2024-04-24 21:03:59.183297: I tensorflow/core/framework/local_rendezvous.cc:421] Local rendezvous recv item cancelled. Key hash: 1368681614446503123\n",
      "2024-04-24 21:03:59.183319: I tensorflow/core/framework/local_rendezvous.cc:421] Local rendezvous recv item cancelled. Key hash: 5158358860664932207\n",
      "2024-04-24 21:03:59.183323: I tensorflow/core/framework/local_rendezvous.cc:421] Local rendezvous recv item cancelled. Key hash: 9895804937067374648\n",
      "2024-04-24 21:03:59.499136: I tensorflow/core/framework/local_rendezvous.cc:421] Local rendezvous recv item cancelled. Key hash: 12739715128622553133\n",
      "2024-04-24 21:03:59.499158: I tensorflow/core/framework/local_rendezvous.cc:421] Local rendezvous recv item cancelled. Key hash: 5158358860664932207\n",
      "2024-04-24 21:03:59.499164: I tensorflow/core/framework/local_rendezvous.cc:421] Local rendezvous recv item cancelled. Key hash: 2233733099800699452\n",
      "2024-04-24 21:03:59.499173: I tensorflow/core/framework/local_rendezvous.cc:421] Local rendezvous recv item cancelled. Key hash: 11851058187450915882\n"
     ]
    },
    {
     "name": "stdout",
     "output_type": "stream",
     "text": [
      "INFO:tensorflow:Assets written to: models/RK-GRU512-LR-Dense256-gelu-fs=36-cls=5.tf/assets\n"
     ]
    },
    {
     "name": "stderr",
     "output_type": "stream",
     "text": [
      "INFO:tensorflow:Assets written to: models/RK-GRU512-LR-Dense256-gelu-fs=36-cls=5.tf/assets\n"
     ]
    },
    {
     "name": "stdout",
     "output_type": "stream",
     "text": [
      "50/50 [==============================] - 4s 41ms/step - loss: 1.6560 - categorical_accuracy: 0.2575 - val_loss: 1.6217 - val_categorical_accuracy: 0.2825\n",
      "Epoch 2/200\n",
      "50/50 [==============================] - ETA: 0s - loss: 1.6046 - categorical_accuracy: 0.3450INFO:tensorflow:Assets written to: models/RK-GRU512-LR-Dense256-gelu-fs=36-cls=5.tf/assets\n"
     ]
    },
    {
     "name": "stderr",
     "output_type": "stream",
     "text": [
      "INFO:tensorflow:Assets written to: models/RK-GRU512-LR-Dense256-gelu-fs=36-cls=5.tf/assets\n"
     ]
    },
    {
     "name": "stdout",
     "output_type": "stream",
     "text": [
      "50/50 [==============================] - 2s 33ms/step - loss: 1.6046 - categorical_accuracy: 0.3450 - val_loss: 1.6040 - val_categorical_accuracy: 0.3100\n",
      "Epoch 3/200\n",
      "40/50 [=======================>......] - ETA: 0s - loss: 1.5767 - categorical_accuracy: 0.3867INFO:tensorflow:Assets written to: models/RK-GRU512-LR-Dense256-gelu-fs=36-cls=5.tf/assets\n"
     ]
    },
    {
     "name": "stderr",
     "output_type": "stream",
     "text": [
      "INFO:tensorflow:Assets written to: models/RK-GRU512-LR-Dense256-gelu-fs=36-cls=5.tf/assets\n"
     ]
    },
    {
     "name": "stdout",
     "output_type": "stream",
     "text": [
      "50/50 [==============================] - 2s 38ms/step - loss: 1.5751 - categorical_accuracy: 0.3850 - val_loss: 1.5865 - val_categorical_accuracy: 0.3275\n",
      "Epoch 4/200\n",
      "40/50 [=======================>......] - ETA: 0s - loss: 1.5435 - categorical_accuracy: 0.4586INFO:tensorflow:Assets written to: models/RK-GRU512-LR-Dense256-gelu-fs=36-cls=5.tf/assets\n"
     ]
    },
    {
     "name": "stderr",
     "output_type": "stream",
     "text": [
      "INFO:tensorflow:Assets written to: models/RK-GRU512-LR-Dense256-gelu-fs=36-cls=5.tf/assets\n"
     ]
    },
    {
     "name": "stdout",
     "output_type": "stream",
     "text": [
      "50/50 [==============================] - 2s 33ms/step - loss: 1.5350 - categorical_accuracy: 0.4588 - val_loss: 1.4979 - val_categorical_accuracy: 0.4100\n",
      "Epoch 5/200\n",
      "40/50 [=======================>......] - ETA: 0s - loss: 1.3898 - categorical_accuracy: 0.4625INFO:tensorflow:Assets written to: models/RK-GRU512-LR-Dense256-gelu-fs=36-cls=5.tf/assets\n"
     ]
    },
    {
     "name": "stderr",
     "output_type": "stream",
     "text": [
      "INFO:tensorflow:Assets written to: models/RK-GRU512-LR-Dense256-gelu-fs=36-cls=5.tf/assets\n"
     ]
    },
    {
     "name": "stdout",
     "output_type": "stream",
     "text": [
      "50/50 [==============================] - 2s 33ms/step - loss: 1.3854 - categorical_accuracy: 0.4675 - val_loss: 1.3932 - val_categorical_accuracy: 0.4325\n",
      "Epoch 6/200\n",
      "39/50 [======================>.......] - ETA: 0s - loss: 1.3241 - categorical_accuracy: 0.5144INFO:tensorflow:Assets written to: models/RK-GRU512-LR-Dense256-gelu-fs=36-cls=5.tf/assets\n"
     ]
    },
    {
     "name": "stderr",
     "output_type": "stream",
     "text": [
      "INFO:tensorflow:Assets written to: models/RK-GRU512-LR-Dense256-gelu-fs=36-cls=5.tf/assets\n"
     ]
    },
    {
     "name": "stdout",
     "output_type": "stream",
     "text": [
      "50/50 [==============================] - 2s 39ms/step - loss: 1.3235 - categorical_accuracy: 0.5188 - val_loss: 1.3710 - val_categorical_accuracy: 0.4575\n",
      "Epoch 7/200\n",
      "39/50 [======================>.......] - ETA: 0s - loss: 1.2872 - categorical_accuracy: 0.5721INFO:tensorflow:Assets written to: models/RK-GRU512-LR-Dense256-gelu-fs=36-cls=5.tf/assets\n"
     ]
    },
    {
     "name": "stderr",
     "output_type": "stream",
     "text": [
      "INFO:tensorflow:Assets written to: models/RK-GRU512-LR-Dense256-gelu-fs=36-cls=5.tf/assets\n"
     ]
    },
    {
     "name": "stdout",
     "output_type": "stream",
     "text": [
      "50/50 [==============================] - 2s 34ms/step - loss: 1.2869 - categorical_accuracy: 0.5763 - val_loss: 1.3514 - val_categorical_accuracy: 0.5125\n",
      "Epoch 8/200\n",
      "50/50 [==============================] - ETA: 0s - loss: 1.2475 - categorical_accuracy: 0.6356INFO:tensorflow:Assets written to: models/RK-GRU512-LR-Dense256-gelu-fs=36-cls=5.tf/assets\n"
     ]
    },
    {
     "name": "stderr",
     "output_type": "stream",
     "text": [
      "INFO:tensorflow:Assets written to: models/RK-GRU512-LR-Dense256-gelu-fs=36-cls=5.tf/assets\n"
     ]
    },
    {
     "name": "stdout",
     "output_type": "stream",
     "text": [
      "50/50 [==============================] - 2s 33ms/step - loss: 1.2475 - categorical_accuracy: 0.6356 - val_loss: 1.3263 - val_categorical_accuracy: 0.5525\n",
      "Epoch 9/200\n",
      "39/50 [======================>.......] - ETA: 0s - loss: 1.2027 - categorical_accuracy: 0.6811INFO:tensorflow:Assets written to: models/RK-GRU512-LR-Dense256-gelu-fs=36-cls=5.tf/assets\n"
     ]
    },
    {
     "name": "stderr",
     "output_type": "stream",
     "text": [
      "INFO:tensorflow:Assets written to: models/RK-GRU512-LR-Dense256-gelu-fs=36-cls=5.tf/assets\n"
     ]
    },
    {
     "name": "stdout",
     "output_type": "stream",
     "text": [
      "50/50 [==============================] - 2s 33ms/step - loss: 1.2021 - categorical_accuracy: 0.6856 - val_loss: 1.2959 - val_categorical_accuracy: 0.5800\n",
      "Epoch 10/200\n",
      "50/50 [==============================] - ETA: 0s - loss: 1.1557 - categorical_accuracy: 0.7188INFO:tensorflow:Assets written to: models/RK-GRU512-LR-Dense256-gelu-fs=36-cls=5.tf/assets\n"
     ]
    },
    {
     "name": "stderr",
     "output_type": "stream",
     "text": [
      "INFO:tensorflow:Assets written to: models/RK-GRU512-LR-Dense256-gelu-fs=36-cls=5.tf/assets\n"
     ]
    },
    {
     "name": "stdout",
     "output_type": "stream",
     "text": [
      "50/50 [==============================] - 2s 40ms/step - loss: 1.1557 - categorical_accuracy: 0.7188 - val_loss: 1.2643 - val_categorical_accuracy: 0.6050\n",
      "Epoch 11/200\n",
      "38/50 [=====================>........] - ETA: 0s - loss: 1.1124 - categorical_accuracy: 0.7525INFO:tensorflow:Assets written to: models/RK-GRU512-LR-Dense256-gelu-fs=36-cls=5.tf/assets\n"
     ]
    },
    {
     "name": "stderr",
     "output_type": "stream",
     "text": [
      "INFO:tensorflow:Assets written to: models/RK-GRU512-LR-Dense256-gelu-fs=36-cls=5.tf/assets\n"
     ]
    },
    {
     "name": "stdout",
     "output_type": "stream",
     "text": [
      "50/50 [==============================] - 2s 33ms/step - loss: 1.1108 - categorical_accuracy: 0.7569 - val_loss: 1.2469 - val_categorical_accuracy: 0.6150\n",
      "Epoch 12/200\n",
      "39/50 [======================>.......] - ETA: 0s - loss: 1.0883 - categorical_accuracy: 0.7572INFO:tensorflow:Assets written to: models/RK-GRU512-LR-Dense256-gelu-fs=36-cls=5.tf/assets\n"
     ]
    },
    {
     "name": "stderr",
     "output_type": "stream",
     "text": [
      "INFO:tensorflow:Assets written to: models/RK-GRU512-LR-Dense256-gelu-fs=36-cls=5.tf/assets\n"
     ]
    },
    {
     "name": "stdout",
     "output_type": "stream",
     "text": [
      "50/50 [==============================] - 2s 33ms/step - loss: 1.0921 - categorical_accuracy: 0.7606 - val_loss: 1.2349 - val_categorical_accuracy: 0.6350\n",
      "Epoch 13/200\n",
      "38/50 [=====================>........] - ETA: 0s - loss: 1.0697 - categorical_accuracy: 0.7697INFO:tensorflow:Assets written to: models/RK-GRU512-LR-Dense256-gelu-fs=36-cls=5.tf/assets\n"
     ]
    },
    {
     "name": "stderr",
     "output_type": "stream",
     "text": [
      "INFO:tensorflow:Assets written to: models/RK-GRU512-LR-Dense256-gelu-fs=36-cls=5.tf/assets\n"
     ]
    },
    {
     "name": "stdout",
     "output_type": "stream",
     "text": [
      "50/50 [==============================] - 2s 39ms/step - loss: 1.0712 - categorical_accuracy: 0.7719 - val_loss: 1.2128 - val_categorical_accuracy: 0.6400\n",
      "Epoch 14/200\n",
      "39/50 [======================>.......] - ETA: 0s - loss: 1.0364 - categorical_accuracy: 0.7949INFO:tensorflow:Assets written to: models/RK-GRU512-LR-Dense256-gelu-fs=36-cls=5.tf/assets\n"
     ]
    },
    {
     "name": "stderr",
     "output_type": "stream",
     "text": [
      "INFO:tensorflow:Assets written to: models/RK-GRU512-LR-Dense256-gelu-fs=36-cls=5.tf/assets\n"
     ]
    },
    {
     "name": "stdout",
     "output_type": "stream",
     "text": [
      "50/50 [==============================] - 2s 34ms/step - loss: 1.0418 - categorical_accuracy: 0.7956 - val_loss: 1.2174 - val_categorical_accuracy: 0.6425\n",
      "Epoch 15/200\n",
      "39/50 [======================>.......] - ETA: 0s - loss: 1.0152 - categorical_accuracy: 0.8253INFO:tensorflow:Assets written to: models/RK-GRU512-LR-Dense256-gelu-fs=36-cls=5.tf/assets\n"
     ]
    },
    {
     "name": "stderr",
     "output_type": "stream",
     "text": [
      "INFO:tensorflow:Assets written to: models/RK-GRU512-LR-Dense256-gelu-fs=36-cls=5.tf/assets\n"
     ]
    },
    {
     "name": "stdout",
     "output_type": "stream",
     "text": [
      "50/50 [==============================] - 2s 33ms/step - loss: 1.0221 - categorical_accuracy: 0.8231 - val_loss: 1.2234 - val_categorical_accuracy: 0.6475\n",
      "Epoch 16/200\n",
      "39/50 [======================>.......] - ETA: 0s - loss: 0.9994 - categorical_accuracy: 0.8301INFO:tensorflow:Assets written to: models/RK-GRU512-LR-Dense256-gelu-fs=36-cls=5.tf/assets\n"
     ]
    },
    {
     "name": "stderr",
     "output_type": "stream",
     "text": [
      "INFO:tensorflow:Assets written to: models/RK-GRU512-LR-Dense256-gelu-fs=36-cls=5.tf/assets\n"
     ]
    },
    {
     "name": "stdout",
     "output_type": "stream",
     "text": [
      "50/50 [==============================] - 2s 33ms/step - loss: 1.0078 - categorical_accuracy: 0.8269 - val_loss: 1.2225 - val_categorical_accuracy: 0.6600\n",
      "Epoch 17/200\n",
      "39/50 [======================>.......] - ETA: 0s - loss: 0.9844 - categorical_accuracy: 0.8478INFO:tensorflow:Assets written to: models/RK-GRU512-LR-Dense256-gelu-fs=36-cls=5.tf/assets\n"
     ]
    },
    {
     "name": "stderr",
     "output_type": "stream",
     "text": [
      "INFO:tensorflow:Assets written to: models/RK-GRU512-LR-Dense256-gelu-fs=36-cls=5.tf/assets\n"
     ]
    },
    {
     "name": "stdout",
     "output_type": "stream",
     "text": [
      "50/50 [==============================] - 2s 40ms/step - loss: 0.9938 - categorical_accuracy: 0.8406 - val_loss: 1.2184 - val_categorical_accuracy: 0.6650\n",
      "Epoch 18/200\n",
      "50/50 [==============================] - 0s 6ms/step - loss: 0.9814 - categorical_accuracy: 0.8425 - val_loss: 1.2141 - val_categorical_accuracy: 0.6650\n",
      "Epoch 19/200\n",
      "38/50 [=====================>........] - ETA: 0s - loss: 0.9579 - categorical_accuracy: 0.8651INFO:tensorflow:Assets written to: models/RK-GRU512-LR-Dense256-gelu-fs=36-cls=5.tf/assets\n"
     ]
    },
    {
     "name": "stderr",
     "output_type": "stream",
     "text": [
      "INFO:tensorflow:Assets written to: models/RK-GRU512-LR-Dense256-gelu-fs=36-cls=5.tf/assets\n"
     ]
    },
    {
     "name": "stdout",
     "output_type": "stream",
     "text": [
      "50/50 [==============================] - 2s 33ms/step - loss: 0.9634 - categorical_accuracy: 0.8612 - val_loss: 1.2094 - val_categorical_accuracy: 0.6675\n",
      "Epoch 20/200\n",
      "50/50 [==============================] - 0s 6ms/step - loss: 0.9492 - categorical_accuracy: 0.8719 - val_loss: 1.2080 - val_categorical_accuracy: 0.6600\n",
      "Epoch 21/200\n",
      "39/50 [======================>.......] - ETA: 0s - loss: 0.9307 - categorical_accuracy: 0.8870INFO:tensorflow:Assets written to: models/RK-GRU512-LR-Dense256-gelu-fs=36-cls=5.tf/assets\n"
     ]
    },
    {
     "name": "stderr",
     "output_type": "stream",
     "text": [
      "INFO:tensorflow:Assets written to: models/RK-GRU512-LR-Dense256-gelu-fs=36-cls=5.tf/assets\n"
     ]
    },
    {
     "name": "stdout",
     "output_type": "stream",
     "text": [
      "50/50 [==============================] - 2s 33ms/step - loss: 0.9383 - categorical_accuracy: 0.8781 - val_loss: 1.2023 - val_categorical_accuracy: 0.6825\n",
      "Epoch 22/200\n",
      "38/50 [=====================>........] - ETA: 0s - loss: 0.9200 - categorical_accuracy: 0.8906INFO:tensorflow:Assets written to: models/RK-GRU512-LR-Dense256-gelu-fs=36-cls=5.tf/assets\n"
     ]
    },
    {
     "name": "stderr",
     "output_type": "stream",
     "text": [
      "INFO:tensorflow:Assets written to: models/RK-GRU512-LR-Dense256-gelu-fs=36-cls=5.tf/assets\n"
     ]
    },
    {
     "name": "stdout",
     "output_type": "stream",
     "text": [
      "50/50 [==============================] - 2s 33ms/step - loss: 0.9263 - categorical_accuracy: 0.8825 - val_loss: 1.2038 - val_categorical_accuracy: 0.6950\n",
      "Epoch 23/200\n",
      "50/50 [==============================] - 0s 6ms/step - loss: 0.9174 - categorical_accuracy: 0.8944 - val_loss: 1.2058 - val_categorical_accuracy: 0.6850\n",
      "Epoch 24/200\n",
      "50/50 [==============================] - 0s 6ms/step - loss: 0.9053 - categorical_accuracy: 0.9050 - val_loss: 1.2034 - val_categorical_accuracy: 0.6950\n",
      "Epoch 25/200\n",
      "50/50 [==============================] - 0s 6ms/step - loss: 0.9046 - categorical_accuracy: 0.9019 - val_loss: 1.2108 - val_categorical_accuracy: 0.6825\n",
      "Epoch 26/200\n",
      "50/50 [==============================] - 0s 6ms/step - loss: 0.8940 - categorical_accuracy: 0.9125 - val_loss: 1.2108 - val_categorical_accuracy: 0.6825\n",
      "Epoch 27/200\n",
      "50/50 [==============================] - 0s 5ms/step - loss: 0.8918 - categorical_accuracy: 0.9125 - val_loss: 1.2206 - val_categorical_accuracy: 0.6775\n",
      "Epoch 28/200\n",
      "50/50 [==============================] - 0s 5ms/step - loss: 0.8933 - categorical_accuracy: 0.9075 - val_loss: 1.2432 - val_categorical_accuracy: 0.6800\n",
      "Epoch 29/200\n",
      "50/50 [==============================] - 0s 5ms/step - loss: 0.8947 - categorical_accuracy: 0.9056 - val_loss: 1.2476 - val_categorical_accuracy: 0.6650\n",
      "Epoch 30/200\n",
      "50/50 [==============================] - 0s 5ms/step - loss: 0.8983 - categorical_accuracy: 0.8956 - val_loss: 1.2354 - val_categorical_accuracy: 0.6675\n",
      "Epoch 31/200\n",
      "50/50 [==============================] - 0s 5ms/step - loss: 0.8930 - categorical_accuracy: 0.9100 - val_loss: 1.2398 - val_categorical_accuracy: 0.6675\n",
      "Epoch 32/200\n",
      "50/50 [==============================] - 0s 5ms/step - loss: 0.8801 - categorical_accuracy: 0.9144 - val_loss: 1.2389 - val_categorical_accuracy: 0.6700\n",
      "Epoch 33/200\n",
      "50/50 [==============================] - 0s 5ms/step - loss: 0.8654 - categorical_accuracy: 0.9250 - val_loss: 1.2344 - val_categorical_accuracy: 0.6750\n",
      "Epoch 34/200\n",
      "50/50 [==============================] - 0s 5ms/step - loss: 0.8547 - categorical_accuracy: 0.9337 - val_loss: 1.2499 - val_categorical_accuracy: 0.6725\n",
      "Epoch 35/200\n",
      "50/50 [==============================] - 0s 5ms/step - loss: 0.8511 - categorical_accuracy: 0.9337 - val_loss: 1.2541 - val_categorical_accuracy: 0.6700\n",
      "Epoch 36/200\n",
      "50/50 [==============================] - 0s 5ms/step - loss: 0.8509 - categorical_accuracy: 0.9306 - val_loss: 1.2305 - val_categorical_accuracy: 0.6950\n",
      "Epoch 37/200\n",
      "40/50 [=======================>......] - ETA: 0s - loss: 0.8342 - categorical_accuracy: 0.9484INFO:tensorflow:Assets written to: models/RK-GRU512-LR-Dense256-gelu-fs=36-cls=5.tf/assets\n"
     ]
    },
    {
     "name": "stderr",
     "output_type": "stream",
     "text": [
      "INFO:tensorflow:Assets written to: models/RK-GRU512-LR-Dense256-gelu-fs=36-cls=5.tf/assets\n"
     ]
    },
    {
     "name": "stdout",
     "output_type": "stream",
     "text": [
      "50/50 [==============================] - 2s 40ms/step - loss: 0.8442 - categorical_accuracy: 0.9400 - val_loss: 1.2419 - val_categorical_accuracy: 0.7000\n",
      "Epoch 38/200\n",
      "50/50 [==============================] - 0s 6ms/step - loss: 0.8308 - categorical_accuracy: 0.9456 - val_loss: 1.2341 - val_categorical_accuracy: 0.6950\n",
      "Epoch 39/200\n",
      "40/50 [=======================>......] - ETA: 0s - loss: 0.8184 - categorical_accuracy: 0.9500INFO:tensorflow:Assets written to: models/RK-GRU512-LR-Dense256-gelu-fs=36-cls=5.tf/assets\n"
     ]
    },
    {
     "name": "stderr",
     "output_type": "stream",
     "text": [
      "INFO:tensorflow:Assets written to: models/RK-GRU512-LR-Dense256-gelu-fs=36-cls=5.tf/assets\n"
     ]
    },
    {
     "name": "stdout",
     "output_type": "stream",
     "text": [
      "50/50 [==============================] - 2s 33ms/step - loss: 0.8271 - categorical_accuracy: 0.9463 - val_loss: 1.2402 - val_categorical_accuracy: 0.7075\n",
      "Epoch 40/200\n",
      "50/50 [==============================] - 0s 6ms/step - loss: 0.8243 - categorical_accuracy: 0.9513 - val_loss: 1.2484 - val_categorical_accuracy: 0.7000\n",
      "Epoch 41/200\n",
      "50/50 [==============================] - 0s 6ms/step - loss: 0.8300 - categorical_accuracy: 0.9456 - val_loss: 1.2414 - val_categorical_accuracy: 0.6825\n",
      "Epoch 42/200\n",
      "50/50 [==============================] - 0s 5ms/step - loss: 0.8309 - categorical_accuracy: 0.9444 - val_loss: 1.2664 - val_categorical_accuracy: 0.6775\n",
      "Epoch 43/200\n",
      "50/50 [==============================] - 0s 6ms/step - loss: 0.8250 - categorical_accuracy: 0.9488 - val_loss: 1.2569 - val_categorical_accuracy: 0.6875\n",
      "Epoch 44/200\n",
      "50/50 [==============================] - 0s 5ms/step - loss: 0.8183 - categorical_accuracy: 0.9525 - val_loss: 1.2549 - val_categorical_accuracy: 0.6950\n",
      "Epoch 45/200\n",
      "50/50 [==============================] - 0s 5ms/step - loss: 0.8098 - categorical_accuracy: 0.9613 - val_loss: 1.2523 - val_categorical_accuracy: 0.6900\n",
      "Epoch 46/200\n",
      "50/50 [==============================] - 0s 5ms/step - loss: 0.8064 - categorical_accuracy: 0.9600 - val_loss: 1.2591 - val_categorical_accuracy: 0.6800\n",
      "Epoch 47/200\n",
      "50/50 [==============================] - 0s 5ms/step - loss: 0.7995 - categorical_accuracy: 0.9625 - val_loss: 1.2409 - val_categorical_accuracy: 0.7075\n",
      "Epoch 48/200\n",
      "50/50 [==============================] - 0s 5ms/step - loss: 0.7950 - categorical_accuracy: 0.9663 - val_loss: 1.2457 - val_categorical_accuracy: 0.6875\n",
      "Epoch 49/200\n",
      "50/50 [==============================] - 0s 5ms/step - loss: 0.7906 - categorical_accuracy: 0.9706 - val_loss: 1.2385 - val_categorical_accuracy: 0.7000\n",
      "Epoch 50/200\n",
      "50/50 [==============================] - 0s 5ms/step - loss: 0.7872 - categorical_accuracy: 0.9700 - val_loss: 1.2491 - val_categorical_accuracy: 0.7000\n",
      "Epoch 51/200\n",
      "50/50 [==============================] - 0s 5ms/step - loss: 0.7827 - categorical_accuracy: 0.9700 - val_loss: 1.2469 - val_categorical_accuracy: 0.6900\n",
      "Epoch 52/200\n",
      "50/50 [==============================] - 0s 5ms/step - loss: 0.7784 - categorical_accuracy: 0.9756 - val_loss: 1.2520 - val_categorical_accuracy: 0.6850\n",
      "Epoch 53/200\n",
      "50/50 [==============================] - 0s 5ms/step - loss: 0.7717 - categorical_accuracy: 0.9787 - val_loss: 1.2491 - val_categorical_accuracy: 0.6875\n",
      "Epoch 54/200\n",
      "50/50 [==============================] - 0s 5ms/step - loss: 0.7683 - categorical_accuracy: 0.9775 - val_loss: 1.2497 - val_categorical_accuracy: 0.6925\n",
      "Epoch 55/200\n",
      "50/50 [==============================] - 0s 5ms/step - loss: 0.7666 - categorical_accuracy: 0.9806 - val_loss: 1.2520 - val_categorical_accuracy: 0.6875\n",
      "Epoch 56/200\n",
      "50/50 [==============================] - 0s 5ms/step - loss: 0.7665 - categorical_accuracy: 0.9794 - val_loss: 1.2428 - val_categorical_accuracy: 0.6925\n",
      "Epoch 57/200\n",
      "50/50 [==============================] - 0s 5ms/step - loss: 0.7657 - categorical_accuracy: 0.9800 - val_loss: 1.2526 - val_categorical_accuracy: 0.6925\n",
      "Epoch 58/200\n",
      "50/50 [==============================] - 0s 5ms/step - loss: 0.7608 - categorical_accuracy: 0.9825 - val_loss: 1.2470 - val_categorical_accuracy: 0.6900\n",
      "Epoch 59/200\n",
      "50/50 [==============================] - 0s 5ms/step - loss: 0.7585 - categorical_accuracy: 0.9850 - val_loss: 1.2519 - val_categorical_accuracy: 0.7000\n",
      "Epoch 60/200\n",
      "50/50 [==============================] - 0s 5ms/step - loss: 0.7575 - categorical_accuracy: 0.9837 - val_loss: 1.2538 - val_categorical_accuracy: 0.7025\n",
      "Epoch 61/200\n",
      "50/50 [==============================] - 0s 5ms/step - loss: 0.7546 - categorical_accuracy: 0.9862 - val_loss: 1.2510 - val_categorical_accuracy: 0.6950\n",
      "Epoch 62/200\n",
      "50/50 [==============================] - 0s 5ms/step - loss: 0.7531 - categorical_accuracy: 0.9837 - val_loss: 1.2514 - val_categorical_accuracy: 0.7025\n",
      "Epoch 63/200\n",
      "50/50 [==============================] - 0s 5ms/step - loss: 0.7520 - categorical_accuracy: 0.9869 - val_loss: 1.2527 - val_categorical_accuracy: 0.7000\n",
      "Epoch 64/200\n",
      "40/50 [=======================>......] - ETA: 0s - loss: 0.7450 - categorical_accuracy: 0.9906INFO:tensorflow:Assets written to: models/RK-GRU512-LR-Dense256-gelu-fs=36-cls=5.tf/assets\n"
     ]
    },
    {
     "name": "stderr",
     "output_type": "stream",
     "text": [
      "INFO:tensorflow:Assets written to: models/RK-GRU512-LR-Dense256-gelu-fs=36-cls=5.tf/assets\n"
     ]
    },
    {
     "name": "stdout",
     "output_type": "stream",
     "text": [
      "50/50 [==============================] - 2s 33ms/step - loss: 0.7503 - categorical_accuracy: 0.9887 - val_loss: 1.2506 - val_categorical_accuracy: 0.7125\n",
      "Epoch 65/200\n",
      "50/50 [==============================] - 0s 6ms/step - loss: 0.7478 - categorical_accuracy: 0.9869 - val_loss: 1.2516 - val_categorical_accuracy: 0.7025\n",
      "Epoch 66/200\n",
      "50/50 [==============================] - 0s 6ms/step - loss: 0.7494 - categorical_accuracy: 0.9875 - val_loss: 1.2535 - val_categorical_accuracy: 0.7000\n",
      "Epoch 67/200\n",
      "50/50 [==============================] - 0s 5ms/step - loss: 0.7459 - categorical_accuracy: 0.9894 - val_loss: 1.2511 - val_categorical_accuracy: 0.7050\n",
      "Epoch 68/200\n",
      "50/50 [==============================] - 0s 5ms/step - loss: 0.7449 - categorical_accuracy: 0.9900 - val_loss: 1.2542 - val_categorical_accuracy: 0.7125\n",
      "Epoch 69/200\n",
      "50/50 [==============================] - 0s 5ms/step - loss: 0.7449 - categorical_accuracy: 0.9894 - val_loss: 1.2643 - val_categorical_accuracy: 0.6950\n",
      "Epoch 70/200\n",
      "50/50 [==============================] - 0s 5ms/step - loss: 0.7440 - categorical_accuracy: 0.9894 - val_loss: 1.2559 - val_categorical_accuracy: 0.7025\n",
      "Epoch 71/200\n",
      "50/50 [==============================] - 0s 5ms/step - loss: 0.7415 - categorical_accuracy: 0.9919 - val_loss: 1.2549 - val_categorical_accuracy: 0.7075\n",
      "Epoch 72/200\n",
      "50/50 [==============================] - 0s 5ms/step - loss: 0.7405 - categorical_accuracy: 0.9906 - val_loss: 1.2534 - val_categorical_accuracy: 0.6950\n",
      "Epoch 73/200\n",
      "50/50 [==============================] - 0s 5ms/step - loss: 0.7401 - categorical_accuracy: 0.9906 - val_loss: 1.2526 - val_categorical_accuracy: 0.7000\n",
      "Epoch 74/200\n",
      "50/50 [==============================] - 0s 5ms/step - loss: 0.7399 - categorical_accuracy: 0.9900 - val_loss: 1.2546 - val_categorical_accuracy: 0.6950\n",
      "Epoch 75/200\n",
      "40/50 [=======================>......] - ETA: 0s - loss: 0.7360 - categorical_accuracy: 0.9922INFO:tensorflow:Assets written to: models/RK-GRU512-LR-Dense256-gelu-fs=36-cls=5.tf/assets\n"
     ]
    },
    {
     "name": "stderr",
     "output_type": "stream",
     "text": [
      "INFO:tensorflow:Assets written to: models/RK-GRU512-LR-Dense256-gelu-fs=36-cls=5.tf/assets\n"
     ]
    },
    {
     "name": "stdout",
     "output_type": "stream",
     "text": [
      "50/50 [==============================] - 2s 39ms/step - loss: 0.7406 - categorical_accuracy: 0.9900 - val_loss: 1.2546 - val_categorical_accuracy: 0.7150\n",
      "Epoch 76/200\n",
      "50/50 [==============================] - 0s 6ms/step - loss: 0.7371 - categorical_accuracy: 0.9912 - val_loss: 1.2532 - val_categorical_accuracy: 0.7075\n",
      "Epoch 77/200\n",
      "50/50 [==============================] - 0s 5ms/step - loss: 0.7347 - categorical_accuracy: 0.9919 - val_loss: 1.2464 - val_categorical_accuracy: 0.7125\n",
      "Epoch 78/200\n",
      "50/50 [==============================] - 0s 5ms/step - loss: 0.7359 - categorical_accuracy: 0.9912 - val_loss: 1.2512 - val_categorical_accuracy: 0.7075\n",
      "Epoch 79/200\n",
      "50/50 [==============================] - 0s 5ms/step - loss: 0.7387 - categorical_accuracy: 0.9887 - val_loss: 1.2514 - val_categorical_accuracy: 0.7050\n",
      "Epoch 80/200\n",
      "50/50 [==============================] - 0s 5ms/step - loss: 0.7355 - categorical_accuracy: 0.9900 - val_loss: 1.2542 - val_categorical_accuracy: 0.7025\n",
      "Epoch 81/200\n",
      "50/50 [==============================] - 0s 5ms/step - loss: 0.7367 - categorical_accuracy: 0.9912 - val_loss: 1.2477 - val_categorical_accuracy: 0.7125\n",
      "Epoch 82/200\n",
      "50/50 [==============================] - 0s 5ms/step - loss: 0.7328 - categorical_accuracy: 0.9925 - val_loss: 1.2511 - val_categorical_accuracy: 0.7050\n",
      "Epoch 83/200\n",
      "50/50 [==============================] - 0s 5ms/step - loss: 0.7312 - categorical_accuracy: 0.9919 - val_loss: 1.2457 - val_categorical_accuracy: 0.7025\n",
      "Epoch 84/200\n",
      "50/50 [==============================] - 0s 5ms/step - loss: 0.7316 - categorical_accuracy: 0.9919 - val_loss: 1.2457 - val_categorical_accuracy: 0.7075\n",
      "Epoch 85/200\n",
      "50/50 [==============================] - 0s 5ms/step - loss: 0.7317 - categorical_accuracy: 0.9919 - val_loss: 1.2474 - val_categorical_accuracy: 0.7050\n",
      "Epoch 86/200\n",
      "50/50 [==============================] - 0s 5ms/step - loss: 0.7311 - categorical_accuracy: 0.9919 - val_loss: 1.2483 - val_categorical_accuracy: 0.7050\n",
      "Epoch 87/200\n",
      "50/50 [==============================] - 0s 5ms/step - loss: 0.7315 - categorical_accuracy: 0.9925 - val_loss: 1.2505 - val_categorical_accuracy: 0.7025\n",
      "Epoch 88/200\n",
      "50/50 [==============================] - 0s 5ms/step - loss: 0.7309 - categorical_accuracy: 0.9925 - val_loss: 1.2470 - val_categorical_accuracy: 0.7050\n",
      "Epoch 89/200\n",
      "50/50 [==============================] - 0s 5ms/step - loss: 0.7299 - categorical_accuracy: 0.9925 - val_loss: 1.2501 - val_categorical_accuracy: 0.7025\n",
      "Epoch 90/200\n",
      "50/50 [==============================] - 0s 5ms/step - loss: 0.7292 - categorical_accuracy: 0.9925 - val_loss: 1.2496 - val_categorical_accuracy: 0.7000\n",
      "Epoch 91/200\n",
      "50/50 [==============================] - 0s 5ms/step - loss: 0.7274 - categorical_accuracy: 0.9950 - val_loss: 1.2501 - val_categorical_accuracy: 0.7150\n",
      "Epoch 92/200\n",
      "50/50 [==============================] - 0s 5ms/step - loss: 0.7282 - categorical_accuracy: 0.9937 - val_loss: 1.2536 - val_categorical_accuracy: 0.7000\n",
      "Epoch 93/200\n",
      "50/50 [==============================] - 0s 5ms/step - loss: 0.7301 - categorical_accuracy: 0.9925 - val_loss: 1.2575 - val_categorical_accuracy: 0.6975\n",
      "Epoch 94/200\n",
      "50/50 [==============================] - 0s 5ms/step - loss: 0.7272 - categorical_accuracy: 0.9937 - val_loss: 1.2539 - val_categorical_accuracy: 0.7025\n",
      "Epoch 95/200\n",
      "50/50 [==============================] - 0s 5ms/step - loss: 0.7284 - categorical_accuracy: 0.9925 - val_loss: 1.2554 - val_categorical_accuracy: 0.7050\n",
      "Epoch 96/200\n",
      "50/50 [==============================] - 0s 6ms/step - loss: 0.7262 - categorical_accuracy: 0.9950 - val_loss: 1.2581 - val_categorical_accuracy: 0.7050\n",
      "Epoch 97/200\n",
      "50/50 [==============================] - 0s 6ms/step - loss: 0.7274 - categorical_accuracy: 0.9956 - val_loss: 1.2576 - val_categorical_accuracy: 0.7050\n",
      "Epoch 98/200\n",
      "50/50 [==============================] - 0s 5ms/step - loss: 0.7253 - categorical_accuracy: 0.9956 - val_loss: 1.2545 - val_categorical_accuracy: 0.7075\n",
      "Epoch 99/200\n",
      "50/50 [==============================] - 0s 5ms/step - loss: 0.7260 - categorical_accuracy: 0.9950 - val_loss: 1.2568 - val_categorical_accuracy: 0.7000\n",
      "Epoch 100/200\n",
      "50/50 [==============================] - 0s 5ms/step - loss: 0.7243 - categorical_accuracy: 0.9950 - val_loss: 1.2555 - val_categorical_accuracy: 0.6950\n",
      "Epoch 101/200\n",
      "50/50 [==============================] - 0s 5ms/step - loss: 0.7398 - categorical_accuracy: 0.9887 - val_loss: 1.2837 - val_categorical_accuracy: 0.6975\n",
      "Epoch 102/200\n",
      "50/50 [==============================] - 0s 5ms/step - loss: 0.7782 - categorical_accuracy: 0.9737 - val_loss: 1.2837 - val_categorical_accuracy: 0.6850\n",
      "Epoch 103/200\n",
      "50/50 [==============================] - 0s 5ms/step - loss: 0.7985 - categorical_accuracy: 0.9544 - val_loss: 1.2883 - val_categorical_accuracy: 0.6675\n",
      "Epoch 104/200\n",
      "50/50 [==============================] - 0s 5ms/step - loss: 0.8015 - categorical_accuracy: 0.9569 - val_loss: 1.2556 - val_categorical_accuracy: 0.6800\n",
      "Epoch 105/200\n",
      "50/50 [==============================] - 0s 5ms/step - loss: 0.7670 - categorical_accuracy: 0.9750 - val_loss: 1.2876 - val_categorical_accuracy: 0.6900\n",
      "Epoch 106/200\n",
      "50/50 [==============================] - 0s 5ms/step - loss: 0.7613 - categorical_accuracy: 0.9775 - val_loss: 1.2772 - val_categorical_accuracy: 0.6875\n",
      "Epoch 107/200\n",
      "50/50 [==============================] - 0s 5ms/step - loss: 0.7506 - categorical_accuracy: 0.9825 - val_loss: 1.2735 - val_categorical_accuracy: 0.6800\n",
      "Epoch 108/200\n",
      "50/50 [==============================] - 0s 5ms/step - loss: 0.7520 - categorical_accuracy: 0.9819 - val_loss: 1.2858 - val_categorical_accuracy: 0.6900\n",
      "Epoch 109/200\n",
      "50/50 [==============================] - 0s 5ms/step - loss: 0.7435 - categorical_accuracy: 0.9850 - val_loss: 1.2645 - val_categorical_accuracy: 0.6850\n",
      "Epoch 110/200\n",
      "50/50 [==============================] - 0s 5ms/step - loss: 0.7493 - categorical_accuracy: 0.9800 - val_loss: 1.2468 - val_categorical_accuracy: 0.7000\n",
      "Epoch 111/200\n",
      "50/50 [==============================] - 0s 5ms/step - loss: 0.7410 - categorical_accuracy: 0.9856 - val_loss: 1.2633 - val_categorical_accuracy: 0.6875\n",
      "Epoch 112/200\n",
      "50/50 [==============================] - 0s 5ms/step - loss: 0.7495 - categorical_accuracy: 0.9794 - val_loss: 1.2753 - val_categorical_accuracy: 0.6950\n",
      "Epoch 113/200\n",
      "50/50 [==============================] - 0s 5ms/step - loss: 0.7403 - categorical_accuracy: 0.9881 - val_loss: 1.2412 - val_categorical_accuracy: 0.6950\n",
      "Epoch 114/200\n",
      "50/50 [==============================] - 0s 5ms/step - loss: 0.7328 - categorical_accuracy: 0.9906 - val_loss: 1.2595 - val_categorical_accuracy: 0.7050\n",
      "Epoch 115/200\n",
      "50/50 [==============================] - 0s 5ms/step - loss: 0.7432 - categorical_accuracy: 0.9844 - val_loss: 1.2875 - val_categorical_accuracy: 0.6900\n",
      "Epoch 116/200\n",
      "50/50 [==============================] - 0s 5ms/step - loss: 0.7370 - categorical_accuracy: 0.9856 - val_loss: 1.2854 - val_categorical_accuracy: 0.6925\n",
      "Epoch 117/200\n",
      "50/50 [==============================] - 0s 5ms/step - loss: 0.7343 - categorical_accuracy: 0.9875 - val_loss: 1.2596 - val_categorical_accuracy: 0.7050\n",
      "Epoch 118/200\n",
      "50/50 [==============================] - 0s 5ms/step - loss: 0.7331 - categorical_accuracy: 0.9900 - val_loss: 1.2471 - val_categorical_accuracy: 0.6975\n",
      "Epoch 119/200\n",
      "50/50 [==============================] - 0s 5ms/step - loss: 0.7340 - categorical_accuracy: 0.9869 - val_loss: 1.2501 - val_categorical_accuracy: 0.7025\n",
      "Epoch 120/200\n",
      "50/50 [==============================] - 0s 5ms/step - loss: 0.7381 - categorical_accuracy: 0.9856 - val_loss: 1.2738 - val_categorical_accuracy: 0.6950\n",
      "Epoch 121/200\n",
      "50/50 [==============================] - 0s 5ms/step - loss: 0.7254 - categorical_accuracy: 0.9944 - val_loss: 1.2483 - val_categorical_accuracy: 0.7025\n",
      "Epoch 122/200\n",
      "50/50 [==============================] - 0s 5ms/step - loss: 0.7230 - categorical_accuracy: 0.9937 - val_loss: 1.2577 - val_categorical_accuracy: 0.6975\n",
      "Epoch 123/200\n",
      "50/50 [==============================] - 0s 5ms/step - loss: 0.7198 - categorical_accuracy: 0.9931 - val_loss: 1.2505 - val_categorical_accuracy: 0.6775\n",
      "Epoch 124/200\n",
      "50/50 [==============================] - 0s 5ms/step - loss: 0.7211 - categorical_accuracy: 0.9944 - val_loss: 1.2496 - val_categorical_accuracy: 0.7050\n",
      "Epoch 125/200\n",
      "50/50 [==============================] - 0s 5ms/step - loss: 0.7172 - categorical_accuracy: 0.9962 - val_loss: 1.2509 - val_categorical_accuracy: 0.6950\n",
      "Epoch 126/200\n",
      "50/50 [==============================] - 0s 5ms/step - loss: 0.7189 - categorical_accuracy: 0.9950 - val_loss: 1.2486 - val_categorical_accuracy: 0.7050\n",
      "Epoch 127/200\n",
      "50/50 [==============================] - 0s 5ms/step - loss: 0.7146 - categorical_accuracy: 0.9975 - val_loss: 1.2532 - val_categorical_accuracy: 0.7000\n",
      "Epoch 128/200\n",
      "50/50 [==============================] - 0s 5ms/step - loss: 0.7167 - categorical_accuracy: 0.9950 - val_loss: 1.2417 - val_categorical_accuracy: 0.7100\n",
      "Epoch 129/200\n",
      "50/50 [==============================] - 0s 5ms/step - loss: 0.7165 - categorical_accuracy: 0.9944 - val_loss: 1.2538 - val_categorical_accuracy: 0.6800\n",
      "Epoch 130/200\n",
      "50/50 [==============================] - 0s 5ms/step - loss: 0.7181 - categorical_accuracy: 0.9956 - val_loss: 1.2501 - val_categorical_accuracy: 0.6925\n",
      "Epoch 131/200\n",
      "50/50 [==============================] - 0s 5ms/step - loss: 0.7175 - categorical_accuracy: 0.9950 - val_loss: 1.2520 - val_categorical_accuracy: 0.6875\n",
      "Epoch 132/200\n",
      "50/50 [==============================] - 0s 5ms/step - loss: 0.7158 - categorical_accuracy: 0.9950 - val_loss: 1.2498 - val_categorical_accuracy: 0.7075\n",
      "Epoch 133/200\n",
      "50/50 [==============================] - 0s 5ms/step - loss: 0.7123 - categorical_accuracy: 0.9975 - val_loss: 1.2529 - val_categorical_accuracy: 0.6825\n",
      "Epoch 134/200\n",
      "50/50 [==============================] - 0s 5ms/step - loss: 0.7158 - categorical_accuracy: 0.9956 - val_loss: 1.2513 - val_categorical_accuracy: 0.7000\n",
      "Epoch 135/200\n",
      "50/50 [==============================] - 0s 5ms/step - loss: 0.7128 - categorical_accuracy: 0.9975 - val_loss: 1.2682 - val_categorical_accuracy: 0.6850\n",
      "Epoch 136/200\n",
      "50/50 [==============================] - 0s 5ms/step - loss: 0.7122 - categorical_accuracy: 0.9975 - val_loss: 1.2561 - val_categorical_accuracy: 0.6950\n",
      "Epoch 137/200\n",
      "50/50 [==============================] - 0s 5ms/step - loss: 0.7102 - categorical_accuracy: 0.9975 - val_loss: 1.2428 - val_categorical_accuracy: 0.7050\n",
      "Epoch 138/200\n",
      "50/50 [==============================] - 0s 5ms/step - loss: 0.7122 - categorical_accuracy: 0.9969 - val_loss: 1.2524 - val_categorical_accuracy: 0.6875\n",
      "Epoch 139/200\n",
      "50/50 [==============================] - 0s 5ms/step - loss: 0.7086 - categorical_accuracy: 0.9987 - val_loss: 1.2456 - val_categorical_accuracy: 0.6950\n",
      "Epoch 140/200\n",
      "50/50 [==============================] - 0s 5ms/step - loss: 0.7074 - categorical_accuracy: 0.9994 - val_loss: 1.2584 - val_categorical_accuracy: 0.7000\n",
      "Epoch 141/200\n",
      "50/50 [==============================] - 0s 5ms/step - loss: 0.7070 - categorical_accuracy: 0.9987 - val_loss: 1.2538 - val_categorical_accuracy: 0.6925\n",
      "Epoch 142/200\n",
      "50/50 [==============================] - 0s 5ms/step - loss: 0.7086 - categorical_accuracy: 0.9975 - val_loss: 1.2430 - val_categorical_accuracy: 0.6975\n",
      "Epoch 143/200\n",
      "50/50 [==============================] - 0s 5ms/step - loss: 0.7082 - categorical_accuracy: 0.9975 - val_loss: 1.2500 - val_categorical_accuracy: 0.7050\n",
      "Epoch 144/200\n",
      "50/50 [==============================] - 0s 5ms/step - loss: 0.7080 - categorical_accuracy: 0.9981 - val_loss: 1.2396 - val_categorical_accuracy: 0.7025\n",
      "Epoch 145/200\n",
      "50/50 [==============================] - 0s 5ms/step - loss: 0.7059 - categorical_accuracy: 0.9987 - val_loss: 1.2528 - val_categorical_accuracy: 0.6900\n",
      "Epoch 146/200\n",
      "50/50 [==============================] - 0s 5ms/step - loss: 0.7058 - categorical_accuracy: 0.9987 - val_loss: 1.2472 - val_categorical_accuracy: 0.7075\n",
      "Epoch 147/200\n",
      "50/50 [==============================] - 0s 5ms/step - loss: 0.7041 - categorical_accuracy: 0.9994 - val_loss: 1.2544 - val_categorical_accuracy: 0.6875\n",
      "Epoch 148/200\n",
      "50/50 [==============================] - 0s 5ms/step - loss: 0.7033 - categorical_accuracy: 0.9994 - val_loss: 1.2494 - val_categorical_accuracy: 0.6925\n",
      "Epoch 149/200\n",
      "50/50 [==============================] - 0s 5ms/step - loss: 0.7030 - categorical_accuracy: 0.9994 - val_loss: 1.2362 - val_categorical_accuracy: 0.7050\n",
      "Epoch 150/200\n",
      "50/50 [==============================] - 0s 5ms/step - loss: 0.7027 - categorical_accuracy: 0.9994 - val_loss: 1.2460 - val_categorical_accuracy: 0.6950\n",
      "Epoch 151/200\n",
      "50/50 [==============================] - 0s 5ms/step - loss: 0.7024 - categorical_accuracy: 0.9994 - val_loss: 1.2388 - val_categorical_accuracy: 0.6950\n",
      "Epoch 152/200\n",
      "50/50 [==============================] - 0s 5ms/step - loss: 0.7033 - categorical_accuracy: 0.9981 - val_loss: 1.2443 - val_categorical_accuracy: 0.7025\n",
      "Epoch 153/200\n",
      "50/50 [==============================] - 0s 5ms/step - loss: 0.7023 - categorical_accuracy: 0.9994 - val_loss: 1.2404 - val_categorical_accuracy: 0.6875\n",
      "Epoch 154/200\n",
      "50/50 [==============================] - 0s 5ms/step - loss: 0.7031 - categorical_accuracy: 0.9987 - val_loss: 1.2440 - val_categorical_accuracy: 0.6975\n",
      "Epoch 155/200\n",
      "50/50 [==============================] - 0s 5ms/step - loss: 0.7031 - categorical_accuracy: 0.9987 - val_loss: 1.2621 - val_categorical_accuracy: 0.6900\n",
      "Epoch 156/200\n",
      "50/50 [==============================] - 0s 5ms/step - loss: 0.7043 - categorical_accuracy: 0.9981 - val_loss: 1.2540 - val_categorical_accuracy: 0.6925\n",
      "Epoch 157/200\n",
      "50/50 [==============================] - 0s 5ms/step - loss: 0.7049 - categorical_accuracy: 0.9981 - val_loss: 1.2409 - val_categorical_accuracy: 0.7050\n",
      "Epoch 158/200\n",
      "50/50 [==============================] - 0s 5ms/step - loss: 0.7071 - categorical_accuracy: 0.9975 - val_loss: 1.2548 - val_categorical_accuracy: 0.7025\n",
      "Epoch 159/200\n",
      "50/50 [==============================] - 0s 5ms/step - loss: 0.7044 - categorical_accuracy: 0.9975 - val_loss: 1.2570 - val_categorical_accuracy: 0.6925\n",
      "Epoch 160/200\n",
      "50/50 [==============================] - 0s 5ms/step - loss: 0.7026 - categorical_accuracy: 0.9994 - val_loss: 1.2484 - val_categorical_accuracy: 0.6925\n",
      "Epoch 161/200\n",
      "50/50 [==============================] - 0s 5ms/step - loss: 0.7038 - categorical_accuracy: 0.9981 - val_loss: 1.2345 - val_categorical_accuracy: 0.7000\n",
      "Epoch 162/200\n",
      "50/50 [==============================] - 0s 6ms/step - loss: 0.7028 - categorical_accuracy: 0.9981 - val_loss: 1.2499 - val_categorical_accuracy: 0.6850\n",
      "Epoch 163/200\n",
      "50/50 [==============================] - 0s 5ms/step - loss: 0.7015 - categorical_accuracy: 0.9994 - val_loss: 1.2376 - val_categorical_accuracy: 0.7000\n",
      "Epoch 164/200\n",
      "50/50 [==============================] - 0s 6ms/step - loss: 0.7010 - categorical_accuracy: 0.9987 - val_loss: 1.2362 - val_categorical_accuracy: 0.7050\n",
      "Epoch 165/200\n",
      "50/50 [==============================] - 0s 5ms/step - loss: 0.7009 - categorical_accuracy: 0.9987 - val_loss: 1.2283 - val_categorical_accuracy: 0.7075\n",
      "Epoch 166/200\n",
      "50/50 [==============================] - 0s 5ms/step - loss: 0.7014 - categorical_accuracy: 0.9975 - val_loss: 1.2419 - val_categorical_accuracy: 0.6925\n",
      "Epoch 167/200\n",
      "50/50 [==============================] - 0s 5ms/step - loss: 0.7003 - categorical_accuracy: 0.9987 - val_loss: 1.2329 - val_categorical_accuracy: 0.7050\n",
      "Epoch 168/200\n",
      "50/50 [==============================] - 0s 5ms/step - loss: 0.7003 - categorical_accuracy: 0.9987 - val_loss: 1.2375 - val_categorical_accuracy: 0.6925\n",
      "Epoch 169/200\n",
      "50/50 [==============================] - 0s 5ms/step - loss: 0.6992 - categorical_accuracy: 0.9994 - val_loss: 1.2231 - val_categorical_accuracy: 0.7125\n",
      "Epoch 170/200\n",
      "50/50 [==============================] - 0s 5ms/step - loss: 0.6988 - categorical_accuracy: 0.9994 - val_loss: 1.2301 - val_categorical_accuracy: 0.6975\n",
      "Epoch 171/200\n",
      "50/50 [==============================] - 0s 5ms/step - loss: 0.6984 - categorical_accuracy: 0.9994 - val_loss: 1.2208 - val_categorical_accuracy: 0.7050\n",
      "Epoch 172/200\n",
      "50/50 [==============================] - 0s 5ms/step - loss: 0.6982 - categorical_accuracy: 0.9994 - val_loss: 1.2274 - val_categorical_accuracy: 0.6975\n",
      "Epoch 173/200\n",
      "50/50 [==============================] - 0s 5ms/step - loss: 0.6982 - categorical_accuracy: 0.9994 - val_loss: 1.2240 - val_categorical_accuracy: 0.7025\n",
      "Epoch 174/200\n",
      "50/50 [==============================] - 0s 5ms/step - loss: 0.6989 - categorical_accuracy: 0.9987 - val_loss: 1.2252 - val_categorical_accuracy: 0.7025\n",
      "Epoch 175/200\n",
      "50/50 [==============================] - 0s 5ms/step - loss: 0.6985 - categorical_accuracy: 0.9994 - val_loss: 1.2245 - val_categorical_accuracy: 0.7075\n",
      "Epoch 176/200\n",
      "50/50 [==============================] - 0s 5ms/step - loss: 0.6981 - categorical_accuracy: 0.9994 - val_loss: 1.2234 - val_categorical_accuracy: 0.7075\n",
      "Epoch 177/200\n",
      "50/50 [==============================] - 0s 5ms/step - loss: 0.6975 - categorical_accuracy: 0.9994 - val_loss: 1.2193 - val_categorical_accuracy: 0.7000\n",
      "Epoch 178/200\n",
      "50/50 [==============================] - 0s 5ms/step - loss: 0.6975 - categorical_accuracy: 0.9994 - val_loss: 1.2294 - val_categorical_accuracy: 0.7025\n",
      "Epoch 179/200\n",
      "50/50 [==============================] - 0s 5ms/step - loss: 0.6973 - categorical_accuracy: 0.9994 - val_loss: 1.2178 - val_categorical_accuracy: 0.7100\n",
      "Epoch 180/200\n",
      "50/50 [==============================] - 0s 5ms/step - loss: 0.6970 - categorical_accuracy: 0.9994 - val_loss: 1.2215 - val_categorical_accuracy: 0.7000\n",
      "Epoch 181/200\n",
      "50/50 [==============================] - 0s 5ms/step - loss: 0.6970 - categorical_accuracy: 0.9994 - val_loss: 1.2189 - val_categorical_accuracy: 0.7000\n",
      "Epoch 182/200\n",
      "50/50 [==============================] - 0s 5ms/step - loss: 0.6970 - categorical_accuracy: 0.9994 - val_loss: 1.2308 - val_categorical_accuracy: 0.6950\n",
      "Epoch 183/200\n",
      "50/50 [==============================] - 0s 5ms/step - loss: 0.6967 - categorical_accuracy: 0.9994 - val_loss: 1.2174 - val_categorical_accuracy: 0.7025\n",
      "Epoch 184/200\n",
      "50/50 [==============================] - 0s 5ms/step - loss: 0.6964 - categorical_accuracy: 0.9994 - val_loss: 1.2193 - val_categorical_accuracy: 0.7050\n",
      "Epoch 185/200\n",
      "50/50 [==============================] - 0s 5ms/step - loss: 0.6964 - categorical_accuracy: 0.9994 - val_loss: 1.2206 - val_categorical_accuracy: 0.7000\n",
      "Epoch 186/200\n",
      "50/50 [==============================] - 0s 5ms/step - loss: 0.6964 - categorical_accuracy: 0.9994 - val_loss: 1.2178 - val_categorical_accuracy: 0.6925\n",
      "Epoch 187/200\n",
      "50/50 [==============================] - 0s 5ms/step - loss: 0.6965 - categorical_accuracy: 0.9994 - val_loss: 1.2219 - val_categorical_accuracy: 0.6975\n",
      "Epoch 188/200\n",
      "50/50 [==============================] - 0s 5ms/step - loss: 0.6961 - categorical_accuracy: 0.9994 - val_loss: 1.2162 - val_categorical_accuracy: 0.7000\n",
      "Epoch 189/200\n",
      "50/50 [==============================] - 0s 5ms/step - loss: 0.6960 - categorical_accuracy: 0.9994 - val_loss: 1.2165 - val_categorical_accuracy: 0.7025\n",
      "Epoch 190/200\n",
      "50/50 [==============================] - 0s 5ms/step - loss: 0.6958 - categorical_accuracy: 0.9994 - val_loss: 1.2151 - val_categorical_accuracy: 0.6950\n",
      "Epoch 191/200\n",
      "50/50 [==============================] - 0s 5ms/step - loss: 0.6960 - categorical_accuracy: 0.9994 - val_loss: 1.2164 - val_categorical_accuracy: 0.7000\n",
      "Epoch 192/200\n",
      "50/50 [==============================] - 0s 5ms/step - loss: 0.6955 - categorical_accuracy: 0.9994 - val_loss: 1.2139 - val_categorical_accuracy: 0.7025\n",
      "Epoch 193/200\n",
      "50/50 [==============================] - 0s 5ms/step - loss: 0.6954 - categorical_accuracy: 0.9994 - val_loss: 1.2142 - val_categorical_accuracy: 0.7000\n",
      "Epoch 194/200\n",
      "50/50 [==============================] - 0s 5ms/step - loss: 0.6953 - categorical_accuracy: 0.9994 - val_loss: 1.2135 - val_categorical_accuracy: 0.6950\n",
      "Epoch 195/200\n",
      "50/50 [==============================] - 0s 6ms/step - loss: 0.6955 - categorical_accuracy: 0.9994 - val_loss: 1.2153 - val_categorical_accuracy: 0.6975\n",
      "Epoch 196/200\n",
      "50/50 [==============================] - 0s 5ms/step - loss: 0.6950 - categorical_accuracy: 0.9994 - val_loss: 1.2114 - val_categorical_accuracy: 0.7000\n",
      "Epoch 197/200\n",
      "50/50 [==============================] - 0s 5ms/step - loss: 0.6949 - categorical_accuracy: 0.9994 - val_loss: 1.2117 - val_categorical_accuracy: 0.6975\n",
      "Epoch 198/200\n",
      "50/50 [==============================] - 0s 5ms/step - loss: 0.6948 - categorical_accuracy: 0.9994 - val_loss: 1.2118 - val_categorical_accuracy: 0.6950\n",
      "Epoch 199/200\n",
      "50/50 [==============================] - 0s 5ms/step - loss: 0.6949 - categorical_accuracy: 0.9994 - val_loss: 1.2138 - val_categorical_accuracy: 0.6975\n",
      "Epoch 200/200\n",
      "50/50 [==============================] - 0s 5ms/step - loss: 0.6946 - categorical_accuracy: 0.9994 - val_loss: 1.2105 - val_categorical_accuracy: 0.7000\n"
     ]
    },
    {
     "data": {
      "application/vnd.jupyter.widget-view+json": {
       "model_id": "",
       "version_major": 2,
       "version_minor": 0
      },
      "text/plain": [
       "VBox(children=(Label(value='0.003 MB of 0.003 MB uploaded\\r'), FloatProgress(value=1.0, max=1.0)))"
      ]
     },
     "metadata": {},
     "output_type": "display_data"
    },
    {
     "data": {
      "text/html": [
       "<style>\n",
       "    table.wandb td:nth-child(1) { padding: 0 10px; text-align: left ; width: auto;} td:nth-child(2) {text-align: left ; width: 100%}\n",
       "    .wandb-row { display: flex; flex-direction: row; flex-wrap: wrap; justify-content: flex-start; width: 100% }\n",
       "    .wandb-col { display: flex; flex-direction: column; flex-basis: 100%; flex: 1; padding: 10px; }\n",
       "    </style>\n",
       "<div class=\"wandb-row\"><div class=\"wandb-col\"><h3>Run history:</h3><br/><table class=\"wandb\"><tr><td>epoch/categorical_accuracy</td><td>▁▃▅▆▇▇▇▇▇███████████████████████████████</td></tr><tr><td>epoch/epoch</td><td>▁▁▁▁▂▂▂▂▂▃▃▃▃▃▃▄▄▄▄▄▅▅▅▅▅▅▆▆▆▆▆▇▇▇▇▇▇███</td></tr><tr><td>epoch/learning_rate</td><td>████▇▇▆▆▅▅▄▄▃▃▂▂▂▁▁▁████▇▇▆▆▅▅▄▄▃▃▂▂▂▁▁▁</td></tr><tr><td>epoch/loss</td><td>█▆▄▃▃▃▂▂▂▂▂▂▁▁▁▁▁▁▁▁▂▁▁▁▁▁▁▁▁▁▁▁▁▁▁▁▁▁▁▁</td></tr><tr><td>epoch/val_categorical_accuracy</td><td>▁▄▇▇█▇▇█▇▇██████████████████████████████</td></tr><tr><td>epoch/val_loss</td><td>█▄▂▁▁▁▂▁▂▂▂▂▂▂▂▂▂▂▂▂▂▂▂▂▂▂▂▂▂▂▂▂▂▂▁▁▁▁▁▁</td></tr></table><br/></div><div class=\"wandb-col\"><h3>Run summary:</h3><br/><table class=\"wandb\"><tr><td>epoch/categorical_accuracy</td><td>0.99937</td></tr><tr><td>epoch/epoch</td><td>199</td></tr><tr><td>epoch/learning_rate</td><td>3e-05</td></tr><tr><td>epoch/loss</td><td>0.69456</td></tr><tr><td>epoch/val_categorical_accuracy</td><td>0.7</td></tr><tr><td>epoch/val_loss</td><td>1.21047</td></tr></table><br/></div></div>"
      ],
      "text/plain": [
       "<IPython.core.display.HTML object>"
      ]
     },
     "metadata": {},
     "output_type": "display_data"
    },
    {
     "data": {
      "text/html": [
       " View run <strong style=\"color:#cdcd00\">RK-GRU512-LR-Dense256-gelu-fs=36-cls=5</strong> at: <a href='https://wandb.ai/mlewand7/mediapipe-asl-dataset/runs/8pkfakau' target=\"_blank\">https://wandb.ai/mlewand7/mediapipe-asl-dataset/runs/8pkfakau</a><br/> View project at: <a href='https://wandb.ai/mlewand7/mediapipe-asl-dataset' target=\"_blank\">https://wandb.ai/mlewand7/mediapipe-asl-dataset</a><br/>Synced 5 W&B file(s), 0 media file(s), 0 artifact file(s) and 0 other file(s)"
      ],
      "text/plain": [
       "<IPython.core.display.HTML object>"
      ]
     },
     "metadata": {},
     "output_type": "display_data"
    },
    {
     "data": {
      "text/html": [
       "Find logs at: <code>./wandb/run-20240424_210355-8pkfakau/logs</code>"
      ],
      "text/plain": [
       "<IPython.core.display.HTML object>"
      ]
     },
     "metadata": {},
     "output_type": "display_data"
    },
    {
     "data": {
      "text/plain": [
       "<keras.src.callbacks.History at 0x7fd4f8161bd0>"
      ]
     },
     "execution_count": 51,
     "metadata": {},
     "output_type": "execute_result"
    }
   ],
   "source": [
    "from tensorflow.keras import layers\n",
    "\n",
    "model = Sequential()\n",
    "#x,y,z -> y,z as the input shape\n",
    "model.add(layers.GRU(512, return_sequences=False, input_shape=X_shape,\n",
    "               kernel_regularizer=l2(0.0001), \n",
    "               activity_regularizer=l2(0.0001)))\n",
    "model.add(LeakyReLU(alpha=0.2))\n",
    "model.add(Dense(256, activation='gelu'))\n",
    "model.add(Dense(len(train_dataset_parquet.unique_labels), activation='softmax'))\n",
    "\n",
    "keras_train(model, filepath=os.path.join(\"models\", f\"RK-GRU512-LR-Dense256-gelu-fs={fs}-cls={no_cls}.tf\"),\n",
    "            run_name=f\"RK-GRU512-LR-Dense256-gelu-fs={fs}-cls={no_cls}\",\n",
    "            max_lr=1e-4,\n",
    "            min_lr=2.5e-5,\n",
    "            T_max=101,\n",
    "            epochs=200,\n",
    "            mediapipe_features=\"reduced-LipsEyesHandsPose-scaled\",\n",
    "            USE_WANDB=True)"
   ]
  },
  {
   "cell_type": "markdown",
   "metadata": {},
   "source": [
    "## Bidirectional LSTM"
   ]
  },
  {
   "cell_type": "code",
   "execution_count": 33,
   "metadata": {},
   "outputs": [
    {
     "name": "stdout",
     "output_type": "stream",
     "text": [
      "Model: \"sequential_12\"\n",
      "_________________________________________________________________\n",
      " Layer (type)                Output Shape              Param #   \n",
      "=================================================================\n",
      " bidirectional_1 (Bidirecti  (None, 36, 32)            52864     \n",
      " onal)                                                           \n",
      "                                                                 \n",
      " flatten_1 (Flatten)         (None, 1152)              0         \n",
      "                                                                 \n",
      " leaky_re_lu_12 (LeakyReLU)  (None, 1152)              0         \n",
      "                                                                 \n",
      " dense_24 (Dense)            (None, 256)               295168    \n",
      "                                                                 \n",
      " dense_25 (Dense)            (None, 5)                 1285      \n",
      "                                                                 \n",
      "=================================================================\n",
      "Total params: 349317 (1.33 MB)\n",
      "Trainable params: 349317 (1.33 MB)\n",
      "Non-trainable params: 0 (0.00 Byte)\n",
      "_________________________________________________________________\n"
     ]
    },
    {
     "data": {
      "text/plain": [
       "'\\nkeras_train(model, filepath=os.path.join(\"models\", f\"RK-BLSTM16-LR-Dense256-gelu-fs={fs}-cls={no_cls}\"),\\n            run_name=f\"RK-BLSTM16-LR-Dense256-gelu-fs={fs}-cls={no_cls}\",\\n            max_lr=1e-4,\\n            min_lr=2.5e-5,\\n            T_max=101,\\n            epochs=200,\\n            mediapipe_features=\"reduced-LipsEyesHandsPose-scaled\",\\n            USE_WANDB=True)\\n'"
      ]
     },
     "execution_count": 33,
     "metadata": {},
     "output_type": "execute_result"
    }
   ],
   "source": [
    "from tensorflow.keras import layers\n",
    "\n",
    "model = Sequential()\n",
    "#x,y,z -> y,z as the input shape\n",
    "model.add(layers.Bidirectional(LSTM(16, return_sequences=True, input_shape=X_shape,\n",
    "               kernel_regularizer=l2(0.0001), \n",
    "               activity_regularizer=l2(0.0001))))\n",
    "model.add(layers.Flatten())\n",
    "model.add(LeakyReLU(alpha=0.2))\n",
    "model.add(Dense(256, activation='gelu'))\n",
    "model.add(Dense(len(train_dataset_parquet.unique_labels), activation='softmax'))\n",
    "\n",
    "model.build((None, X_shape[0], X_shape[1]))\n",
    "model.summary()\n",
    "\n",
    "\"\"\"\n",
    "keras_train(model, filepath=os.path.join(\"models\", f\"RK-BLSTM16-LR-Dense256-gelu-fs={fs}-cls={no_cls}\"),\n",
    "            run_name=f\"RK-BLSTM16-LR-Dense256-gelu-fs={fs}-cls={no_cls}\",\n",
    "            max_lr=1e-4,\n",
    "            min_lr=2.5e-5,\n",
    "            T_max=101,\n",
    "            epochs=200,\n",
    "            mediapipe_features=\"reduced-LipsEyesHandsPose-scaled\",\n",
    "            USE_WANDB=True)\n",
    "\"\"\""
   ]
  },
  {
   "cell_type": "code",
   "execution_count": 34,
   "metadata": {},
   "outputs": [
    {
     "name": "stdout",
     "output_type": "stream",
     "text": [
      "Model: \"sequential_13\"\n",
      "_________________________________________________________________\n",
      " Layer (type)                Output Shape              Param #   \n",
      "=================================================================\n",
      " bidirectional_2 (Bidirecti  (None, 36, 64)            109824    \n",
      " onal)                                                           \n",
      "                                                                 \n",
      " flatten_2 (Flatten)         (None, 2304)              0         \n",
      "                                                                 \n",
      " leaky_re_lu_13 (LeakyReLU)  (None, 2304)              0         \n",
      "                                                                 \n",
      " dense_26 (Dense)            (None, 256)               590080    \n",
      "                                                                 \n",
      " dense_27 (Dense)            (None, 5)                 1285      \n",
      "                                                                 \n",
      "=================================================================\n",
      "Total params: 701189 (2.67 MB)\n",
      "Trainable params: 701189 (2.67 MB)\n",
      "Non-trainable params: 0 (0.00 Byte)\n",
      "_________________________________________________________________\n"
     ]
    },
    {
     "data": {
      "text/plain": [
       "'\\nkeras_train(model, filepath=os.path.join(\"models\", f\"RK-BLSTM32-LR-Dense256-gelu-fs={fs}-cls={no_cls}\"),\\n            run_name=f\"RK-BLSTM32-LR-Dense256-gelu-fs={fs}-cls={no_cls}\",\\n            max_lr=1e-4,\\n            min_lr=2.5e-5,\\n            T_max=101,\\n            epochs=200,\\n            mediapipe_features=\"reduced-LipsEyesHandsPose-scaled\",\\n            USE_WANDB=True)\\n'"
      ]
     },
     "execution_count": 34,
     "metadata": {},
     "output_type": "execute_result"
    }
   ],
   "source": [
    "from tensorflow.keras import layers\n",
    "\n",
    "model = Sequential()\n",
    "#x,y,z -> y,z as the input shape\n",
    "model.add(layers.Bidirectional(LSTM(32, return_sequences=True, input_shape=X_shape,\n",
    "               kernel_regularizer=l2(0.0001), \n",
    "               activity_regularizer=l2(0.0001))))\n",
    "model.add(layers.Flatten())\n",
    "model.add(LeakyReLU(alpha=0.2))\n",
    "model.add(Dense(256, activation='gelu'))\n",
    "model.add(Dense(len(train_dataset_parquet.unique_labels), activation='softmax'))\n",
    "\n",
    "\n",
    "model.build((None, X_shape[0], X_shape[1]))\n",
    "model.summary()\n",
    "\n",
    "\"\"\"\n",
    "keras_train(model, filepath=os.path.join(\"models\", f\"RK-BLSTM32-LR-Dense256-gelu-fs={fs}-cls={no_cls}\"),\n",
    "            run_name=f\"RK-BLSTM32-LR-Dense256-gelu-fs={fs}-cls={no_cls}\",\n",
    "            max_lr=1e-4,\n",
    "            min_lr=2.5e-5,\n",
    "            T_max=101,\n",
    "            epochs=200,\n",
    "            mediapipe_features=\"reduced-LipsEyesHandsPose-scaled\",\n",
    "            USE_WANDB=True)\n",
    "\"\"\""
   ]
  },
  {
   "cell_type": "code",
   "execution_count": 35,
   "metadata": {},
   "outputs": [
    {
     "name": "stdout",
     "output_type": "stream",
     "text": [
      "Model: \"sequential_14\"\n",
      "_________________________________________________________________\n",
      " Layer (type)                Output Shape              Param #   \n",
      "=================================================================\n",
      " bidirectional_3 (Bidirecti  (None, 36, 128)           236032    \n",
      " onal)                                                           \n",
      "                                                                 \n",
      " flatten_3 (Flatten)         (None, 4608)              0         \n",
      "                                                                 \n",
      " leaky_re_lu_14 (LeakyReLU)  (None, 4608)              0         \n",
      "                                                                 \n",
      " dense_28 (Dense)            (None, 256)               1179904   \n",
      "                                                                 \n",
      " dense_29 (Dense)            (None, 5)                 1285      \n",
      "                                                                 \n",
      "=================================================================\n",
      "Total params: 1417221 (5.41 MB)\n",
      "Trainable params: 1417221 (5.41 MB)\n",
      "Non-trainable params: 0 (0.00 Byte)\n",
      "_________________________________________________________________\n"
     ]
    },
    {
     "data": {
      "text/plain": [
       "'\\n\\n\\nkeras_train(model, filepath=os.path.join(\"models\", f\"RK-BLSTM64-LR-Dense256-gelu-fs={fs}-cls={no_cls}\"),\\n            run_name=f\"RK-BLSTM64-LR-Dense256-gelu-fs={fs}-cls={no_cls}\",\\n            max_lr=1e-4,\\n            min_lr=2.5e-5,\\n            T_max=101,\\n            epochs=200,\\n            mediapipe_features=\"reduced-LipsEyesHandsPose-scaled\",\\n            USE_WANDB=True)\\n'"
      ]
     },
     "execution_count": 35,
     "metadata": {},
     "output_type": "execute_result"
    }
   ],
   "source": [
    "from tensorflow.keras import layers\n",
    "\n",
    "model = Sequential()\n",
    "#x,y,z -> y,z as the input shape\n",
    "model.add(layers.Bidirectional(LSTM(64, return_sequences=True, input_shape=X_shape,\n",
    "               kernel_regularizer=l2(0.0001), \n",
    "               activity_regularizer=l2(0.0001))))\n",
    "model.add(layers.Flatten())\n",
    "model.add(LeakyReLU(alpha=0.2))\n",
    "model.add(Dense(256, activation='gelu'))\n",
    "model.add(Dense(len(train_dataset_parquet.unique_labels), activation='softmax'))\n",
    "\n",
    "model.build((None, X_shape[0], X_shape[1]))\n",
    "model.summary()\n",
    "\n",
    "\"\"\"\n",
    "\n",
    "\n",
    "keras_train(model, filepath=os.path.join(\"models\", f\"RK-BLSTM64-LR-Dense256-gelu-fs={fs}-cls={no_cls}\"),\n",
    "            run_name=f\"RK-BLSTM64-LR-Dense256-gelu-fs={fs}-cls={no_cls}\",\n",
    "            max_lr=1e-4,\n",
    "            min_lr=2.5e-5,\n",
    "            T_max=101,\n",
    "            epochs=200,\n",
    "            mediapipe_features=\"reduced-LipsEyesHandsPose-scaled\",\n",
    "            USE_WANDB=True)\n",
    "\"\"\""
   ]
  },
  {
   "cell_type": "code",
   "execution_count": 36,
   "metadata": {},
   "outputs": [
    {
     "name": "stdout",
     "output_type": "stream",
     "text": [
      "Model: \"sequential_15\"\n",
      "_________________________________________________________________\n",
      " Layer (type)                Output Shape              Param #   \n",
      "=================================================================\n",
      " bidirectional_4 (Bidirecti  (None, 36, 256)           537600    \n",
      " onal)                                                           \n",
      "                                                                 \n",
      " flatten_4 (Flatten)         (None, 9216)              0         \n",
      "                                                                 \n",
      " leaky_re_lu_15 (LeakyReLU)  (None, 9216)              0         \n",
      "                                                                 \n",
      " dense_30 (Dense)            (None, 256)               2359552   \n",
      "                                                                 \n",
      " dense_31 (Dense)            (None, 5)                 1285      \n",
      "                                                                 \n",
      "=================================================================\n",
      "Total params: 2898437 (11.06 MB)\n",
      "Trainable params: 2898437 (11.06 MB)\n",
      "Non-trainable params: 0 (0.00 Byte)\n",
      "_________________________________________________________________\n"
     ]
    },
    {
     "data": {
      "text/plain": [
       "'\\nkeras_train(model, filepath=os.path.join(\"models\", f\"RK-BLSTM128-LR-Dense256-gelu-fs={fs}-cls={no_cls}\"),\\n            run_name=f\"RK-BLSTM128-LR-Dense256-gelu-fs={fs}-cls={no_cls}\",\\n            max_lr=1e-4,\\n            min_lr=2.5e-5,\\n            T_max=101,\\n            epochs=200,\\n            mediapipe_features=\"reduced-LipsEyesHandsPose-scaled\",\\n            USE_WANDB=True)\\n'"
      ]
     },
     "execution_count": 36,
     "metadata": {},
     "output_type": "execute_result"
    }
   ],
   "source": [
    "from tensorflow.keras import layers\n",
    "\n",
    "model = Sequential()\n",
    "#x,y,z -> y,z as the input shape\n",
    "model.add(layers.Bidirectional(LSTM(128, return_sequences=True, input_shape=X_shape,\n",
    "               kernel_regularizer=l2(0.0001), \n",
    "               activity_regularizer=l2(0.0001))))\n",
    "model.add(layers.Flatten())\n",
    "model.add(LeakyReLU(alpha=0.2))\n",
    "model.add(Dense(256, activation='gelu'))\n",
    "model.add(Dense(len(train_dataset_parquet.unique_labels), activation='softmax'))\n",
    "\n",
    "model.build((None, X_shape[0], X_shape[1]))\n",
    "model.summary()\n",
    "\n",
    "\"\"\"\n",
    "keras_train(model, filepath=os.path.join(\"models\", f\"RK-BLSTM128-LR-Dense256-gelu-fs={fs}-cls={no_cls}\"),\n",
    "            run_name=f\"RK-BLSTM128-LR-Dense256-gelu-fs={fs}-cls={no_cls}\",\n",
    "            max_lr=1e-4,\n",
    "            min_lr=2.5e-5,\n",
    "            T_max=101,\n",
    "            epochs=200,\n",
    "            mediapipe_features=\"reduced-LipsEyesHandsPose-scaled\",\n",
    "            USE_WANDB=True)\n",
    "\"\"\""
   ]
  },
  {
   "cell_type": "code",
   "execution_count": 37,
   "metadata": {},
   "outputs": [
    {
     "name": "stdout",
     "output_type": "stream",
     "text": [
      "Model: \"sequential_16\"\n",
      "_________________________________________________________________\n",
      " Layer (type)                Output Shape              Param #   \n",
      "=================================================================\n",
      " bidirectional_5 (Bidirecti  (None, 36, 512)           1337344   \n",
      " onal)                                                           \n",
      "                                                                 \n",
      " flatten_5 (Flatten)         (None, 18432)             0         \n",
      "                                                                 \n",
      " leaky_re_lu_16 (LeakyReLU)  (None, 18432)             0         \n",
      "                                                                 \n",
      " dense_32 (Dense)            (None, 256)               4718848   \n",
      "                                                                 \n",
      " dense_33 (Dense)            (None, 5)                 1285      \n",
      "                                                                 \n",
      "=================================================================\n",
      "Total params: 6057477 (23.11 MB)\n",
      "Trainable params: 6057477 (23.11 MB)\n",
      "Non-trainable params: 0 (0.00 Byte)\n",
      "_________________________________________________________________\n"
     ]
    },
    {
     "data": {
      "text/plain": [
       "'\\nkeras_train(model, filepath=os.path.join(\"models\", f\"RK-BLSTM256-LR-Dense256-gelu-fs={fs}-cls={no_cls}\"),\\n            run_name=f\"RK-BLSTM256-LR-Dense256-gelu-fs={fs}-cls={no_cls}\",\\n            max_lr=1e-4,\\n            min_lr=2.5e-5,\\n            T_max=101,\\n            epochs=200,\\n            mediapipe_features=\"reduced-LipsEyesHandsPose-scaled\",\\n            USE_WANDB=True)\\n'"
      ]
     },
     "execution_count": 37,
     "metadata": {},
     "output_type": "execute_result"
    }
   ],
   "source": [
    "from tensorflow.keras import layers\n",
    "\n",
    "model = Sequential()\n",
    "#x,y,z -> y,z as the input shape\n",
    "model.add(layers.Bidirectional(LSTM(256, return_sequences=True, input_shape=X_shape,\n",
    "               kernel_regularizer=l2(0.0001), \n",
    "               activity_regularizer=l2(0.0001))))\n",
    "model.add(layers.Flatten())\n",
    "model.add(LeakyReLU(alpha=0.2))\n",
    "model.add(Dense(256, activation='gelu'))\n",
    "model.add(Dense(len(train_dataset_parquet.unique_labels), activation='softmax'))\n",
    "\n",
    "\n",
    "model.build((None, X_shape[0], X_shape[1]))\n",
    "model.summary()\n",
    "\n",
    "\"\"\"\n",
    "keras_train(model, filepath=os.path.join(\"models\", f\"RK-BLSTM256-LR-Dense256-gelu-fs={fs}-cls={no_cls}\"),\n",
    "            run_name=f\"RK-BLSTM256-LR-Dense256-gelu-fs={fs}-cls={no_cls}\",\n",
    "            max_lr=1e-4,\n",
    "            min_lr=2.5e-5,\n",
    "            T_max=101,\n",
    "            epochs=200,\n",
    "            mediapipe_features=\"reduced-LipsEyesHandsPose-scaled\",\n",
    "            USE_WANDB=True)\n",
    "\"\"\""
   ]
  },
  {
   "cell_type": "markdown",
   "metadata": {},
   "source": [
    "## Bidirectional GRU"
   ]
  },
  {
   "cell_type": "code",
   "execution_count": 38,
   "metadata": {},
   "outputs": [
    {
     "name": "stdout",
     "output_type": "stream",
     "text": [
      "Model: \"sequential_17\"\n",
      "_________________________________________________________________\n",
      " Layer (type)                Output Shape              Param #   \n",
      "=================================================================\n",
      " bidirectional_6 (Bidirecti  (None, 36, 32)            39744     \n",
      " onal)                                                           \n",
      "                                                                 \n",
      " flatten_6 (Flatten)         (None, 1152)              0         \n",
      "                                                                 \n",
      " leaky_re_lu_17 (LeakyReLU)  (None, 1152)              0         \n",
      "                                                                 \n",
      " dense_34 (Dense)            (None, 256)               295168    \n",
      "                                                                 \n",
      " dense_35 (Dense)            (None, 5)                 1285      \n",
      "                                                                 \n",
      "=================================================================\n",
      "Total params: 336197 (1.28 MB)\n",
      "Trainable params: 336197 (1.28 MB)\n",
      "Non-trainable params: 0 (0.00 Byte)\n",
      "_________________________________________________________________\n"
     ]
    },
    {
     "data": {
      "text/plain": [
       "'\\nkeras_train(model, filepath=os.path.join(\"models\", f\"RK-BGRU16-LR-Dense256-gelu-fs={fs}-cls={no_cls}\"),\\n            run_name=f\"RK-BGRU16-LR-Dense256-gelu-fs={fs}-cls={no_cls}\",\\n            max_lr=1e-4,\\n            min_lr=2.5e-5,\\n            T_max=101,\\n            epochs=200,\\n            mediapipe_features=\"reduced-LipsEyesHandsPose-scaled\",\\n            USE_WANDB=True)\\n'"
      ]
     },
     "execution_count": 38,
     "metadata": {},
     "output_type": "execute_result"
    }
   ],
   "source": [
    "from tensorflow.keras import layers\n",
    "\n",
    "model = Sequential()\n",
    "#x,y,z -> y,z as the input shape\n",
    "model.add(layers.Bidirectional(layers.GRU(16, return_sequences=True, input_shape=X_shape,\n",
    "               kernel_regularizer=l2(0.0001), \n",
    "               activity_regularizer=l2(0.0001))))\n",
    "model.add(layers.Flatten())\n",
    "model.add(LeakyReLU(alpha=0.2))\n",
    "model.add(Dense(256, activation='gelu'))\n",
    "model.add(Dense(len(train_dataset_parquet.unique_labels), activation='softmax'))\n",
    "\n",
    "\n",
    "model.build((None, X_shape[0], X_shape[1]))\n",
    "model.summary()\n",
    "\n",
    "\"\"\"\n",
    "keras_train(model, filepath=os.path.join(\"models\", f\"RK-BGRU16-LR-Dense256-gelu-fs={fs}-cls={no_cls}\"),\n",
    "            run_name=f\"RK-BGRU16-LR-Dense256-gelu-fs={fs}-cls={no_cls}\",\n",
    "            max_lr=1e-4,\n",
    "            min_lr=2.5e-5,\n",
    "            T_max=101,\n",
    "            epochs=200,\n",
    "            mediapipe_features=\"reduced-LipsEyesHandsPose-scaled\",\n",
    "            USE_WANDB=True)\n",
    "\"\"\""
   ]
  },
  {
   "cell_type": "code",
   "execution_count": 39,
   "metadata": {},
   "outputs": [
    {
     "name": "stdout",
     "output_type": "stream",
     "text": [
      "Model: \"sequential_18\"\n",
      "_________________________________________________________________\n",
      " Layer (type)                Output Shape              Param #   \n",
      "=================================================================\n",
      " bidirectional_7 (Bidirecti  (None, 36, 64)            82560     \n",
      " onal)                                                           \n",
      "                                                                 \n",
      " flatten_7 (Flatten)         (None, 2304)              0         \n",
      "                                                                 \n",
      " leaky_re_lu_18 (LeakyReLU)  (None, 2304)              0         \n",
      "                                                                 \n",
      " dense_36 (Dense)            (None, 256)               590080    \n",
      "                                                                 \n",
      " dense_37 (Dense)            (None, 5)                 1285      \n",
      "                                                                 \n",
      "=================================================================\n",
      "Total params: 673925 (2.57 MB)\n",
      "Trainable params: 673925 (2.57 MB)\n",
      "Non-trainable params: 0 (0.00 Byte)\n",
      "_________________________________________________________________\n"
     ]
    },
    {
     "data": {
      "text/plain": [
       "'\\nkeras_train(model, filepath=os.path.join(\"models\", f\"RK-BGRU32-LR-Dense256-gelu-fs={fs}-cls={no_cls}\"),\\n            run_name=f\"RK-BGRU32-LR-Dense256-gelu-fs={fs}-cls={no_cls}\",\\n            max_lr=1e-4,\\n            min_lr=2.5e-5,\\n            T_max=101,\\n            epochs=200,\\n            mediapipe_features=\"reduced-LipsEyesHandsPose-scaled\",\\n            USE_WANDB=True)\\n'"
      ]
     },
     "execution_count": 39,
     "metadata": {},
     "output_type": "execute_result"
    }
   ],
   "source": [
    "from tensorflow.keras import layers\n",
    "\n",
    "model = Sequential()\n",
    "#x,y,z -> y,z as the input shape\n",
    "model.add(layers.Bidirectional(layers.GRU(32, return_sequences=True, input_shape=X_shape,\n",
    "               kernel_regularizer=l2(0.0001), \n",
    "               activity_regularizer=l2(0.0001))))\n",
    "model.add(layers.Flatten())\n",
    "model.add(LeakyReLU(alpha=0.2))\n",
    "model.add(Dense(256, activation='gelu'))\n",
    "model.add(Dense(len(train_dataset_parquet.unique_labels), activation='softmax'))\n",
    "\n",
    "\n",
    "model.build((None, X_shape[0], X_shape[1]))\n",
    "model.summary()\n",
    "\n",
    "\"\"\"\n",
    "keras_train(model, filepath=os.path.join(\"models\", f\"RK-BGRU32-LR-Dense256-gelu-fs={fs}-cls={no_cls}\"),\n",
    "            run_name=f\"RK-BGRU32-LR-Dense256-gelu-fs={fs}-cls={no_cls}\",\n",
    "            max_lr=1e-4,\n",
    "            min_lr=2.5e-5,\n",
    "            T_max=101,\n",
    "            epochs=200,\n",
    "            mediapipe_features=\"reduced-LipsEyesHandsPose-scaled\",\n",
    "            USE_WANDB=True)\n",
    "\"\"\""
   ]
  },
  {
   "cell_type": "code",
   "execution_count": 40,
   "metadata": {},
   "outputs": [
    {
     "name": "stdout",
     "output_type": "stream",
     "text": [
      "Model: \"sequential_19\"\n",
      "_________________________________________________________________\n",
      " Layer (type)                Output Shape              Param #   \n",
      "=================================================================\n",
      " bidirectional_8 (Bidirecti  (None, 36, 128)           177408    \n",
      " onal)                                                           \n",
      "                                                                 \n",
      " flatten_8 (Flatten)         (None, 4608)              0         \n",
      "                                                                 \n",
      " leaky_re_lu_19 (LeakyReLU)  (None, 4608)              0         \n",
      "                                                                 \n",
      " dense_38 (Dense)            (None, 256)               1179904   \n",
      "                                                                 \n",
      " dense_39 (Dense)            (None, 5)                 1285      \n",
      "                                                                 \n",
      "=================================================================\n",
      "Total params: 1358597 (5.18 MB)\n",
      "Trainable params: 1358597 (5.18 MB)\n",
      "Non-trainable params: 0 (0.00 Byte)\n",
      "_________________________________________________________________\n"
     ]
    },
    {
     "data": {
      "text/plain": [
       "'\\nkeras_train(model, filepath=os.path.join(\"models\", f\"RK-BGRU64-LR-Dense256-gelu-fs={fs}-cls={no_cls}\"),\\n            run_name=f\"RK-BGRU64-LR-Dense256-gelu-fs={fs}-cls={no_cls}\",\\n            max_lr=1e-4,\\n            min_lr=2.5e-5,\\n            T_max=101,\\n            epochs=200,\\n            mediapipe_features=\"reduced-LipsEyesHandsPose-scaled\",\\n            USE_WANDB=True)\\n'"
      ]
     },
     "execution_count": 40,
     "metadata": {},
     "output_type": "execute_result"
    }
   ],
   "source": [
    "from tensorflow.keras import layers\n",
    "\n",
    "model = Sequential()\n",
    "#x,y,z -> y,z as the input shape\n",
    "model.add(layers.Bidirectional(layers.GRU(64, return_sequences=True, input_shape=X_shape,\n",
    "               kernel_regularizer=l2(0.0001), \n",
    "               activity_regularizer=l2(0.0001))))\n",
    "model.add(layers.Flatten())\n",
    "model.add(LeakyReLU(alpha=0.2))\n",
    "model.add(Dense(256, activation='gelu'))\n",
    "model.add(Dense(len(train_dataset_parquet.unique_labels), activation='softmax'))\n",
    "\n",
    "\n",
    "model.build((None, X_shape[0], X_shape[1]))\n",
    "model.summary()\n",
    "\n",
    "\"\"\"\n",
    "keras_train(model, filepath=os.path.join(\"models\", f\"RK-BGRU64-LR-Dense256-gelu-fs={fs}-cls={no_cls}\"),\n",
    "            run_name=f\"RK-BGRU64-LR-Dense256-gelu-fs={fs}-cls={no_cls}\",\n",
    "            max_lr=1e-4,\n",
    "            min_lr=2.5e-5,\n",
    "            T_max=101,\n",
    "            epochs=200,\n",
    "            mediapipe_features=\"reduced-LipsEyesHandsPose-scaled\",\n",
    "            USE_WANDB=True)\n",
    "\"\"\""
   ]
  },
  {
   "cell_type": "code",
   "execution_count": 41,
   "metadata": {},
   "outputs": [
    {
     "name": "stdout",
     "output_type": "stream",
     "text": [
      "Model: \"sequential_20\"\n",
      "_________________________________________________________________\n",
      " Layer (type)                Output Shape              Param #   \n",
      "=================================================================\n",
      " bidirectional_9 (Bidirecti  (None, 36, 256)           403968    \n",
      " onal)                                                           \n",
      "                                                                 \n",
      " flatten_9 (Flatten)         (None, 9216)              0         \n",
      "                                                                 \n",
      " leaky_re_lu_20 (LeakyReLU)  (None, 9216)              0         \n",
      "                                                                 \n",
      " dense_40 (Dense)            (None, 256)               2359552   \n",
      "                                                                 \n",
      " dense_41 (Dense)            (None, 5)                 1285      \n",
      "                                                                 \n",
      "=================================================================\n",
      "Total params: 2764805 (10.55 MB)\n",
      "Trainable params: 2764805 (10.55 MB)\n",
      "Non-trainable params: 0 (0.00 Byte)\n",
      "_________________________________________________________________\n"
     ]
    },
    {
     "data": {
      "text/plain": [
       "'\\nkeras_train(model, filepath=os.path.join(\"models\", f\"RK-BGRU128-LR-Dense256-gelu-fs={fs}-cls={no_cls}\"),\\n            run_name=f\"RK-BGRU128-LR-Dense256-gelu-fs={fs}-cls={no_cls}\",\\n            max_lr=1e-4,\\n            min_lr=2.5e-5,\\n            T_max=101,\\n            epochs=200,\\n            mediapipe_features=\"reduced-LipsEyesHandsPose-scaled\",\\n            USE_WANDB=True)\\n'"
      ]
     },
     "execution_count": 41,
     "metadata": {},
     "output_type": "execute_result"
    }
   ],
   "source": [
    "from tensorflow.keras import layers\n",
    "\n",
    "model = Sequential()\n",
    "#x,y,z -> y,z as the input shape\n",
    "model.add(layers.Bidirectional(layers.GRU(128, return_sequences=True, input_shape=X_shape,\n",
    "               kernel_regularizer=l2(0.0001), \n",
    "               activity_regularizer=l2(0.0001))))\n",
    "model.add(layers.Flatten())\n",
    "model.add(LeakyReLU(alpha=0.2))\n",
    "model.add(Dense(256, activation='gelu'))\n",
    "model.add(Dense(len(train_dataset_parquet.unique_labels), activation='softmax'))\n",
    "\n",
    "\n",
    "model.build((None, X_shape[0], X_shape[1]))\n",
    "model.summary()\n",
    "\n",
    "\"\"\"\n",
    "keras_train(model, filepath=os.path.join(\"models\", f\"RK-BGRU128-LR-Dense256-gelu-fs={fs}-cls={no_cls}\"),\n",
    "            run_name=f\"RK-BGRU128-LR-Dense256-gelu-fs={fs}-cls={no_cls}\",\n",
    "            max_lr=1e-4,\n",
    "            min_lr=2.5e-5,\n",
    "            T_max=101,\n",
    "            epochs=200,\n",
    "            mediapipe_features=\"reduced-LipsEyesHandsPose-scaled\",\n",
    "            USE_WANDB=True)\n",
    "\"\"\""
   ]
  },
  {
   "cell_type": "code",
   "execution_count": 42,
   "metadata": {},
   "outputs": [
    {
     "name": "stdout",
     "output_type": "stream",
     "text": [
      "Model: \"sequential_21\"\n",
      "_________________________________________________________________\n",
      " Layer (type)                Output Shape              Param #   \n",
      "=================================================================\n",
      " bidirectional_10 (Bidirect  (None, 36, 512)           1004544   \n",
      " ional)                                                          \n",
      "                                                                 \n",
      " flatten_10 (Flatten)        (None, 18432)             0         \n",
      "                                                                 \n",
      " leaky_re_lu_21 (LeakyReLU)  (None, 18432)             0         \n",
      "                                                                 \n",
      " dense_42 (Dense)            (None, 256)               4718848   \n",
      "                                                                 \n",
      " dense_43 (Dense)            (None, 5)                 1285      \n",
      "                                                                 \n",
      "=================================================================\n",
      "Total params: 5724677 (21.84 MB)\n",
      "Trainable params: 5724677 (21.84 MB)\n",
      "Non-trainable params: 0 (0.00 Byte)\n",
      "_________________________________________________________________\n"
     ]
    },
    {
     "data": {
      "text/plain": [
       "'\\nkeras_train(model, filepath=os.path.join(\"models\", f\"RK-BGRU256-LR-Dense256-gelu-fs={fs}-cls={no_cls}\"),\\n            run_name=f\"RK-BGRU256-LR-Dense256-gelu-fs={fs}-cls={no_cls}\",\\n            max_lr=1e-4,\\n            min_lr=2.5e-5,\\n            T_max=101,\\n            epochs=200,\\n            mediapipe_features=\"reduced-LipsEyesHandsPose-scaled\",\\n            USE_WANDB=True)\\n'"
      ]
     },
     "execution_count": 42,
     "metadata": {},
     "output_type": "execute_result"
    }
   ],
   "source": [
    "from tensorflow.keras import layers\n",
    "\n",
    "model = Sequential()\n",
    "#x,y,z -> y,z as the input shape\n",
    "model.add(layers.Bidirectional(layers.GRU(256, return_sequences=True, input_shape=X_shape,\n",
    "               kernel_regularizer=l2(0.0001), \n",
    "               activity_regularizer=l2(0.0001))))\n",
    "model.add(layers.Flatten())\n",
    "model.add(LeakyReLU(alpha=0.2))\n",
    "model.add(Dense(256, activation='gelu'))\n",
    "model.add(Dense(len(train_dataset_parquet.unique_labels), activation='softmax'))\n",
    "\n",
    "\n",
    "model.build((None, X_shape[0], X_shape[1]))\n",
    "model.summary()\n",
    "\n",
    "\"\"\"\n",
    "keras_train(model, filepath=os.path.join(\"models\", f\"RK-BGRU256-LR-Dense256-gelu-fs={fs}-cls={no_cls}\"),\n",
    "            run_name=f\"RK-BGRU256-LR-Dense256-gelu-fs={fs}-cls={no_cls}\",\n",
    "            max_lr=1e-4,\n",
    "            min_lr=2.5e-5,\n",
    "            T_max=101,\n",
    "            epochs=200,\n",
    "            mediapipe_features=\"reduced-LipsEyesHandsPose-scaled\",\n",
    "            USE_WANDB=True)\n",
    "\"\"\""
   ]
  },
  {
   "cell_type": "markdown",
   "metadata": {},
   "source": [
    "# Transformer"
   ]
  },
  {
   "cell_type": "code",
   "execution_count": 44,
   "metadata": {},
   "outputs": [
    {
     "name": "stdout",
     "output_type": "stream",
     "text": [
      "X_shape = (36, 396), Y_shape = (5,)\n"
     ]
    }
   ],
   "source": [
    "X_shape = train_dataset_parquet[0][0].shape\n",
    "Y_shape = train_dataset_parquet[0][1].shape\n",
    "print(f\"X_shape = {X_shape}, Y_shape = {Y_shape}\")"
   ]
  },
  {
   "cell_type": "code",
   "execution_count": 45,
   "metadata": {},
   "outputs": [],
   "source": [
    "import tensorflow as tf\n",
    "from tensorflow import keras\n",
    "from tensorflow.keras import layers\n",
    "\n",
    "class TransformerBlock(layers.Layer):\n",
    "    def __init__(self, embed_dim, num_heads, ff_dim, rate=0.1):\n",
    "        super(TransformerBlock, self).__init__()\n",
    "        self.att = layers.MultiHeadAttention(num_heads=num_heads, key_dim=embed_dim)\n",
    "        self.ffn = keras.Sequential(\n",
    "            [layers.Dense(ff_dim, activation=\"relu\"), layers.Dense(embed_dim),]\n",
    "        )\n",
    "        self.layernorm1 = layers.LayerNormalization(epsilon=1e-6)\n",
    "        self.layernorm2 = layers.LayerNormalization(epsilon=1e-6)\n",
    "        self.dropout1 = layers.Dropout(rate)\n",
    "        self.dropout2 = layers.Dropout(rate)\n",
    "\n",
    "    def call(self, inputs, training):\n",
    "        attn_output = self.att(inputs, inputs)\n",
    "        attn_output = self.dropout1(attn_output, training=training)\n",
    "        out1 = self.layernorm1(inputs + attn_output)\n",
    "        ffn_output = self.ffn(out1)\n",
    "        ffn_output = self.dropout2(ffn_output, training=training)\n",
    "        return self.layernorm2(out1 + ffn_output)\n",
    "\n",
    "\n",
    "class TokenAndPositionEmbedding(layers.Layer):\n",
    "    def __init__(self, maxlen, embed_dim):\n",
    "        super(TokenAndPositionEmbedding, self).__init__()\n",
    "        self.pos_emb = layers.Embedding(input_dim=maxlen, output_dim=embed_dim)\n",
    "\n",
    "    def call(self, x):\n",
    "        maxlen = tf.shape(x)[1]\n",
    "        positions = tf.range(start=0, limit=maxlen, delta=1)\n",
    "        positions = self.pos_emb(positions)\n",
    "        return x + positions\n"
   ]
  },
  {
   "cell_type": "code",
   "execution_count": 46,
   "metadata": {},
   "outputs": [
    {
     "name": "stdout",
     "output_type": "stream",
     "text": [
      "Model: \"model\"\n",
      "_________________________________________________________________\n",
      " Layer (type)                Output Shape              Param #   \n",
      "=================================================================\n",
      " input_2 (InputLayer)        [(None, 36, 396)]         0         \n",
      "                                                                 \n",
      " token_and_position_embeddi  (None, 36, 396)           14256     \n",
      " ng (TokenAndPositionEmbedd                                      \n",
      " ing)                                                            \n",
      "                                                                 \n",
      " transformer_block (Transfo  (None, 36, 396)           2719192   \n",
      " rmerBlock)                                                      \n",
      "                                                                 \n",
      " global_average_pooling1d (  (None, 396)               0         \n",
      " GlobalAveragePooling1D)                                         \n",
      "                                                                 \n",
      " dropout_4 (Dropout)         (None, 396)               0         \n",
      "                                                                 \n",
      " dense_46 (Dense)            (None, 128)               50816     \n",
      "                                                                 \n",
      " dropout_5 (Dropout)         (None, 128)               0         \n",
      "                                                                 \n",
      " dense_47 (Dense)            (None, 5)                 645       \n",
      "                                                                 \n",
      "=================================================================\n",
      "Total params: 2784909 (10.62 MB)\n",
      "Trainable params: 2784909 (10.62 MB)\n",
      "Non-trainable params: 0 (0.00 Byte)\n",
      "_________________________________________________________________\n"
     ]
    },
    {
     "data": {
      "text/plain": [
       "'\\n\\nkeras_train(model, filepath=os.path.join(\"models\", f\"Transformer-e={embed_dim}-h={num_heads}-ff={ff_dim}-D=0.1-Dense=128-LipsEyesHandsPose_5k.tf\"),\\n            run_name=f\"Transformer-e={embed_dim}-h={num_heads}-ff={ff_dim}-D=0.1-Dense=128-LipsEyesHandsPose_5k\",\\n                max_lr=1e-4,\\n            min_lr=2.5e-5,\\n            T_max=101,\\n            epochs=200,\\n            mediapipe_features=\"reduced-LipsEyesHandsPose-scaled\",\\n            USE_WANDB=True)\\n'"
      ]
     },
     "execution_count": 46,
     "metadata": {},
     "output_type": "execute_result"
    }
   ],
   "source": [
    "embed_dim = 128  # Embedding size for each token\n",
    "num_heads = 4  # Number of attention heads\n",
    "ff_dim = 256  # Hidden layer size in feed forward network inside \n",
    "\n",
    "inputs = layers.Input(shape=X_shape)\n",
    "embedding_layer = TokenAndPositionEmbedding(X_shape[0], X_shape[1])\n",
    "x = embedding_layer(inputs)\n",
    "transformer_block = TransformerBlock(X_shape[1], num_heads, ff_dim)\n",
    "x = transformer_block(x)\n",
    "x = layers.GlobalAveragePooling1D()(x)\n",
    "x = layers.Dropout(0.1)(x)\n",
    "x = layers.Dense(128, activation=\"relu\")(x)\n",
    "x = layers.Dropout(0.1)(x)\n",
    "outputs = Dense(len(train_dataset_parquet.unique_labels), activation='softmax')(x)\n",
    "model = keras.Model(inputs=inputs, outputs=outputs)\n",
    "\n",
    "model.summary()\n",
    "\n",
    "\"\"\"\n",
    "\n",
    "keras_train(model, filepath=os.path.join(\"models\", f\"Transformer-e={embed_dim}-h={num_heads}-ff={ff_dim}-D=0.1-Dense=128-LipsEyesHandsPose_5k.tf\"),\n",
    "            run_name=f\"Transformer-e={embed_dim}-h={num_heads}-ff={ff_dim}-D=0.1-Dense=128-LipsEyesHandsPose_5k\",\n",
    "                max_lr=1e-4,\n",
    "            min_lr=2.5e-5,\n",
    "            T_max=101,\n",
    "            epochs=200,\n",
    "            mediapipe_features=\"reduced-LipsEyesHandsPose-scaled\",\n",
    "            USE_WANDB=True)\n",
    "\"\"\""
   ]
  },
  {
   "cell_type": "code",
   "execution_count": 47,
   "metadata": {},
   "outputs": [
    {
     "name": "stdout",
     "output_type": "stream",
     "text": [
      "Model: \"model_1\"\n",
      "_________________________________________________________________\n",
      " Layer (type)                Output Shape              Param #   \n",
      "=================================================================\n",
      " input_3 (InputLayer)        [(None, 36, 396)]         0         \n",
      "                                                                 \n",
      " token_and_position_embeddi  (None, 36, 396)           14256     \n",
      " ng_1 (TokenAndPositionEmbe                                      \n",
      " dding)                                                          \n",
      "                                                                 \n",
      " transformer_block_1 (Trans  (None, 36, 396)           1360784   \n",
      " formerBlock)                                                    \n",
      "                                                                 \n",
      " global_average_pooling1d_1  (None, 396)               0         \n",
      "  (GlobalAveragePooling1D)                                       \n",
      "                                                                 \n",
      " dropout_8 (Dropout)         (None, 396)               0         \n",
      "                                                                 \n",
      " dense_50 (Dense)            (None, 128)               50816     \n",
      "                                                                 \n",
      " dropout_9 (Dropout)         (None, 128)               0         \n",
      "                                                                 \n",
      " dense_51 (Dense)            (None, 256)               33024     \n",
      "                                                                 \n",
      " dropout_10 (Dropout)        (None, 256)               0         \n",
      "                                                                 \n",
      " dense_52 (Dense)            (None, 5)                 1285      \n",
      "                                                                 \n",
      "=================================================================\n",
      "Total params: 1460165 (5.57 MB)\n",
      "Trainable params: 1460165 (5.57 MB)\n",
      "Non-trainable params: 0 (0.00 Byte)\n",
      "_________________________________________________________________\n"
     ]
    },
    {
     "data": {
      "text/plain": [
       "'\\nkeras_train(model, filepath=os.path.join(\"models\", f\"Transformer-embed={embed_dim}-heads={num_heads}-ff={ff_dim}-D=0.1-Dense=128-Dense=256-LipsEyesHandsPose_5k.tf\"),\\n            run_name=\"Transformer-embed=128-heads=2-ff=128-D=0.1-Dense=128-Dense=256-LipsEyesHandsPose_5k\",\\n            mediapipe_features=\"reduced-LipsEyesHandsPose\",\\n            T_max=151, epochs=300, \\n            max_lr = 3e-4, min_lr = 5e-5,\\n            USE_WANDB=True)\\n'"
      ]
     },
     "execution_count": 47,
     "metadata": {},
     "output_type": "execute_result"
    }
   ],
   "source": [
    "embed_dim = 128  # Embedding size for each token\n",
    "num_heads = 2  # Number of attention heads\n",
    "ff_dim = 128  # Hidden layer size in feed forward network inside transformer\n",
    "\n",
    "inputs = layers.Input(shape=X_shape)\n",
    "embedding_layer = TokenAndPositionEmbedding(X_shape[0], X_shape[1])\n",
    "x = embedding_layer(inputs)\n",
    "transformer_block = TransformerBlock(X_shape[1], num_heads, ff_dim)\n",
    "x = transformer_block(x)\n",
    "x = layers.GlobalAveragePooling1D()(x)\n",
    "x = layers.Dropout(0.1)(x)\n",
    "x = layers.Dense(128, activation=\"gelu\")(x)\n",
    "x = layers.Dropout(0.1)(x)\n",
    "x = layers.Dense(256, activation=\"gelu\")(x)\n",
    "x = layers.Dropout(0.1)(x)\n",
    "outputs = Dense(len(train_dataset_parquet.unique_labels), activation='softmax')(x)\n",
    "model = keras.Model(inputs=inputs, outputs=outputs)\n",
    "\n",
    "model.summary()\n",
    "\"\"\"\n",
    "keras_train(model, filepath=os.path.join(\"models\", f\"Transformer-embed={embed_dim}-heads={num_heads}-ff={ff_dim}-D=0.1-Dense=128-Dense=256-LipsEyesHandsPose_5k.tf\"),\n",
    "            run_name=\"Transformer-embed=128-heads=2-ff=128-D=0.1-Dense=128-Dense=256-LipsEyesHandsPose_5k\",\n",
    "            mediapipe_features=\"reduced-LipsEyesHandsPose\",\n",
    "            T_max=151, epochs=300, \n",
    "            max_lr = 3e-4, min_lr = 5e-5,\n",
    "            USE_WANDB=True)\n",
    "\"\"\""
   ]
  },
  {
   "cell_type": "code",
   "execution_count": null,
   "metadata": {},
   "outputs": [],
   "source": [
    "embed_dim = 64  # Embedding size for each token\n",
    "num_heads = 2  # Number of attention heads\n",
    "ff_dim = 128  # Hidden layer size in feed forward network inside transformer\n",
    "\n",
    "inputs = layers.Input(shape=X_shape)\n",
    "embedding_layer = TokenAndPositionEmbedding(X_shape[0], X_shape[1])\n",
    "x = embedding_layer(inputs)\n",
    "transformer_block = TransformerBlock(X_shape[1], num_heads, ff_dim)\n",
    "x = transformer_block(x)\n",
    "x = layers.GlobalAveragePooling1D()(x)\n",
    "x = layers.Dropout(0.2)(x)\n",
    "x = layers.Dense(256, activation=\"gelu\")(x)\n",
    "x = layers.Dropout(0.2)(x)\n",
    "outputs = Dense(len(train_dataset_parquet.unique_labels), activation='softmax')(x)\n",
    "model = keras.Model(inputs=inputs, outputs=outputs)\n",
    "\n",
    "keras_train(model, filepath=os.path.join(\"models\", f\"Transformer-embed={embed_dim}-heads={num_heads}-ff={ff_dim}-D=0.1-Dense=128-Dense=256-LipsEyesHandsPose_5k.tf\"),\n",
    "            run_name=\"Transformer-embed=128-heads=2-ff=128-D=0.2-Dense=256-LipsEyesHandsPose_5k\",\n",
    "            mediapipe_features=\"reduced-LipsEyesHandsPose\",\n",
    "            T_max=151, epochs=300, \n",
    "            max_lr = 3e-4, min_lr = 5e-5,\n",
    "            USE_WANDB=True)"
   ]
  },
  {
   "cell_type": "code",
   "execution_count": null,
   "metadata": {},
   "outputs": [],
   "source": []
  }
 ],
 "metadata": {
  "kaggle": {
   "accelerator": "none",
   "dataSources": [
    {
     "databundleVersionId": 5087314,
     "sourceId": 46105,
     "sourceType": "competition"
    }
   ],
   "dockerImageVersionId": 30673,
   "isGpuEnabled": false,
   "isInternetEnabled": true,
   "language": "python",
   "sourceType": "notebook"
  },
  "kernelspec": {
   "display_name": "Python 3 (ipykernel)",
   "language": "python",
   "name": "python3"
  },
  "language_info": {
   "codemirror_mode": {
    "name": "ipython",
    "version": 3
   },
   "file_extension": ".py",
   "mimetype": "text/x-python",
   "name": "python",
   "nbconvert_exporter": "python",
   "pygments_lexer": "ipython3",
   "version": "3.11.0rc1"
  }
 },
 "nbformat": 4,
 "nbformat_minor": 4
}
